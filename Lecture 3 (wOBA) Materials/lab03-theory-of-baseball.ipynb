{
 "cells": [
  {
   "cell_type": "markdown",
   "metadata": {},
   "source": [
    "# Lab 2: Theory of Baseball\n",
    "\n",
    "Author: Jeff Xiang\n",
    "\n",
    "# Due: [MM/DD/YY]\n",
    "\n",
    "Today, we'll be learning about the math and stats concepts behind various tools we can use to better understand baseball analytics. After today's lab, you should have a solid grasp of the following statistical concepts:\n",
    "\n",
    "- Expected values\n",
    "- Bayes' theorem\n",
    "- Run expectancy\n",
    "\n",
    "As usual, submit this lab by running the tests at the very bottom."
   ]
  },
  {
   "cell_type": "code",
   "execution_count": 1,
   "metadata": {
    "collapsed": true
   },
   "outputs": [],
   "source": [
    "import math\n",
    "import numpy as np\n",
    "import matplotlib\n",
    "%matplotlib inline\n",
    "import matplotlib.pyplot as plt\n",
    "plt.style.use('fivethirtyeight')\n",
    "from datascience import *\n",
    "import seaborn as sns\n",
    "\n",
    "from client.api.notebook import Notebook"
   ]
  },
  {
   "cell_type": "code",
   "execution_count": 23,
   "metadata": {},
   "outputs": [
    {
     "data": {
      "text/plain": [
       "237465"
      ]
     },
     "execution_count": 23,
     "metadata": {},
     "output_type": "execute_result"
    }
   ],
   "source": [
    "mlb_data = Table.read_table(\"Teams.csv\").where('yearID', are.above(2005));\n",
    "totalruns = mlb_data.column(\"R\").sum()\n",
    "totalinnings = (mlb_data.column(\"IPouts\")/3).sum()\n",
    "runsperinning = totalruns/totalinnings\n",
    "totalruns"
   ]
  },
  {
   "cell_type": "code",
   "execution_count": 4,
   "metadata": {},
   "outputs": [
    {
     "data": {
      "text/html": [
       "<table border=\"1\" class=\"dataframe\">\n",
       "    <thead>\n",
       "        <tr>\n",
       "            <th>playerID</th> <th>yearID</th> <th>stint</th> <th>teamID</th> <th>lgID</th> <th>W</th> <th>L</th> <th>G</th> <th>GS</th> <th>CG</th> <th>SHO</th> <th>SV</th> <th>IPouts</th> <th>H</th> <th>ER</th> <th>HR</th> <th>BB</th> <th>SO</th> <th>BAOpp</th> <th>ERA</th> <th>IBB</th> <th>WP</th> <th>HBP</th> <th>BK</th> <th>BFP</th> <th>GF</th> <th>R</th> <th>SH</th> <th>SF</th> <th>GIDP</th>\n",
       "        </tr>\n",
       "    </thead>\n",
       "    <tbody>\n",
       "        <tr>\n",
       "            <td>bechtge01</td> <td>1871  </td> <td>1    </td> <td>PH1   </td> <td>nan </td> <td>1   </td> <td>2   </td> <td>3   </td> <td>3   </td> <td>2   </td> <td>0   </td> <td>0   </td> <td>78    </td> <td>43  </td> <td>23  </td> <td>0   </td> <td>11  </td> <td>1   </td> <td>nan  </td> <td>7.96</td> <td>nan </td> <td>nan </td> <td>nan </td> <td>0   </td> <td>nan </td> <td>nan </td> <td>42  </td> <td>nan </td> <td>nan </td> <td>nan </td>\n",
       "        </tr>\n",
       "    </tbody>\n",
       "        <tr>\n",
       "            <td>brainas01</td> <td>1871  </td> <td>1    </td> <td>WS3   </td> <td>nan </td> <td>12  </td> <td>15  </td> <td>30  </td> <td>30  </td> <td>30  </td> <td>0   </td> <td>0   </td> <td>792   </td> <td>361 </td> <td>132 </td> <td>4   </td> <td>37  </td> <td>13  </td> <td>nan  </td> <td>4.5 </td> <td>nan </td> <td>nan </td> <td>nan </td> <td>0   </td> <td>nan </td> <td>nan </td> <td>292 </td> <td>nan </td> <td>nan </td> <td>nan </td>\n",
       "        </tr>\n",
       "    </tbody>\n",
       "        <tr>\n",
       "            <td>fergubo01</td> <td>1871  </td> <td>1    </td> <td>NY2   </td> <td>nan </td> <td>0   </td> <td>0   </td> <td>1   </td> <td>0   </td> <td>0   </td> <td>0   </td> <td>0   </td> <td>3     </td> <td>8   </td> <td>3   </td> <td>0   </td> <td>0   </td> <td>0   </td> <td>nan  </td> <td>27  </td> <td>nan </td> <td>nan </td> <td>nan </td> <td>0   </td> <td>nan </td> <td>nan </td> <td>9   </td> <td>nan </td> <td>nan </td> <td>nan </td>\n",
       "        </tr>\n",
       "    </tbody>\n",
       "        <tr>\n",
       "            <td>fishech01</td> <td>1871  </td> <td>1    </td> <td>RC1   </td> <td>nan </td> <td>4   </td> <td>16  </td> <td>24  </td> <td>24  </td> <td>22  </td> <td>1   </td> <td>0   </td> <td>639   </td> <td>295 </td> <td>103 </td> <td>3   </td> <td>31  </td> <td>15  </td> <td>nan  </td> <td>4.35</td> <td>nan </td> <td>nan </td> <td>nan </td> <td>0   </td> <td>nan </td> <td>nan </td> <td>257 </td> <td>nan </td> <td>nan </td> <td>nan </td>\n",
       "        </tr>\n",
       "    </tbody>\n",
       "        <tr>\n",
       "            <td>fleetfr01</td> <td>1871  </td> <td>1    </td> <td>NY2   </td> <td>nan </td> <td>0   </td> <td>1   </td> <td>1   </td> <td>1   </td> <td>1   </td> <td>0   </td> <td>0   </td> <td>27    </td> <td>20  </td> <td>10  </td> <td>0   </td> <td>3   </td> <td>0   </td> <td>nan  </td> <td>10  </td> <td>nan </td> <td>nan </td> <td>nan </td> <td>0   </td> <td>nan </td> <td>nan </td> <td>21  </td> <td>nan </td> <td>nan </td> <td>nan </td>\n",
       "        </tr>\n",
       "    </tbody>\n",
       "        <tr>\n",
       "            <td>flowedi01</td> <td>1871  </td> <td>1    </td> <td>TRO   </td> <td>nan </td> <td>0   </td> <td>0   </td> <td>1   </td> <td>0   </td> <td>0   </td> <td>0   </td> <td>0   </td> <td>3     </td> <td>1   </td> <td>0   </td> <td>0   </td> <td>0   </td> <td>0   </td> <td>nan  </td> <td>0   </td> <td>nan </td> <td>nan </td> <td>nan </td> <td>0   </td> <td>nan </td> <td>nan </td> <td>0   </td> <td>nan </td> <td>nan </td> <td>nan </td>\n",
       "        </tr>\n",
       "    </tbody>\n",
       "        <tr>\n",
       "            <td>mackde01 </td> <td>1871  </td> <td>1    </td> <td>RC1   </td> <td>nan </td> <td>0   </td> <td>1   </td> <td>3   </td> <td>1   </td> <td>1   </td> <td>0   </td> <td>0   </td> <td>39    </td> <td>20  </td> <td>5   </td> <td>0   </td> <td>3   </td> <td>1   </td> <td>nan  </td> <td>3.46</td> <td>nan </td> <td>nan </td> <td>nan </td> <td>0   </td> <td>nan </td> <td>nan </td> <td>30  </td> <td>nan </td> <td>nan </td> <td>nan </td>\n",
       "        </tr>\n",
       "    </tbody>\n",
       "        <tr>\n",
       "            <td>mathebo01</td> <td>1871  </td> <td>1    </td> <td>FW1   </td> <td>nan </td> <td>6   </td> <td>11  </td> <td>19  </td> <td>19  </td> <td>19  </td> <td>1   </td> <td>0   </td> <td>507   </td> <td>261 </td> <td>97  </td> <td>5   </td> <td>21  </td> <td>17  </td> <td>nan  </td> <td>5.17</td> <td>nan </td> <td>nan </td> <td>nan </td> <td>2   </td> <td>nan </td> <td>nan </td> <td>243 </td> <td>nan </td> <td>nan </td> <td>nan </td>\n",
       "        </tr>\n",
       "    </tbody>\n",
       "        <tr>\n",
       "            <td>mcbridi01</td> <td>1871  </td> <td>1    </td> <td>PH1   </td> <td>nan </td> <td>18  </td> <td>5   </td> <td>25  </td> <td>25  </td> <td>25  </td> <td>0   </td> <td>0   </td> <td>666   </td> <td>285 </td> <td>113 </td> <td>3   </td> <td>40  </td> <td>15  </td> <td>nan  </td> <td>4.58</td> <td>nan </td> <td>nan </td> <td>nan </td> <td>0   </td> <td>nan </td> <td>nan </td> <td>223 </td> <td>nan </td> <td>nan </td> <td>nan </td>\n",
       "        </tr>\n",
       "    </tbody>\n",
       "        <tr>\n",
       "            <td>mcmuljo01</td> <td>1871  </td> <td>1    </td> <td>TRO   </td> <td>nan </td> <td>12  </td> <td>15  </td> <td>29  </td> <td>29  </td> <td>28  </td> <td>0   </td> <td>0   </td> <td>747   </td> <td>430 </td> <td>153 </td> <td>4   </td> <td>75  </td> <td>12  </td> <td>nan  </td> <td>5.53</td> <td>nan </td> <td>nan </td> <td>nan </td> <td>0   </td> <td>nan </td> <td>nan </td> <td>362 </td> <td>nan </td> <td>nan </td> <td>nan </td>\n",
       "        </tr>\n",
       "    </tbody>\n",
       "</table>\n",
       "<p>... (44953 rows omitted)</p"
      ],
      "text/plain": [
       "playerID  | yearID | stint | teamID | lgID | W    | L    | G    | GS   | CG   | SHO  | SV   | IPouts | H    | ER   | HR   | BB   | SO   | BAOpp | ERA  | IBB  | WP   | HBP  | BK   | BFP  | GF   | R    | SH   | SF   | GIDP\n",
       "bechtge01 | 1871   | 1     | PH1    | nan  | 1    | 2    | 3    | 3    | 2    | 0    | 0    | 78     | 43   | 23   | 0    | 11   | 1    | nan   | 7.96 | nan  | nan  | nan  | 0    | nan  | nan  | 42   | nan  | nan  | nan\n",
       "brainas01 | 1871   | 1     | WS3    | nan  | 12   | 15   | 30   | 30   | 30   | 0    | 0    | 792    | 361  | 132  | 4    | 37   | 13   | nan   | 4.5  | nan  | nan  | nan  | 0    | nan  | nan  | 292  | nan  | nan  | nan\n",
       "fergubo01 | 1871   | 1     | NY2    | nan  | 0    | 0    | 1    | 0    | 0    | 0    | 0    | 3      | 8    | 3    | 0    | 0    | 0    | nan   | 27   | nan  | nan  | nan  | 0    | nan  | nan  | 9    | nan  | nan  | nan\n",
       "fishech01 | 1871   | 1     | RC1    | nan  | 4    | 16   | 24   | 24   | 22   | 1    | 0    | 639    | 295  | 103  | 3    | 31   | 15   | nan   | 4.35 | nan  | nan  | nan  | 0    | nan  | nan  | 257  | nan  | nan  | nan\n",
       "fleetfr01 | 1871   | 1     | NY2    | nan  | 0    | 1    | 1    | 1    | 1    | 0    | 0    | 27     | 20   | 10   | 0    | 3    | 0    | nan   | 10   | nan  | nan  | nan  | 0    | nan  | nan  | 21   | nan  | nan  | nan\n",
       "flowedi01 | 1871   | 1     | TRO    | nan  | 0    | 0    | 1    | 0    | 0    | 0    | 0    | 3      | 1    | 0    | 0    | 0    | 0    | nan   | 0    | nan  | nan  | nan  | 0    | nan  | nan  | 0    | nan  | nan  | nan\n",
       "mackde01  | 1871   | 1     | RC1    | nan  | 0    | 1    | 3    | 1    | 1    | 0    | 0    | 39     | 20   | 5    | 0    | 3    | 1    | nan   | 3.46 | nan  | nan  | nan  | 0    | nan  | nan  | 30   | nan  | nan  | nan\n",
       "mathebo01 | 1871   | 1     | FW1    | nan  | 6    | 11   | 19   | 19   | 19   | 1    | 0    | 507    | 261  | 97   | 5    | 21   | 17   | nan   | 5.17 | nan  | nan  | nan  | 2    | nan  | nan  | 243  | nan  | nan  | nan\n",
       "mcbridi01 | 1871   | 1     | PH1    | nan  | 18   | 5    | 25   | 25   | 25   | 0    | 0    | 666    | 285  | 113  | 3    | 40   | 15   | nan   | 4.58 | nan  | nan  | nan  | 0    | nan  | nan  | 223  | nan  | nan  | nan\n",
       "mcmuljo01 | 1871   | 1     | TRO    | nan  | 12   | 15   | 29   | 29   | 28   | 0    | 0    | 747    | 430  | 153  | 4    | 75   | 12   | nan   | 5.53 | nan  | nan  | nan  | 0    | nan  | nan  | 362  | nan  | nan  | nan\n",
       "... (44953 rows omitted)"
      ]
     },
     "execution_count": 4,
     "metadata": {},
     "output_type": "execute_result"
    }
   ],
   "source": [
    "pitching_data = Table.read_table(\"Pitching.csv\")\n",
    "pitching_data"
   ]
  },
  {
   "cell_type": "markdown",
   "metadata": {},
   "source": [
    "# Part 1: Expected Values"
   ]
  },
  {
   "cell_type": "markdown",
   "metadata": {},
   "source": [
    "In probability and statistics, a binomial random variable refers to one that has only two possible outcomes: success or failure. The expected value, E(X), of a binomial random variable is the number of successes we expect from this variable over n trials. The formula for E(X) is shown below:\n",
    "\n",
    "\n",
    "\n",
    "$E(X) = P(X) * N$\n",
    "\n",
    "\n",
    "\n",
    "where $P(X)$ is the probability of success per trial, and $N$ is the number of trials."
   ]
  },
  {
   "cell_type": "markdown",
   "metadata": {},
   "source": [
    "** Question 1: ** Suppose the probability of an unfair coin landing on its tail side is 0.63. What is the expected value of the number of tails obtained after 1000 flips?"
   ]
  },
  {
   "cell_type": "code",
   "execution_count": null,
   "metadata": {
    "collapsed": true
   },
   "outputs": [],
   "source": []
  },
  {
   "cell_type": "markdown",
   "metadata": {},
   "source": [
    "** Question 2a: ** The table `pitching_data` contains stats for every pitcher in the MLB since 1871. Suppose we're back in 2008, when Clayton Kershaw (kershcl01) had his fantastic debut season. Based only on his 2008 stats in strikeouts (SO) and batters faced by pitcher (BFP), what was the probability that Clayton would strike out a batter he faced?"
   ]
  },
  {
   "cell_type": "code",
   "execution_count": null,
   "metadata": {
    "collapsed": true
   },
   "outputs": [],
   "source": []
  },
  {
   "cell_type": "markdown",
   "metadata": {},
   "source": [
    "** Question 2b: ** For all pitchers from 2008 to 2016 who have played at least 20 games (G) per season, what is their average number of batters faced per season?"
   ]
  },
  {
   "cell_type": "code",
   "execution_count": null,
   "metadata": {
    "collapsed": true
   },
   "outputs": [],
   "source": []
  },
  {
   "cell_type": "markdown",
   "metadata": {},
   "source": [
    "** Question 2c: ** Suppose Clayton Kershaw faced the statistical average number of batters per season from 2008 to 2016, a number that you calculated in the question above. Based on his probability to strike out a batter he faced during his debut season, find the expected value for the total number of strikeouts between 2008 and 2016 for Clayton Kershaw."
   ]
  },
  {
   "cell_type": "code",
   "execution_count": null,
   "metadata": {
    "collapsed": true
   },
   "outputs": [],
   "source": []
  },
  {
   "cell_type": "markdown",
   "metadata": {},
   "source": [
    "# Part 2: Bayes' Theorem"
   ]
  },
  {
   "cell_type": "markdown",
   "metadata": {},
   "source": [
    "Bayes' theorem is a useful tool in statistics to find the probability of an event occuring given a prior (conditional) probability. It simply states that the probability of an event A occurring, given the condition B is true, is equal to the probability of B given that A is true, multiplied by the original probability of A without regard to B, divided by the original probability of B disregarding A. In mathematical notation, it is stated as follows:\n",
    "\n",
    "$P(A | B) = P(B | A) * P(A) / P(B)$"
   ]
  },
  {
   "cell_type": "markdown",
   "metadata": {},
   "source": [
    "** Question 1a: ** Berkeley is notorious for rainy winters. On the morning of the day of one of your final exams, you look outside and notice that it is cloudy. To help you decide whether you should bring an umbrella outside, you decide to calculate the probability that it is a rainy day, given the following information about Berkeley's winter weather patterns:\n",
    "\n",
    "- 75% of all rainy days start off cloudy\n",
    "- 63% of days in December are rainy\n",
    "- Cloudy mornings are common. 70% of all mornings start off cloudy, regardless of whether it rains later in the day\n",
    "\n",
    "Given the above information, calculate the probability that it will indeed be a rainy day."
   ]
  },
  {
   "cell_type": "code",
   "execution_count": null,
   "metadata": {
    "collapsed": true
   },
   "outputs": [],
   "source": []
  },
  {
   "cell_type": "code",
   "execution_count": 13,
   "metadata": {},
   "outputs": [],
   "source": [
    "batting_data = Table.read_table(\"Batting.csv\")"
   ]
  },
  {
   "cell_type": "markdown",
   "metadata": {},
   "source": [
    "** Question 2: ** Given Bryce Harper's stats over the course of his career since he was drafted in 2012, what is the probability that Bryce Harper hits a home run given that the ball was indeed hit? Relevant data can be found in `batting_data`."
   ]
  },
  {
   "cell_type": "code",
   "execution_count": null,
   "metadata": {
    "collapsed": true
   },
   "outputs": [],
   "source": []
  },
  {
   "cell_type": "markdown",
   "metadata": {},
   "source": [
    "# Part 3: Run Expectancy"
   ]
  },
  {
   "cell_type": "code",
   "execution_count": 29,
   "metadata": {},
   "outputs": [],
   "source": [
    "play_by_play = Table.read_table(\"retrosheet-events-plus-woba-2005_2015.csv\")"
   ]
  },
  {
   "cell_type": "markdown",
   "metadata": {
    "collapsed": true
   },
   "source": [
    "Run expectancy is a concept that sheds light on the expected number of runs a team would score by the end of an inning given a conditional base/out state. For example, at the beginning of an inning, the base/out state would be 0 outs, none of the bases filled. Given only this information, one can relatively easily figure out the expected number of runs an average MLB team would score by the end of that inning, at that current base/out state.\n",
    "\n",
    "Run expectancy is therefore just the expected value of the number of runs a team would score by the end of an inning, given the current base/out state. In mathematical notation, it is:\n",
    "\n",
    "$E(R) = P(S) * 1$\n",
    "\n",
    "where $S$ is the event that a team scores before the end of an inning from a given base/out state. Since base/out states reset at the end of every inning, we're only concerned with one inning at a time, thus multiplying the probability P(S) by 1 to obtain the expected runs."
   ]
  },
  {
   "cell_type": "markdown",
   "metadata": {},
   "source": [
    "** Question 1: ** Between 2006 and 2015, MLB teams played a total of 477482 innings in the regular season, scoring 237465 runs in the process. Find the expected number of runs a team would score in an inning.\n",
    "\n",
    "*Hint:* The event of scoring a run in an inning can be characterized as scoring a run from a base/out state of 0/0."
   ]
  },
  {
   "cell_type": "code",
   "execution_count": null,
   "metadata": {
    "collapsed": true
   },
   "outputs": [],
   "source": []
  },
  {
   "cell_type": "markdown",
   "metadata": {},
   "source": [
    "Note: Since all innings begin with a base/out state of 0/0, the expected runs scored by a team in a single inning would also be the expected runs value for a base/out state of 0/0.\n",
    "\n",
    "We can also figure out the run expectancy values of any base/out state. For example, if the leadoff batter happened to reach first base, the base/out state would change to 1B/0outs. This would increase the expected number of runs until the end of the inning from your answer above."
   ]
  },
  {
   "cell_type": "markdown",
   "metadata": {},
   "source": [
    "** Question 2a: ** Calculate the number of runs a team can expect to score before the end of the inning, given that it finds itself in a base/out state of 1B/0outs. Use the below information for your calculations:\n",
    "\n",
    "- When a team scores a run in an inning, there is a 88% chance that it found itself at some point during the inning in a base/out state of 1B/0outs.\n",
    "- The probability that a team scores before the end of the inning from any base/out state is 65%.\n",
    "- The probability that a team finds itself in a base/out state of 1B/0outs at a point during any given inning is 72%."
   ]
  },
  {
   "cell_type": "code",
   "execution_count": null,
   "metadata": {
    "collapsed": true
   },
   "outputs": [],
   "source": []
  },
  {
   "cell_type": "markdown",
   "metadata": {},
   "source": [
    "** Question 2b: ** Give an intuitive explanation (in words) for the difference between your answer to question 1 and your answer to question 2a."
   ]
  },
  {
   "cell_type": "code",
   "execution_count": null,
   "metadata": {
    "collapsed": true
   },
   "outputs": [],
   "source": []
  }
 ],
 "metadata": {
  "kernelspec": {
   "display_name": "Python 3",
   "language": "python",
   "name": "python3"
  },
  "language_info": {
   "codemirror_mode": {
    "name": "ipython",
    "version": 3
   },
   "file_extension": ".py",
   "mimetype": "text/x-python",
   "name": "python",
   "nbconvert_exporter": "python",
   "pygments_lexer": "ipython3",
   "version": "3.5.4"
  }
 },
 "nbformat": 4,
 "nbformat_minor": 2
}
