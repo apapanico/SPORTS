{
 "cells": [
  {
   "cell_type": "code",
   "execution_count": 2,
   "metadata": {
    "collapsed": true
   },
   "outputs": [],
   "source": [
    "#Some Import Mumbo-Jumbo\n",
    "from datascience import *\n",
    "import numpy as np\n",
    "import pandas as pd\n",
    "%matplotlib inline\n",
    "import matplotlib.pyplot as plt\n",
    "import seaborn as sns"
   ]
  },
  {
   "cell_type": "markdown",
   "metadata": {
    "collapsed": true
   },
   "source": [
    "## Baseball Decision Making (Weighted On Base Average)\n",
    "\n",
    "<img src=\"https://cdn.vox-cdn.com/thumbor/7XmqqP0HZbz07vPJZZud8Wc9m6w=/0x0:4098x2720/1200x800/filters:focal(1439x98:2093x752)/cdn.vox-cdn.com/uploads/chorus_image/image/54784663/usa_today_10033424.0.jpg\" style=\"width: 500px; height: 350px;\" />"
   ]
  },
  {
   "cell_type": "code",
   "execution_count": 6,
   "metadata": {},
   "outputs": [
    {
     "data": {
      "text/html": [
       "<table border=\"1\" class=\"dataframe\">\n",
       "    <thead>\n",
       "        <tr>\n",
       "            <th>game_id</th> <th>year_id</th> <th>away_team_id</th> <th>home_team_id</th> <th>bat_id</th> <th>pit_id</th> <th>bat_home_id</th> <th>event_cd</th> <th>wOBA_pts</th> <th>time_since_1900</th> <th>inn_ct</th> <th>outs_ct</th> <th>away_score_ct</th> <th>home_score_ct</th> <th>bat_hand_cd</th> <th>pit_hand_cd</th> <th>base1_run_id</th> <th>base2_run_id</th> <th>base3_run_id</th> <th>bat_fld_cd</th> <th>bat_lineup_id</th> <th>rbi_ct</th> <th>battedball_cd</th> <th>pitch_seq_tx</th> <th>game_new_fl</th> <th>game_end_fl</th> <th>po1_fld_cd</th> <th>po2_fld_cd</th> <th>inn_new_fl</th> <th>inn_end_fl</th> <th>inn_runs_ct</th> <th>game_pa_ct</th> <th>inn_pa_ct</th> <th>pit_start_fl</th> <th>pa_ball_ct</th> <th>pa_strike_ct</th> <th>event_runs_ct</th> <th>bat_fate_id</th> <th>run1_fate_id</th> <th>run2_fate_id</th> <th>run3_fate_id</th>\n",
       "        </tr>\n",
       "    </thead>\n",
       "    <tbody>\n",
       "        <tr>\n",
       "            <td>ANA200504050</td> <td>2005   </td> <td>TEX         </td> <td>ANA         </td> <td>soria001</td> <td>colob001</td> <td>0          </td> <td>21      </td> <td>1.252   </td> <td>3.32171e+09    </td> <td>1     </td> <td>0      </td> <td>0            </td> <td>0            </td> <td>R          </td> <td>R          </td> <td>nan         </td> <td>nan         </td> <td>nan         </td> <td>4         </td> <td>1            </td> <td>0     </td> <td>L            </td> <td>BX          </td> <td>T          </td> <td>F          </td> <td>0         </td> <td>0         </td> <td>T         </td> <td>F         </td> <td>0          </td> <td>0         </td> <td>0        </td> <td>T           </td> <td>1         </td> <td>1           </td> <td>0            </td> <td>0          </td> <td>0           </td> <td>0           </td> <td>0           </td>\n",
       "        </tr>\n",
       "    </tbody>\n",
       "        <tr>\n",
       "            <td>ANA200504050</td> <td>2005   </td> <td>TEX         </td> <td>ANA         </td> <td>blalh001</td> <td>colob001</td> <td>0          </td> <td>14      </td> <td>0.703   </td> <td>3.32171e+09    </td> <td>1     </td> <td>0      </td> <td>0            </td> <td>0            </td> <td>L          </td> <td>R          </td> <td>nan         </td> <td>soria001    </td> <td>nan         </td> <td>5         </td> <td>2            </td> <td>0     </td> <td>nan          </td> <td>BBBB        </td> <td>F          </td> <td>F          </td> <td>0         </td> <td>0         </td> <td>F         </td> <td>F         </td> <td>0          </td> <td>1         </td> <td>1        </td> <td>T           </td> <td>4         </td> <td>0           </td> <td>0            </td> <td>0          </td> <td>0           </td> <td>0           </td> <td>0           </td>\n",
       "        </tr>\n",
       "    </tbody>\n",
       "        <tr>\n",
       "            <td>ANA200504050</td> <td>2005   </td> <td>TEX         </td> <td>ANA         </td> <td>younm003</td> <td>colob001</td> <td>0          </td> <td>2       </td> <td>0       </td> <td>3.32171e+09    </td> <td>1     </td> <td>0      </td> <td>0            </td> <td>0            </td> <td>R          </td> <td>R          </td> <td>blalh001    </td> <td>soria001    </td> <td>nan         </td> <td>6         </td> <td>3            </td> <td>0     </td> <td>G            </td> <td>CB*BFFX     </td> <td>F          </td> <td>F          </td> <td>6         </td> <td>0         </td> <td>F         </td> <td>F         </td> <td>0          </td> <td>2         </td> <td>2        </td> <td>T           </td> <td>2         </td> <td>4           </td> <td>0            </td> <td>0          </td> <td>0           </td> <td>0           </td> <td>0           </td>\n",
       "        </tr>\n",
       "    </tbody>\n",
       "        <tr>\n",
       "            <td>ANA200504050</td> <td>2005   </td> <td>TEX         </td> <td>ANA         </td> <td>teixm001</td> <td>colob001</td> <td>0          </td> <td>3       </td> <td>0       </td> <td>3.32171e+09    </td> <td>1     </td> <td>1      </td> <td>0            </td> <td>0            </td> <td>L          </td> <td>R          </td> <td>younm003    </td> <td>nan         </td> <td>soria001    </td> <td>3         </td> <td>4            </td> <td>0     </td> <td>nan          </td> <td>CFBFBT      </td> <td>F          </td> <td>F          </td> <td>2         </td> <td>0         </td> <td>F         </td> <td>F         </td> <td>0          </td> <td>3         </td> <td>3        </td> <td>T           </td> <td>2         </td> <td>4           </td> <td>0            </td> <td>0          </td> <td>0           </td> <td>0           </td> <td>0           </td>\n",
       "        </tr>\n",
       "    </tbody>\n",
       "        <tr>\n",
       "            <td>ANA200504050</td> <td>2005   </td> <td>TEX         </td> <td>ANA         </td> <td>hidar001</td> <td>colob001</td> <td>0          </td> <td>2       </td> <td>0       </td> <td>3.32171e+09    </td> <td>1     </td> <td>2      </td> <td>0            </td> <td>0            </td> <td>R          </td> <td>R          </td> <td>younm003    </td> <td>nan         </td> <td>soria001    </td> <td>9         </td> <td>5            </td> <td>0     </td> <td>F            </td> <td>FCX         </td> <td>F          </td> <td>F          </td> <td>7         </td> <td>0         </td> <td>F         </td> <td>T         </td> <td>0          </td> <td>4         </td> <td>4        </td> <td>T           </td> <td>0         </td> <td>3           </td> <td>0            </td> <td>0          </td> <td>0           </td> <td>0           </td> <td>0           </td>\n",
       "        </tr>\n",
       "    </tbody>\n",
       "        <tr>\n",
       "            <td>ANA200504050</td> <td>2005   </td> <td>TEX         </td> <td>ANA         </td> <td>erstd001</td> <td>dresr001</td> <td>1          </td> <td>14      </td> <td>0.703   </td> <td>3.32171e+09    </td> <td>1     </td> <td>0      </td> <td>0            </td> <td>0            </td> <td>L          </td> <td>R          </td> <td>nan         </td> <td>nan         </td> <td>nan         </td> <td>3         </td> <td>1            </td> <td>0     </td> <td>nan          </td> <td>BBBCCB      </td> <td>F          </td> <td>F          </td> <td>0         </td> <td>0         </td> <td>T         </td> <td>F         </td> <td>0          </td> <td>0         </td> <td>0        </td> <td>T           </td> <td>4         </td> <td>2           </td> <td>0            </td> <td>0          </td> <td>0           </td> <td>0           </td> <td>0           </td>\n",
       "        </tr>\n",
       "    </tbody>\n",
       "        <tr>\n",
       "            <td>ANA200504050</td> <td>2005   </td> <td>TEX         </td> <td>ANA         </td> <td>davaj001</td> <td>dresr001</td> <td>1          </td> <td>2       </td> <td>0       </td> <td>3.32171e+09    </td> <td>1     </td> <td>0      </td> <td>0            </td> <td>0            </td> <td>L          </td> <td>R          </td> <td>erstd001    </td> <td>nan         </td> <td>nan         </td> <td>10        </td> <td>2            </td> <td>0     </td> <td>G            </td> <td>1X          </td> <td>F          </td> <td>F          </td> <td>6         </td> <td>3         </td> <td>F         </td> <td>F         </td> <td>0          </td> <td>1         </td> <td>1        </td> <td>T           </td> <td>0         </td> <td>1           </td> <td>0            </td> <td>0          </td> <td>0           </td> <td>0           </td> <td>0           </td>\n",
       "        </tr>\n",
       "    </tbody>\n",
       "        <tr>\n",
       "            <td>ANA200504050</td> <td>2005   </td> <td>TEX         </td> <td>ANA         </td> <td>guerv001</td> <td>dresr001</td> <td>1          </td> <td>23      </td> <td>2.017   </td> <td>3.32171e+09    </td> <td>1     </td> <td>2      </td> <td>0            </td> <td>0            </td> <td>R          </td> <td>R          </td> <td>nan         </td> <td>nan         </td> <td>nan         </td> <td>9         </td> <td>3            </td> <td>1     </td> <td>F            </td> <td>BBX         </td> <td>F          </td> <td>F          </td> <td>0         </td> <td>0         </td> <td>F         </td> <td>F         </td> <td>0          </td> <td>2         </td> <td>2        </td> <td>T           </td> <td>2         </td> <td>1           </td> <td>1            </td> <td>4          </td> <td>0           </td> <td>0           </td> <td>0           </td>\n",
       "        </tr>\n",
       "    </tbody>\n",
       "        <tr>\n",
       "            <td>ANA200504050</td> <td>2005   </td> <td>TEX         </td> <td>ANA         </td> <td>andeg001</td> <td>dresr001</td> <td>1          </td> <td>20      </td> <td>0.89    </td> <td>3.32171e+09    </td> <td>1     </td> <td>2      </td> <td>0            </td> <td>1            </td> <td>L          </td> <td>R          </td> <td>nan         </td> <td>nan         </td> <td>nan         </td> <td>7         </td> <td>4            </td> <td>0     </td> <td>L            </td> <td>X           </td> <td>F          </td> <td>F          </td> <td>0         </td> <td>0         </td> <td>F         </td> <td>F         </td> <td>1          </td> <td>3         </td> <td>3        </td> <td>T           </td> <td>0         </td> <td>1           </td> <td>0            </td> <td>0          </td> <td>0           </td> <td>0           </td> <td>0           </td>\n",
       "        </tr>\n",
       "    </tbody>\n",
       "        <tr>\n",
       "            <td>ANA200504050</td> <td>2005   </td> <td>TEX         </td> <td>ANA         </td> <td>finls001</td> <td>dresr001</td> <td>1          </td> <td>2       </td> <td>0       </td> <td>3.32171e+09    </td> <td>1     </td> <td>2      </td> <td>0            </td> <td>1            </td> <td>L          </td> <td>R          </td> <td>andeg001    </td> <td>nan         </td> <td>nan         </td> <td>8         </td> <td>5            </td> <td>0     </td> <td>F            </td> <td>CX          </td> <td>F          </td> <td>F          </td> <td>7         </td> <td>0         </td> <td>F         </td> <td>T         </td> <td>1          </td> <td>4         </td> <td>4        </td> <td>T           </td> <td>0         </td> <td>2           </td> <td>0            </td> <td>0          </td> <td>0           </td> <td>0           </td> <td>0           </td>\n",
       "        </tr>\n",
       "    </tbody>\n",
       "</table>\n",
       "<p>... (2111516 rows omitted)</p"
      ],
      "text/plain": [
       "game_id      | year_id | away_team_id | home_team_id | bat_id   | pit_id   | bat_home_id | event_cd | wOBA_pts | time_since_1900 | inn_ct | outs_ct | away_score_ct | home_score_ct | bat_hand_cd | pit_hand_cd | base1_run_id | base2_run_id | base3_run_id | bat_fld_cd | bat_lineup_id | rbi_ct | battedball_cd | pitch_seq_tx | game_new_fl | game_end_fl | po1_fld_cd | po2_fld_cd | inn_new_fl | inn_end_fl | inn_runs_ct | game_pa_ct | inn_pa_ct | pit_start_fl | pa_ball_ct | pa_strike_ct | event_runs_ct | bat_fate_id | run1_fate_id | run2_fate_id | run3_fate_id\n",
       "ANA200504050 | 2005    | TEX          | ANA          | soria001 | colob001 | 0           | 21       | 1.252    | 3.32171e+09     | 1      | 0       | 0             | 0             | R           | R           | nan          | nan          | nan          | 4          | 1             | 0      | L             | BX           | T           | F           | 0          | 0          | T          | F          | 0           | 0          | 0         | T            | 1          | 1            | 0             | 0           | 0            | 0            | 0\n",
       "ANA200504050 | 2005    | TEX          | ANA          | blalh001 | colob001 | 0           | 14       | 0.703    | 3.32171e+09     | 1      | 0       | 0             | 0             | L           | R           | nan          | soria001     | nan          | 5          | 2             | 0      | nan           | BBBB         | F           | F           | 0          | 0          | F          | F          | 0           | 1          | 1         | T            | 4          | 0            | 0             | 0           | 0            | 0            | 0\n",
       "ANA200504050 | 2005    | TEX          | ANA          | younm003 | colob001 | 0           | 2        | 0        | 3.32171e+09     | 1      | 0       | 0             | 0             | R           | R           | blalh001     | soria001     | nan          | 6          | 3             | 0      | G             | CB*BFFX      | F           | F           | 6          | 0          | F          | F          | 0           | 2          | 2         | T            | 2          | 4            | 0             | 0           | 0            | 0            | 0\n",
       "ANA200504050 | 2005    | TEX          | ANA          | teixm001 | colob001 | 0           | 3        | 0        | 3.32171e+09     | 1      | 1       | 0             | 0             | L           | R           | younm003     | nan          | soria001     | 3          | 4             | 0      | nan           | CFBFBT       | F           | F           | 2          | 0          | F          | F          | 0           | 3          | 3         | T            | 2          | 4            | 0             | 0           | 0            | 0            | 0\n",
       "ANA200504050 | 2005    | TEX          | ANA          | hidar001 | colob001 | 0           | 2        | 0        | 3.32171e+09     | 1      | 2       | 0             | 0             | R           | R           | younm003     | nan          | soria001     | 9          | 5             | 0      | F             | FCX          | F           | F           | 7          | 0          | F          | T          | 0           | 4          | 4         | T            | 0          | 3            | 0             | 0           | 0            | 0            | 0\n",
       "ANA200504050 | 2005    | TEX          | ANA          | erstd001 | dresr001 | 1           | 14       | 0.703    | 3.32171e+09     | 1      | 0       | 0             | 0             | L           | R           | nan          | nan          | nan          | 3          | 1             | 0      | nan           | BBBCCB       | F           | F           | 0          | 0          | T          | F          | 0           | 0          | 0         | T            | 4          | 2            | 0             | 0           | 0            | 0            | 0\n",
       "ANA200504050 | 2005    | TEX          | ANA          | davaj001 | dresr001 | 1           | 2        | 0        | 3.32171e+09     | 1      | 0       | 0             | 0             | L           | R           | erstd001     | nan          | nan          | 10         | 2             | 0      | G             | 1X           | F           | F           | 6          | 3          | F          | F          | 0           | 1          | 1         | T            | 0          | 1            | 0             | 0           | 0            | 0            | 0\n",
       "ANA200504050 | 2005    | TEX          | ANA          | guerv001 | dresr001 | 1           | 23       | 2.017    | 3.32171e+09     | 1      | 2       | 0             | 0             | R           | R           | nan          | nan          | nan          | 9          | 3             | 1      | F             | BBX          | F           | F           | 0          | 0          | F          | F          | 0           | 2          | 2         | T            | 2          | 1            | 1             | 4           | 0            | 0            | 0\n",
       "ANA200504050 | 2005    | TEX          | ANA          | andeg001 | dresr001 | 1           | 20       | 0.89     | 3.32171e+09     | 1      | 2       | 0             | 1             | L           | R           | nan          | nan          | nan          | 7          | 4             | 0      | L             | X            | F           | F           | 0          | 0          | F          | F          | 1           | 3          | 3         | T            | 0          | 1            | 0             | 0           | 0            | 0            | 0\n",
       "ANA200504050 | 2005    | TEX          | ANA          | finls001 | dresr001 | 1           | 2        | 0        | 3.32171e+09     | 1      | 2       | 0             | 1             | L           | R           | andeg001     | nan          | nan          | 8          | 5             | 0      | F             | CX           | F           | F           | 7          | 0          | F          | T          | 1           | 4          | 4         | T            | 0          | 2            | 0             | 0           | 0            | 0            | 0\n",
       "... (2111516 rows omitted)"
      ]
     },
     "execution_count": 6,
     "metadata": {},
     "output_type": "execute_result"
    }
   ],
   "source": [
    "woba_stats = Table().read_table('retrosheet-events-plus-woba-2005_2015.csv')\n",
    "woba_stats"
   ]
  },
  {
   "cell_type": "code",
   "execution_count": 4,
   "metadata": {},
   "outputs": [
    {
     "data": {
      "text/html": [
       "<table border=\"1\" class=\"dataframe\">\n",
       "    <thead>\n",
       "        <tr>\n",
       "            <th>playerID</th> <th>yearID</th> <th>stint</th> <th>teamID</th> <th>lgID</th> <th>G</th> <th>AB</th> <th>R</th> <th>H</th> <th>2B</th> <th>3B</th> <th>HR</th> <th>RBI</th> <th>SB</th> <th>CS</th> <th>BB</th> <th>SO</th> <th>IBB</th> <th>HBP</th> <th>SH</th> <th>SF</th> <th>GIDP</th>\n",
       "        </tr>\n",
       "    </thead>\n",
       "    <tbody>\n",
       "        <tr>\n",
       "            <td>abercda01</td> <td>1871  </td> <td>1    </td> <td>TRO   </td> <td>nan </td> <td>1   </td> <td>4   </td> <td>0   </td> <td>0   </td> <td>0   </td> <td>0   </td> <td>0   </td> <td>0   </td> <td>0   </td> <td>0   </td> <td>0   </td> <td>0   </td> <td>nan </td> <td>nan </td> <td>nan </td> <td>nan </td> <td>nan </td>\n",
       "        </tr>\n",
       "    </tbody>\n",
       "        <tr>\n",
       "            <td>addybo01 </td> <td>1871  </td> <td>1    </td> <td>RC1   </td> <td>nan </td> <td>25  </td> <td>118 </td> <td>30  </td> <td>32  </td> <td>6   </td> <td>0   </td> <td>0   </td> <td>13  </td> <td>8   </td> <td>1   </td> <td>4   </td> <td>0   </td> <td>nan </td> <td>nan </td> <td>nan </td> <td>nan </td> <td>nan </td>\n",
       "        </tr>\n",
       "    </tbody>\n",
       "        <tr>\n",
       "            <td>allisar01</td> <td>1871  </td> <td>1    </td> <td>CL1   </td> <td>nan </td> <td>29  </td> <td>137 </td> <td>28  </td> <td>40  </td> <td>4   </td> <td>5   </td> <td>0   </td> <td>19  </td> <td>3   </td> <td>1   </td> <td>2   </td> <td>5   </td> <td>nan </td> <td>nan </td> <td>nan </td> <td>nan </td> <td>nan </td>\n",
       "        </tr>\n",
       "    </tbody>\n",
       "        <tr>\n",
       "            <td>allisdo01</td> <td>1871  </td> <td>1    </td> <td>WS3   </td> <td>nan </td> <td>27  </td> <td>133 </td> <td>28  </td> <td>44  </td> <td>10  </td> <td>2   </td> <td>2   </td> <td>27  </td> <td>1   </td> <td>1   </td> <td>0   </td> <td>2   </td> <td>nan </td> <td>nan </td> <td>nan </td> <td>nan </td> <td>nan </td>\n",
       "        </tr>\n",
       "    </tbody>\n",
       "        <tr>\n",
       "            <td>ansonca01</td> <td>1871  </td> <td>1    </td> <td>RC1   </td> <td>nan </td> <td>25  </td> <td>120 </td> <td>29  </td> <td>39  </td> <td>11  </td> <td>3   </td> <td>0   </td> <td>16  </td> <td>6   </td> <td>2   </td> <td>2   </td> <td>1   </td> <td>nan </td> <td>nan </td> <td>nan </td> <td>nan </td> <td>nan </td>\n",
       "        </tr>\n",
       "    </tbody>\n",
       "        <tr>\n",
       "            <td>armstbo01</td> <td>1871  </td> <td>1    </td> <td>FW1   </td> <td>nan </td> <td>12  </td> <td>49  </td> <td>9   </td> <td>11  </td> <td>2   </td> <td>1   </td> <td>0   </td> <td>5   </td> <td>0   </td> <td>1   </td> <td>0   </td> <td>1   </td> <td>nan </td> <td>nan </td> <td>nan </td> <td>nan </td> <td>nan </td>\n",
       "        </tr>\n",
       "    </tbody>\n",
       "        <tr>\n",
       "            <td>barkeal01</td> <td>1871  </td> <td>1    </td> <td>RC1   </td> <td>nan </td> <td>1   </td> <td>4   </td> <td>0   </td> <td>1   </td> <td>0   </td> <td>0   </td> <td>0   </td> <td>2   </td> <td>0   </td> <td>0   </td> <td>1   </td> <td>0   </td> <td>nan </td> <td>nan </td> <td>nan </td> <td>nan </td> <td>nan </td>\n",
       "        </tr>\n",
       "    </tbody>\n",
       "        <tr>\n",
       "            <td>barnero01</td> <td>1871  </td> <td>1    </td> <td>BS1   </td> <td>nan </td> <td>31  </td> <td>157 </td> <td>66  </td> <td>63  </td> <td>10  </td> <td>9   </td> <td>0   </td> <td>34  </td> <td>11  </td> <td>6   </td> <td>13  </td> <td>1   </td> <td>nan </td> <td>nan </td> <td>nan </td> <td>nan </td> <td>nan </td>\n",
       "        </tr>\n",
       "    </tbody>\n",
       "        <tr>\n",
       "            <td>barrebi01</td> <td>1871  </td> <td>1    </td> <td>FW1   </td> <td>nan </td> <td>1   </td> <td>5   </td> <td>1   </td> <td>1   </td> <td>1   </td> <td>0   </td> <td>0   </td> <td>1   </td> <td>0   </td> <td>0   </td> <td>0   </td> <td>0   </td> <td>nan </td> <td>nan </td> <td>nan </td> <td>nan </td> <td>nan </td>\n",
       "        </tr>\n",
       "    </tbody>\n",
       "        <tr>\n",
       "            <td>barrofr01</td> <td>1871  </td> <td>1    </td> <td>BS1   </td> <td>nan </td> <td>18  </td> <td>86  </td> <td>13  </td> <td>13  </td> <td>2   </td> <td>1   </td> <td>0   </td> <td>11  </td> <td>1   </td> <td>0   </td> <td>0   </td> <td>0   </td> <td>nan </td> <td>nan </td> <td>nan </td> <td>nan </td> <td>nan </td>\n",
       "        </tr>\n",
       "    </tbody>\n",
       "</table>\n",
       "<p>... (102806 rows omitted)</p"
      ],
      "text/plain": [
       "playerID  | yearID | stint | teamID | lgID | G    | AB   | R    | H    | 2B   | 3B   | HR   | RBI  | SB   | CS   | BB   | SO   | IBB  | HBP  | SH   | SF   | GIDP\n",
       "abercda01 | 1871   | 1     | TRO    | nan  | 1    | 4    | 0    | 0    | 0    | 0    | 0    | 0    | 0    | 0    | 0    | 0    | nan  | nan  | nan  | nan  | nan\n",
       "addybo01  | 1871   | 1     | RC1    | nan  | 25   | 118  | 30   | 32   | 6    | 0    | 0    | 13   | 8    | 1    | 4    | 0    | nan  | nan  | nan  | nan  | nan\n",
       "allisar01 | 1871   | 1     | CL1    | nan  | 29   | 137  | 28   | 40   | 4    | 5    | 0    | 19   | 3    | 1    | 2    | 5    | nan  | nan  | nan  | nan  | nan\n",
       "allisdo01 | 1871   | 1     | WS3    | nan  | 27   | 133  | 28   | 44   | 10   | 2    | 2    | 27   | 1    | 1    | 0    | 2    | nan  | nan  | nan  | nan  | nan\n",
       "ansonca01 | 1871   | 1     | RC1    | nan  | 25   | 120  | 29   | 39   | 11   | 3    | 0    | 16   | 6    | 2    | 2    | 1    | nan  | nan  | nan  | nan  | nan\n",
       "armstbo01 | 1871   | 1     | FW1    | nan  | 12   | 49   | 9    | 11   | 2    | 1    | 0    | 5    | 0    | 1    | 0    | 1    | nan  | nan  | nan  | nan  | nan\n",
       "barkeal01 | 1871   | 1     | RC1    | nan  | 1    | 4    | 0    | 1    | 0    | 0    | 0    | 2    | 0    | 0    | 1    | 0    | nan  | nan  | nan  | nan  | nan\n",
       "barnero01 | 1871   | 1     | BS1    | nan  | 31   | 157  | 66   | 63   | 10   | 9    | 0    | 34   | 11   | 6    | 13   | 1    | nan  | nan  | nan  | nan  | nan\n",
       "barrebi01 | 1871   | 1     | FW1    | nan  | 1    | 5    | 1    | 1    | 1    | 0    | 0    | 1    | 0    | 0    | 0    | 0    | nan  | nan  | nan  | nan  | nan\n",
       "barrofr01 | 1871   | 1     | BS1    | nan  | 18   | 86   | 13   | 13   | 2    | 1    | 0    | 11   | 1    | 0    | 0    | 0    | nan  | nan  | nan  | nan  | nan\n",
       "... (102806 rows omitted)"
      ]
     },
     "execution_count": 4,
     "metadata": {},
     "output_type": "execute_result"
    }
   ],
   "source": [
    "batting_stats = Table().read_table('batting.csv')\n",
    "batting_stats"
   ]
  },
  {
   "cell_type": "code",
   "execution_count": 5,
   "metadata": {},
   "outputs": [
    {
     "data": {
      "text/html": [
       "<table border=\"1\" class=\"dataframe\">\n",
       "    <thead>\n",
       "        <tr>\n",
       "            <th>yearID</th> <th>lgID</th> <th>teamID</th> <th>franchID</th> <th>divID</th> <th>Rank</th> <th>G</th> <th>Ghome</th> <th>W</th> <th>L</th> <th>DivWin</th> <th>WCWin</th> <th>LgWin</th> <th>WSWin</th> <th>R</th> <th>AB</th> <th>H</th> <th>2B</th> <th>3B</th> <th>HR</th> <th>BB</th> <th>SO</th> <th>SB</th> <th>CS</th> <th>HBP</th> <th>SF</th> <th>RA</th> <th>ER</th> <th>ERA</th> <th>CG</th> <th>SHO</th> <th>SV</th> <th>IPouts</th> <th>HA</th> <th>HRA</th> <th>BBA</th> <th>SOA</th> <th>E</th> <th>DP</th> <th>FP</th> <th>name</th> <th>park</th> <th>attendance</th> <th>BPF</th> <th>PPF</th> <th>teamIDBR</th> <th>teamIDlahman45</th> <th>teamIDretro</th>\n",
       "        </tr>\n",
       "    </thead>\n",
       "    <tbody>\n",
       "        <tr>\n",
       "            <td>1871  </td> <td>nan </td> <td>BS1   </td> <td>BNA     </td> <td>nan  </td> <td>3   </td> <td>31  </td> <td>nan  </td> <td>20  </td> <td>10  </td> <td>nan   </td> <td>nan  </td> <td>N    </td> <td>nan  </td> <td>401 </td> <td>1372</td> <td>426 </td> <td>70  </td> <td>37  </td> <td>3   </td> <td>60  </td> <td>19  </td> <td>73  </td> <td>nan </td> <td>nan </td> <td>nan </td> <td>303 </td> <td>109 </td> <td>3.55</td> <td>22  </td> <td>1   </td> <td>3   </td> <td>828   </td> <td>367 </td> <td>2   </td> <td>42  </td> <td>23  </td> <td>225 </td> <td>nan </td> <td>0.838</td> <td>Boston Red Stockings   </td> <td>South End Grounds I              </td> <td>nan       </td> <td>103 </td> <td>98  </td> <td>BOS     </td> <td>BS1           </td> <td>BS1        </td>\n",
       "        </tr>\n",
       "    </tbody>\n",
       "        <tr>\n",
       "            <td>1871  </td> <td>nan </td> <td>CH1   </td> <td>CNA     </td> <td>nan  </td> <td>2   </td> <td>28  </td> <td>nan  </td> <td>19  </td> <td>9   </td> <td>nan   </td> <td>nan  </td> <td>N    </td> <td>nan  </td> <td>302 </td> <td>1196</td> <td>323 </td> <td>52  </td> <td>21  </td> <td>10  </td> <td>60  </td> <td>22  </td> <td>69  </td> <td>nan </td> <td>nan </td> <td>nan </td> <td>241 </td> <td>77  </td> <td>2.76</td> <td>25  </td> <td>0   </td> <td>1   </td> <td>753   </td> <td>308 </td> <td>6   </td> <td>28  </td> <td>22  </td> <td>218 </td> <td>nan </td> <td>0.829</td> <td>Chicago White Stockings</td> <td>Union Base-Ball Grounds          </td> <td>nan       </td> <td>104 </td> <td>102 </td> <td>CHI     </td> <td>CH1           </td> <td>CH1        </td>\n",
       "        </tr>\n",
       "    </tbody>\n",
       "        <tr>\n",
       "            <td>1871  </td> <td>nan </td> <td>CL1   </td> <td>CFC     </td> <td>nan  </td> <td>8   </td> <td>29  </td> <td>nan  </td> <td>10  </td> <td>19  </td> <td>nan   </td> <td>nan  </td> <td>N    </td> <td>nan  </td> <td>249 </td> <td>1186</td> <td>328 </td> <td>35  </td> <td>40  </td> <td>7   </td> <td>26  </td> <td>25  </td> <td>18  </td> <td>nan </td> <td>nan </td> <td>nan </td> <td>341 </td> <td>116 </td> <td>4.11</td> <td>23  </td> <td>0   </td> <td>0   </td> <td>762   </td> <td>346 </td> <td>13  </td> <td>53  </td> <td>34  </td> <td>223 </td> <td>nan </td> <td>0.814</td> <td>Cleveland Forest Citys </td> <td>National Association Grounds     </td> <td>nan       </td> <td>96  </td> <td>100 </td> <td>CLE     </td> <td>CL1           </td> <td>CL1        </td>\n",
       "        </tr>\n",
       "    </tbody>\n",
       "        <tr>\n",
       "            <td>1871  </td> <td>nan </td> <td>FW1   </td> <td>KEK     </td> <td>nan  </td> <td>7   </td> <td>19  </td> <td>nan  </td> <td>7   </td> <td>12  </td> <td>nan   </td> <td>nan  </td> <td>N    </td> <td>nan  </td> <td>137 </td> <td>746 </td> <td>178 </td> <td>19  </td> <td>8   </td> <td>2   </td> <td>33  </td> <td>9   </td> <td>16  </td> <td>nan </td> <td>nan </td> <td>nan </td> <td>243 </td> <td>97  </td> <td>5.17</td> <td>19  </td> <td>1   </td> <td>0   </td> <td>507   </td> <td>261 </td> <td>5   </td> <td>21  </td> <td>17  </td> <td>163 </td> <td>nan </td> <td>0.803</td> <td>Fort Wayne Kekiongas   </td> <td>Hamilton Field                   </td> <td>nan       </td> <td>101 </td> <td>107 </td> <td>KEK     </td> <td>FW1           </td> <td>FW1        </td>\n",
       "        </tr>\n",
       "    </tbody>\n",
       "        <tr>\n",
       "            <td>1871  </td> <td>nan </td> <td>NY2   </td> <td>NNA     </td> <td>nan  </td> <td>5   </td> <td>33  </td> <td>nan  </td> <td>16  </td> <td>17  </td> <td>nan   </td> <td>nan  </td> <td>N    </td> <td>nan  </td> <td>302 </td> <td>1404</td> <td>403 </td> <td>43  </td> <td>21  </td> <td>1   </td> <td>33  </td> <td>15  </td> <td>46  </td> <td>nan </td> <td>nan </td> <td>nan </td> <td>313 </td> <td>121 </td> <td>3.72</td> <td>32  </td> <td>1   </td> <td>0   </td> <td>879   </td> <td>373 </td> <td>7   </td> <td>42  </td> <td>22  </td> <td>227 </td> <td>nan </td> <td>0.839</td> <td>New York Mutuals       </td> <td>Union Grounds (Brooklyn)         </td> <td>nan       </td> <td>90  </td> <td>88  </td> <td>NYU     </td> <td>NY2           </td> <td>NY2        </td>\n",
       "        </tr>\n",
       "    </tbody>\n",
       "        <tr>\n",
       "            <td>1871  </td> <td>nan </td> <td>PH1   </td> <td>PNA     </td> <td>nan  </td> <td>1   </td> <td>28  </td> <td>nan  </td> <td>21  </td> <td>7   </td> <td>nan   </td> <td>nan  </td> <td>Y    </td> <td>nan  </td> <td>376 </td> <td>1281</td> <td>410 </td> <td>66  </td> <td>27  </td> <td>9   </td> <td>46  </td> <td>23  </td> <td>56  </td> <td>nan </td> <td>nan </td> <td>nan </td> <td>266 </td> <td>137 </td> <td>4.95</td> <td>27  </td> <td>0   </td> <td>0   </td> <td>747   </td> <td>329 </td> <td>3   </td> <td>53  </td> <td>16  </td> <td>194 </td> <td>nan </td> <td>0.845</td> <td>Philadelphia Athletics </td> <td>Jefferson Street Grounds         </td> <td>nan       </td> <td>102 </td> <td>98  </td> <td>ATH     </td> <td>PH1           </td> <td>PH1        </td>\n",
       "        </tr>\n",
       "    </tbody>\n",
       "        <tr>\n",
       "            <td>1871  </td> <td>nan </td> <td>RC1   </td> <td>ROK     </td> <td>nan  </td> <td>9   </td> <td>25  </td> <td>nan  </td> <td>4   </td> <td>21  </td> <td>nan   </td> <td>nan  </td> <td>N    </td> <td>nan  </td> <td>231 </td> <td>1036</td> <td>274 </td> <td>44  </td> <td>25  </td> <td>3   </td> <td>38  </td> <td>30  </td> <td>53  </td> <td>nan </td> <td>nan </td> <td>nan </td> <td>287 </td> <td>108 </td> <td>4.3 </td> <td>23  </td> <td>1   </td> <td>0   </td> <td>678   </td> <td>315 </td> <td>3   </td> <td>34  </td> <td>16  </td> <td>220 </td> <td>nan </td> <td>0.821</td> <td>Rockford Forest Citys  </td> <td>Agricultural Society Fair Grounds</td> <td>nan       </td> <td>97  </td> <td>99  </td> <td>ROK     </td> <td>RC1           </td> <td>RC1        </td>\n",
       "        </tr>\n",
       "    </tbody>\n",
       "        <tr>\n",
       "            <td>1871  </td> <td>nan </td> <td>TRO   </td> <td>TRO     </td> <td>nan  </td> <td>6   </td> <td>29  </td> <td>nan  </td> <td>13  </td> <td>15  </td> <td>nan   </td> <td>nan  </td> <td>N    </td> <td>nan  </td> <td>351 </td> <td>1248</td> <td>384 </td> <td>51  </td> <td>34  </td> <td>6   </td> <td>49  </td> <td>19  </td> <td>62  </td> <td>nan </td> <td>nan </td> <td>nan </td> <td>362 </td> <td>153 </td> <td>5.51</td> <td>28  </td> <td>0   </td> <td>0   </td> <td>750   </td> <td>431 </td> <td>4   </td> <td>75  </td> <td>12  </td> <td>198 </td> <td>nan </td> <td>0.845</td> <td>Troy Haymakers         </td> <td>Haymakers' Grounds               </td> <td>nan       </td> <td>101 </td> <td>100 </td> <td>TRO     </td> <td>TRO           </td> <td>TRO        </td>\n",
       "        </tr>\n",
       "    </tbody>\n",
       "        <tr>\n",
       "            <td>1871  </td> <td>nan </td> <td>WS3   </td> <td>OLY     </td> <td>nan  </td> <td>4   </td> <td>32  </td> <td>nan  </td> <td>15  </td> <td>15  </td> <td>nan   </td> <td>nan  </td> <td>N    </td> <td>nan  </td> <td>310 </td> <td>1353</td> <td>375 </td> <td>54  </td> <td>26  </td> <td>6   </td> <td>48  </td> <td>13  </td> <td>48  </td> <td>nan </td> <td>nan </td> <td>nan </td> <td>303 </td> <td>137 </td> <td>4.37</td> <td>32  </td> <td>0   </td> <td>0   </td> <td>846   </td> <td>371 </td> <td>4   </td> <td>45  </td> <td>13  </td> <td>217 </td> <td>nan </td> <td>0.85 </td> <td>Washington Olympics    </td> <td>Olympics Grounds                 </td> <td>nan       </td> <td>94  </td> <td>98  </td> <td>OLY     </td> <td>WS3           </td> <td>WS3        </td>\n",
       "        </tr>\n",
       "    </tbody>\n",
       "        <tr>\n",
       "            <td>1872  </td> <td>nan </td> <td>BL1   </td> <td>BLC     </td> <td>nan  </td> <td>2   </td> <td>58  </td> <td>nan  </td> <td>35  </td> <td>19  </td> <td>nan   </td> <td>nan  </td> <td>N    </td> <td>nan  </td> <td>617 </td> <td>2576</td> <td>747 </td> <td>94  </td> <td>35  </td> <td>14  </td> <td>27  </td> <td>28  </td> <td>35  </td> <td>15  </td> <td>nan </td> <td>nan </td> <td>434 </td> <td>173 </td> <td>3.02</td> <td>48  </td> <td>1   </td> <td>1   </td> <td>1545  </td> <td>566 </td> <td>3   </td> <td>63  </td> <td>0   </td> <td>432 </td> <td>nan </td> <td>0.829</td> <td>Baltimore Canaries     </td> <td>Newington Park                   </td> <td>nan       </td> <td>106 </td> <td>102 </td> <td>BAL     </td> <td>BL1           </td> <td>BL1        </td>\n",
       "        </tr>\n",
       "    </tbody>\n",
       "</table>\n",
       "<p>... (2825 rows omitted)</p"
      ],
      "text/plain": [
       "yearID | lgID | teamID | franchID | divID | Rank | G    | Ghome | W    | L    | DivWin | WCWin | LgWin | WSWin | R    | AB   | H    | 2B   | 3B   | HR   | BB   | SO   | SB   | CS   | HBP  | SF   | RA   | ER   | ERA  | CG   | SHO  | SV   | IPouts | HA   | HRA  | BBA  | SOA  | E    | DP   | FP    | name                    | park                              | attendance | BPF  | PPF  | teamIDBR | teamIDlahman45 | teamIDretro\n",
       "1871   | nan  | BS1    | BNA      | nan   | 3    | 31   | nan   | 20   | 10   | nan    | nan   | N     | nan   | 401  | 1372 | 426  | 70   | 37   | 3    | 60   | 19   | 73   | nan  | nan  | nan  | 303  | 109  | 3.55 | 22   | 1    | 3    | 828    | 367  | 2    | 42   | 23   | 225  | nan  | 0.838 | Boston Red Stockings    | South End Grounds I               | nan        | 103  | 98   | BOS      | BS1            | BS1\n",
       "1871   | nan  | CH1    | CNA      | nan   | 2    | 28   | nan   | 19   | 9    | nan    | nan   | N     | nan   | 302  | 1196 | 323  | 52   | 21   | 10   | 60   | 22   | 69   | nan  | nan  | nan  | 241  | 77   | 2.76 | 25   | 0    | 1    | 753    | 308  | 6    | 28   | 22   | 218  | nan  | 0.829 | Chicago White Stockings | Union Base-Ball Grounds           | nan        | 104  | 102  | CHI      | CH1            | CH1\n",
       "1871   | nan  | CL1    | CFC      | nan   | 8    | 29   | nan   | 10   | 19   | nan    | nan   | N     | nan   | 249  | 1186 | 328  | 35   | 40   | 7    | 26   | 25   | 18   | nan  | nan  | nan  | 341  | 116  | 4.11 | 23   | 0    | 0    | 762    | 346  | 13   | 53   | 34   | 223  | nan  | 0.814 | Cleveland Forest Citys  | National Association Grounds      | nan        | 96   | 100  | CLE      | CL1            | CL1\n",
       "1871   | nan  | FW1    | KEK      | nan   | 7    | 19   | nan   | 7    | 12   | nan    | nan   | N     | nan   | 137  | 746  | 178  | 19   | 8    | 2    | 33   | 9    | 16   | nan  | nan  | nan  | 243  | 97   | 5.17 | 19   | 1    | 0    | 507    | 261  | 5    | 21   | 17   | 163  | nan  | 0.803 | Fort Wayne Kekiongas    | Hamilton Field                    | nan        | 101  | 107  | KEK      | FW1            | FW1\n",
       "1871   | nan  | NY2    | NNA      | nan   | 5    | 33   | nan   | 16   | 17   | nan    | nan   | N     | nan   | 302  | 1404 | 403  | 43   | 21   | 1    | 33   | 15   | 46   | nan  | nan  | nan  | 313  | 121  | 3.72 | 32   | 1    | 0    | 879    | 373  | 7    | 42   | 22   | 227  | nan  | 0.839 | New York Mutuals        | Union Grounds (Brooklyn)          | nan        | 90   | 88   | NYU      | NY2            | NY2\n",
       "1871   | nan  | PH1    | PNA      | nan   | 1    | 28   | nan   | 21   | 7    | nan    | nan   | Y     | nan   | 376  | 1281 | 410  | 66   | 27   | 9    | 46   | 23   | 56   | nan  | nan  | nan  | 266  | 137  | 4.95 | 27   | 0    | 0    | 747    | 329  | 3    | 53   | 16   | 194  | nan  | 0.845 | Philadelphia Athletics  | Jefferson Street Grounds          | nan        | 102  | 98   | ATH      | PH1            | PH1\n",
       "1871   | nan  | RC1    | ROK      | nan   | 9    | 25   | nan   | 4    | 21   | nan    | nan   | N     | nan   | 231  | 1036 | 274  | 44   | 25   | 3    | 38   | 30   | 53   | nan  | nan  | nan  | 287  | 108  | 4.3  | 23   | 1    | 0    | 678    | 315  | 3    | 34   | 16   | 220  | nan  | 0.821 | Rockford Forest Citys   | Agricultural Society Fair Grounds | nan        | 97   | 99   | ROK      | RC1            | RC1\n",
       "1871   | nan  | TRO    | TRO      | nan   | 6    | 29   | nan   | 13   | 15   | nan    | nan   | N     | nan   | 351  | 1248 | 384  | 51   | 34   | 6    | 49   | 19   | 62   | nan  | nan  | nan  | 362  | 153  | 5.51 | 28   | 0    | 0    | 750    | 431  | 4    | 75   | 12   | 198  | nan  | 0.845 | Troy Haymakers          | Haymakers' Grounds                | nan        | 101  | 100  | TRO      | TRO            | TRO\n",
       "1871   | nan  | WS3    | OLY      | nan   | 4    | 32   | nan   | 15   | 15   | nan    | nan   | N     | nan   | 310  | 1353 | 375  | 54   | 26   | 6    | 48   | 13   | 48   | nan  | nan  | nan  | 303  | 137  | 4.37 | 32   | 0    | 0    | 846    | 371  | 4    | 45   | 13   | 217  | nan  | 0.85  | Washington Olympics     | Olympics Grounds                  | nan        | 94   | 98   | OLY      | WS3            | WS3\n",
       "1872   | nan  | BL1    | BLC      | nan   | 2    | 58   | nan   | 35   | 19   | nan    | nan   | N     | nan   | 617  | 2576 | 747  | 94   | 35   | 14   | 27   | 28   | 35   | 15   | nan  | nan  | 434  | 173  | 3.02 | 48   | 1    | 1    | 1545   | 566  | 3    | 63   | 0    | 432  | nan  | 0.829 | Baltimore Canaries      | Newington Park                    | nan        | 106  | 102  | BAL      | BL1            | BL1\n",
       "... (2825 rows omitted)"
      ]
     },
     "execution_count": 5,
     "metadata": {},
     "output_type": "execute_result"
    }
   ],
   "source": [
    "team_stats = Table().read_table('teams.csv')\n",
    "team_stats"
   ]
  },
  {
   "cell_type": "markdown",
   "metadata": {},
   "source": [
    "## Pythagorean Theorem\n",
    "\n",
    "In its most simple form, the Pythagorean theorem is used as a method of using two known pieces of information in order to gain a third. In mathematics, this applies to triangles. Meanwhile for baseball, we want to find a way to connect known pieces of data to determine an unknown data point, in our case the number of wins.\n",
    "\n",
    "Bill James was able to find such an equation which is now often regarded as the pythagorean theorem for baseball.\n",
    "\n",
    "<img src=\"https://latex.codecogs.com/gif.latex?Win&space;\\,&space;\\,&space;Percentage&space;=&space;\\frac{Runs&space;\\,&space;\\,Scored\\,^{2}}{Runs&space;\\,&space;\\,Scored\\,^{2}&plus;Runs&space;\\,&space;\\,Allowed&space;\\,^{2}}\" title=\"Win \\, \\, Percentage = \\frac{Runs \\, \\,Scored\\,^{2}}{Runs \\, \\,Scored\\,^{2}+Runs \\, \\,Allowed \\,^{2}}\" />\n",
    "\n",
    "This formula has several desirable properties.\n",
    "\n",
    "1. The predicted win percentage is always between 0 and 1.\n",
    "\n",
    "2. An increase in runs scored increases predicted win percentage.\n",
    "\n",
    "3. A decrease in runs allowed increases predicted win percentage."
   ]
  },
  {
   "cell_type": "markdown",
   "metadata": {
    "collapsed": true
   },
   "source": [
    "<b>Question 1:</b> The Cleveland Indians scored 872 runs and allowed 780 in their 2006 season. Calculate Their Predicted win percentage for the entirety of the 2006 season"
   ]
  },
  {
   "cell_type": "code",
   "execution_count": null,
   "metadata": {
    "collapsed": true
   },
   "outputs": [],
   "source": []
  },
  {
   "cell_type": "markdown",
   "metadata": {},
   "source": [
    "<b>Question 2:</b> The true winning percentage was 0.481. How does your answer compare? Do you think that the Pythagorean Theorem will generally produce an answer that is useful to statisticians?"
   ]
  },
  {
   "cell_type": "code",
   "execution_count": null,
   "metadata": {
    "collapsed": true
   },
   "outputs": [],
   "source": []
  },
  {
   "cell_type": "markdown",
   "metadata": {},
   "source": [
    "<b>Question 3:</b> Find the year in which the difference between the estimated win percentage and true win percentage is the smallest."
   ]
  },
  {
   "cell_type": "code",
   "execution_count": null,
   "metadata": {
    "collapsed": true
   },
   "outputs": [],
   "source": []
  },
  {
   "cell_type": "markdown",
   "metadata": {},
   "source": [
    "The real magic of the Pythagorean Theorem comes from the fact that not only can you measure the effectivenes of a team, but you can also measure the contributions of individual players.\n",
    "\n",
    "For instance, say you are considering how a trade may affect your team. It's easy to subtract away the runs scored and allowed by an individual player and replace that data with data for the player that is going to be traded. This would allow you to gain an estimate of how the addition or removal of a player will affect the overall season results for a baseball club."
   ]
  },
  {
   "cell_type": "markdown",
   "metadata": {},
   "source": [
    "## Runs Created\n",
    "\n",
    "Although the pythagorean theorem is extremely helpful to our ability to estimate the success of a whole team, comparing individual players without the context of their team becomes a bit more complex as all players have very different contributions to their teams.\n",
    "\n",
    "As a result, James created another formula, known as runs created.\n",
    "\n",
    "<img src=\"https://latex.codecogs.com/gif.latex?Runs&space;\\,&space;\\,&space;Created&space;=&space;\\frac{(Hits&plus;BBR&plus;HBP)X(TB)}{(AB&plus;BB&plus;HBP)}\" title=\"Runs \\, \\, Created = \\frac{(Hits+BBR+HBP)X(TB)}{(AB+BB+HBP)}\" />\n",
    "\n",
    "<b>Where:</b>\n",
    "\n",
    "Hits = number of hits\n",
    "\n",
    "BB = number of walks by balls (4 balls results in a walk)\n",
    "\n",
    "HBP = number of walks due to being hit by pitch\n",
    "\n",
    "TB = Total Bases where Total Bases = # of Singles + 2(# of Doubles) + 3(# of Triples) + 4(# of Home Runs)\n",
    "\n",
    "AB = Total At Bats\n"
   ]
  },
  {
   "cell_type": "markdown",
   "metadata": {
    "collapsed": true
   },
   "source": [
    "<b>Question 4:</b> Although this method is usually very accurate in determining the value of runs created, it isn't necessarily true that the values for an entire team will tell you anything or correspond in any way to a specific player. Why is this the case?"
   ]
  },
  {
   "cell_type": "code",
   "execution_count": null,
   "metadata": {
    "collapsed": true
   },
   "outputs": [],
   "source": []
  },
  {
   "cell_type": "markdown",
   "metadata": {},
   "source": [
    "<b>Question 5:</b> Calculate the value of Runs Created for Alex Rodriguez (NYA) of the New York Yankees in the 2007 and 2008 seasons. In which season was he a greater impact towards his organization?"
   ]
  },
  {
   "cell_type": "code",
   "execution_count": null,
   "metadata": {
    "collapsed": true
   },
   "outputs": [],
   "source": []
  },
  {
   "cell_type": "markdown",
   "metadata": {},
   "source": [
    "Answer:"
   ]
  },
  {
   "cell_type": "markdown",
   "metadata": {},
   "source": [
    "<b>Question 6:</b> Estimate the value of runs created for all players on the Minnesota Twins in 2005 and determine which player created the most runs for the Twins in the 2005 season\n",
    "\n",
    "**Hint: TB is not given to us in the MLB Data, try to add a column to the table that allows you to quickly calculate this data and then use another column to calculate Runs Created**"
   ]
  },
  {
   "cell_type": "code",
   "execution_count": null,
   "metadata": {
    "collapsed": true
   },
   "outputs": [],
   "source": []
  },
  {
   "cell_type": "markdown",
   "metadata": {},
   "source": [
    "## Linear Weights\n",
    "\n",
    "\"In business and science we often try to predict a given variable (called Y or the dependent variable) from a set of independent variables (x1, x2 , . . . xn). Usually we try to find weights B1, B2, . . . Bn and a constant that make the quantity \n",
    "\n",
    "<img src=\"https://latex.codecogs.com/gif.latex?Constant&space;&plus;&space;B_1X_1&space;&plus;B_2X_2&space;&plus;&space;...&space;&plus;&space;B_nX_n\" title=\"Constant + B_1X_1 +B_2X_2 + ... + B_nX_n\" />\n",
    "\n",
    "a good predictor for the dependent variable.Statisticians call the search for the weights and constant that best predict Y running a multiple linear regression. Sabermetricians (people who apply math to baseball) call the weights Linear Weights\" - Mathletics (Wayne L. Winston)\n",
    "\n",
    "In order to use linear weights, we must have values for individual events, so that those events can be weighed. For instance, if you are told that a car has 10 gallons of gas and asked how far the car can travel, you will be unable to solve the problem if you do not have any information on how far the car can go using one gallon of gas.\n",
    "\n",
    "Similarly, we then need to find a way to determine the values of an individual event in baseball to find its contribution to the overall data. In this case, we can use runs scored in a season as our independent variable and inputs such as 2B, 3B, HR, etc. as our dependent variables.\n",
    "\n",
    "You have recently discussed run states, which explain in great detail the expected value of runs at each and every position possible during a baseball game. This concept underscores that not all events in baseball are created equal. Beyond this, knowing run states allows for decision making in certain instances of the game, such as whether or not to bunt, or sacrifice a play in order to try to score.\n",
    "\n",
    "The concept of using linear weights generally applies regression to a set of data to extrapolate just how many runs can be attributed to an event. Tom Tango is perhaps best known for creating a system of linear weights to calculate the offensive effectiveness of a baseball team using his idea of Weighted on Base Averages (WoBA). The idea behind it is quite simple, compile all possible values that impact offensive efficiency into one metric, and use it as a comparison. Tango's equation is as follows:\n",
    "\n",
    "<img src=\"https://latex.codecogs.com/gif.latex?wOBA&space;=&space;\\frac{0.72*NIBB&space;&plus;&space;0.75*&space;HBP&space;&plus;&space;0.90*1B&space;&plus;0.92*RBOE&plus;1.24*2B&plus;1.56*3B&plus;1.95*HR}{PA}\" title=\"wOBA = \\frac{0.72*NIBB + 0.75* HBP + 0.90*1B +0.92*RBOE+1.24*2B+1.56*3B+1.95*HR}{PA}\" />\n",
    "\n",
    "**Where:**\n",
    "\n",
    "NIBB = Non-intentional bases on balls\n",
    "\n",
    "HBP = Hit by pitch\n",
    "\n",
    "1B = Single\n",
    "\n",
    "RBOE = Reached base on error\n",
    "\n",
    "2B = Double\n",
    "\n",
    "3B = Triple\n",
    "\n",
    "HR = Home run\n",
    "\n",
    "PA = Plate appearance"
   ]
  },
  {
   "cell_type": "markdown",
   "metadata": {
    "collapsed": true
   },
   "source": [
    "<b>Question 7: Run States</b> Using the woba_stats table, find how many data sets exist in which there was one player out and one player on first base, with no other players on base."
   ]
  },
  {
   "cell_type": "code",
   "execution_count": null,
   "metadata": {
    "collapsed": true
   },
   "outputs": [],
   "source": []
  },
  {
   "cell_type": "markdown",
   "metadata": {},
   "source": [
    "<b>Question 8: Run States</b> Now, find how many points were scored during those instances and divide this number by your answer in Question 7."
   ]
  },
  {
   "cell_type": "code",
   "execution_count": null,
   "metadata": {
    "collapsed": true
   },
   "outputs": [],
   "source": []
  },
  {
   "cell_type": "markdown",
   "metadata": {},
   "source": [
    "<b>Question 9: Run States</b> In words, what does the above number represent?"
   ]
  },
  {
   "cell_type": "markdown",
   "metadata": {},
   "source": []
  },
  {
   "cell_type": "markdown",
   "metadata": {},
   "source": [
    "<b>Question 10: </b> Calculate the wOBA for the player who had the most RBIs in the 2003 season."
   ]
  },
  {
   "cell_type": "code",
   "execution_count": null,
   "metadata": {
    "collapsed": true
   },
   "outputs": [],
   "source": []
  }
 ],
 "metadata": {
  "kernelspec": {
   "display_name": "Python 3",
   "language": "python",
   "name": "python3"
  },
  "language_info": {
   "codemirror_mode": {
    "name": "ipython",
    "version": 3
   },
   "file_extension": ".py",
   "mimetype": "text/x-python",
   "name": "python",
   "nbconvert_exporter": "python",
   "pygments_lexer": "ipython3",
   "version": "3.5.4"
  }
 },
 "nbformat": 4,
 "nbformat_minor": 2
}
