{
 "cells": [
  {
   "cell_type": "markdown",
   "metadata": {},
   "source": [
    "# [Sports Connector] Lecture 4 Lab"
   ]
  },
  {
   "cell_type": "markdown",
   "metadata": {},
   "source": [
    "# Due: [MM/DD/YY]\n",
    "This notebook focuses on problematic statics; in specific, we'll be discussing RBI opportunity and batting order, BABIP and future performance, and +/- and collinearity of measurements in order to highlight criticisms and common pitfalls in the use of these statistics."
   ]
  },
  {
   "cell_type": "markdown",
   "metadata": {},
   "source": [
    "# Topics Covered\n",
    "0 - Run Batted In and its Viability\n",
    "\n",
    "1 - Batting Average on Balls In Play\n",
    "\n",
    "2 - Collinearity and its Effect on Other Statistics"
   ]
  },
  {
   "cell_type": "code",
   "execution_count": 1,
   "metadata": {},
   "outputs": [],
   "source": [
    "# Import Statements\n",
    "from datascience import *\n",
    "import numpy as np\n",
    "import pandas as pd\n",
    "%matplotlib inline\n",
    "import matplotlib.pyplot as plt\n",
    "import seaborn as sns"
   ]
  },
  {
   "cell_type": "markdown",
   "metadata": {},
   "source": [
    "<img src=\"https://media.giphy.com/media/12klFVHIbCjCes/giphy.gif\" style=\"height:400px;\">"
   ]
  },
  {
   "cell_type": "markdown",
   "metadata": {},
   "source": [
    "## Section 1: Run Batted In (RBI)\n",
    "RBI is a baseball statistic that gives credit to the batter that makes a play that allows a run to be scored. RBI is one of the three categories that compose the triple crown, a well-known batting achievement. \n",
    "\n",
    "While RBI is often used as a statistic in measuring the quality of an individual batter, there has been criticism of the use of RBI in this manner; critics suggest that RBI is more representative of the quality of the <em>lineup</em> than the individual player, since in order for a run to be scored, one or more previous batters must have reached the base (excepting the case of a solo home run)."
   ]
  },
  {
   "cell_type": "markdown",
   "metadata": {},
   "source": [
    "**Question 1.1:** What does a small RBI mean for a pitcher and batter, respectively? What about a large RBI?"
   ]
  },
  {
   "cell_type": "markdown",
   "metadata": {},
   "source": [
    "[answer]"
   ]
  },
  {
   "cell_type": "markdown",
   "metadata": {},
   "source": [
    "Below is a graph that represents the relationship between RBI per 162 games and batting order position for hitters."
   ]
  },
  {
   "cell_type": "markdown",
   "metadata": {},
   "source": [
    "<img src=\"http://www.smartfantasybaseball.com/wp-content/uploads/2014/10/TOTAL_RBI.png\"></img>"
   ]
  },
  {
   "cell_type": "markdown",
   "metadata": {},
   "source": [
    "**Question 1.2:** Based upon the graph, describe the relationship between batting order position and RBI."
   ]
  },
  {
   "cell_type": "markdown",
   "metadata": {},
   "source": [
    "[answer]"
   ]
  },
  {
   "cell_type": "markdown",
   "metadata": {},
   "source": [
    "**Question 1.3:** Is it valid to look at the RBI statistic for an individual as an isolated quantitative measure of a player's quality? Why or why not?"
   ]
  },
  {
   "cell_type": "markdown",
   "metadata": {},
   "source": [
    "[answer]"
   ]
  },
  {
   "cell_type": "markdown",
   "metadata": {},
   "source": [
    "## Section 2: Batting Average on Balls In Play (BABIP)\n",
    "BABIP measures how many of the balls in play go for hits excluding homeruns. This statistic is used to discern fluke seasons, since a consistently high or low BABIP is hard to maintain, especially for pitchers. For pitchers with particularly high BABIPs, you would expect them to improve in the coming season, while for pitches with particularly low BABIps, you would expect their performance to eventually decline.\n",
    "\n",
    "To contextualize BABIP, a \"normal\" BABIP is determined to be approximately 0.300, though there exists variation. The formula for BABIP is as follows:\n",
    "\n",
    "$$BABIP={\\frac  {H-HR}{AB-K-HR+SF}}$$\n",
    "\n",
    "where H is hits, HR is home runs, AB is at bats, K is strikeouts, and SF is sacrifice flies."
   ]
  },
  {
   "cell_type": "markdown",
   "metadata": {},
   "source": [
    "**Question 2.1:** Why is it the case that for a fly ball hitter, his or her BABIP might be lower relative to any other hitter (i.e., line drives, ground balls)?"
   ]
  },
  {
   "cell_type": "markdown",
   "metadata": {},
   "source": [
    "[answer]"
   ]
  },
  {
   "cell_type": "markdown",
   "metadata": {},
   "source": [
    "**Question 2.2:** Based off the given formula, if we want a player to achieve a normal BABIP of 0.3, and our player currently has 2 home runs, 20 at bats, 10 strikeouts, and 2 sacrifice flies, approximately how many hits does our player need?"
   ]
  },
  {
   "cell_type": "code",
   "execution_count": 1,
   "metadata": {},
   "outputs": [],
   "source": [
    "#answer"
   ]
  },
  {
   "cell_type": "markdown",
   "metadata": {},
   "source": [
    "## Section 3: Collinearity\n",
    "In statistical analysis, the variance inflaction factor (VIF) indicates the degree of collinearity in a regression analysis, measuring how much the variance of an estimated regression coefficent increases due to collinearity.\n",
    "\n",
    "Let us first present a linear model.\n",
    "\n",
    "$$Y = β_0 + β_1 X_1 + β_2 X_2 + ... + β_k X_k + ε.$$\n",
    "\n",
    "The estimated variance of the estimate of β_j, can be equivalently expressed as:\n",
    "\n",
    "$${{\\rm {\\widehat {var}}}}({\\hat  {\\beta }}_{j})={\\frac  {s^{2}}{(n-1)\\widehat {{\\rm {var}}}(X_{j})}}\\cdot {\\frac  {1}{1-R_{j}^{2}}}$$\n",
    "\n",
    "- $s^2$: greater scatter in the data around the regression surface leads to proportionately more variance in the coefficient estimates\n",
    "- $n$: greater sample size results in proportionately less variance in the coefficient estimates\n",
    "- ${\\displaystyle {\\widehat {\\rm {var}}}(X_{j})}$: greater variability in a particular covariate leads to proportionately less variance in the corresponding coefficient estimate\n",
    "\n",
    "\n",
    "If we present an ordinary least square regression that has $X_i$ as a function of all the other explanatory variables in the first equation, for i = 1, the equation would be:\n",
    "\n",
    "$$X_{1}=\\alpha _{2}X_{2}+\\alpha _{3}X_{3}+\\cdots +\\alpha _{k}X_{k}+c_{0}+e$$\n",
    "\n",
    "where $c_0$ is a constant and e is the error term.\n",
    "\n",
    "Then we can also present the standard error model:\n",
    "\n",
    "$${\\displaystyle \\mathrm {VIF_{i}} ={\\frac {1}{1-R_{i}^{2}}}}$$\n",
    "\n",
    "where $R^2_i$ is the coefficient of determination of the regression equation in step one, with ${\\displaystyle X_{i}}$ on the left hand side, and all other predictor variables (all the other X variables) on the right hand side.\n",
    "\n",
    "Finally, we can now analyze the magnitude of collinearity by considering the size of the ${\\displaystyle \\operatorname {VIF} ({\\hat {\\beta }}_{i})}$.\n",
    "\n",
    "A rule of thumb is that if ${\\displaystyle \\operatorname {VIF} ({\\hat {\\beta }}_{i})>10}$ then collinearity is high.\n",
    "\n",
    "The square root of the variance inflation factor indicates how much larger the standard error is, compared with what it would be if that variable were uncorrelated with the other predictor variables in the model."
   ]
  },
  {
   "cell_type": "markdown",
   "metadata": {},
   "source": [
    "**Question 3.1:** If the variance inflation factor of a predictor variable were 5.27, how many times larger is the standard error for the coefficient of that predictor variable as it would be if that predictor variable were uncorrelated with the other predictor variables?"
   ]
  },
  {
   "cell_type": "markdown",
   "metadata": {},
   "source": [
    "[answer: 2.3, the square route of 5.27]"
   ]
  },
  {
   "cell_type": "markdown",
   "metadata": {},
   "source": [
    "**Question 3.2:** What is the relationship between VIF and collinearity, and what factors affect both of these quantities?"
   ]
  },
  {
   "cell_type": "markdown",
   "metadata": {},
   "source": [
    "[answer]"
   ]
  },
  {
   "cell_type": "markdown",
   "metadata": {},
   "source": [
    "### Plus-Minus\n",
    "Plus-minus is another sports statistic that quantifies how an individual player impacts a game  represented by the difference between their team's total scoring versus their opponent's when the player is in the game. For example, in ice hockey, plus-minus measures the goal differential of a player.\n",
    "\n",
    "This statistic is measured for each game a player plays. Because of the concept of collinearity discussed above, plus-minus as a statistic raises some concerns over whether regression will succeed or fail."
   ]
  },
  {
   "cell_type": "markdown",
   "metadata": {},
   "source": [
    "**Question 3.3:** Is plus-minus as an isolated statistic a good representation of a player's contributions? Explain."
   ]
  },
  {
   "cell_type": "markdown",
   "metadata": {},
   "source": [
    "[answer]"
   ]
  },
  {
   "cell_type": "markdown",
   "metadata": {},
   "source": [
    "**Question 3.4:** What other factors affect an individual's plus-minus for a game besides his or her personal performance?"
   ]
  },
  {
   "cell_type": "markdown",
   "metadata": {},
   "source": [
    "[answer]"
   ]
  },
  {
   "cell_type": "code",
   "execution_count": null,
   "metadata": {},
   "outputs": [],
   "source": []
  }
 ],
 "metadata": {
  "kernelspec": {
   "display_name": "Python 3",
   "language": "python",
   "name": "python3"
  },
  "language_info": {
   "codemirror_mode": {
    "name": "ipython",
    "version": 3
   },
   "file_extension": ".py",
   "mimetype": "text/x-python",
   "name": "python",
   "nbconvert_exporter": "python",
   "pygments_lexer": "ipython3",
   "version": "3.6.1"
  }
 },
 "nbformat": 4,
 "nbformat_minor": 2
}
