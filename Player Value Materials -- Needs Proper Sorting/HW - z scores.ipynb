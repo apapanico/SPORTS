{
 "cells": [
  {
   "cell_type": "code",
   "execution_count": 34,
   "metadata": {
    "collapsed": true
   },
   "outputs": [],
   "source": [
    "from datascience import *\n",
    "import numpy as np\n",
    "import pandas as pd\n",
    "%matplotlib inline\n",
    "import matplotlib.pyplot as plt\n",
    "import seaborn as sns"
   ]
  },
  {
   "cell_type": "code",
   "execution_count": 35,
   "metadata": {},
   "outputs": [],
   "source": [
    "data = Table.read_table('football.csv')"
   ]
  },
  {
   "cell_type": "markdown",
   "metadata": {},
   "source": [
    "This data is a scoring summary of the 2017 NFL season. Take a look. Do you think you can tell which player on this list had the best scoring perfomance this season?"
   ]
  },
  {
   "cell_type": "code",
   "execution_count": 36,
   "metadata": {},
   "outputs": [
    {
     "data": {
      "text/html": [
       "<table border=\"1\" class=\"dataframe\">\n",
       "    <thead>\n",
       "        <tr>\n",
       "            <th>Rk</th> <th>Unnamed: 1</th> <th>Tm</th> <th>Age</th> <th>Pos</th> <th>G</th> <th>GS</th> <th>RshTD</th> <th>RecTD</th> <th>PR TD</th> <th>KR TD</th> <th>FblTD</th> <th>IntTD</th> <th>OthTD</th> <th>AllTD</th> <th>2PM</th> <th>2PA</th> <th>XPM</th> <th>XPA</th> <th>FGM</th> <th>FGA</th> <th>Sfty</th> <th>Pts</th> <th>Pts/G</th>\n",
       "        </tr>\n",
       "    </thead>\n",
       "    <tbody>\n",
       "        <tr>\n",
       "            <td>1   </td> <td>Greg Zuerlein\\ZuerGr00     </td> <td>LAR </td> <td>30  </td> <td>K   </td> <td>7   </td> <td>0   </td> <td>nan  </td> <td>nan  </td> <td>nan  </td> <td>nan  </td> <td>nan  </td> <td>nan  </td> <td>nan  </td> <td>nan  </td> <td>nan </td> <td>nan </td> <td>21  </td> <td>21  </td> <td>21  </td> <td>22  </td> <td>nan </td> <td>84  </td> <td>12   </td>\n",
       "        </tr>\n",
       "    </tbody>\n",
       "        <tr>\n",
       "            <td>2   </td> <td>Stephen Gostkowski\\GostSt20</td> <td>NWE </td> <td>33  </td> <td>K   </td> <td>8   </td> <td>0   </td> <td>nan  </td> <td>nan  </td> <td>nan  </td> <td>nan  </td> <td>nan  </td> <td>nan  </td> <td>nan  </td> <td>nan  </td> <td>nan </td> <td>nan </td> <td>20  </td> <td>21  </td> <td>20  </td> <td>23  </td> <td>nan </td> <td>80  </td> <td>10   </td>\n",
       "        </tr>\n",
       "    </tbody>\n",
       "        <tr>\n",
       "            <td>3   </td> <td>Kai Forbath\\ForbKa00       </td> <td>MIN </td> <td>30  </td> <td>K   </td> <td>8   </td> <td>0   </td> <td>nan  </td> <td>nan  </td> <td>nan  </td> <td>nan  </td> <td>nan  </td> <td>nan  </td> <td>nan  </td> <td>nan  </td> <td>nan </td> <td>nan </td> <td>12  </td> <td>16  </td> <td>21  </td> <td>22  </td> <td>nan </td> <td>75  </td> <td>9.4  </td>\n",
       "        </tr>\n",
       "    </tbody>\n",
       "        <tr>\n",
       "            <td>4   </td> <td>Ryan Succop\\SuccRy44       </td> <td>TEN </td> <td>31  </td> <td>K   </td> <td>7   </td> <td>0   </td> <td>nan  </td> <td>nan  </td> <td>nan  </td> <td>nan  </td> <td>nan  </td> <td>nan  </td> <td>nan  </td> <td>nan  </td> <td>nan </td> <td>nan </td> <td>14  </td> <td>14  </td> <td>20  </td> <td>22  </td> <td>nan </td> <td>74  </td> <td>10.6 </td>\n",
       "        </tr>\n",
       "    </tbody>\n",
       "        <tr>\n",
       "            <td>5   </td> <td>Chris Boswell\\BoswCh00     </td> <td>PIT </td> <td>26  </td> <td>K   </td> <td>8   </td> <td>0   </td> <td>nan  </td> <td>nan  </td> <td>nan  </td> <td>nan  </td> <td>nan  </td> <td>nan  </td> <td>nan  </td> <td>nan  </td> <td>nan </td> <td>nan </td> <td>15  </td> <td>15  </td> <td>18  </td> <td>20  </td> <td>nan </td> <td>69  </td> <td>8.6  </td>\n",
       "        </tr>\n",
       "    </tbody>\n",
       "        <tr>\n",
       "            <td>6   </td> <td>Jake Elliott\\ElliJa03      </td> <td>PHI </td> <td>22  </td> <td>K   </td> <td>7   </td> <td>0   </td> <td>nan  </td> <td>nan  </td> <td>nan  </td> <td>nan  </td> <td>nan  </td> <td>nan  </td> <td>nan  </td> <td>nan  </td> <td>nan </td> <td>nan </td> <td>18  </td> <td>20  </td> <td>16  </td> <td>19  </td> <td>nan </td> <td>66  </td> <td>9.4  </td>\n",
       "        </tr>\n",
       "    </tbody>\n",
       "        <tr>\n",
       "            <td>7   </td> <td>Harrison Butker\\ButkHa00   </td> <td>KAN </td> <td>nan </td> <td>K   </td> <td>5   </td> <td>0   </td> <td>nan  </td> <td>nan  </td> <td>nan  </td> <td>nan  </td> <td>nan  </td> <td>nan  </td> <td>nan  </td> <td>nan  </td> <td>nan </td> <td>nan </td> <td>11  </td> <td>11  </td> <td>18  </td> <td>19  </td> <td>nan </td> <td>65  </td> <td>13   </td>\n",
       "        </tr>\n",
       "    </tbody>\n",
       "        <tr>\n",
       "            <td>8   </td> <td>Wil Lutz\\LutzWi00          </td> <td>NOR </td> <td>23  </td> <td>K   </td> <td>7   </td> <td>0   </td> <td>nan  </td> <td>nan  </td> <td>nan  </td> <td>nan  </td> <td>nan  </td> <td>nan  </td> <td>nan  </td> <td>nan  </td> <td>nan </td> <td>nan </td> <td>20  </td> <td>21  </td> <td>15  </td> <td>18  </td> <td>nan </td> <td>65  </td> <td>9.3  </td>\n",
       "        </tr>\n",
       "    </tbody>\n",
       "        <tr>\n",
       "            <td>9   </td> <td>Graham Gano\\GanoGr44       </td> <td>CAR </td> <td>30  </td> <td>K   </td> <td>8   </td> <td>0   </td> <td>nan  </td> <td>nan  </td> <td>nan  </td> <td>nan  </td> <td>nan  </td> <td>nan  </td> <td>nan  </td> <td>nan  </td> <td>nan </td> <td>nan </td> <td>13  </td> <td>14  </td> <td>17  </td> <td>18  </td> <td>nan </td> <td>64  </td> <td>8    </td>\n",
       "        </tr>\n",
       "    </tbody>\n",
       "        <tr>\n",
       "            <td>10  </td> <td>Steven Hauschka\\HausSt00   </td> <td>BUF </td> <td>32  </td> <td>K   </td> <td>7   </td> <td>0   </td> <td>nan  </td> <td>nan  </td> <td>nan  </td> <td>nan  </td> <td>nan  </td> <td>nan  </td> <td>nan  </td> <td>nan  </td> <td>nan </td> <td>nan </td> <td>15  </td> <td>15  </td> <td>16  </td> <td>18  </td> <td>nan </td> <td>63  </td> <td>9    </td>\n",
       "        </tr>\n",
       "    </tbody>\n",
       "</table>\n",
       "<p>... (323 rows omitted)</p"
      ],
      "text/plain": [
       "Rk   | Unnamed: 1                  | Tm   | Age  | Pos  | G    | GS   | RshTD | RecTD | PR TD | KR TD | FblTD | IntTD | OthTD | AllTD | 2PM  | 2PA  | XPM  | XPA  | FGM  | FGA  | Sfty | Pts  | Pts/G\n",
       "1    | Greg Zuerlein\\ZuerGr00      | LAR  | 30   | K    | 7    | 0    | nan   | nan   | nan   | nan   | nan   | nan   | nan   | nan   | nan  | nan  | 21   | 21   | 21   | 22   | nan  | 84   | 12\n",
       "2    | Stephen Gostkowski\\GostSt20 | NWE  | 33   | K    | 8    | 0    | nan   | nan   | nan   | nan   | nan   | nan   | nan   | nan   | nan  | nan  | 20   | 21   | 20   | 23   | nan  | 80   | 10\n",
       "3    | Kai Forbath\\ForbKa00        | MIN  | 30   | K    | 8    | 0    | nan   | nan   | nan   | nan   | nan   | nan   | nan   | nan   | nan  | nan  | 12   | 16   | 21   | 22   | nan  | 75   | 9.4\n",
       "4    | Ryan Succop\\SuccRy44        | TEN  | 31   | K    | 7    | 0    | nan   | nan   | nan   | nan   | nan   | nan   | nan   | nan   | nan  | nan  | 14   | 14   | 20   | 22   | nan  | 74   | 10.6\n",
       "5    | Chris Boswell\\BoswCh00      | PIT  | 26   | K    | 8    | 0    | nan   | nan   | nan   | nan   | nan   | nan   | nan   | nan   | nan  | nan  | 15   | 15   | 18   | 20   | nan  | 69   | 8.6\n",
       "6    | Jake Elliott\\ElliJa03       | PHI  | 22   | K    | 7    | 0    | nan   | nan   | nan   | nan   | nan   | nan   | nan   | nan   | nan  | nan  | 18   | 20   | 16   | 19   | nan  | 66   | 9.4\n",
       "7    | Harrison Butker\\ButkHa00    | KAN  | nan  | K    | 5    | 0    | nan   | nan   | nan   | nan   | nan   | nan   | nan   | nan   | nan  | nan  | 11   | 11   | 18   | 19   | nan  | 65   | 13\n",
       "8    | Wil Lutz\\LutzWi00           | NOR  | 23   | K    | 7    | 0    | nan   | nan   | nan   | nan   | nan   | nan   | nan   | nan   | nan  | nan  | 20   | 21   | 15   | 18   | nan  | 65   | 9.3\n",
       "9    | Graham Gano\\GanoGr44        | CAR  | 30   | K    | 8    | 0    | nan   | nan   | nan   | nan   | nan   | nan   | nan   | nan   | nan  | nan  | 13   | 14   | 17   | 18   | nan  | 64   | 8\n",
       "10   | Steven Hauschka\\HausSt00    | BUF  | 32   | K    | 7    | 0    | nan   | nan   | nan   | nan   | nan   | nan   | nan   | nan   | nan  | nan  | 15   | 15   | 16   | 18   | nan  | 63   | 9\n",
       "... (323 rows omitted)"
      ]
     },
     "execution_count": 36,
     "metadata": {},
     "output_type": "execute_result"
    }
   ],
   "source": [
    "data"
   ]
  },
  {
   "cell_type": "markdown",
   "metadata": {},
   "source": [
    "You may want to look at who scored the most Points per game. Sort the table by Pts/G."
   ]
  },
  {
   "cell_type": "markdown",
   "metadata": {},
   "source": [
    "Do you notice anything peculiar about the data? Almost all the highest scorers are kickers (They have 'Pos' k).\n",
    "\n",
    "In football, different positions contribute to the team in different ways. For example, players who play defensive positions, such as cornerbacks, score significantly less than players on offensive roles, like running backs. \n",
    "\n",
    "Comparing different positions against each other won't give you much insight into what players are scoring am impressive amount for their role. What would be more accurate is comparing how well a player is doing compared to their positions average, against the same for all other roles.\n",
    "\n",
    "**Example**\n",
    "\n",
    "Consider the following scenario:\n",
    "\n",
    "    Player A is a kicker scoring 10 Pts/G. \n",
    "    Player B is a quarterback scoring 10 Pts/G.\n",
    "\n",
    "    The average kicker scores 10 Pts/G with standard deviation 1, while the the average quarterback scores 8 Pts/G, with standard deviation 1.\n",
    "\n",
    "    Which player is putting on a better scoring performance?\n",
    "    "
   ]
  },
  {
   "cell_type": "markdown",
   "metadata": {},
   "source": [
    "**Answer**\n",
    "\n",
    "    One way to answer this question is to compute a z-score for each player, grouped by position. A z-score is a measure of how many standard deviations a data point is away from its mean. The formula for a z-score is:"
   ]
  },
  {
   "cell_type": "markdown",
   "metadata": {},
   "source": [
    "$$ z = \\frac{x - \\mu}{\\sigma} $$"
   ]
  },
  {
   "cell_type": "markdown",
   "metadata": {},
   "source": [
    "    Player A:\n",
    "$$ z = \\frac{10 - 10}{1} = 0 $$\n",
    "\n",
    "    Player B:\n",
    "$$ z = \\frac{10 - 8}{1} = 2 $$"
   ]
  },
  {
   "cell_type": "markdown",
   "metadata": {},
   "source": [
    "This means player B scored 2 standard deviations above the average for his position, while player A scored 0 standard deviations above the average for his position. Therefore, Player B was the better scorer."
   ]
  },
  {
   "cell_type": "markdown",
   "metadata": {},
   "source": [
    "# Assignment"
   ]
  },
  {
   "cell_type": "markdown",
   "metadata": {},
   "source": [
    "Using the previous dataset, create a 'z-score' column that assigns each player a z-score for their Pts/G, using the mean and standard deviation of their position.\n",
    "\n",
    "Note: Consider 'nan' to be a position just like any other. "
   ]
  }
 ],
 "metadata": {
  "kernelspec": {
   "display_name": "Python 3",
   "language": "python",
   "name": "python3"
  },
  "language_info": {
   "codemirror_mode": {
    "name": "ipython",
    "version": 3
   },
   "file_extension": ".py",
   "mimetype": "text/x-python",
   "name": "python",
   "nbconvert_exporter": "python",
   "pygments_lexer": "ipython3",
   "version": "3.6.1"
  }
 },
 "nbformat": 4,
 "nbformat_minor": 2
}
