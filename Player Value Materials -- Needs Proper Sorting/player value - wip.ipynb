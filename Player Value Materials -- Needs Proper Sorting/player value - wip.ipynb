{
 "cells": [
  {
   "cell_type": "markdown",
   "metadata": {},
   "source": [
    "# Player Rankings\n",
    "In this notebook you will explore some player ranking metrics and anaylze what makes them good or bad. By the end of the notebook you will understand some the challenges on rankings players based accessible data, and develop your own metric ranking metric!"
   ]
  },
  {
   "cell_type": "code",
   "execution_count": 1,
   "metadata": {
    "collapsed": true
   },
   "outputs": [],
   "source": [
    "#Some Import Mumbo-Jumbo\n",
    "from datascience import *\n",
    "import numpy as np\n",
    "import pandas as pd\n",
    "%matplotlib inline\n",
    "import matplotlib.pyplot as plt\n",
    "import seaborn as sns"
   ]
  },
  {
   "cell_type": "code",
   "execution_count": 2,
   "metadata": {
    "collapsed": true
   },
   "outputs": [],
   "source": [
    "player_stats = Table().read_table('NBAPlayerStats2017.csv')\n",
    "player_stats = player_stats.where('FGA', are.above(100))"
   ]
  },
  {
   "cell_type": "markdown",
   "metadata": {},
   "source": [
    "## Take a look at the data."
   ]
  },
  {
   "cell_type": "code",
   "execution_count": 3,
   "metadata": {},
   "outputs": [
    {
     "data": {
      "text/html": [
       "<table border=\"1\" class=\"dataframe\">\n",
       "    <thead>\n",
       "        <tr>\n",
       "            <th>Rk</th> <th>Player</th> <th>Pos</th> <th>Age</th> <th>Tm</th> <th>G</th> <th>GS</th> <th>MP</th> <th>FG</th> <th>FGA</th> <th>FG%</th> <th>3P</th> <th>3PA</th> <th>3P%</th> <th>2P</th> <th>2PA</th> <th>2P%</th> <th>eFG%</th> <th>FT</th> <th>FTA</th> <th>FT%</th> <th>ORB</th> <th>DRB</th> <th>TRB</th> <th>AST</th> <th>STL</th> <th>BLK</th> <th>TOV</th> <th>PF</th> <th>PTS</th>\n",
       "        </tr>\n",
       "    </thead>\n",
       "    <tbody>\n",
       "        <tr>\n",
       "            <td>1   </td> <td>Alex Abrines\\abrinal01     </td> <td>SG  </td> <td>23  </td> <td>OKC </td> <td>68  </td> <td>6   </td> <td>1055</td> <td>134 </td> <td>341 </td> <td>0.393</td> <td>94  </td> <td>247 </td> <td>0.381</td> <td>40  </td> <td>94  </td> <td>0.426</td> <td>0.531</td> <td>44  </td> <td>49  </td> <td>0.898</td> <td>18  </td> <td>68  </td> <td>86  </td> <td>40  </td> <td>37  </td> <td>8   </td> <td>33  </td> <td>114 </td> <td>406 </td>\n",
       "        </tr>\n",
       "    </tbody>\n",
       "        <tr>\n",
       "            <td>2   </td> <td>Quincy Acy\\acyqu01         </td> <td>PF  </td> <td>26  </td> <td>TOT </td> <td>38  </td> <td>1   </td> <td>558 </td> <td>70  </td> <td>170 </td> <td>0.412</td> <td>37  </td> <td>90  </td> <td>0.411</td> <td>33  </td> <td>80  </td> <td>0.413</td> <td>0.521</td> <td>45  </td> <td>60  </td> <td>0.75 </td> <td>20  </td> <td>95  </td> <td>115 </td> <td>18  </td> <td>14  </td> <td>15  </td> <td>21  </td> <td>67  </td> <td>222 </td>\n",
       "        </tr>\n",
       "    </tbody>\n",
       "        <tr>\n",
       "            <td>2   </td> <td>Quincy Acy\\acyqu01         </td> <td>PF  </td> <td>26  </td> <td>BRK </td> <td>32  </td> <td>1   </td> <td>510 </td> <td>65  </td> <td>153 </td> <td>0.425</td> <td>36  </td> <td>83  </td> <td>0.434</td> <td>29  </td> <td>70  </td> <td>0.414</td> <td>0.542</td> <td>43  </td> <td>57  </td> <td>0.754</td> <td>18  </td> <td>89  </td> <td>107 </td> <td>18  </td> <td>14  </td> <td>15  </td> <td>19  </td> <td>58  </td> <td>209 </td>\n",
       "        </tr>\n",
       "    </tbody>\n",
       "        <tr>\n",
       "            <td>3   </td> <td>Steven Adams\\adamsst01     </td> <td>C   </td> <td>23  </td> <td>OKC </td> <td>80  </td> <td>80  </td> <td>2389</td> <td>374 </td> <td>655 </td> <td>0.571</td> <td>0   </td> <td>1   </td> <td>0    </td> <td>374 </td> <td>654 </td> <td>0.572</td> <td>0.571</td> <td>157 </td> <td>257 </td> <td>0.611</td> <td>281 </td> <td>332 </td> <td>613 </td> <td>86  </td> <td>89  </td> <td>78  </td> <td>146 </td> <td>195 </td> <td>905 </td>\n",
       "        </tr>\n",
       "    </tbody>\n",
       "        <tr>\n",
       "            <td>4   </td> <td>Arron Afflalo\\afflaar01    </td> <td>SG  </td> <td>31  </td> <td>SAC </td> <td>61  </td> <td>45  </td> <td>1580</td> <td>185 </td> <td>420 </td> <td>0.44 </td> <td>62  </td> <td>151 </td> <td>0.411</td> <td>123 </td> <td>269 </td> <td>0.457</td> <td>0.514</td> <td>83  </td> <td>93  </td> <td>0.892</td> <td>9   </td> <td>116 </td> <td>125 </td> <td>78  </td> <td>21  </td> <td>6   </td> <td>42  </td> <td>104 </td> <td>515 </td>\n",
       "        </tr>\n",
       "    </tbody>\n",
       "        <tr>\n",
       "            <td>5   </td> <td>Alexis Ajinca\\ajincal01    </td> <td>C   </td> <td>28  </td> <td>NOP </td> <td>39  </td> <td>15  </td> <td>584 </td> <td>89  </td> <td>178 </td> <td>0.5  </td> <td>0   </td> <td>4   </td> <td>0    </td> <td>89  </td> <td>174 </td> <td>0.511</td> <td>0.5  </td> <td>29  </td> <td>40  </td> <td>0.725</td> <td>46  </td> <td>131 </td> <td>177 </td> <td>12  </td> <td>20  </td> <td>22  </td> <td>31  </td> <td>77  </td> <td>207 </td>\n",
       "        </tr>\n",
       "    </tbody>\n",
       "        <tr>\n",
       "            <td>7   </td> <td>LaMarcus Aldridge\\aldrila01</td> <td>PF  </td> <td>31  </td> <td>SAS </td> <td>72  </td> <td>72  </td> <td>2335</td> <td>500 </td> <td>1049</td> <td>0.477</td> <td>23  </td> <td>56  </td> <td>0.411</td> <td>477 </td> <td>993 </td> <td>0.48 </td> <td>0.488</td> <td>220 </td> <td>271 </td> <td>0.812</td> <td>172 </td> <td>351 </td> <td>523 </td> <td>139 </td> <td>46  </td> <td>88  </td> <td>98  </td> <td>158 </td> <td>1243</td>\n",
       "        </tr>\n",
       "    </tbody>\n",
       "        <tr>\n",
       "            <td>8   </td> <td>Lavoy Allen\\allenla01      </td> <td>PF  </td> <td>27  </td> <td>IND </td> <td>61  </td> <td>5   </td> <td>871 </td> <td>77  </td> <td>168 </td> <td>0.458</td> <td>0   </td> <td>1   </td> <td>0    </td> <td>77  </td> <td>167 </td> <td>0.461</td> <td>0.458</td> <td>23  </td> <td>33  </td> <td>0.697</td> <td>105 </td> <td>114 </td> <td>219 </td> <td>57  </td> <td>18  </td> <td>24  </td> <td>29  </td> <td>78  </td> <td>177 </td>\n",
       "        </tr>\n",
       "    </tbody>\n",
       "        <tr>\n",
       "            <td>9   </td> <td>Tony Allen\\allento01       </td> <td>SG  </td> <td>35  </td> <td>MEM </td> <td>71  </td> <td>66  </td> <td>1914</td> <td>274 </td> <td>595 </td> <td>0.461</td> <td>15  </td> <td>54  </td> <td>0.278</td> <td>259 </td> <td>541 </td> <td>0.479</td> <td>0.473</td> <td>80  </td> <td>130 </td> <td>0.615</td> <td>166 </td> <td>225 </td> <td>391 </td> <td>98  </td> <td>115 </td> <td>29  </td> <td>100 </td> <td>178 </td> <td>643 </td>\n",
       "        </tr>\n",
       "    </tbody>\n",
       "        <tr>\n",
       "            <td>10  </td> <td>Al-Farouq Aminu\\aminual01  </td> <td>SF  </td> <td>26  </td> <td>POR </td> <td>61  </td> <td>25  </td> <td>1773</td> <td>183 </td> <td>466 </td> <td>0.393</td> <td>70  </td> <td>212 </td> <td>0.33 </td> <td>113 </td> <td>254 </td> <td>0.445</td> <td>0.468</td> <td>96  </td> <td>136 </td> <td>0.706</td> <td>77  </td> <td>374 </td> <td>451 </td> <td>99  </td> <td>60  </td> <td>44  </td> <td>94  </td> <td>102 </td> <td>532 </td>\n",
       "        </tr>\n",
       "    </tbody>\n",
       "</table>\n",
       "<p>... (428 rows omitted)</p"
      ],
      "text/plain": [
       "Rk   | Player                      | Pos  | Age  | Tm   | G    | GS   | MP   | FG   | FGA  | FG%   | 3P   | 3PA  | 3P%   | 2P   | 2PA  | 2P%   | eFG%  | FT   | FTA  | FT%   | ORB  | DRB  | TRB  | AST  | STL  | BLK  | TOV  | PF   | PTS\n",
       "1    | Alex Abrines\\abrinal01      | SG   | 23   | OKC  | 68   | 6    | 1055 | 134  | 341  | 0.393 | 94   | 247  | 0.381 | 40   | 94   | 0.426 | 0.531 | 44   | 49   | 0.898 | 18   | 68   | 86   | 40   | 37   | 8    | 33   | 114  | 406\n",
       "2    | Quincy Acy\\acyqu01          | PF   | 26   | TOT  | 38   | 1    | 558  | 70   | 170  | 0.412 | 37   | 90   | 0.411 | 33   | 80   | 0.413 | 0.521 | 45   | 60   | 0.75  | 20   | 95   | 115  | 18   | 14   | 15   | 21   | 67   | 222\n",
       "2    | Quincy Acy\\acyqu01          | PF   | 26   | BRK  | 32   | 1    | 510  | 65   | 153  | 0.425 | 36   | 83   | 0.434 | 29   | 70   | 0.414 | 0.542 | 43   | 57   | 0.754 | 18   | 89   | 107  | 18   | 14   | 15   | 19   | 58   | 209\n",
       "3    | Steven Adams\\adamsst01      | C    | 23   | OKC  | 80   | 80   | 2389 | 374  | 655  | 0.571 | 0    | 1    | 0     | 374  | 654  | 0.572 | 0.571 | 157  | 257  | 0.611 | 281  | 332  | 613  | 86   | 89   | 78   | 146  | 195  | 905\n",
       "4    | Arron Afflalo\\afflaar01     | SG   | 31   | SAC  | 61   | 45   | 1580 | 185  | 420  | 0.44  | 62   | 151  | 0.411 | 123  | 269  | 0.457 | 0.514 | 83   | 93   | 0.892 | 9    | 116  | 125  | 78   | 21   | 6    | 42   | 104  | 515\n",
       "5    | Alexis Ajinca\\ajincal01     | C    | 28   | NOP  | 39   | 15   | 584  | 89   | 178  | 0.5   | 0    | 4    | 0     | 89   | 174  | 0.511 | 0.5   | 29   | 40   | 0.725 | 46   | 131  | 177  | 12   | 20   | 22   | 31   | 77   | 207\n",
       "7    | LaMarcus Aldridge\\aldrila01 | PF   | 31   | SAS  | 72   | 72   | 2335 | 500  | 1049 | 0.477 | 23   | 56   | 0.411 | 477  | 993  | 0.48  | 0.488 | 220  | 271  | 0.812 | 172  | 351  | 523  | 139  | 46   | 88   | 98   | 158  | 1243\n",
       "8    | Lavoy Allen\\allenla01       | PF   | 27   | IND  | 61   | 5    | 871  | 77   | 168  | 0.458 | 0    | 1    | 0     | 77   | 167  | 0.461 | 0.458 | 23   | 33   | 0.697 | 105  | 114  | 219  | 57   | 18   | 24   | 29   | 78   | 177\n",
       "9    | Tony Allen\\allento01        | SG   | 35   | MEM  | 71   | 66   | 1914 | 274  | 595  | 0.461 | 15   | 54   | 0.278 | 259  | 541  | 0.479 | 0.473 | 80   | 130  | 0.615 | 166  | 225  | 391  | 98   | 115  | 29   | 100  | 178  | 643\n",
       "10   | Al-Farouq Aminu\\aminual01   | SF   | 26   | POR  | 61   | 25   | 1773 | 183  | 466  | 0.393 | 70   | 212  | 0.33  | 113  | 254  | 0.445 | 0.468 | 96   | 136  | 0.706 | 77   | 374  | 451  | 99   | 60   | 44   | 94   | 102  | 532\n",
       "... (428 rows omitted)"
      ]
     },
     "execution_count": 3,
     "metadata": {},
     "output_type": "execute_result"
    }
   ],
   "source": [
    "player_stats"
   ]
  },
  {
   "cell_type": "markdown",
   "metadata": {},
   "source": [
    "Points per game is a natural metric people look at when comparing basketball players, after all whether or not a team wins is solely depencent on the final score. Make a column named 'PPG' in the table that measures a player's points per game, and sort the table by points per game in descending order."
   ]
  },
  {
   "cell_type": "code",
   "execution_count": 4,
   "metadata": {
    "collapsed": true
   },
   "outputs": [],
   "source": [
    "player_stats['PPG'] = player_stats['PTS'] / player_stats['G']"
   ]
  },
  {
   "cell_type": "code",
   "execution_count": 5,
   "metadata": {},
   "outputs": [
    {
     "data": {
      "text/html": [
       "<table border=\"1\" class=\"dataframe\">\n",
       "    <thead>\n",
       "        <tr>\n",
       "            <th>Rk</th> <th>Player</th> <th>Pos</th> <th>Age</th> <th>Tm</th> <th>G</th> <th>GS</th> <th>MP</th> <th>FG</th> <th>FGA</th> <th>FG%</th> <th>3P</th> <th>3PA</th> <th>3P%</th> <th>2P</th> <th>2PA</th> <th>2P%</th> <th>eFG%</th> <th>FT</th> <th>FTA</th> <th>FT%</th> <th>ORB</th> <th>DRB</th> <th>TRB</th> <th>AST</th> <th>STL</th> <th>BLK</th> <th>TOV</th> <th>PF</th> <th>PTS</th> <th>PPG</th>\n",
       "        </tr>\n",
       "    </thead>\n",
       "    <tbody>\n",
       "        <tr>\n",
       "            <td>458 </td> <td>Russell Westbrook\\westbru01</td> <td>PG  </td> <td>28  </td> <td>OKC </td> <td>81  </td> <td>81  </td> <td>2802</td> <td>824 </td> <td>1941</td> <td>0.425</td> <td>200 </td> <td>583 </td> <td>0.343</td> <td>624 </td> <td>1358</td> <td>0.459</td> <td>0.476</td> <td>710 </td> <td>840 </td> <td>0.845</td> <td>137 </td> <td>727 </td> <td>864 </td> <td>840 </td> <td>132 </td> <td>31  </td> <td>438 </td> <td>190 </td> <td>2558</td> <td>31.5802</td>\n",
       "        </tr>\n",
       "    </tbody>\n",
       "        <tr>\n",
       "            <td>172 </td> <td>James Harden\\hardeja01     </td> <td>PG  </td> <td>27  </td> <td>HOU </td> <td>81  </td> <td>81  </td> <td>2947</td> <td>674 </td> <td>1533</td> <td>0.44 </td> <td>262 </td> <td>756 </td> <td>0.347</td> <td>412 </td> <td>777 </td> <td>0.53 </td> <td>0.525</td> <td>746 </td> <td>881 </td> <td>0.847</td> <td>95  </td> <td>564 </td> <td>659 </td> <td>907 </td> <td>121 </td> <td>38  </td> <td>464 </td> <td>215 </td> <td>2356</td> <td>29.0864</td>\n",
       "        </tr>\n",
       "    </tbody>\n",
       "        <tr>\n",
       "            <td>424 </td> <td>Isaiah Thomas\\thomais02    </td> <td>PG  </td> <td>27  </td> <td>BOS </td> <td>76  </td> <td>76  </td> <td>2569</td> <td>682 </td> <td>1473</td> <td>0.463</td> <td>245 </td> <td>646 </td> <td>0.379</td> <td>437 </td> <td>827 </td> <td>0.528</td> <td>0.546</td> <td>590 </td> <td>649 </td> <td>0.909</td> <td>43  </td> <td>162 </td> <td>205 </td> <td>448 </td> <td>70  </td> <td>13  </td> <td>210 </td> <td>167 </td> <td>2199</td> <td>28.9342</td>\n",
       "        </tr>\n",
       "    </tbody>\n",
       "        <tr>\n",
       "            <td>100 </td> <td>Anthony Davis\\davisan02    </td> <td>C   </td> <td>23  </td> <td>NOP </td> <td>75  </td> <td>75  </td> <td>2708</td> <td>770 </td> <td>1526</td> <td>0.505</td> <td>40  </td> <td>134 </td> <td>0.299</td> <td>730 </td> <td>1392</td> <td>0.524</td> <td>0.518</td> <td>519 </td> <td>647 </td> <td>0.802</td> <td>172 </td> <td>712 </td> <td>884 </td> <td>157 </td> <td>94  </td> <td>167 </td> <td>181 </td> <td>168 </td> <td>2099</td> <td>27.9867</td>\n",
       "        </tr>\n",
       "    </tbody>\n",
       "        <tr>\n",
       "            <td>90  </td> <td>DeMarcus Cousins\\couside01 </td> <td>C   </td> <td>26  </td> <td>SAC </td> <td>55  </td> <td>55  </td> <td>1891</td> <td>505 </td> <td>1118</td> <td>0.452</td> <td>95  </td> <td>267 </td> <td>0.356</td> <td>410 </td> <td>851 </td> <td>0.482</td> <td>0.494</td> <td>423 </td> <td>549 </td> <td>0.77 </td> <td>115 </td> <td>468 </td> <td>583 </td> <td>266 </td> <td>75  </td> <td>74  </td> <td>207 </td> <td>203 </td> <td>1528</td> <td>27.7818</td>\n",
       "        </tr>\n",
       "    </tbody>\n",
       "        <tr>\n",
       "            <td>108 </td> <td>DeMar DeRozan\\derozde01    </td> <td>SG  </td> <td>27  </td> <td>TOR </td> <td>74  </td> <td>74  </td> <td>2620</td> <td>721 </td> <td>1545</td> <td>0.467</td> <td>33  </td> <td>124 </td> <td>0.266</td> <td>688 </td> <td>1421</td> <td>0.484</td> <td>0.477</td> <td>545 </td> <td>647 </td> <td>0.842</td> <td>70  </td> <td>316 </td> <td>386 </td> <td>290 </td> <td>78  </td> <td>13  </td> <td>180 </td> <td>134 </td> <td>2020</td> <td>27.2973</td>\n",
       "        </tr>\n",
       "    </tbody>\n",
       "        <tr>\n",
       "            <td>266 </td> <td>Damian Lillard\\lillada01   </td> <td>PG  </td> <td>26  </td> <td>POR </td> <td>75  </td> <td>75  </td> <td>2694</td> <td>661 </td> <td>1488</td> <td>0.444</td> <td>214 </td> <td>579 </td> <td>0.37 </td> <td>447 </td> <td>909 </td> <td>0.492</td> <td>0.516</td> <td>488 </td> <td>545 </td> <td>0.895</td> <td>46  </td> <td>322 </td> <td>368 </td> <td>440 </td> <td>68  </td> <td>20  </td> <td>197 </td> <td>152 </td> <td>2024</td> <td>26.9867</td>\n",
       "        </tr>\n",
       "    </tbody>\n",
       "        <tr>\n",
       "            <td>90  </td> <td>DeMarcus Cousins\\couside01 </td> <td>C   </td> <td>26  </td> <td>TOT </td> <td>72  </td> <td>72  </td> <td>2465</td> <td>647 </td> <td>1432</td> <td>0.452</td> <td>131 </td> <td>363 </td> <td>0.361</td> <td>516 </td> <td>1069</td> <td>0.483</td> <td>0.498</td> <td>517 </td> <td>670 </td> <td>0.772</td> <td>152 </td> <td>642 </td> <td>794 </td> <td>332 </td> <td>100 </td> <td>93  </td> <td>269 </td> <td>278 </td> <td>1942</td> <td>26.9722</td>\n",
       "        </tr>\n",
       "    </tbody>\n",
       "        <tr>\n",
       "            <td>220 </td> <td>LeBron James\\jamesle01     </td> <td>SF  </td> <td>32  </td> <td>CLE </td> <td>74  </td> <td>74  </td> <td>2794</td> <td>736 </td> <td>1344</td> <td>0.548</td> <td>124 </td> <td>342 </td> <td>0.363</td> <td>612 </td> <td>1002</td> <td>0.611</td> <td>0.594</td> <td>358 </td> <td>531 </td> <td>0.674</td> <td>97  </td> <td>542 </td> <td>639 </td> <td>646 </td> <td>92  </td> <td>44  </td> <td>303 </td> <td>134 </td> <td>1954</td> <td>26.4054</td>\n",
       "        </tr>\n",
       "    </tbody>\n",
       "        <tr>\n",
       "            <td>261 </td> <td>Kawhi Leonard\\leonaka01    </td> <td>SF  </td> <td>25  </td> <td>SAS </td> <td>74  </td> <td>74  </td> <td>2474</td> <td>636 </td> <td>1312</td> <td>0.485</td> <td>147 </td> <td>387 </td> <td>0.38 </td> <td>489 </td> <td>925 </td> <td>0.529</td> <td>0.541</td> <td>469 </td> <td>533 </td> <td>0.88 </td> <td>80  </td> <td>350 </td> <td>430 </td> <td>260 </td> <td>133 </td> <td>55  </td> <td>154 </td> <td>122 </td> <td>1888</td> <td>25.5135</td>\n",
       "        </tr>\n",
       "    </tbody>\n",
       "</table>\n",
       "<p>... (428 rows omitted)</p"
      ],
      "text/plain": [
       "Rk   | Player                      | Pos  | Age  | Tm   | G    | GS   | MP   | FG   | FGA  | FG%   | 3P   | 3PA  | 3P%   | 2P   | 2PA  | 2P%   | eFG%  | FT   | FTA  | FT%   | ORB  | DRB  | TRB  | AST  | STL  | BLK  | TOV  | PF   | PTS  | PPG\n",
       "458  | Russell Westbrook\\westbru01 | PG   | 28   | OKC  | 81   | 81   | 2802 | 824  | 1941 | 0.425 | 200  | 583  | 0.343 | 624  | 1358 | 0.459 | 0.476 | 710  | 840  | 0.845 | 137  | 727  | 864  | 840  | 132  | 31   | 438  | 190  | 2558 | 31.5802\n",
       "172  | James Harden\\hardeja01      | PG   | 27   | HOU  | 81   | 81   | 2947 | 674  | 1533 | 0.44  | 262  | 756  | 0.347 | 412  | 777  | 0.53  | 0.525 | 746  | 881  | 0.847 | 95   | 564  | 659  | 907  | 121  | 38   | 464  | 215  | 2356 | 29.0864\n",
       "424  | Isaiah Thomas\\thomais02     | PG   | 27   | BOS  | 76   | 76   | 2569 | 682  | 1473 | 0.463 | 245  | 646  | 0.379 | 437  | 827  | 0.528 | 0.546 | 590  | 649  | 0.909 | 43   | 162  | 205  | 448  | 70   | 13   | 210  | 167  | 2199 | 28.9342\n",
       "100  | Anthony Davis\\davisan02     | C    | 23   | NOP  | 75   | 75   | 2708 | 770  | 1526 | 0.505 | 40   | 134  | 0.299 | 730  | 1392 | 0.524 | 0.518 | 519  | 647  | 0.802 | 172  | 712  | 884  | 157  | 94   | 167  | 181  | 168  | 2099 | 27.9867\n",
       "90   | DeMarcus Cousins\\couside01  | C    | 26   | SAC  | 55   | 55   | 1891 | 505  | 1118 | 0.452 | 95   | 267  | 0.356 | 410  | 851  | 0.482 | 0.494 | 423  | 549  | 0.77  | 115  | 468  | 583  | 266  | 75   | 74   | 207  | 203  | 1528 | 27.7818\n",
       "108  | DeMar DeRozan\\derozde01     | SG   | 27   | TOR  | 74   | 74   | 2620 | 721  | 1545 | 0.467 | 33   | 124  | 0.266 | 688  | 1421 | 0.484 | 0.477 | 545  | 647  | 0.842 | 70   | 316  | 386  | 290  | 78   | 13   | 180  | 134  | 2020 | 27.2973\n",
       "266  | Damian Lillard\\lillada01    | PG   | 26   | POR  | 75   | 75   | 2694 | 661  | 1488 | 0.444 | 214  | 579  | 0.37  | 447  | 909  | 0.492 | 0.516 | 488  | 545  | 0.895 | 46   | 322  | 368  | 440  | 68   | 20   | 197  | 152  | 2024 | 26.9867\n",
       "90   | DeMarcus Cousins\\couside01  | C    | 26   | TOT  | 72   | 72   | 2465 | 647  | 1432 | 0.452 | 131  | 363  | 0.361 | 516  | 1069 | 0.483 | 0.498 | 517  | 670  | 0.772 | 152  | 642  | 794  | 332  | 100  | 93   | 269  | 278  | 1942 | 26.9722\n",
       "220  | LeBron James\\jamesle01      | SF   | 32   | CLE  | 74   | 74   | 2794 | 736  | 1344 | 0.548 | 124  | 342  | 0.363 | 612  | 1002 | 0.611 | 0.594 | 358  | 531  | 0.674 | 97   | 542  | 639  | 646  | 92   | 44   | 303  | 134  | 1954 | 26.4054\n",
       "261  | Kawhi Leonard\\leonaka01     | SF   | 25   | SAS  | 74   | 74   | 2474 | 636  | 1312 | 0.485 | 147  | 387  | 0.38  | 489  | 925  | 0.529 | 0.541 | 469  | 533  | 0.88  | 80   | 350  | 430  | 260  | 133  | 55   | 154  | 122  | 1888 | 25.5135\n",
       "... (428 rows omitted)"
      ]
     },
     "execution_count": 5,
     "metadata": {},
     "output_type": "execute_result"
    }
   ],
   "source": [
    "player_stats.sort('PPG', descending = True)"
   ]
  },
  {
   "cell_type": "markdown",
   "metadata": {},
   "source": [
    "Take a look at the 'MP' column. 'MP' stands for minutes per game. Do you think this affects the data? Create a column called 'PP36' that shows the number of points a player scores in 36 minutes.\n",
    "\n",
    "Note: A full NBA game is 48 minutes."
   ]
  },
  {
   "cell_type": "code",
   "execution_count": 6,
   "metadata": {},
   "outputs": [
    {
     "data": {
      "text/html": [
       "<table border=\"1\" class=\"dataframe\">\n",
       "    <thead>\n",
       "        <tr>\n",
       "            <th>Rk</th> <th>Player</th> <th>Pos</th> <th>Age</th> <th>Tm</th> <th>G</th> <th>GS</th> <th>MP</th> <th>FG</th> <th>FGA</th> <th>FG%</th> <th>3P</th> <th>3PA</th> <th>3P%</th> <th>2P</th> <th>2PA</th> <th>2P%</th> <th>eFG%</th> <th>FT</th> <th>FTA</th> <th>FT%</th> <th>ORB</th> <th>DRB</th> <th>TRB</th> <th>AST</th> <th>STL</th> <th>BLK</th> <th>TOV</th> <th>PF</th> <th>PTS</th> <th>PPG</th> <th>PP36</th>\n",
       "        </tr>\n",
       "    </thead>\n",
       "    <tbody>\n",
       "        <tr>\n",
       "            <td>458 </td> <td>Russell Westbrook\\westbru01</td> <td>PG  </td> <td>28  </td> <td>OKC </td> <td>81  </td> <td>81  </td> <td>2802</td> <td>824 </td> <td>1941</td> <td>0.425</td> <td>200 </td> <td>583 </td> <td>0.343</td> <td>624 </td> <td>1358</td> <td>0.459</td> <td>0.476</td> <td>710 </td> <td>840 </td> <td>0.845</td> <td>137 </td> <td>727 </td> <td>864 </td> <td>840 </td> <td>132 </td> <td>31  </td> <td>438 </td> <td>190 </td> <td>2558</td> <td>31.5802</td> <td>32.8651</td>\n",
       "        </tr>\n",
       "    </tbody>\n",
       "        <tr>\n",
       "            <td>424 </td> <td>Isaiah Thomas\\thomais02    </td> <td>PG  </td> <td>27  </td> <td>BOS </td> <td>76  </td> <td>76  </td> <td>2569</td> <td>682 </td> <td>1473</td> <td>0.463</td> <td>245 </td> <td>646 </td> <td>0.379</td> <td>437 </td> <td>827 </td> <td>0.528</td> <td>0.546</td> <td>590 </td> <td>649 </td> <td>0.909</td> <td>43  </td> <td>162 </td> <td>205 </td> <td>448 </td> <td>70  </td> <td>13  </td> <td>210 </td> <td>167 </td> <td>2199</td> <td>28.9342</td> <td>30.8151</td>\n",
       "        </tr>\n",
       "    </tbody>\n",
       "        <tr>\n",
       "            <td>90  </td> <td>DeMarcus Cousins\\couside01 </td> <td>C   </td> <td>26  </td> <td>SAC </td> <td>55  </td> <td>55  </td> <td>1891</td> <td>505 </td> <td>1118</td> <td>0.452</td> <td>95  </td> <td>267 </td> <td>0.356</td> <td>410 </td> <td>851 </td> <td>0.482</td> <td>0.494</td> <td>423 </td> <td>549 </td> <td>0.77 </td> <td>115 </td> <td>468 </td> <td>583 </td> <td>266 </td> <td>75  </td> <td>74  </td> <td>207 </td> <td>203 </td> <td>1528</td> <td>27.7818</td> <td>29.0894</td>\n",
       "        </tr>\n",
       "    </tbody>\n",
       "        <tr>\n",
       "            <td>172 </td> <td>James Harden\\hardeja01     </td> <td>PG  </td> <td>27  </td> <td>HOU </td> <td>81  </td> <td>81  </td> <td>2947</td> <td>674 </td> <td>1533</td> <td>0.44 </td> <td>262 </td> <td>756 </td> <td>0.347</td> <td>412 </td> <td>777 </td> <td>0.53 </td> <td>0.525</td> <td>746 </td> <td>881 </td> <td>0.847</td> <td>95  </td> <td>564 </td> <td>659 </td> <td>907 </td> <td>121 </td> <td>38  </td> <td>464 </td> <td>215 </td> <td>2356</td> <td>29.0864</td> <td>28.7805</td>\n",
       "        </tr>\n",
       "    </tbody>\n",
       "        <tr>\n",
       "            <td>124 </td> <td>Joel Embiid\\embiijo01      </td> <td>C   </td> <td>22  </td> <td>PHI </td> <td>31  </td> <td>31  </td> <td>786 </td> <td>200 </td> <td>429 </td> <td>0.466</td> <td>36  </td> <td>98  </td> <td>0.367</td> <td>164 </td> <td>331 </td> <td>0.495</td> <td>0.508</td> <td>191 </td> <td>244 </td> <td>0.783</td> <td>61  </td> <td>182 </td> <td>243 </td> <td>66  </td> <td>27  </td> <td>76  </td> <td>117 </td> <td>112 </td> <td>627 </td> <td>20.2258</td> <td>28.7176</td>\n",
       "        </tr>\n",
       "    </tbody>\n",
       "        <tr>\n",
       "            <td>90  </td> <td>DeMarcus Cousins\\couside01 </td> <td>C   </td> <td>26  </td> <td>TOT </td> <td>72  </td> <td>72  </td> <td>2465</td> <td>647 </td> <td>1432</td> <td>0.452</td> <td>131 </td> <td>363 </td> <td>0.361</td> <td>516 </td> <td>1069</td> <td>0.483</td> <td>0.498</td> <td>517 </td> <td>670 </td> <td>0.772</td> <td>152 </td> <td>642 </td> <td>794 </td> <td>332 </td> <td>100 </td> <td>93  </td> <td>269 </td> <td>278 </td> <td>1942</td> <td>26.9722</td> <td>28.3619</td>\n",
       "        </tr>\n",
       "    </tbody>\n",
       "        <tr>\n",
       "            <td>100 </td> <td>Anthony Davis\\davisan02    </td> <td>C   </td> <td>23  </td> <td>NOP </td> <td>75  </td> <td>75  </td> <td>2708</td> <td>770 </td> <td>1526</td> <td>0.505</td> <td>40  </td> <td>134 </td> <td>0.299</td> <td>730 </td> <td>1392</td> <td>0.524</td> <td>0.518</td> <td>519 </td> <td>647 </td> <td>0.802</td> <td>172 </td> <td>712 </td> <td>884 </td> <td>157 </td> <td>94  </td> <td>167 </td> <td>181 </td> <td>168 </td> <td>2099</td> <td>27.9867</td> <td>27.904 </td>\n",
       "        </tr>\n",
       "    </tbody>\n",
       "        <tr>\n",
       "            <td>108 </td> <td>DeMar DeRozan\\derozde01    </td> <td>SG  </td> <td>27  </td> <td>TOR </td> <td>74  </td> <td>74  </td> <td>2620</td> <td>721 </td> <td>1545</td> <td>0.467</td> <td>33  </td> <td>124 </td> <td>0.266</td> <td>688 </td> <td>1421</td> <td>0.484</td> <td>0.477</td> <td>545 </td> <td>647 </td> <td>0.842</td> <td>70  </td> <td>316 </td> <td>386 </td> <td>290 </td> <td>78  </td> <td>13  </td> <td>180 </td> <td>134 </td> <td>2020</td> <td>27.2973</td> <td>27.7557</td>\n",
       "        </tr>\n",
       "    </tbody>\n",
       "        <tr>\n",
       "            <td>467 </td> <td>Lou Williams\\willilo02     </td> <td>SG  </td> <td>30  </td> <td>LAL </td> <td>58  </td> <td>1   </td> <td>1403</td> <td>326 </td> <td>734 </td> <td>0.444</td> <td>122 </td> <td>317 </td> <td>0.385</td> <td>204 </td> <td>417 </td> <td>0.489</td> <td>0.527</td> <td>304 </td> <td>344 </td> <td>0.884</td> <td>14  </td> <td>118 </td> <td>132 </td> <td>183 </td> <td>65  </td> <td>11  </td> <td>120 </td> <td>67  </td> <td>1078</td> <td>18.5862</td> <td>27.6607</td>\n",
       "        </tr>\n",
       "    </tbody>\n",
       "        <tr>\n",
       "            <td>261 </td> <td>Kawhi Leonard\\leonaka01    </td> <td>SF  </td> <td>25  </td> <td>SAS </td> <td>74  </td> <td>74  </td> <td>2474</td> <td>636 </td> <td>1312</td> <td>0.485</td> <td>147 </td> <td>387 </td> <td>0.38 </td> <td>489 </td> <td>925 </td> <td>0.529</td> <td>0.541</td> <td>469 </td> <td>533 </td> <td>0.88 </td> <td>80  </td> <td>350 </td> <td>430 </td> <td>260 </td> <td>133 </td> <td>55  </td> <td>154 </td> <td>122 </td> <td>1888</td> <td>25.5135</td> <td>27.4729</td>\n",
       "        </tr>\n",
       "    </tbody>\n",
       "</table>\n",
       "<p>... (428 rows omitted)</p"
      ],
      "text/plain": [
       "Rk   | Player                      | Pos  | Age  | Tm   | G    | GS   | MP   | FG   | FGA  | FG%   | 3P   | 3PA  | 3P%   | 2P   | 2PA  | 2P%   | eFG%  | FT   | FTA  | FT%   | ORB  | DRB  | TRB  | AST  | STL  | BLK  | TOV  | PF   | PTS  | PPG     | PP36\n",
       "458  | Russell Westbrook\\westbru01 | PG   | 28   | OKC  | 81   | 81   | 2802 | 824  | 1941 | 0.425 | 200  | 583  | 0.343 | 624  | 1358 | 0.459 | 0.476 | 710  | 840  | 0.845 | 137  | 727  | 864  | 840  | 132  | 31   | 438  | 190  | 2558 | 31.5802 | 32.8651\n",
       "424  | Isaiah Thomas\\thomais02     | PG   | 27   | BOS  | 76   | 76   | 2569 | 682  | 1473 | 0.463 | 245  | 646  | 0.379 | 437  | 827  | 0.528 | 0.546 | 590  | 649  | 0.909 | 43   | 162  | 205  | 448  | 70   | 13   | 210  | 167  | 2199 | 28.9342 | 30.8151\n",
       "90   | DeMarcus Cousins\\couside01  | C    | 26   | SAC  | 55   | 55   | 1891 | 505  | 1118 | 0.452 | 95   | 267  | 0.356 | 410  | 851  | 0.482 | 0.494 | 423  | 549  | 0.77  | 115  | 468  | 583  | 266  | 75   | 74   | 207  | 203  | 1528 | 27.7818 | 29.0894\n",
       "172  | James Harden\\hardeja01      | PG   | 27   | HOU  | 81   | 81   | 2947 | 674  | 1533 | 0.44  | 262  | 756  | 0.347 | 412  | 777  | 0.53  | 0.525 | 746  | 881  | 0.847 | 95   | 564  | 659  | 907  | 121  | 38   | 464  | 215  | 2356 | 29.0864 | 28.7805\n",
       "124  | Joel Embiid\\embiijo01       | C    | 22   | PHI  | 31   | 31   | 786  | 200  | 429  | 0.466 | 36   | 98   | 0.367 | 164  | 331  | 0.495 | 0.508 | 191  | 244  | 0.783 | 61   | 182  | 243  | 66   | 27   | 76   | 117  | 112  | 627  | 20.2258 | 28.7176\n",
       "90   | DeMarcus Cousins\\couside01  | C    | 26   | TOT  | 72   | 72   | 2465 | 647  | 1432 | 0.452 | 131  | 363  | 0.361 | 516  | 1069 | 0.483 | 0.498 | 517  | 670  | 0.772 | 152  | 642  | 794  | 332  | 100  | 93   | 269  | 278  | 1942 | 26.9722 | 28.3619\n",
       "100  | Anthony Davis\\davisan02     | C    | 23   | NOP  | 75   | 75   | 2708 | 770  | 1526 | 0.505 | 40   | 134  | 0.299 | 730  | 1392 | 0.524 | 0.518 | 519  | 647  | 0.802 | 172  | 712  | 884  | 157  | 94   | 167  | 181  | 168  | 2099 | 27.9867 | 27.904\n",
       "108  | DeMar DeRozan\\derozde01     | SG   | 27   | TOR  | 74   | 74   | 2620 | 721  | 1545 | 0.467 | 33   | 124  | 0.266 | 688  | 1421 | 0.484 | 0.477 | 545  | 647  | 0.842 | 70   | 316  | 386  | 290  | 78   | 13   | 180  | 134  | 2020 | 27.2973 | 27.7557\n",
       "467  | Lou Williams\\willilo02      | SG   | 30   | LAL  | 58   | 1    | 1403 | 326  | 734  | 0.444 | 122  | 317  | 0.385 | 204  | 417  | 0.489 | 0.527 | 304  | 344  | 0.884 | 14   | 118  | 132  | 183  | 65   | 11   | 120  | 67   | 1078 | 18.5862 | 27.6607\n",
       "261  | Kawhi Leonard\\leonaka01     | SF   | 25   | SAS  | 74   | 74   | 2474 | 636  | 1312 | 0.485 | 147  | 387  | 0.38  | 489  | 925  | 0.529 | 0.541 | 469  | 533  | 0.88  | 80   | 350  | 430  | 260  | 133  | 55   | 154  | 122  | 1888 | 25.5135 | 27.4729\n",
       "... (428 rows omitted)"
      ]
     },
     "execution_count": 6,
     "metadata": {},
     "output_type": "execute_result"
    }
   ],
   "source": [
    "player_stats['PP36'] = player_stats['PTS']*36/player_stats['MP']\n",
    "player_stats.sort('PP36', descending= True)"
   ]
  },
  {
   "cell_type": "markdown",
   "metadata": {},
   "source": [
    "**Intro to Problem:** In basketball, FG% is a simple ratio of how many shots you make to how many shots you attempt. However it doesn't account for 3-point shots being a higher risk higher reward shot than 2-point shots. For example, having a FG% of 50 on 100 2-point attempts means you score 100 points. Having a FG% of 50 on 100 3-point attemps means you score 150 points. eFG% accounts for this. \n",
    "\n",
    "**Question:** Find which player with more than 250 field goal attempts (FGA) has the highest eFG% WITHOUT using the eFG% column.\n",
    "\n",
    "Hint: eFG% = (2PA + 0.5 * 3PA) / FGA * 100%"
   ]
  },
  {
   "cell_type": "code",
   "execution_count": 7,
   "metadata": {},
   "outputs": [
    {
     "data": {
      "text/html": [
       "<table border=\"1\" class=\"dataframe\">\n",
       "    <thead>\n",
       "        <tr>\n",
       "            <th>Rk</th> <th>Player</th> <th>Pos</th> <th>Age</th> <th>Tm</th> <th>G</th> <th>GS</th> <th>MP</th> <th>FG</th> <th>FGA</th> <th>FG%</th> <th>3P</th> <th>3PA</th> <th>3P%</th> <th>2P</th> <th>2PA</th> <th>2P%</th> <th>eFG%</th> <th>FT</th> <th>FTA</th> <th>FT%</th> <th>ORB</th> <th>DRB</th> <th>TRB</th> <th>AST</th> <th>STL</th> <th>BLK</th> <th>TOV</th> <th>PF</th> <th>PTS</th> <th>PPG</th> <th>PP36</th> <th>MYeFG%</th>\n",
       "        </tr>\n",
       "    </thead>\n",
       "    <tbody>\n",
       "        <tr>\n",
       "            <td>461 </td> <td>Hassan Whiteside\\whiteha01</td> <td>C   </td> <td>27  </td> <td>MIA </td> <td>77  </td> <td>77  </td> <td>2513</td> <td>542 </td> <td>973 </td> <td>0.557</td> <td>0   </td> <td>0   </td> <td>nan </td> <td>542 </td> <td>973 </td> <td>0.557</td> <td>0.557</td> <td>225 </td> <td>358 </td> <td>0.628</td> <td>293 </td> <td>795 </td> <td>1088</td> <td>57  </td> <td>57  </td> <td>161 </td> <td>154 </td> <td>226 </td> <td>1309</td> <td>17     </td> <td>18.7521</td> <td>1     </td>\n",
       "        </tr>\n",
       "    </tbody>\n",
       "        <tr>\n",
       "            <td>360 </td> <td>Jakob Poeltl\\poeltja01    </td> <td>C   </td> <td>21  </td> <td>TOR </td> <td>54  </td> <td>4   </td> <td>626 </td> <td>67  </td> <td>115 </td> <td>0.583</td> <td>0   </td> <td>0   </td> <td>nan </td> <td>67  </td> <td>115 </td> <td>0.583</td> <td>0.583</td> <td>31  </td> <td>57  </td> <td>0.544</td> <td>78  </td> <td>87  </td> <td>165 </td> <td>12  </td> <td>17  </td> <td>20  </td> <td>29  </td> <td>113 </td> <td>165 </td> <td>3.05556</td> <td>9.48882</td> <td>1     </td>\n",
       "        </tr>\n",
       "    </tbody>\n",
       "        <tr>\n",
       "            <td>338 </td> <td>Jahlil Okafor\\okafoja01   </td> <td>C   </td> <td>21  </td> <td>PHI </td> <td>50  </td> <td>33  </td> <td>1134</td> <td>242 </td> <td>471 </td> <td>0.514</td> <td>0   </td> <td>0   </td> <td>nan </td> <td>242 </td> <td>471 </td> <td>0.514</td> <td>0.514</td> <td>106 </td> <td>158 </td> <td>0.671</td> <td>81  </td> <td>159 </td> <td>240 </td> <td>58  </td> <td>20  </td> <td>49  </td> <td>91  </td> <td>122 </td> <td>590 </td> <td>11.8   </td> <td>18.7302</td> <td>1     </td>\n",
       "        </tr>\n",
       "    </tbody>\n",
       "        <tr>\n",
       "            <td>333 </td> <td>Jusuf Nurkic\\nurkiju01    </td> <td>C   </td> <td>22  </td> <td>DEN </td> <td>45  </td> <td>29  </td> <td>807 </td> <td>151 </td> <td>298 </td> <td>0.507</td> <td>0   </td> <td>0   </td> <td>nan </td> <td>151 </td> <td>298 </td> <td>0.507</td> <td>0.507</td> <td>56  </td> <td>113 </td> <td>0.496</td> <td>89  </td> <td>171 </td> <td>260 </td> <td>60  </td> <td>25  </td> <td>36  </td> <td>81  </td> <td>88  </td> <td>358 </td> <td>7.95556</td> <td>15.9703</td> <td>1     </td>\n",
       "        </tr>\n",
       "    </tbody>\n",
       "        <tr>\n",
       "            <td>329 </td> <td>Nerlens Noel\\noelne01     </td> <td>C   </td> <td>22  </td> <td>DAL </td> <td>22  </td> <td>12  </td> <td>483 </td> <td>77  </td> <td>134 </td> <td>0.575</td> <td>0   </td> <td>0   </td> <td>nan </td> <td>77  </td> <td>134 </td> <td>0.575</td> <td>0.575</td> <td>34  </td> <td>48  </td> <td>0.708</td> <td>47  </td> <td>103 </td> <td>150 </td> <td>20  </td> <td>22  </td> <td>24  </td> <td>22  </td> <td>55  </td> <td>188 </td> <td>8.54545</td> <td>14.0124</td> <td>1     </td>\n",
       "        </tr>\n",
       "    </tbody>\n",
       "        <tr>\n",
       "            <td>282 </td> <td>Boban Marjanovic\\marjabo01</td> <td>C   </td> <td>28  </td> <td>DET </td> <td>35  </td> <td>0   </td> <td>293 </td> <td>72  </td> <td>132 </td> <td>0.545</td> <td>0   </td> <td>0   </td> <td>nan </td> <td>72  </td> <td>132 </td> <td>0.545</td> <td>0.545</td> <td>47  </td> <td>58  </td> <td>0.81 </td> <td>46  </td> <td>84  </td> <td>130 </td> <td>9   </td> <td>6   </td> <td>12  </td> <td>10  </td> <td>25  </td> <td>191 </td> <td>5.45714</td> <td>23.4676</td> <td>1     </td>\n",
       "        </tr>\n",
       "    </tbody>\n",
       "        <tr>\n",
       "            <td>280 </td> <td>Ian Mahinmi\\mahinia01     </td> <td>C   </td> <td>30  </td> <td>WAS </td> <td>31  </td> <td>0   </td> <td>555 </td> <td>65  </td> <td>111 </td> <td>0.586</td> <td>0   </td> <td>0   </td> <td>nan </td> <td>65  </td> <td>111 </td> <td>0.586</td> <td>0.586</td> <td>43  </td> <td>75  </td> <td>0.573</td> <td>47  </td> <td>103 </td> <td>150 </td> <td>19  </td> <td>33  </td> <td>24  </td> <td>34  </td> <td>90  </td> <td>173 </td> <td>5.58065</td> <td>11.2216</td> <td>1     </td>\n",
       "        </tr>\n",
       "    </tbody>\n",
       "        <tr>\n",
       "            <td>259 </td> <td>David Lee\\leeda02         </td> <td>PF  </td> <td>33  </td> <td>SAS </td> <td>79  </td> <td>10  </td> <td>1477</td> <td>248 </td> <td>420 </td> <td>0.59 </td> <td>0   </td> <td>0   </td> <td>nan </td> <td>248 </td> <td>420 </td> <td>0.59 </td> <td>0.59 </td> <td>80  </td> <td>113 </td> <td>0.708</td> <td>149 </td> <td>292 </td> <td>441 </td> <td>124 </td> <td>31  </td> <td>40  </td> <td>82  </td> <td>125 </td> <td>576 </td> <td>7.29114</td> <td>14.0393</td> <td>1     </td>\n",
       "        </tr>\n",
       "    </tbody>\n",
       "        <tr>\n",
       "            <td>191 </td> <td>Roy Hibbert\\hibbero01     </td> <td>C   </td> <td>30  </td> <td>CHO </td> <td>42  </td> <td>13  </td> <td>671 </td> <td>78  </td> <td>144 </td> <td>0.542</td> <td>0   </td> <td>0   </td> <td>nan </td> <td>78  </td> <td>144 </td> <td>0.542</td> <td>0.542</td> <td>61  </td> <td>75  </td> <td>0.813</td> <td>53  </td> <td>97  </td> <td>150 </td> <td>20  </td> <td>8   </td> <td>44  </td> <td>31  </td> <td>97  </td> <td>217 </td> <td>5.16667</td> <td>11.6423</td> <td>1     </td>\n",
       "        </tr>\n",
       "    </tbody>\n",
       "        <tr>\n",
       "            <td>191 </td> <td>Roy Hibbert\\hibbero01     </td> <td>C   </td> <td>30  </td> <td>TOT </td> <td>48  </td> <td>13  </td> <td>682 </td> <td>80  </td> <td>147 </td> <td>0.544</td> <td>0   </td> <td>0   </td> <td>nan </td> <td>80  </td> <td>147 </td> <td>0.544</td> <td>0.544</td> <td>61  </td> <td>75  </td> <td>0.813</td> <td>54  </td> <td>98  </td> <td>152 </td> <td>21  </td> <td>8   </td> <td>46  </td> <td>32  </td> <td>100 </td> <td>221 </td> <td>4.60417</td> <td>11.6657</td> <td>1     </td>\n",
       "        </tr>\n",
       "    </tbody>\n",
       "</table>\n",
       "<p>... (428 rows omitted)</p"
      ],
      "text/plain": [
       "Rk   | Player                     | Pos  | Age  | Tm   | G    | GS   | MP   | FG   | FGA  | FG%   | 3P   | 3PA  | 3P%  | 2P   | 2PA  | 2P%   | eFG%  | FT   | FTA  | FT%   | ORB  | DRB  | TRB  | AST  | STL  | BLK  | TOV  | PF   | PTS  | PPG     | PP36    | MYeFG%\n",
       "461  | Hassan Whiteside\\whiteha01 | C    | 27   | MIA  | 77   | 77   | 2513 | 542  | 973  | 0.557 | 0    | 0    | nan  | 542  | 973  | 0.557 | 0.557 | 225  | 358  | 0.628 | 293  | 795  | 1088 | 57   | 57   | 161  | 154  | 226  | 1309 | 17      | 18.7521 | 1\n",
       "360  | Jakob Poeltl\\poeltja01     | C    | 21   | TOR  | 54   | 4    | 626  | 67   | 115  | 0.583 | 0    | 0    | nan  | 67   | 115  | 0.583 | 0.583 | 31   | 57   | 0.544 | 78   | 87   | 165  | 12   | 17   | 20   | 29   | 113  | 165  | 3.05556 | 9.48882 | 1\n",
       "338  | Jahlil Okafor\\okafoja01    | C    | 21   | PHI  | 50   | 33   | 1134 | 242  | 471  | 0.514 | 0    | 0    | nan  | 242  | 471  | 0.514 | 0.514 | 106  | 158  | 0.671 | 81   | 159  | 240  | 58   | 20   | 49   | 91   | 122  | 590  | 11.8    | 18.7302 | 1\n",
       "333  | Jusuf Nurkic\\nurkiju01     | C    | 22   | DEN  | 45   | 29   | 807  | 151  | 298  | 0.507 | 0    | 0    | nan  | 151  | 298  | 0.507 | 0.507 | 56   | 113  | 0.496 | 89   | 171  | 260  | 60   | 25   | 36   | 81   | 88   | 358  | 7.95556 | 15.9703 | 1\n",
       "329  | Nerlens Noel\\noelne01      | C    | 22   | DAL  | 22   | 12   | 483  | 77   | 134  | 0.575 | 0    | 0    | nan  | 77   | 134  | 0.575 | 0.575 | 34   | 48   | 0.708 | 47   | 103  | 150  | 20   | 22   | 24   | 22   | 55   | 188  | 8.54545 | 14.0124 | 1\n",
       "282  | Boban Marjanovic\\marjabo01 | C    | 28   | DET  | 35   | 0    | 293  | 72   | 132  | 0.545 | 0    | 0    | nan  | 72   | 132  | 0.545 | 0.545 | 47   | 58   | 0.81  | 46   | 84   | 130  | 9    | 6    | 12   | 10   | 25   | 191  | 5.45714 | 23.4676 | 1\n",
       "280  | Ian Mahinmi\\mahinia01      | C    | 30   | WAS  | 31   | 0    | 555  | 65   | 111  | 0.586 | 0    | 0    | nan  | 65   | 111  | 0.586 | 0.586 | 43   | 75   | 0.573 | 47   | 103  | 150  | 19   | 33   | 24   | 34   | 90   | 173  | 5.58065 | 11.2216 | 1\n",
       "259  | David Lee\\leeda02          | PF   | 33   | SAS  | 79   | 10   | 1477 | 248  | 420  | 0.59  | 0    | 0    | nan  | 248  | 420  | 0.59  | 0.59  | 80   | 113  | 0.708 | 149  | 292  | 441  | 124  | 31   | 40   | 82   | 125  | 576  | 7.29114 | 14.0393 | 1\n",
       "191  | Roy Hibbert\\hibbero01      | C    | 30   | CHO  | 42   | 13   | 671  | 78   | 144  | 0.542 | 0    | 0    | nan  | 78   | 144  | 0.542 | 0.542 | 61   | 75   | 0.813 | 53   | 97   | 150  | 20   | 8    | 44   | 31   | 97   | 217  | 5.16667 | 11.6423 | 1\n",
       "191  | Roy Hibbert\\hibbero01      | C    | 30   | TOT  | 48   | 13   | 682  | 80   | 147  | 0.544 | 0    | 0    | nan  | 80   | 147  | 0.544 | 0.544 | 61   | 75   | 0.813 | 54   | 98   | 152  | 21   | 8    | 46   | 32   | 100  | 221  | 4.60417 | 11.6657 | 1\n",
       "... (428 rows omitted)"
      ]
     },
     "execution_count": 7,
     "metadata": {},
     "output_type": "execute_result"
    }
   ],
   "source": [
    "player_stats = player_stats.with_column('MYeFG%', (player_stats.column('2PA') + 0.5 * player_stats.column('3PA')) / player_stats.column('FGA'))\n",
    "player_stats.sort('MYeFG%', descending=True)"
   ]
  },
  {
   "cell_type": "markdown",
   "metadata": {},
   "source": [
    "An assist is when one player makes a pass that leads directly to a teammate scoring. Assists directly corrlate to total points scored by the team. Combining points and assists might give a better picture into the total scoring contribution of a player to a team. Let's make a custom metric that combines the two, and see how our metric ranks players. \n",
    "\n",
    "Create a column named \"PtsAst\" that follows the formula PtsAst = PPG + 2 * APG.\n",
    "\n",
    "Note: 'APG' stands for assists per game, which we do not currently have in the table. You will have to make that yourself. "
   ]
  },
  {
   "cell_type": "code",
   "execution_count": 8,
   "metadata": {},
   "outputs": [
    {
     "data": {
      "text/html": [
       "<table border=\"1\" class=\"dataframe\">\n",
       "    <thead>\n",
       "        <tr>\n",
       "            <th>Rk</th> <th>Player</th> <th>Pos</th> <th>Age</th> <th>Tm</th> <th>G</th> <th>GS</th> <th>MP</th> <th>FG</th> <th>FGA</th> <th>FG%</th> <th>3P</th> <th>3PA</th> <th>3P%</th> <th>2P</th> <th>2PA</th> <th>2P%</th> <th>eFG%</th> <th>FT</th> <th>FTA</th> <th>FT%</th> <th>ORB</th> <th>DRB</th> <th>TRB</th> <th>AST</th> <th>STL</th> <th>BLK</th> <th>TOV</th> <th>PF</th> <th>PTS</th> <th>PPG</th> <th>PP36</th> <th>MYeFG%</th> <th>APG</th> <th>PtsAst</th>\n",
       "        </tr>\n",
       "    </thead>\n",
       "    <tbody>\n",
       "        <tr>\n",
       "            <td>458 </td> <td>Russell Westbrook\\westbru01</td> <td>PG  </td> <td>28  </td> <td>OKC </td> <td>81  </td> <td>81  </td> <td>2802</td> <td>824 </td> <td>1941</td> <td>0.425</td> <td>200 </td> <td>583 </td> <td>0.343</td> <td>624 </td> <td>1358</td> <td>0.459</td> <td>0.476</td> <td>710 </td> <td>840 </td> <td>0.845</td> <td>137 </td> <td>727 </td> <td>864 </td> <td>840 </td> <td>132 </td> <td>31  </td> <td>438 </td> <td>190 </td> <td>2558</td> <td>31.5802</td> <td>32.8651</td> <td>0.84982 </td> <td>10.3704</td> <td>52.321 </td>\n",
       "        </tr>\n",
       "    </tbody>\n",
       "        <tr>\n",
       "            <td>172 </td> <td>James Harden\\hardeja01     </td> <td>PG  </td> <td>27  </td> <td>HOU </td> <td>81  </td> <td>81  </td> <td>2947</td> <td>674 </td> <td>1533</td> <td>0.44 </td> <td>262 </td> <td>756 </td> <td>0.347</td> <td>412 </td> <td>777 </td> <td>0.53 </td> <td>0.525</td> <td>746 </td> <td>881 </td> <td>0.847</td> <td>95  </td> <td>564 </td> <td>659 </td> <td>907 </td> <td>121 </td> <td>38  </td> <td>464 </td> <td>215 </td> <td>2356</td> <td>29.0864</td> <td>28.7805</td> <td>0.753425</td> <td>11.1975</td> <td>51.4815</td>\n",
       "        </tr>\n",
       "    </tbody>\n",
       "        <tr>\n",
       "            <td>452 </td> <td>John Wall\\walljo01         </td> <td>PG  </td> <td>26  </td> <td>WAS </td> <td>78  </td> <td>78  </td> <td>2836</td> <td>647 </td> <td>1435</td> <td>0.451</td> <td>89  </td> <td>272 </td> <td>0.327</td> <td>558 </td> <td>1163</td> <td>0.48 </td> <td>0.482</td> <td>422 </td> <td>527 </td> <td>0.801</td> <td>59  </td> <td>267 </td> <td>326 </td> <td>831 </td> <td>157 </td> <td>49  </td> <td>322 </td> <td>151 </td> <td>1805</td> <td>23.141 </td> <td>22.9126</td> <td>0.905226</td> <td>10.6538</td> <td>44.4487</td>\n",
       "        </tr>\n",
       "    </tbody>\n",
       "        <tr>\n",
       "            <td>220 </td> <td>LeBron James\\jamesle01     </td> <td>SF  </td> <td>32  </td> <td>CLE </td> <td>74  </td> <td>74  </td> <td>2794</td> <td>736 </td> <td>1344</td> <td>0.548</td> <td>124 </td> <td>342 </td> <td>0.363</td> <td>612 </td> <td>1002</td> <td>0.611</td> <td>0.594</td> <td>358 </td> <td>531 </td> <td>0.674</td> <td>97  </td> <td>542 </td> <td>639 </td> <td>646 </td> <td>92  </td> <td>44  </td> <td>303 </td> <td>134 </td> <td>1954</td> <td>26.4054</td> <td>25.1768</td> <td>0.872768</td> <td>8.72973</td> <td>43.8649</td>\n",
       "        </tr>\n",
       "    </tbody>\n",
       "        <tr>\n",
       "            <td>424 </td> <td>Isaiah Thomas\\thomais02    </td> <td>PG  </td> <td>27  </td> <td>BOS </td> <td>76  </td> <td>76  </td> <td>2569</td> <td>682 </td> <td>1473</td> <td>0.463</td> <td>245 </td> <td>646 </td> <td>0.379</td> <td>437 </td> <td>827 </td> <td>0.528</td> <td>0.546</td> <td>590 </td> <td>649 </td> <td>0.909</td> <td>43  </td> <td>162 </td> <td>205 </td> <td>448 </td> <td>70  </td> <td>13  </td> <td>210 </td> <td>167 </td> <td>2199</td> <td>28.9342</td> <td>30.8151</td> <td>0.78072 </td> <td>5.89474</td> <td>40.7237</td>\n",
       "        </tr>\n",
       "    </tbody>\n",
       "        <tr>\n",
       "            <td>266 </td> <td>Damian Lillard\\lillada01   </td> <td>PG  </td> <td>26  </td> <td>POR </td> <td>75  </td> <td>75  </td> <td>2694</td> <td>661 </td> <td>1488</td> <td>0.444</td> <td>214 </td> <td>579 </td> <td>0.37 </td> <td>447 </td> <td>909 </td> <td>0.492</td> <td>0.516</td> <td>488 </td> <td>545 </td> <td>0.895</td> <td>46  </td> <td>322 </td> <td>368 </td> <td>440 </td> <td>68  </td> <td>20  </td> <td>197 </td> <td>152 </td> <td>2024</td> <td>26.9867</td> <td>27.0468</td> <td>0.805444</td> <td>5.86667</td> <td>38.72  </td>\n",
       "        </tr>\n",
       "    </tbody>\n",
       "        <tr>\n",
       "            <td>98  </td> <td>Stephen Curry\\curryst01    </td> <td>PG  </td> <td>28  </td> <td>GSW </td> <td>79  </td> <td>79  </td> <td>2638</td> <td>675 </td> <td>1443</td> <td>0.468</td> <td>324 </td> <td>789 </td> <td>0.411</td> <td>351 </td> <td>654 </td> <td>0.537</td> <td>0.58 </td> <td>325 </td> <td>362 </td> <td>0.898</td> <td>61  </td> <td>292 </td> <td>353 </td> <td>524 </td> <td>142 </td> <td>17  </td> <td>239 </td> <td>183 </td> <td>1999</td> <td>25.3038</td> <td>27.2798</td> <td>0.726611</td> <td>6.63291</td> <td>38.5696</td>\n",
       "        </tr>\n",
       "    </tbody>\n",
       "        <tr>\n",
       "            <td>90  </td> <td>DeMarcus Cousins\\couside01 </td> <td>C   </td> <td>26  </td> <td>SAC </td> <td>55  </td> <td>55  </td> <td>1891</td> <td>505 </td> <td>1118</td> <td>0.452</td> <td>95  </td> <td>267 </td> <td>0.356</td> <td>410 </td> <td>851 </td> <td>0.482</td> <td>0.494</td> <td>423 </td> <td>549 </td> <td>0.77 </td> <td>115 </td> <td>468 </td> <td>583 </td> <td>266 </td> <td>75  </td> <td>74  </td> <td>207 </td> <td>203 </td> <td>1528</td> <td>27.7818</td> <td>29.0894</td> <td>0.88059 </td> <td>4.83636</td> <td>37.4545</td>\n",
       "        </tr>\n",
       "    </tbody>\n",
       "        <tr>\n",
       "            <td>215 </td> <td>Kyrie Irving\\irvinky01     </td> <td>PG  </td> <td>24  </td> <td>CLE </td> <td>72  </td> <td>72  </td> <td>2525</td> <td>671 </td> <td>1420</td> <td>0.473</td> <td>177 </td> <td>441 </td> <td>0.401</td> <td>494 </td> <td>979 </td> <td>0.505</td> <td>0.535</td> <td>297 </td> <td>328 </td> <td>0.905</td> <td>52  </td> <td>178 </td> <td>230 </td> <td>418 </td> <td>83  </td> <td>24  </td> <td>180 </td> <td>157 </td> <td>1816</td> <td>25.2222</td> <td>25.8915</td> <td>0.844718</td> <td>5.80556</td> <td>36.8333</td>\n",
       "        </tr>\n",
       "    </tbody>\n",
       "        <tr>\n",
       "            <td>351 </td> <td>Chris Paul\\paulch01        </td> <td>PG  </td> <td>31  </td> <td>LAC </td> <td>61  </td> <td>61  </td> <td>1921</td> <td>374 </td> <td>785 </td> <td>0.476</td> <td>124 </td> <td>302 </td> <td>0.411</td> <td>250 </td> <td>483 </td> <td>0.518</td> <td>0.555</td> <td>232 </td> <td>260 </td> <td>0.892</td> <td>40  </td> <td>264 </td> <td>304 </td> <td>563 </td> <td>119 </td> <td>8   </td> <td>147 </td> <td>146 </td> <td>1104</td> <td>18.0984</td> <td>20.6892</td> <td>0.807643</td> <td>9.22951</td> <td>36.5574</td>\n",
       "        </tr>\n",
       "    </tbody>\n",
       "</table>\n",
       "<p>... (428 rows omitted)</p"
      ],
      "text/plain": [
       "Rk   | Player                      | Pos  | Age  | Tm   | G    | GS   | MP   | FG   | FGA  | FG%   | 3P   | 3PA  | 3P%   | 2P   | 2PA  | 2P%   | eFG%  | FT   | FTA  | FT%   | ORB  | DRB  | TRB  | AST  | STL  | BLK  | TOV  | PF   | PTS  | PPG     | PP36    | MYeFG%   | APG     | PtsAst\n",
       "458  | Russell Westbrook\\westbru01 | PG   | 28   | OKC  | 81   | 81   | 2802 | 824  | 1941 | 0.425 | 200  | 583  | 0.343 | 624  | 1358 | 0.459 | 0.476 | 710  | 840  | 0.845 | 137  | 727  | 864  | 840  | 132  | 31   | 438  | 190  | 2558 | 31.5802 | 32.8651 | 0.84982  | 10.3704 | 52.321\n",
       "172  | James Harden\\hardeja01      | PG   | 27   | HOU  | 81   | 81   | 2947 | 674  | 1533 | 0.44  | 262  | 756  | 0.347 | 412  | 777  | 0.53  | 0.525 | 746  | 881  | 0.847 | 95   | 564  | 659  | 907  | 121  | 38   | 464  | 215  | 2356 | 29.0864 | 28.7805 | 0.753425 | 11.1975 | 51.4815\n",
       "452  | John Wall\\walljo01          | PG   | 26   | WAS  | 78   | 78   | 2836 | 647  | 1435 | 0.451 | 89   | 272  | 0.327 | 558  | 1163 | 0.48  | 0.482 | 422  | 527  | 0.801 | 59   | 267  | 326  | 831  | 157  | 49   | 322  | 151  | 1805 | 23.141  | 22.9126 | 0.905226 | 10.6538 | 44.4487\n",
       "220  | LeBron James\\jamesle01      | SF   | 32   | CLE  | 74   | 74   | 2794 | 736  | 1344 | 0.548 | 124  | 342  | 0.363 | 612  | 1002 | 0.611 | 0.594 | 358  | 531  | 0.674 | 97   | 542  | 639  | 646  | 92   | 44   | 303  | 134  | 1954 | 26.4054 | 25.1768 | 0.872768 | 8.72973 | 43.8649\n",
       "424  | Isaiah Thomas\\thomais02     | PG   | 27   | BOS  | 76   | 76   | 2569 | 682  | 1473 | 0.463 | 245  | 646  | 0.379 | 437  | 827  | 0.528 | 0.546 | 590  | 649  | 0.909 | 43   | 162  | 205  | 448  | 70   | 13   | 210  | 167  | 2199 | 28.9342 | 30.8151 | 0.78072  | 5.89474 | 40.7237\n",
       "266  | Damian Lillard\\lillada01    | PG   | 26   | POR  | 75   | 75   | 2694 | 661  | 1488 | 0.444 | 214  | 579  | 0.37  | 447  | 909  | 0.492 | 0.516 | 488  | 545  | 0.895 | 46   | 322  | 368  | 440  | 68   | 20   | 197  | 152  | 2024 | 26.9867 | 27.0468 | 0.805444 | 5.86667 | 38.72\n",
       "98   | Stephen Curry\\curryst01     | PG   | 28   | GSW  | 79   | 79   | 2638 | 675  | 1443 | 0.468 | 324  | 789  | 0.411 | 351  | 654  | 0.537 | 0.58  | 325  | 362  | 0.898 | 61   | 292  | 353  | 524  | 142  | 17   | 239  | 183  | 1999 | 25.3038 | 27.2798 | 0.726611 | 6.63291 | 38.5696\n",
       "90   | DeMarcus Cousins\\couside01  | C    | 26   | SAC  | 55   | 55   | 1891 | 505  | 1118 | 0.452 | 95   | 267  | 0.356 | 410  | 851  | 0.482 | 0.494 | 423  | 549  | 0.77  | 115  | 468  | 583  | 266  | 75   | 74   | 207  | 203  | 1528 | 27.7818 | 29.0894 | 0.88059  | 4.83636 | 37.4545\n",
       "215  | Kyrie Irving\\irvinky01      | PG   | 24   | CLE  | 72   | 72   | 2525 | 671  | 1420 | 0.473 | 177  | 441  | 0.401 | 494  | 979  | 0.505 | 0.535 | 297  | 328  | 0.905 | 52   | 178  | 230  | 418  | 83   | 24   | 180  | 157  | 1816 | 25.2222 | 25.8915 | 0.844718 | 5.80556 | 36.8333\n",
       "351  | Chris Paul\\paulch01         | PG   | 31   | LAC  | 61   | 61   | 1921 | 374  | 785  | 0.476 | 124  | 302  | 0.411 | 250  | 483  | 0.518 | 0.555 | 232  | 260  | 0.892 | 40   | 264  | 304  | 563  | 119  | 8    | 147  | 146  | 1104 | 18.0984 | 20.6892 | 0.807643 | 9.22951 | 36.5574\n",
       "... (428 rows omitted)"
      ]
     },
     "execution_count": 8,
     "metadata": {},
     "output_type": "execute_result"
    }
   ],
   "source": [
    "player_stats['APG'] = player_stats['AST'] / player_stats['G']\n",
    "player_stats['PtsAst'] = player_stats['PPG'] + 2 * player_stats['APG']\n",
    "player_stats.sort('PtsAst', descending= True)"
   ]
  },
  {
   "cell_type": "markdown",
   "metadata": {},
   "source": [
    "Take a look at the 'Pos' column. In basketball, players on the same team have different roles, and these are often designated by position. For example, you may notice that players with position 'C' (which stands for center) often have more rebounds (TRB) than players with position 'PG'. When ranking players against each other, it may be valuable to take look at how well they do something *for their position*. That is, compared to the average stats for someone at that position, how much better/worse do they perform. \n",
    "\n",
    "Make a column that 'Z_PPG'"
   ]
  },
  {
   "cell_type": "code",
   "execution_count": 9,
   "metadata": {},
   "outputs": [
    {
     "data": {
      "text/html": [
       "<table border=\"1\" class=\"dataframe\">\n",
       "    <thead>\n",
       "        <tr>\n",
       "            <th>Rk</th> <th>Player</th> <th>Pos</th> <th>Age</th> <th>Tm</th> <th>G</th> <th>GS</th> <th>MP</th> <th>FG</th> <th>FGA</th> <th>FG%</th> <th>3P</th> <th>3PA</th> <th>3P%</th> <th>2P</th> <th>2PA</th> <th>2P%</th> <th>eFG%</th> <th>FT</th> <th>FTA</th> <th>FT%</th> <th>ORB</th> <th>DRB</th> <th>TRB</th> <th>AST</th> <th>STL</th> <th>BLK</th> <th>TOV</th> <th>PF</th> <th>PTS</th> <th>PPG</th> <th>PP36</th> <th>MYeFG%</th> <th>APG</th> <th>PtsAst</th>\n",
       "        </tr>\n",
       "    </thead>\n",
       "    <tbody>\n",
       "        <tr>\n",
       "            <td>1   </td> <td>Alex Abrines\\abrinal01     </td> <td>SG  </td> <td>23  </td> <td>OKC </td> <td>68  </td> <td>6   </td> <td>1055</td> <td>134 </td> <td>341 </td> <td>0.393</td> <td>94  </td> <td>247 </td> <td>0.381</td> <td>40  </td> <td>94  </td> <td>0.426</td> <td>0.531</td> <td>44  </td> <td>49  </td> <td>0.898</td> <td>18  </td> <td>68  </td> <td>86  </td> <td>40  </td> <td>37  </td> <td>8   </td> <td>33  </td> <td>114 </td> <td>406 </td> <td>5.97059</td> <td>13.854 </td> <td>0.63783 </td> <td>0.588235</td> <td>7.14706</td>\n",
       "        </tr>\n",
       "    </tbody>\n",
       "        <tr>\n",
       "            <td>2   </td> <td>Quincy Acy\\acyqu01         </td> <td>PF  </td> <td>26  </td> <td>TOT </td> <td>38  </td> <td>1   </td> <td>558 </td> <td>70  </td> <td>170 </td> <td>0.412</td> <td>37  </td> <td>90  </td> <td>0.411</td> <td>33  </td> <td>80  </td> <td>0.413</td> <td>0.521</td> <td>45  </td> <td>60  </td> <td>0.75 </td> <td>20  </td> <td>95  </td> <td>115 </td> <td>18  </td> <td>14  </td> <td>15  </td> <td>21  </td> <td>67  </td> <td>222 </td> <td>5.84211</td> <td>14.3226</td> <td>0.735294</td> <td>0.473684</td> <td>6.78947</td>\n",
       "        </tr>\n",
       "    </tbody>\n",
       "        <tr>\n",
       "            <td>2   </td> <td>Quincy Acy\\acyqu01         </td> <td>PF  </td> <td>26  </td> <td>BRK </td> <td>32  </td> <td>1   </td> <td>510 </td> <td>65  </td> <td>153 </td> <td>0.425</td> <td>36  </td> <td>83  </td> <td>0.434</td> <td>29  </td> <td>70  </td> <td>0.414</td> <td>0.542</td> <td>43  </td> <td>57  </td> <td>0.754</td> <td>18  </td> <td>89  </td> <td>107 </td> <td>18  </td> <td>14  </td> <td>15  </td> <td>19  </td> <td>58  </td> <td>209 </td> <td>6.53125</td> <td>14.7529</td> <td>0.728758</td> <td>0.5625  </td> <td>7.65625</td>\n",
       "        </tr>\n",
       "    </tbody>\n",
       "        <tr>\n",
       "            <td>3   </td> <td>Steven Adams\\adamsst01     </td> <td>C   </td> <td>23  </td> <td>OKC </td> <td>80  </td> <td>80  </td> <td>2389</td> <td>374 </td> <td>655 </td> <td>0.571</td> <td>0   </td> <td>1   </td> <td>0    </td> <td>374 </td> <td>654 </td> <td>0.572</td> <td>0.571</td> <td>157 </td> <td>257 </td> <td>0.611</td> <td>281 </td> <td>332 </td> <td>613 </td> <td>86  </td> <td>89  </td> <td>78  </td> <td>146 </td> <td>195 </td> <td>905 </td> <td>11.3125</td> <td>13.6375</td> <td>0.999237</td> <td>1.075   </td> <td>13.4625</td>\n",
       "        </tr>\n",
       "    </tbody>\n",
       "        <tr>\n",
       "            <td>4   </td> <td>Arron Afflalo\\afflaar01    </td> <td>SG  </td> <td>31  </td> <td>SAC </td> <td>61  </td> <td>45  </td> <td>1580</td> <td>185 </td> <td>420 </td> <td>0.44 </td> <td>62  </td> <td>151 </td> <td>0.411</td> <td>123 </td> <td>269 </td> <td>0.457</td> <td>0.514</td> <td>83  </td> <td>93  </td> <td>0.892</td> <td>9   </td> <td>116 </td> <td>125 </td> <td>78  </td> <td>21  </td> <td>6   </td> <td>42  </td> <td>104 </td> <td>515 </td> <td>8.44262</td> <td>11.7342</td> <td>0.820238</td> <td>1.27869 </td> <td>11     </td>\n",
       "        </tr>\n",
       "    </tbody>\n",
       "        <tr>\n",
       "            <td>5   </td> <td>Alexis Ajinca\\ajincal01    </td> <td>C   </td> <td>28  </td> <td>NOP </td> <td>39  </td> <td>15  </td> <td>584 </td> <td>89  </td> <td>178 </td> <td>0.5  </td> <td>0   </td> <td>4   </td> <td>0    </td> <td>89  </td> <td>174 </td> <td>0.511</td> <td>0.5  </td> <td>29  </td> <td>40  </td> <td>0.725</td> <td>46  </td> <td>131 </td> <td>177 </td> <td>12  </td> <td>20  </td> <td>22  </td> <td>31  </td> <td>77  </td> <td>207 </td> <td>5.30769</td> <td>12.7603</td> <td>0.988764</td> <td>0.307692</td> <td>5.92308</td>\n",
       "        </tr>\n",
       "    </tbody>\n",
       "        <tr>\n",
       "            <td>7   </td> <td>LaMarcus Aldridge\\aldrila01</td> <td>PF  </td> <td>31  </td> <td>SAS </td> <td>72  </td> <td>72  </td> <td>2335</td> <td>500 </td> <td>1049</td> <td>0.477</td> <td>23  </td> <td>56  </td> <td>0.411</td> <td>477 </td> <td>993 </td> <td>0.48 </td> <td>0.488</td> <td>220 </td> <td>271 </td> <td>0.812</td> <td>172 </td> <td>351 </td> <td>523 </td> <td>139 </td> <td>46  </td> <td>88  </td> <td>98  </td> <td>158 </td> <td>1243</td> <td>17.2639</td> <td>19.164 </td> <td>0.973308</td> <td>1.93056 </td> <td>21.125 </td>\n",
       "        </tr>\n",
       "    </tbody>\n",
       "        <tr>\n",
       "            <td>8   </td> <td>Lavoy Allen\\allenla01      </td> <td>PF  </td> <td>27  </td> <td>IND </td> <td>61  </td> <td>5   </td> <td>871 </td> <td>77  </td> <td>168 </td> <td>0.458</td> <td>0   </td> <td>1   </td> <td>0    </td> <td>77  </td> <td>167 </td> <td>0.461</td> <td>0.458</td> <td>23  </td> <td>33  </td> <td>0.697</td> <td>105 </td> <td>114 </td> <td>219 </td> <td>57  </td> <td>18  </td> <td>24  </td> <td>29  </td> <td>78  </td> <td>177 </td> <td>2.90164</td> <td>7.31573</td> <td>0.997024</td> <td>0.934426</td> <td>4.77049</td>\n",
       "        </tr>\n",
       "    </tbody>\n",
       "        <tr>\n",
       "            <td>9   </td> <td>Tony Allen\\allento01       </td> <td>SG  </td> <td>35  </td> <td>MEM </td> <td>71  </td> <td>66  </td> <td>1914</td> <td>274 </td> <td>595 </td> <td>0.461</td> <td>15  </td> <td>54  </td> <td>0.278</td> <td>259 </td> <td>541 </td> <td>0.479</td> <td>0.473</td> <td>80  </td> <td>130 </td> <td>0.615</td> <td>166 </td> <td>225 </td> <td>391 </td> <td>98  </td> <td>115 </td> <td>29  </td> <td>100 </td> <td>178 </td> <td>643 </td> <td>9.05634</td> <td>12.094 </td> <td>0.954622</td> <td>1.38028 </td> <td>11.8169</td>\n",
       "        </tr>\n",
       "    </tbody>\n",
       "        <tr>\n",
       "            <td>10  </td> <td>Al-Farouq Aminu\\aminual01  </td> <td>SF  </td> <td>26  </td> <td>POR </td> <td>61  </td> <td>25  </td> <td>1773</td> <td>183 </td> <td>466 </td> <td>0.393</td> <td>70  </td> <td>212 </td> <td>0.33 </td> <td>113 </td> <td>254 </td> <td>0.445</td> <td>0.468</td> <td>96  </td> <td>136 </td> <td>0.706</td> <td>77  </td> <td>374 </td> <td>451 </td> <td>99  </td> <td>60  </td> <td>44  </td> <td>94  </td> <td>102 </td> <td>532 </td> <td>8.72131</td> <td>10.802 </td> <td>0.772532</td> <td>1.62295 </td> <td>11.9672</td>\n",
       "        </tr>\n",
       "    </tbody>\n",
       "</table>\n",
       "<p>... (428 rows omitted)</p"
      ],
      "text/plain": [
       "Rk   | Player                      | Pos  | Age  | Tm   | G    | GS   | MP   | FG   | FGA  | FG%   | 3P   | 3PA  | 3P%   | 2P   | 2PA  | 2P%   | eFG%  | FT   | FTA  | FT%   | ORB  | DRB  | TRB  | AST  | STL  | BLK  | TOV  | PF   | PTS  | PPG     | PP36    | MYeFG%   | APG      | PtsAst\n",
       "1    | Alex Abrines\\abrinal01      | SG   | 23   | OKC  | 68   | 6    | 1055 | 134  | 341  | 0.393 | 94   | 247  | 0.381 | 40   | 94   | 0.426 | 0.531 | 44   | 49   | 0.898 | 18   | 68   | 86   | 40   | 37   | 8    | 33   | 114  | 406  | 5.97059 | 13.854  | 0.63783  | 0.588235 | 7.14706\n",
       "2    | Quincy Acy\\acyqu01          | PF   | 26   | TOT  | 38   | 1    | 558  | 70   | 170  | 0.412 | 37   | 90   | 0.411 | 33   | 80   | 0.413 | 0.521 | 45   | 60   | 0.75  | 20   | 95   | 115  | 18   | 14   | 15   | 21   | 67   | 222  | 5.84211 | 14.3226 | 0.735294 | 0.473684 | 6.78947\n",
       "2    | Quincy Acy\\acyqu01          | PF   | 26   | BRK  | 32   | 1    | 510  | 65   | 153  | 0.425 | 36   | 83   | 0.434 | 29   | 70   | 0.414 | 0.542 | 43   | 57   | 0.754 | 18   | 89   | 107  | 18   | 14   | 15   | 19   | 58   | 209  | 6.53125 | 14.7529 | 0.728758 | 0.5625   | 7.65625\n",
       "3    | Steven Adams\\adamsst01      | C    | 23   | OKC  | 80   | 80   | 2389 | 374  | 655  | 0.571 | 0    | 1    | 0     | 374  | 654  | 0.572 | 0.571 | 157  | 257  | 0.611 | 281  | 332  | 613  | 86   | 89   | 78   | 146  | 195  | 905  | 11.3125 | 13.6375 | 0.999237 | 1.075    | 13.4625\n",
       "4    | Arron Afflalo\\afflaar01     | SG   | 31   | SAC  | 61   | 45   | 1580 | 185  | 420  | 0.44  | 62   | 151  | 0.411 | 123  | 269  | 0.457 | 0.514 | 83   | 93   | 0.892 | 9    | 116  | 125  | 78   | 21   | 6    | 42   | 104  | 515  | 8.44262 | 11.7342 | 0.820238 | 1.27869  | 11\n",
       "5    | Alexis Ajinca\\ajincal01     | C    | 28   | NOP  | 39   | 15   | 584  | 89   | 178  | 0.5   | 0    | 4    | 0     | 89   | 174  | 0.511 | 0.5   | 29   | 40   | 0.725 | 46   | 131  | 177  | 12   | 20   | 22   | 31   | 77   | 207  | 5.30769 | 12.7603 | 0.988764 | 0.307692 | 5.92308\n",
       "7    | LaMarcus Aldridge\\aldrila01 | PF   | 31   | SAS  | 72   | 72   | 2335 | 500  | 1049 | 0.477 | 23   | 56   | 0.411 | 477  | 993  | 0.48  | 0.488 | 220  | 271  | 0.812 | 172  | 351  | 523  | 139  | 46   | 88   | 98   | 158  | 1243 | 17.2639 | 19.164  | 0.973308 | 1.93056  | 21.125\n",
       "8    | Lavoy Allen\\allenla01       | PF   | 27   | IND  | 61   | 5    | 871  | 77   | 168  | 0.458 | 0    | 1    | 0     | 77   | 167  | 0.461 | 0.458 | 23   | 33   | 0.697 | 105  | 114  | 219  | 57   | 18   | 24   | 29   | 78   | 177  | 2.90164 | 7.31573 | 0.997024 | 0.934426 | 4.77049\n",
       "9    | Tony Allen\\allento01        | SG   | 35   | MEM  | 71   | 66   | 1914 | 274  | 595  | 0.461 | 15   | 54   | 0.278 | 259  | 541  | 0.479 | 0.473 | 80   | 130  | 0.615 | 166  | 225  | 391  | 98   | 115  | 29   | 100  | 178  | 643  | 9.05634 | 12.094  | 0.954622 | 1.38028  | 11.8169\n",
       "10   | Al-Farouq Aminu\\aminual01   | SF   | 26   | POR  | 61   | 25   | 1773 | 183  | 466  | 0.393 | 70   | 212  | 0.33  | 113  | 254  | 0.445 | 0.468 | 96   | 136  | 0.706 | 77   | 374  | 451  | 99   | 60   | 44   | 94   | 102  | 532  | 8.72131 | 10.802  | 0.772532 | 1.62295  | 11.9672\n",
       "... (428 rows omitted)"
      ]
     },
     "execution_count": 9,
     "metadata": {},
     "output_type": "execute_result"
    }
   ],
   "source": []
  },
  {
   "cell_type": "markdown",
   "metadata": {
    "collapsed": true
   },
   "source": [
    "Now that you've seen a few 'non-trivial' metrics that help rank basketball players, try to make your own custom stat, or combine a few different ones, to rank basketball players. The player whom your metric thinks is the best should be at the top. "
   ]
  },
  {
   "cell_type": "code",
   "execution_count": null,
   "metadata": {
    "collapsed": true
   },
   "outputs": [],
   "source": []
  },
  {
   "cell_type": "code",
   "execution_count": null,
   "metadata": {
    "collapsed": true
   },
   "outputs": [],
   "source": []
  },
  {
   "cell_type": "code",
   "execution_count": null,
   "metadata": {
    "collapsed": true
   },
   "outputs": [],
   "source": []
  }
 ],
 "metadata": {
  "kernelspec": {
   "display_name": "Python 3",
   "language": "python",
   "name": "python3"
  },
  "language_info": {
   "codemirror_mode": {
    "name": "ipython",
    "version": 3
   },
   "file_extension": ".py",
   "mimetype": "text/x-python",
   "name": "python",
   "nbconvert_exporter": "python",
   "pygments_lexer": "ipython3",
   "version": "3.6.1"
  }
 },
 "nbformat": 4,
 "nbformat_minor": 2
}
