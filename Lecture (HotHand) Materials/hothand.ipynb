{
 "cells": [
  {
   "cell_type": "markdown",
   "metadata": {},
   "source": [
    "# [Sports Connector] The Hot Hand"
   ]
  },
  {
   "cell_type": "markdown",
   "metadata": {},
   "source": [
    "# Due: [MM/DD/YY]\n",
    "This notebook focuses on the \"hot hand\" phenomenon and its interactions with probability. Using data from the Minnesota Timberwolves versus the Denver Nuggets game from December 10, 2008, the notebook will emphasize the manipulation of data in order to observe patterns in athletes with alleged \"hot hands.\"\n",
    "\n",
    "Author: Catherine Han"
   ]
  },
  {
   "cell_type": "markdown",
   "metadata": {},
   "source": [
    "# Topics Covered\n",
    "0 - The Data\n",
    "\n",
    "\n",
    "1 - Section 1: Exploring the Phenomenon\n",
    "\n",
    "\n",
    "2 - Section 2: Playing with Probability\n",
    "\n",
    "\n",
    "3 - Section 3: Visualizing Results"
   ]
  },
  {
   "cell_type": "code",
   "execution_count": 21,
   "metadata": {},
   "outputs": [],
   "source": [
    "# Import Statements\n",
    "from datascience import *\n",
    "import numpy as np\n",
    "import pandas as pd\n",
    "%matplotlib inline\n",
    "import matplotlib.pyplot as plt\n",
    "import seaborn as sns"
   ]
  },
  {
   "cell_type": "markdown",
   "metadata": {},
   "source": [
    "<img src=\"https://pixel.nymag.com/imgs/daily/science/2016/08/12/12-hot-hands.w710.h473.2x.gif\" style=\"height:400px;\">"
   ]
  },
  {
   "cell_type": "markdown",
   "metadata": {},
   "source": [
    "# The Data"
   ]
  },
  {
   "cell_type": "markdown",
   "metadata": {},
   "source": [
    "We have provided two `.csv` files, which stands for comma-separated-value files that contain the information for play-by-play data and a mapping of player ID to player name. This information can be found in `PlayByPlayDec102008.csv` and `Player_Map.csv`\n",
    "\n",
    "In the cell below, the two tables are loaded and stored in the names `play_by_play` and `player_map`, respectively."
   ]
  },
  {
   "cell_type": "code",
   "execution_count": 20,
   "metadata": {},
   "outputs": [
    {
     "data": {
      "text/html": [
       "<table border=\"1\" class=\"dataframe\">\n",
       "    <thead>\n",
       "        <tr>\n",
       "            <th>Game_id</th> <th>Season</th> <th>Season_Type</th> <th>Game_No</th> <th>Playoff_Rd</th> <th>Playoff_Rd_Game_No</th> <th>Date</th> <th>Home_Team_id</th> <th>Home_Tm</th> <th>Visitor_Team_id</th> <th>Away_Tm</th> <th>Period</th> <th>Event_Num</th> <th>Wall_Clock_Time</th> <th>Play_Clock_Time</th> <th>Team_Committing_Action</th> <th>Person1</th> <th>Person2</th> <th>Person3</th> <th>Home_PTS</th> <th>Visitor_PTS</th> <th>X_Location</th> <th>Y_Location</th> <th>Description</th> <th>Rebound_Designation</th> <th>Shot_Value</th> <th>Shot_Outcome</th> <th>Shot_Side_of_Ct</th> <th>Shot_Distance</th> <th>General_Description</th> <th>Player1</th> <th>Player2</th> <th>Player3</th> <th>Player4</th> <th>Player5</th> <th>Player6</th> <th>Player7</th> <th>Player8</th> <th>Player9</th> <th>Player10</th>\n",
       "        </tr>\n",
       "    </thead>\n",
       "    <tbody>\n",
       "        <tr>\n",
       "            <td>20800314</td> <td>2008  </td> <td>Regular    </td> <td>314    </td> <td>0         </td> <td>0                 </td> <td>12/10/2008</td> <td>1610612761  </td> <td>TOR    </td> <td>1610612754     </td> <td>IND    </td> <td>1     </td> <td>1        </td> <td>19.2373        </td> <td>720            </td> <td>0                     </td> <td>2547   </td> <td>1725   </td> <td>2551   </td> <td>0       </td> <td>0          </td> <td>0         </td> <td>0         </td> <td>(12:00) Jump Ball Bosh vs Nesterovic            </td> <td>None               </td> <td>0         </td> <td>nan         </td> <td>nan            </td> <td>nan          </td> <td>Jump Ball              </td> <td>979    </td> <td>1725   </td> <td>2211   </td> <td>2547   </td> <td>2551   </td> <td>2574   </td> <td>2605   </td> <td>101122 </td> <td>101181 </td> <td>200081  </td>\n",
       "        </tr>\n",
       "    </tbody>\n",
       "        <tr>\n",
       "            <td>20800314</td> <td>2008  </td> <td>Regular    </td> <td>314    </td> <td>0         </td> <td>0                 </td> <td>12/10/2008</td> <td>1610612761  </td> <td>TOR    </td> <td>1610612754     </td> <td>IND    </td> <td>1     </td> <td>2        </td> <td>19.2461        </td> <td>696            </td> <td>1610612754            </td> <td>2211   </td> <td>979    </td> <td>2532   </td> <td>0       </td> <td>0          </td> <td>0         </td> <td>0         </td> <td>(11:36)[IND] Murphy Foul:Offensive (1 PF)       </td> <td>None               </td> <td>0         </td> <td>nan         </td> <td>nan            </td> <td>nan          </td> <td>Foul: Offensive        </td> <td>979    </td> <td>1725   </td> <td>2211   </td> <td>2547   </td> <td>2551   </td> <td>2574   </td> <td>2605   </td> <td>101122 </td> <td>101181 </td> <td>200081  </td>\n",
       "        </tr>\n",
       "    </tbody>\n",
       "        <tr>\n",
       "            <td>20800314</td> <td>2008  </td> <td>Regular    </td> <td>314    </td> <td>0         </td> <td>0                 </td> <td>12/10/2008</td> <td>1610612761  </td> <td>TOR    </td> <td>1610612754     </td> <td>IND    </td> <td>1     </td> <td>3        </td> <td>19.2461        </td> <td>696            </td> <td>1610612754            </td> <td>2211   </td> <td>0      </td> <td>2532   </td> <td>0       </td> <td>0          </td> <td>0         </td> <td>0         </td> <td>(11:36)[IND] Murphy Turnover:Foul (1 TO)        </td> <td>None               </td> <td>0         </td> <td>nan         </td> <td>nan            </td> <td>nan          </td> <td>Turnover: Foul         </td> <td>979    </td> <td>1725   </td> <td>2211   </td> <td>2547   </td> <td>2551   </td> <td>2574   </td> <td>2605   </td> <td>101122 </td> <td>101181 </td> <td>200081  </td>\n",
       "        </tr>\n",
       "    </tbody>\n",
       "        <tr>\n",
       "            <td>20800314</td> <td>2008  </td> <td>Regular    </td> <td>314    </td> <td>0         </td> <td>0                 </td> <td>12/10/2008</td> <td>1610612761  </td> <td>TOR    </td> <td>1610612754     </td> <td>IND    </td> <td>1     </td> <td>4        </td> <td>19.2553        </td> <td>677            </td> <td>1610612761            </td> <td>979    </td> <td>0      </td> <td>0      </td> <td>0       </td> <td>0          </td> <td>-109      </td> <td>15        </td> <td>(11:17)[TOR] O'Neal Turnaround Jump Shot: Missed</td> <td>None               </td> <td>2         </td> <td>0           </td> <td>L              </td> <td>08_16        </td> <td>Turnaround Jump: Missed</td> <td>979    </td> <td>1725   </td> <td>2211   </td> <td>2547   </td> <td>2551   </td> <td>2574   </td> <td>2605   </td> <td>101122 </td> <td>101181 </td> <td>200081  </td>\n",
       "        </tr>\n",
       "    </tbody>\n",
       "        <tr>\n",
       "            <td>20800314</td> <td>2008  </td> <td>Regular    </td> <td>314    </td> <td>0         </td> <td>0                 </td> <td>12/10/2008</td> <td>1610612761  </td> <td>TOR    </td> <td>1610612754     </td> <td>IND    </td> <td>1     </td> <td>5        </td> <td>19.2557        </td> <td>676            </td> <td>1610612761            </td> <td>2211   </td> <td>0      </td> <td>0      </td> <td>0       </td> <td>0          </td> <td>0         </td> <td>0         </td> <td>(11:16)[IND] Murphy Rebound (Off:0 Def:1)       </td> <td>Defensive          </td> <td>0         </td> <td>nan         </td> <td>nan            </td> <td>nan          </td> <td>Rebound                </td> <td>979    </td> <td>1725   </td> <td>2211   </td> <td>2547   </td> <td>2551   </td> <td>2574   </td> <td>2605   </td> <td>101122 </td> <td>101181 </td> <td>200081  </td>\n",
       "        </tr>\n",
       "    </tbody>\n",
       "</table>\n",
       "<p>... (3981 rows omitted)</p"
      ],
      "text/plain": [
       "<IPython.core.display.HTML object>"
      ]
     },
     "metadata": {},
     "output_type": "display_data"
    },
    {
     "data": {
      "text/html": [
       "<table border=\"1\" class=\"dataframe\">\n",
       "    <thead>\n",
       "        <tr>\n",
       "            <th>Player_id</th> <th>SV_Player_id</th> <th>Name</th>\n",
       "        </tr>\n",
       "    </thead>\n",
       "    <tbody>\n",
       "        <tr>\n",
       "            <td>920      </td> <td>n/a         </td> <td>A.C. Green  </td>\n",
       "        </tr>\n",
       "    </tbody>\n",
       "        <tr>\n",
       "            <td>2062     </td> <td>n/a         </td> <td>A.J. Guyton </td>\n",
       "        </tr>\n",
       "    </tbody>\n",
       "        <tr>\n",
       "            <td>201166   </td> <td>4304        </td> <td>Aaron Brooks</td>\n",
       "        </tr>\n",
       "    </tbody>\n",
       "        <tr>\n",
       "            <td>201189   </td> <td>4326        </td> <td>Aaron Gray  </td>\n",
       "        </tr>\n",
       "    </tbody>\n",
       "        <tr>\n",
       "            <td>243      </td> <td>n/a         </td> <td>Aaron McKie </td>\n",
       "        </tr>\n",
       "    </tbody>\n",
       "</table>\n",
       "<p>... (1076 rows omitted)</p"
      ],
      "text/plain": [
       "<IPython.core.display.HTML object>"
      ]
     },
     "metadata": {},
     "output_type": "display_data"
    }
   ],
   "source": [
    "# Load in the play-by-play data using the Table class's read_table method\n",
    "play_by_play = Table.read_table('PlayByPlayDec102008.csv')\n",
    "\n",
    "# Load in the player identification data using the Table class's read_table method\n",
    "player_map = Table.read_table('Player_Map.csv')\n",
    "\n",
    "# Preview what the resulting tables look like\n",
    "play_by_play.show(5)\n",
    "player_map.show(5)"
   ]
  },
  {
   "cell_type": "markdown",
   "metadata": {},
   "source": [
    "Let's keep our eye on the players who we suspect might have the hot hand. Our metric for determining a player who is on the rise will be arbitrarily defined as someone who scores a nontrivial amount of consecutive points.\n",
    "\n",
    "**Question 1:** Given the tables above, write the code in order to assign `players_of_interest` to a table so that only players who are prospectively \"hot-handed\" are included with their name, ID, and total consecutive points remain as entries."
   ]
  },
  {
   "cell_type": "code",
   "execution_count": 6,
   "metadata": {},
   "outputs": [],
   "source": [
    "# Your code here\n",
    "players_of_interest = ..."
   ]
  },
  {
   "cell_type": "markdown",
   "metadata": {},
   "source": [
    "**Question 2:** With the `players_of_interest` table you created, manipulate the data to determine which player had the most consecutive baskets for this game, and assign it to the name `most_consecutive`!"
   ]
  },
  {
   "cell_type": "code",
   "execution_count": 2,
   "metadata": {},
   "outputs": [],
   "source": [
    "# Your code here\n",
    "most_consecutive = ..."
   ]
  },
  {
   "cell_type": "markdown",
   "metadata": {},
   "source": [
    "# Section 1: Exploring the Phenomenon\n",
    "There has been much debate over whether or not the hot hand really exists; initially regarded as a fallacy, the \"hot hand\" is the phenomenon that a person that experiences successes at a random event will have a greater chance of success in additional tries at the same event.\n",
    "\n",
    "Initially introduced as fallacious by Vallone, Gillovich, and Tversky in their 1985 <a>paper</a>, the \"hot hand\" phenomenon was revisited by Bocskocsky, Ezekowitz, and Stein, who claim that their findings demonstrate statistical significance of the hot hand effect in basketball.\n",
    "\n",
    "Through this notebook, we'll be exploring the sides to both arguments by data analysis and basic probability."
   ]
  },
  {
   "cell_type": "markdown",
   "metadata": {},
   "source": [
    "## Probability Recap"
   ]
  },
  {
   "cell_type": "markdown",
   "metadata": {},
   "source": [
    "**Question 3:** What is the sample set of 4 attempts at shooting a basketball if we use $B$ to represent making a basket and $M$ to represent missing a basket?"
   ]
  },
  {
   "cell_type": "code",
   "execution_count": 19,
   "metadata": {},
   "outputs": [],
   "source": [
    "# Your answer here\n",
    "sample_set = [...]"
   ]
  },
  {
   "cell_type": "markdown",
   "metadata": {},
   "source": [
    "**Question 4:** If Carmelo Anthony shoots a basket with a 45% probability of making the basket, what is the probability that he makes 5 consecutive baskets?"
   ]
  },
  {
   "cell_type": "code",
   "execution_count": 18,
   "metadata": {},
   "outputs": [],
   "source": [
    "# Your code here\n",
    "five_consec = ..."
   ]
  },
  {
   "cell_type": "markdown",
   "metadata": {},
   "source": [
    "**Question 5:** What type of probability distribution does this modeling of Carmelo Anthony's performance follow?"
   ]
  },
  {
   "cell_type": "markdown",
   "metadata": {},
   "source": [
    "[Replace this block with your answer]"
   ]
  },
  {
   "cell_type": "markdown",
   "metadata": {},
   "source": [
    "**Question 6:** Is it accurate and realistically representative of athletes to model them after the probability distribution mentioned above? Justify your answer."
   ]
  },
  {
   "cell_type": "markdown",
   "metadata": {},
   "source": [
    "[Replace this block with your answer]"
   ]
  },
  {
   "cell_type": "markdown",
   "metadata": {},
   "source": [
    "# Section 2: Modeling the \"Hot Hand\""
   ]
  },
  {
   "cell_type": "markdown",
   "metadata": {},
   "source": [
    "## Randomly Generating Data"
   ]
  },
  {
   "cell_type": "markdown",
   "metadata": {},
   "source": [
    "Let's model an individual's probability of making a basket as 50% and missing a basket as 50%.\n",
    "\n",
    "Working with the variables $B$ for making a basket and $M$ for missing a basket, let's analyze the probability distribution for certain \"streaks\" of consecutive baskets, otherwise known as a \"run\" of baskets. We will define a streak as follows: $M$ is making no consecutive baskets, $BM$ is making one consecutive basket, $BBM$ is making two consecutive baskets, etc. In other words, we will define consecutive baskets as the <em>number of baskets we make before our first miss</em>.\n",
    "\n",
    "For 500 trials at making a basket, create a table with the following columns: the number of consecutive baskets and the associated expected number of baskets, labeled `Length of Run of Baskets` and `Expected Number`, respectively."
   ]
  },
  {
   "cell_type": "code",
   "execution_count": 9,
   "metadata": {},
   "outputs": [],
   "source": [
    "# Your code here\n",
    "longest_run_table = ..."
   ]
  },
  {
   "cell_type": "markdown",
   "metadata": {},
   "source": [
    "**Question 7:** Given the table we assigned earlier, `longest_run_table`, create a line graph to visualize the trend for the longest run of 500 trials of shooting a basket."
   ]
  },
  {
   "cell_type": "code",
   "execution_count": 10,
   "metadata": {},
   "outputs": [],
   "source": [
    "# Your code here\n",
    "# Should be a line graph"
   ]
  },
  {
   "cell_type": "markdown",
   "metadata": {},
   "source": [
    "**Question 8:** Based upon the graph that we generated above, what does the data we generated imply about an athlete and the existence of the hot hand?"
   ]
  },
  {
   "cell_type": "markdown",
   "metadata": {},
   "source": [
    "[Replace this block with your answer]"
   ]
  },
  {
   "cell_type": "markdown",
   "metadata": {},
   "source": [
    "# Section 3: Visualizing Results"
   ]
  },
  {
   "cell_type": "markdown",
   "metadata": {},
   "source": [
    "**This isn't consistent with the coordinates given in the play-by-play data, help!**\n",
    "\n",
    "According to the NBA, the X and Y coordinates given in the play-by-play data refer to positions on the court such that the units are tenths of a foot; therefore, the sidelines are -250 and 250 because the court is 50 feet wide (and 94 feet long). Here's an example image of how the coordinate system works for a basketball court:\n",
    "\n",
    "\n",
    "<img src=\"http://www.trbimg.com/img-57167be7/turbine/la-1461091353-snap-photo/767\">\n",
    "\n",
    "Given this coordinate mapping, the `play_by_play` data from earlier, and the player we determined to have the most potential for the \"hot hand,\" create a helper table and a corresponding scatterplot for all of the attempted shots for our prospective player!\n",
    "\n",
    "Use the following hex colors to assign colors to each shot's corresponding point value!\n",
    "<ul>\n",
    "    <li>**0:** #ffffff</li>\n",
    "    <li>**1:** #cceeff</li>\n",
    "    <li>**2:** #80d4ff</li>\n",
    "    <li>**3:** #33bbff</li>\n",
    "</ul>"
   ]
  },
  {
   "cell_type": "markdown",
   "metadata": {},
   "source": [
    "**Question 8:** Create a scatterplot mapping with the color specifications above on attempted shots and their point value."
   ]
  },
  {
   "cell_type": "code",
   "execution_count": 15,
   "metadata": {},
   "outputs": [],
   "source": [
    "# Your code here\n",
    "scatter_table = ..."
   ]
  },
  {
   "cell_type": "markdown",
   "metadata": {},
   "source": [
    "**Question 9:** Observe the scatterplot that we generated; are there any associations that you notice between certain coordinate areas and the number of attempted shots? What about the success or the value of those shots?"
   ]
  },
  {
   "cell_type": "markdown",
   "metadata": {},
   "source": [
    "[Replace this block with your answer]"
   ]
  },
  {
   "cell_type": "markdown",
   "metadata": {},
   "source": [
    "**Question 10:** Given the probabilistic modeling and our observed results in the context of a single player, is the \"hot hand\" truly a fallacy? Use specific evidence from this notebook to support your answer."
   ]
  },
  {
   "cell_type": "markdown",
   "metadata": {},
   "source": [
    "[Replace this block with your answer]"
   ]
  },
  {
   "cell_type": "code",
   "execution_count": null,
   "metadata": {},
   "outputs": [],
   "source": []
  }
 ],
 "metadata": {
  "kernelspec": {
   "display_name": "Python 3",
   "language": "python",
   "name": "python3"
  },
  "language_info": {
   "codemirror_mode": {
    "name": "ipython",
    "version": 3
   },
   "file_extension": ".py",
   "mimetype": "text/x-python",
   "name": "python",
   "nbconvert_exporter": "python",
   "pygments_lexer": "ipython3",
   "version": "3.6.1"
  }
 },
 "nbformat": 4,
 "nbformat_minor": 2
}
