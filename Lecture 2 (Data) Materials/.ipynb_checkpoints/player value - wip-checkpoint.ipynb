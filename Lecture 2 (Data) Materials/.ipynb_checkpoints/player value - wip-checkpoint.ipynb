{
 "cells": [
  {
   "cell_type": "code",
   "execution_count": 1,
   "metadata": {
    "collapsed": true
   },
   "outputs": [],
   "source": [
    "#Some Import Mumbo-Jumbo\n",
    "from datascience import *\n",
    "import numpy as np\n",
    "import pandas as pd\n",
    "%matplotlib inline\n",
    "import matplotlib.pyplot as plt\n",
    "import seaborn as sns"
   ]
  },
  {
   "cell_type": "code",
   "execution_count": 30,
   "metadata": {
    "collapsed": true
   },
   "outputs": [],
   "source": [
    "player_stats = Table().read_table('NBAPlayerStats2017.csv')\n",
    "player_stats = player_stats.where('FGA', are.above(100))"
   ]
  },
  {
   "cell_type": "code",
   "execution_count": 31,
   "metadata": {
    "collapsed": true
   },
   "outputs": [],
   "source": [
    "player_stats['PPG'] = player_stats['PTS'] / player_stats['G']"
   ]
  },
  {
   "cell_type": "code",
   "execution_count": 32,
   "metadata": {},
   "outputs": [
    {
     "data": {
      "text/html": [
       "<table border=\"1\" class=\"dataframe\">\n",
       "    <thead>\n",
       "        <tr>\n",
       "            <th>Rk</th> <th>Player</th> <th>Pos</th> <th>Age</th> <th>Tm</th> <th>G</th> <th>GS</th> <th>MP</th> <th>FG</th> <th>FGA</th> <th>FG%</th> <th>3P</th> <th>3PA</th> <th>3P%</th> <th>2P</th> <th>2PA</th> <th>2P%</th> <th>eFG%</th> <th>FT</th> <th>FTA</th> <th>FT%</th> <th>ORB</th> <th>DRB</th> <th>TRB</th> <th>AST</th> <th>STL</th> <th>BLK</th> <th>TOV</th> <th>PF</th> <th>PTS</th> <th>PPG</th>\n",
       "        </tr>\n",
       "    </thead>\n",
       "    <tbody>\n",
       "        <tr>\n",
       "            <td>458 </td> <td>Russell Westbrook\\westbru01</td> <td>PG  </td> <td>28  </td> <td>OKC </td> <td>81  </td> <td>81  </td> <td>2802</td> <td>824 </td> <td>1941</td> <td>0.425</td> <td>200 </td> <td>583 </td> <td>0.343</td> <td>624 </td> <td>1358</td> <td>0.459</td> <td>0.476</td> <td>710 </td> <td>840 </td> <td>0.845</td> <td>137 </td> <td>727 </td> <td>864 </td> <td>840 </td> <td>132 </td> <td>31  </td> <td>438 </td> <td>190 </td> <td>2558</td> <td>31.5802</td>\n",
       "        </tr>\n",
       "    </tbody>\n",
       "        <tr>\n",
       "            <td>172 </td> <td>James Harden\\hardeja01     </td> <td>PG  </td> <td>27  </td> <td>HOU </td> <td>81  </td> <td>81  </td> <td>2947</td> <td>674 </td> <td>1533</td> <td>0.44 </td> <td>262 </td> <td>756 </td> <td>0.347</td> <td>412 </td> <td>777 </td> <td>0.53 </td> <td>0.525</td> <td>746 </td> <td>881 </td> <td>0.847</td> <td>95  </td> <td>564 </td> <td>659 </td> <td>907 </td> <td>121 </td> <td>38  </td> <td>464 </td> <td>215 </td> <td>2356</td> <td>29.0864</td>\n",
       "        </tr>\n",
       "    </tbody>\n",
       "        <tr>\n",
       "            <td>424 </td> <td>Isaiah Thomas\\thomais02    </td> <td>PG  </td> <td>27  </td> <td>BOS </td> <td>76  </td> <td>76  </td> <td>2569</td> <td>682 </td> <td>1473</td> <td>0.463</td> <td>245 </td> <td>646 </td> <td>0.379</td> <td>437 </td> <td>827 </td> <td>0.528</td> <td>0.546</td> <td>590 </td> <td>649 </td> <td>0.909</td> <td>43  </td> <td>162 </td> <td>205 </td> <td>448 </td> <td>70  </td> <td>13  </td> <td>210 </td> <td>167 </td> <td>2199</td> <td>28.9342</td>\n",
       "        </tr>\n",
       "    </tbody>\n",
       "        <tr>\n",
       "            <td>100 </td> <td>Anthony Davis\\davisan02    </td> <td>C   </td> <td>23  </td> <td>NOP </td> <td>75  </td> <td>75  </td> <td>2708</td> <td>770 </td> <td>1526</td> <td>0.505</td> <td>40  </td> <td>134 </td> <td>0.299</td> <td>730 </td> <td>1392</td> <td>0.524</td> <td>0.518</td> <td>519 </td> <td>647 </td> <td>0.802</td> <td>172 </td> <td>712 </td> <td>884 </td> <td>157 </td> <td>94  </td> <td>167 </td> <td>181 </td> <td>168 </td> <td>2099</td> <td>27.9867</td>\n",
       "        </tr>\n",
       "    </tbody>\n",
       "        <tr>\n",
       "            <td>90  </td> <td>DeMarcus Cousins\\couside01 </td> <td>C   </td> <td>26  </td> <td>SAC </td> <td>55  </td> <td>55  </td> <td>1891</td> <td>505 </td> <td>1118</td> <td>0.452</td> <td>95  </td> <td>267 </td> <td>0.356</td> <td>410 </td> <td>851 </td> <td>0.482</td> <td>0.494</td> <td>423 </td> <td>549 </td> <td>0.77 </td> <td>115 </td> <td>468 </td> <td>583 </td> <td>266 </td> <td>75  </td> <td>74  </td> <td>207 </td> <td>203 </td> <td>1528</td> <td>27.7818</td>\n",
       "        </tr>\n",
       "    </tbody>\n",
       "        <tr>\n",
       "            <td>108 </td> <td>DeMar DeRozan\\derozde01    </td> <td>SG  </td> <td>27  </td> <td>TOR </td> <td>74  </td> <td>74  </td> <td>2620</td> <td>721 </td> <td>1545</td> <td>0.467</td> <td>33  </td> <td>124 </td> <td>0.266</td> <td>688 </td> <td>1421</td> <td>0.484</td> <td>0.477</td> <td>545 </td> <td>647 </td> <td>0.842</td> <td>70  </td> <td>316 </td> <td>386 </td> <td>290 </td> <td>78  </td> <td>13  </td> <td>180 </td> <td>134 </td> <td>2020</td> <td>27.2973</td>\n",
       "        </tr>\n",
       "    </tbody>\n",
       "        <tr>\n",
       "            <td>266 </td> <td>Damian Lillard\\lillada01   </td> <td>PG  </td> <td>26  </td> <td>POR </td> <td>75  </td> <td>75  </td> <td>2694</td> <td>661 </td> <td>1488</td> <td>0.444</td> <td>214 </td> <td>579 </td> <td>0.37 </td> <td>447 </td> <td>909 </td> <td>0.492</td> <td>0.516</td> <td>488 </td> <td>545 </td> <td>0.895</td> <td>46  </td> <td>322 </td> <td>368 </td> <td>440 </td> <td>68  </td> <td>20  </td> <td>197 </td> <td>152 </td> <td>2024</td> <td>26.9867</td>\n",
       "        </tr>\n",
       "    </tbody>\n",
       "        <tr>\n",
       "            <td>90  </td> <td>DeMarcus Cousins\\couside01 </td> <td>C   </td> <td>26  </td> <td>TOT </td> <td>72  </td> <td>72  </td> <td>2465</td> <td>647 </td> <td>1432</td> <td>0.452</td> <td>131 </td> <td>363 </td> <td>0.361</td> <td>516 </td> <td>1069</td> <td>0.483</td> <td>0.498</td> <td>517 </td> <td>670 </td> <td>0.772</td> <td>152 </td> <td>642 </td> <td>794 </td> <td>332 </td> <td>100 </td> <td>93  </td> <td>269 </td> <td>278 </td> <td>1942</td> <td>26.9722</td>\n",
       "        </tr>\n",
       "    </tbody>\n",
       "        <tr>\n",
       "            <td>220 </td> <td>LeBron James\\jamesle01     </td> <td>SF  </td> <td>32  </td> <td>CLE </td> <td>74  </td> <td>74  </td> <td>2794</td> <td>736 </td> <td>1344</td> <td>0.548</td> <td>124 </td> <td>342 </td> <td>0.363</td> <td>612 </td> <td>1002</td> <td>0.611</td> <td>0.594</td> <td>358 </td> <td>531 </td> <td>0.674</td> <td>97  </td> <td>542 </td> <td>639 </td> <td>646 </td> <td>92  </td> <td>44  </td> <td>303 </td> <td>134 </td> <td>1954</td> <td>26.4054</td>\n",
       "        </tr>\n",
       "    </tbody>\n",
       "        <tr>\n",
       "            <td>261 </td> <td>Kawhi Leonard\\leonaka01    </td> <td>SF  </td> <td>25  </td> <td>SAS </td> <td>74  </td> <td>74  </td> <td>2474</td> <td>636 </td> <td>1312</td> <td>0.485</td> <td>147 </td> <td>387 </td> <td>0.38 </td> <td>489 </td> <td>925 </td> <td>0.529</td> <td>0.541</td> <td>469 </td> <td>533 </td> <td>0.88 </td> <td>80  </td> <td>350 </td> <td>430 </td> <td>260 </td> <td>133 </td> <td>55  </td> <td>154 </td> <td>122 </td> <td>1888</td> <td>25.5135</td>\n",
       "        </tr>\n",
       "    </tbody>\n",
       "</table>\n",
       "<p>... (428 rows omitted)</p"
      ],
      "text/plain": [
       "Rk   | Player                      | Pos  | Age  | Tm   | G    | GS   | MP   | FG   | FGA  | FG%   | 3P   | 3PA  | 3P%   | 2P   | 2PA  | 2P%   | eFG%  | FT   | FTA  | FT%   | ORB  | DRB  | TRB  | AST  | STL  | BLK  | TOV  | PF   | PTS  | PPG\n",
       "458  | Russell Westbrook\\westbru01 | PG   | 28   | OKC  | 81   | 81   | 2802 | 824  | 1941 | 0.425 | 200  | 583  | 0.343 | 624  | 1358 | 0.459 | 0.476 | 710  | 840  | 0.845 | 137  | 727  | 864  | 840  | 132  | 31   | 438  | 190  | 2558 | 31.5802\n",
       "172  | James Harden\\hardeja01      | PG   | 27   | HOU  | 81   | 81   | 2947 | 674  | 1533 | 0.44  | 262  | 756  | 0.347 | 412  | 777  | 0.53  | 0.525 | 746  | 881  | 0.847 | 95   | 564  | 659  | 907  | 121  | 38   | 464  | 215  | 2356 | 29.0864\n",
       "424  | Isaiah Thomas\\thomais02     | PG   | 27   | BOS  | 76   | 76   | 2569 | 682  | 1473 | 0.463 | 245  | 646  | 0.379 | 437  | 827  | 0.528 | 0.546 | 590  | 649  | 0.909 | 43   | 162  | 205  | 448  | 70   | 13   | 210  | 167  | 2199 | 28.9342\n",
       "100  | Anthony Davis\\davisan02     | C    | 23   | NOP  | 75   | 75   | 2708 | 770  | 1526 | 0.505 | 40   | 134  | 0.299 | 730  | 1392 | 0.524 | 0.518 | 519  | 647  | 0.802 | 172  | 712  | 884  | 157  | 94   | 167  | 181  | 168  | 2099 | 27.9867\n",
       "90   | DeMarcus Cousins\\couside01  | C    | 26   | SAC  | 55   | 55   | 1891 | 505  | 1118 | 0.452 | 95   | 267  | 0.356 | 410  | 851  | 0.482 | 0.494 | 423  | 549  | 0.77  | 115  | 468  | 583  | 266  | 75   | 74   | 207  | 203  | 1528 | 27.7818\n",
       "108  | DeMar DeRozan\\derozde01     | SG   | 27   | TOR  | 74   | 74   | 2620 | 721  | 1545 | 0.467 | 33   | 124  | 0.266 | 688  | 1421 | 0.484 | 0.477 | 545  | 647  | 0.842 | 70   | 316  | 386  | 290  | 78   | 13   | 180  | 134  | 2020 | 27.2973\n",
       "266  | Damian Lillard\\lillada01    | PG   | 26   | POR  | 75   | 75   | 2694 | 661  | 1488 | 0.444 | 214  | 579  | 0.37  | 447  | 909  | 0.492 | 0.516 | 488  | 545  | 0.895 | 46   | 322  | 368  | 440  | 68   | 20   | 197  | 152  | 2024 | 26.9867\n",
       "90   | DeMarcus Cousins\\couside01  | C    | 26   | TOT  | 72   | 72   | 2465 | 647  | 1432 | 0.452 | 131  | 363  | 0.361 | 516  | 1069 | 0.483 | 0.498 | 517  | 670  | 0.772 | 152  | 642  | 794  | 332  | 100  | 93   | 269  | 278  | 1942 | 26.9722\n",
       "220  | LeBron James\\jamesle01      | SF   | 32   | CLE  | 74   | 74   | 2794 | 736  | 1344 | 0.548 | 124  | 342  | 0.363 | 612  | 1002 | 0.611 | 0.594 | 358  | 531  | 0.674 | 97   | 542  | 639  | 646  | 92   | 44   | 303  | 134  | 1954 | 26.4054\n",
       "261  | Kawhi Leonard\\leonaka01     | SF   | 25   | SAS  | 74   | 74   | 2474 | 636  | 1312 | 0.485 | 147  | 387  | 0.38  | 489  | 925  | 0.529 | 0.541 | 469  | 533  | 0.88  | 80   | 350  | 430  | 260  | 133  | 55   | 154  | 122  | 1888 | 25.5135\n",
       "... (428 rows omitted)"
      ]
     },
     "execution_count": 32,
     "metadata": {},
     "output_type": "execute_result"
    }
   ],
   "source": [
    "player_stats.sort('PPG', descending = True)"
   ]
  },
  {
   "cell_type": "code",
   "execution_count": 33,
   "metadata": {},
   "outputs": [
    {
     "data": {
      "text/html": [
       "<table border=\"1\" class=\"dataframe\">\n",
       "    <thead>\n",
       "        <tr>\n",
       "            <th>Rk</th> <th>Player</th> <th>Pos</th> <th>Age</th> <th>Tm</th> <th>G</th> <th>GS</th> <th>MP</th> <th>FG</th> <th>FGA</th> <th>FG%</th> <th>3P</th> <th>3PA</th> <th>3P%</th> <th>2P</th> <th>2PA</th> <th>2P%</th> <th>eFG%</th> <th>FT</th> <th>FTA</th> <th>FT%</th> <th>ORB</th> <th>DRB</th> <th>TRB</th> <th>AST</th> <th>STL</th> <th>BLK</th> <th>TOV</th> <th>PF</th> <th>PTS</th> <th>PPG</th> <th>PP36</th>\n",
       "        </tr>\n",
       "    </thead>\n",
       "    <tbody>\n",
       "        <tr>\n",
       "            <td>458 </td> <td>Russell Westbrook\\westbru01</td> <td>PG  </td> <td>28  </td> <td>OKC </td> <td>81  </td> <td>81  </td> <td>2802</td> <td>824 </td> <td>1941</td> <td>0.425</td> <td>200 </td> <td>583 </td> <td>0.343</td> <td>624 </td> <td>1358</td> <td>0.459</td> <td>0.476</td> <td>710 </td> <td>840 </td> <td>0.845</td> <td>137 </td> <td>727 </td> <td>864 </td> <td>840 </td> <td>132 </td> <td>31  </td> <td>438 </td> <td>190 </td> <td>2558</td> <td>31.5802</td> <td>32.8651</td>\n",
       "        </tr>\n",
       "    </tbody>\n",
       "        <tr>\n",
       "            <td>424 </td> <td>Isaiah Thomas\\thomais02    </td> <td>PG  </td> <td>27  </td> <td>BOS </td> <td>76  </td> <td>76  </td> <td>2569</td> <td>682 </td> <td>1473</td> <td>0.463</td> <td>245 </td> <td>646 </td> <td>0.379</td> <td>437 </td> <td>827 </td> <td>0.528</td> <td>0.546</td> <td>590 </td> <td>649 </td> <td>0.909</td> <td>43  </td> <td>162 </td> <td>205 </td> <td>448 </td> <td>70  </td> <td>13  </td> <td>210 </td> <td>167 </td> <td>2199</td> <td>28.9342</td> <td>30.8151</td>\n",
       "        </tr>\n",
       "    </tbody>\n",
       "        <tr>\n",
       "            <td>90  </td> <td>DeMarcus Cousins\\couside01 </td> <td>C   </td> <td>26  </td> <td>SAC </td> <td>55  </td> <td>55  </td> <td>1891</td> <td>505 </td> <td>1118</td> <td>0.452</td> <td>95  </td> <td>267 </td> <td>0.356</td> <td>410 </td> <td>851 </td> <td>0.482</td> <td>0.494</td> <td>423 </td> <td>549 </td> <td>0.77 </td> <td>115 </td> <td>468 </td> <td>583 </td> <td>266 </td> <td>75  </td> <td>74  </td> <td>207 </td> <td>203 </td> <td>1528</td> <td>27.7818</td> <td>29.0894</td>\n",
       "        </tr>\n",
       "    </tbody>\n",
       "        <tr>\n",
       "            <td>172 </td> <td>James Harden\\hardeja01     </td> <td>PG  </td> <td>27  </td> <td>HOU </td> <td>81  </td> <td>81  </td> <td>2947</td> <td>674 </td> <td>1533</td> <td>0.44 </td> <td>262 </td> <td>756 </td> <td>0.347</td> <td>412 </td> <td>777 </td> <td>0.53 </td> <td>0.525</td> <td>746 </td> <td>881 </td> <td>0.847</td> <td>95  </td> <td>564 </td> <td>659 </td> <td>907 </td> <td>121 </td> <td>38  </td> <td>464 </td> <td>215 </td> <td>2356</td> <td>29.0864</td> <td>28.7805</td>\n",
       "        </tr>\n",
       "    </tbody>\n",
       "        <tr>\n",
       "            <td>124 </td> <td>Joel Embiid\\embiijo01      </td> <td>C   </td> <td>22  </td> <td>PHI </td> <td>31  </td> <td>31  </td> <td>786 </td> <td>200 </td> <td>429 </td> <td>0.466</td> <td>36  </td> <td>98  </td> <td>0.367</td> <td>164 </td> <td>331 </td> <td>0.495</td> <td>0.508</td> <td>191 </td> <td>244 </td> <td>0.783</td> <td>61  </td> <td>182 </td> <td>243 </td> <td>66  </td> <td>27  </td> <td>76  </td> <td>117 </td> <td>112 </td> <td>627 </td> <td>20.2258</td> <td>28.7176</td>\n",
       "        </tr>\n",
       "    </tbody>\n",
       "        <tr>\n",
       "            <td>90  </td> <td>DeMarcus Cousins\\couside01 </td> <td>C   </td> <td>26  </td> <td>TOT </td> <td>72  </td> <td>72  </td> <td>2465</td> <td>647 </td> <td>1432</td> <td>0.452</td> <td>131 </td> <td>363 </td> <td>0.361</td> <td>516 </td> <td>1069</td> <td>0.483</td> <td>0.498</td> <td>517 </td> <td>670 </td> <td>0.772</td> <td>152 </td> <td>642 </td> <td>794 </td> <td>332 </td> <td>100 </td> <td>93  </td> <td>269 </td> <td>278 </td> <td>1942</td> <td>26.9722</td> <td>28.3619</td>\n",
       "        </tr>\n",
       "    </tbody>\n",
       "        <tr>\n",
       "            <td>100 </td> <td>Anthony Davis\\davisan02    </td> <td>C   </td> <td>23  </td> <td>NOP </td> <td>75  </td> <td>75  </td> <td>2708</td> <td>770 </td> <td>1526</td> <td>0.505</td> <td>40  </td> <td>134 </td> <td>0.299</td> <td>730 </td> <td>1392</td> <td>0.524</td> <td>0.518</td> <td>519 </td> <td>647 </td> <td>0.802</td> <td>172 </td> <td>712 </td> <td>884 </td> <td>157 </td> <td>94  </td> <td>167 </td> <td>181 </td> <td>168 </td> <td>2099</td> <td>27.9867</td> <td>27.904 </td>\n",
       "        </tr>\n",
       "    </tbody>\n",
       "        <tr>\n",
       "            <td>108 </td> <td>DeMar DeRozan\\derozde01    </td> <td>SG  </td> <td>27  </td> <td>TOR </td> <td>74  </td> <td>74  </td> <td>2620</td> <td>721 </td> <td>1545</td> <td>0.467</td> <td>33  </td> <td>124 </td> <td>0.266</td> <td>688 </td> <td>1421</td> <td>0.484</td> <td>0.477</td> <td>545 </td> <td>647 </td> <td>0.842</td> <td>70  </td> <td>316 </td> <td>386 </td> <td>290 </td> <td>78  </td> <td>13  </td> <td>180 </td> <td>134 </td> <td>2020</td> <td>27.2973</td> <td>27.7557</td>\n",
       "        </tr>\n",
       "    </tbody>\n",
       "        <tr>\n",
       "            <td>467 </td> <td>Lou Williams\\willilo02     </td> <td>SG  </td> <td>30  </td> <td>LAL </td> <td>58  </td> <td>1   </td> <td>1403</td> <td>326 </td> <td>734 </td> <td>0.444</td> <td>122 </td> <td>317 </td> <td>0.385</td> <td>204 </td> <td>417 </td> <td>0.489</td> <td>0.527</td> <td>304 </td> <td>344 </td> <td>0.884</td> <td>14  </td> <td>118 </td> <td>132 </td> <td>183 </td> <td>65  </td> <td>11  </td> <td>120 </td> <td>67  </td> <td>1078</td> <td>18.5862</td> <td>27.6607</td>\n",
       "        </tr>\n",
       "    </tbody>\n",
       "        <tr>\n",
       "            <td>261 </td> <td>Kawhi Leonard\\leonaka01    </td> <td>SF  </td> <td>25  </td> <td>SAS </td> <td>74  </td> <td>74  </td> <td>2474</td> <td>636 </td> <td>1312</td> <td>0.485</td> <td>147 </td> <td>387 </td> <td>0.38 </td> <td>489 </td> <td>925 </td> <td>0.529</td> <td>0.541</td> <td>469 </td> <td>533 </td> <td>0.88 </td> <td>80  </td> <td>350 </td> <td>430 </td> <td>260 </td> <td>133 </td> <td>55  </td> <td>154 </td> <td>122 </td> <td>1888</td> <td>25.5135</td> <td>27.4729</td>\n",
       "        </tr>\n",
       "    </tbody>\n",
       "</table>\n",
       "<p>... (428 rows omitted)</p"
      ],
      "text/plain": [
       "Rk   | Player                      | Pos  | Age  | Tm   | G    | GS   | MP   | FG   | FGA  | FG%   | 3P   | 3PA  | 3P%   | 2P   | 2PA  | 2P%   | eFG%  | FT   | FTA  | FT%   | ORB  | DRB  | TRB  | AST  | STL  | BLK  | TOV  | PF   | PTS  | PPG     | PP36\n",
       "458  | Russell Westbrook\\westbru01 | PG   | 28   | OKC  | 81   | 81   | 2802 | 824  | 1941 | 0.425 | 200  | 583  | 0.343 | 624  | 1358 | 0.459 | 0.476 | 710  | 840  | 0.845 | 137  | 727  | 864  | 840  | 132  | 31   | 438  | 190  | 2558 | 31.5802 | 32.8651\n",
       "424  | Isaiah Thomas\\thomais02     | PG   | 27   | BOS  | 76   | 76   | 2569 | 682  | 1473 | 0.463 | 245  | 646  | 0.379 | 437  | 827  | 0.528 | 0.546 | 590  | 649  | 0.909 | 43   | 162  | 205  | 448  | 70   | 13   | 210  | 167  | 2199 | 28.9342 | 30.8151\n",
       "90   | DeMarcus Cousins\\couside01  | C    | 26   | SAC  | 55   | 55   | 1891 | 505  | 1118 | 0.452 | 95   | 267  | 0.356 | 410  | 851  | 0.482 | 0.494 | 423  | 549  | 0.77  | 115  | 468  | 583  | 266  | 75   | 74   | 207  | 203  | 1528 | 27.7818 | 29.0894\n",
       "172  | James Harden\\hardeja01      | PG   | 27   | HOU  | 81   | 81   | 2947 | 674  | 1533 | 0.44  | 262  | 756  | 0.347 | 412  | 777  | 0.53  | 0.525 | 746  | 881  | 0.847 | 95   | 564  | 659  | 907  | 121  | 38   | 464  | 215  | 2356 | 29.0864 | 28.7805\n",
       "124  | Joel Embiid\\embiijo01       | C    | 22   | PHI  | 31   | 31   | 786  | 200  | 429  | 0.466 | 36   | 98   | 0.367 | 164  | 331  | 0.495 | 0.508 | 191  | 244  | 0.783 | 61   | 182  | 243  | 66   | 27   | 76   | 117  | 112  | 627  | 20.2258 | 28.7176\n",
       "90   | DeMarcus Cousins\\couside01  | C    | 26   | TOT  | 72   | 72   | 2465 | 647  | 1432 | 0.452 | 131  | 363  | 0.361 | 516  | 1069 | 0.483 | 0.498 | 517  | 670  | 0.772 | 152  | 642  | 794  | 332  | 100  | 93   | 269  | 278  | 1942 | 26.9722 | 28.3619\n",
       "100  | Anthony Davis\\davisan02     | C    | 23   | NOP  | 75   | 75   | 2708 | 770  | 1526 | 0.505 | 40   | 134  | 0.299 | 730  | 1392 | 0.524 | 0.518 | 519  | 647  | 0.802 | 172  | 712  | 884  | 157  | 94   | 167  | 181  | 168  | 2099 | 27.9867 | 27.904\n",
       "108  | DeMar DeRozan\\derozde01     | SG   | 27   | TOR  | 74   | 74   | 2620 | 721  | 1545 | 0.467 | 33   | 124  | 0.266 | 688  | 1421 | 0.484 | 0.477 | 545  | 647  | 0.842 | 70   | 316  | 386  | 290  | 78   | 13   | 180  | 134  | 2020 | 27.2973 | 27.7557\n",
       "467  | Lou Williams\\willilo02      | SG   | 30   | LAL  | 58   | 1    | 1403 | 326  | 734  | 0.444 | 122  | 317  | 0.385 | 204  | 417  | 0.489 | 0.527 | 304  | 344  | 0.884 | 14   | 118  | 132  | 183  | 65   | 11   | 120  | 67   | 1078 | 18.5862 | 27.6607\n",
       "261  | Kawhi Leonard\\leonaka01     | SF   | 25   | SAS  | 74   | 74   | 2474 | 636  | 1312 | 0.485 | 147  | 387  | 0.38  | 489  | 925  | 0.529 | 0.541 | 469  | 533  | 0.88  | 80   | 350  | 430  | 260  | 133  | 55   | 154  | 122  | 1888 | 25.5135 | 27.4729\n",
       "... (428 rows omitted)"
      ]
     },
     "execution_count": 33,
     "metadata": {},
     "output_type": "execute_result"
    }
   ],
   "source": [
    "player_stats['PP36'] = player_stats['PTS']*36/player_stats['MP']\n",
    "player_stats.sort('PP36', descending= True)"
   ]
  },
  {
   "cell_type": "code",
   "execution_count": 34,
   "metadata": {
    "collapsed": true
   },
   "outputs": [],
   "source": [
    "player_stats['PP36FG'] = player_stats['PP36'] * player_stats['eFG%']"
   ]
  },
  {
   "cell_type": "code",
   "execution_count": 35,
   "metadata": {},
   "outputs": [
    {
     "data": {
      "text/html": [
       "<table border=\"1\" class=\"dataframe\">\n",
       "    <thead>\n",
       "        <tr>\n",
       "            <th>Rk</th> <th>Player</th> <th>Pos</th> <th>Age</th> <th>Tm</th> <th>G</th> <th>GS</th> <th>MP</th> <th>FG</th> <th>FGA</th> <th>FG%</th> <th>3P</th> <th>3PA</th> <th>3P%</th> <th>2P</th> <th>2PA</th> <th>2P%</th> <th>eFG%</th> <th>FT</th> <th>FTA</th> <th>FT%</th> <th>ORB</th> <th>DRB</th> <th>TRB</th> <th>AST</th> <th>STL</th> <th>BLK</th> <th>TOV</th> <th>PF</th> <th>PTS</th> <th>PPG</th> <th>PP36</th> <th>PP36FG</th>\n",
       "        </tr>\n",
       "    </thead>\n",
       "    <tbody>\n",
       "        <tr>\n",
       "            <td>424 </td> <td>Isaiah Thomas\\thomais02    </td> <td>PG  </td> <td>27  </td> <td>BOS </td> <td>76  </td> <td>76  </td> <td>2569</td> <td>682 </td> <td>1473</td> <td>0.463</td> <td>245 </td> <td>646 </td> <td>0.379</td> <td>437 </td> <td>827 </td> <td>0.528</td> <td>0.546</td> <td>590 </td> <td>649 </td> <td>0.909</td> <td>43  </td> <td>162 </td> <td>205 </td> <td>448 </td> <td>70  </td> <td>13  </td> <td>210 </td> <td>167 </td> <td>2199</td> <td>28.9342</td> <td>30.8151</td> <td>16.825 </td>\n",
       "        </tr>\n",
       "    </tbody>\n",
       "        <tr>\n",
       "            <td>119 </td> <td>Kevin Durant\\duranke01     </td> <td>SF  </td> <td>28  </td> <td>GSW </td> <td>62  </td> <td>62  </td> <td>2070</td> <td>551 </td> <td>1026</td> <td>0.537</td> <td>117 </td> <td>312 </td> <td>0.375</td> <td>434 </td> <td>714 </td> <td>0.608</td> <td>0.594</td> <td>336 </td> <td>384 </td> <td>0.875</td> <td>39  </td> <td>474 </td> <td>513 </td> <td>300 </td> <td>66  </td> <td>99  </td> <td>138 </td> <td>117 </td> <td>1555</td> <td>25.0806</td> <td>27.0435</td> <td>16.0638</td>\n",
       "        </tr>\n",
       "    </tbody>\n",
       "        <tr>\n",
       "            <td>98  </td> <td>Stephen Curry\\curryst01    </td> <td>PG  </td> <td>28  </td> <td>GSW </td> <td>79  </td> <td>79  </td> <td>2638</td> <td>675 </td> <td>1443</td> <td>0.468</td> <td>324 </td> <td>789 </td> <td>0.411</td> <td>351 </td> <td>654 </td> <td>0.537</td> <td>0.58 </td> <td>325 </td> <td>362 </td> <td>0.898</td> <td>61  </td> <td>292 </td> <td>353 </td> <td>524 </td> <td>142 </td> <td>17  </td> <td>239 </td> <td>183 </td> <td>1999</td> <td>25.3038</td> <td>27.2798</td> <td>15.8223</td>\n",
       "        </tr>\n",
       "    </tbody>\n",
       "        <tr>\n",
       "            <td>458 </td> <td>Russell Westbrook\\westbru01</td> <td>PG  </td> <td>28  </td> <td>OKC </td> <td>81  </td> <td>81  </td> <td>2802</td> <td>824 </td> <td>1941</td> <td>0.425</td> <td>200 </td> <td>583 </td> <td>0.343</td> <td>624 </td> <td>1358</td> <td>0.459</td> <td>0.476</td> <td>710 </td> <td>840 </td> <td>0.845</td> <td>137 </td> <td>727 </td> <td>864 </td> <td>840 </td> <td>132 </td> <td>31  </td> <td>438 </td> <td>190 </td> <td>2558</td> <td>31.5802</td> <td>32.8651</td> <td>15.6438</td>\n",
       "        </tr>\n",
       "    </tbody>\n",
       "        <tr>\n",
       "            <td>172 </td> <td>James Harden\\hardeja01     </td> <td>PG  </td> <td>27  </td> <td>HOU </td> <td>81  </td> <td>81  </td> <td>2947</td> <td>674 </td> <td>1533</td> <td>0.44 </td> <td>262 </td> <td>756 </td> <td>0.347</td> <td>412 </td> <td>777 </td> <td>0.53 </td> <td>0.525</td> <td>746 </td> <td>881 </td> <td>0.847</td> <td>95  </td> <td>564 </td> <td>659 </td> <td>907 </td> <td>121 </td> <td>38  </td> <td>464 </td> <td>215 </td> <td>2356</td> <td>29.0864</td> <td>28.7805</td> <td>15.1097</td>\n",
       "        </tr>\n",
       "    </tbody>\n",
       "        <tr>\n",
       "            <td>293 </td> <td>JaVale McGee\\mcgeeja01     </td> <td>C   </td> <td>29  </td> <td>GSW </td> <td>77  </td> <td>10  </td> <td>739 </td> <td>208 </td> <td>319 </td> <td>0.652</td> <td>0   </td> <td>3   </td> <td>0    </td> <td>208 </td> <td>316 </td> <td>0.658</td> <td>0.652</td> <td>56  </td> <td>111 </td> <td>0.505</td> <td>100 </td> <td>144 </td> <td>244 </td> <td>17  </td> <td>19  </td> <td>67  </td> <td>40  </td> <td>109 </td> <td>472 </td> <td>6.12987</td> <td>22.9932</td> <td>14.9916</td>\n",
       "        </tr>\n",
       "    </tbody>\n",
       "        <tr>\n",
       "            <td>220 </td> <td>LeBron James\\jamesle01     </td> <td>SF  </td> <td>32  </td> <td>CLE </td> <td>74  </td> <td>74  </td> <td>2794</td> <td>736 </td> <td>1344</td> <td>0.548</td> <td>124 </td> <td>342 </td> <td>0.363</td> <td>612 </td> <td>1002</td> <td>0.611</td> <td>0.594</td> <td>358 </td> <td>531 </td> <td>0.674</td> <td>97  </td> <td>542 </td> <td>639 </td> <td>646 </td> <td>92  </td> <td>44  </td> <td>303 </td> <td>134 </td> <td>1954</td> <td>26.4054</td> <td>25.1768</td> <td>14.955 </td>\n",
       "        </tr>\n",
       "    </tbody>\n",
       "        <tr>\n",
       "            <td>261 </td> <td>Kawhi Leonard\\leonaka01    </td> <td>SF  </td> <td>25  </td> <td>SAS </td> <td>74  </td> <td>74  </td> <td>2474</td> <td>636 </td> <td>1312</td> <td>0.485</td> <td>147 </td> <td>387 </td> <td>0.38 </td> <td>489 </td> <td>925 </td> <td>0.529</td> <td>0.541</td> <td>469 </td> <td>533 </td> <td>0.88 </td> <td>80  </td> <td>350 </td> <td>430 </td> <td>260 </td> <td>133 </td> <td>55  </td> <td>154 </td> <td>122 </td> <td>1888</td> <td>25.5135</td> <td>27.4729</td> <td>14.8628</td>\n",
       "        </tr>\n",
       "    </tbody>\n",
       "        <tr>\n",
       "            <td>124 </td> <td>Joel Embiid\\embiijo01      </td> <td>C   </td> <td>22  </td> <td>PHI </td> <td>31  </td> <td>31  </td> <td>786 </td> <td>200 </td> <td>429 </td> <td>0.466</td> <td>36  </td> <td>98  </td> <td>0.367</td> <td>164 </td> <td>331 </td> <td>0.495</td> <td>0.508</td> <td>191 </td> <td>244 </td> <td>0.783</td> <td>61  </td> <td>182 </td> <td>243 </td> <td>66  </td> <td>27  </td> <td>76  </td> <td>117 </td> <td>112 </td> <td>627 </td> <td>20.2258</td> <td>28.7176</td> <td>14.5885</td>\n",
       "        </tr>\n",
       "    </tbody>\n",
       "        <tr>\n",
       "            <td>467 </td> <td>Lou Williams\\willilo02     </td> <td>SG  </td> <td>30  </td> <td>LAL </td> <td>58  </td> <td>1   </td> <td>1403</td> <td>326 </td> <td>734 </td> <td>0.444</td> <td>122 </td> <td>317 </td> <td>0.385</td> <td>204 </td> <td>417 </td> <td>0.489</td> <td>0.527</td> <td>304 </td> <td>344 </td> <td>0.884</td> <td>14  </td> <td>118 </td> <td>132 </td> <td>183 </td> <td>65  </td> <td>11  </td> <td>120 </td> <td>67  </td> <td>1078</td> <td>18.5862</td> <td>27.6607</td> <td>14.5772</td>\n",
       "        </tr>\n",
       "    </tbody>\n",
       "</table>\n",
       "<p>... (428 rows omitted)</p"
      ],
      "text/plain": [
       "Rk   | Player                      | Pos  | Age  | Tm   | G    | GS   | MP   | FG   | FGA  | FG%   | 3P   | 3PA  | 3P%   | 2P   | 2PA  | 2P%   | eFG%  | FT   | FTA  | FT%   | ORB  | DRB  | TRB  | AST  | STL  | BLK  | TOV  | PF   | PTS  | PPG     | PP36    | PP36FG\n",
       "424  | Isaiah Thomas\\thomais02     | PG   | 27   | BOS  | 76   | 76   | 2569 | 682  | 1473 | 0.463 | 245  | 646  | 0.379 | 437  | 827  | 0.528 | 0.546 | 590  | 649  | 0.909 | 43   | 162  | 205  | 448  | 70   | 13   | 210  | 167  | 2199 | 28.9342 | 30.8151 | 16.825\n",
       "119  | Kevin Durant\\duranke01      | SF   | 28   | GSW  | 62   | 62   | 2070 | 551  | 1026 | 0.537 | 117  | 312  | 0.375 | 434  | 714  | 0.608 | 0.594 | 336  | 384  | 0.875 | 39   | 474  | 513  | 300  | 66   | 99   | 138  | 117  | 1555 | 25.0806 | 27.0435 | 16.0638\n",
       "98   | Stephen Curry\\curryst01     | PG   | 28   | GSW  | 79   | 79   | 2638 | 675  | 1443 | 0.468 | 324  | 789  | 0.411 | 351  | 654  | 0.537 | 0.58  | 325  | 362  | 0.898 | 61   | 292  | 353  | 524  | 142  | 17   | 239  | 183  | 1999 | 25.3038 | 27.2798 | 15.8223\n",
       "458  | Russell Westbrook\\westbru01 | PG   | 28   | OKC  | 81   | 81   | 2802 | 824  | 1941 | 0.425 | 200  | 583  | 0.343 | 624  | 1358 | 0.459 | 0.476 | 710  | 840  | 0.845 | 137  | 727  | 864  | 840  | 132  | 31   | 438  | 190  | 2558 | 31.5802 | 32.8651 | 15.6438\n",
       "172  | James Harden\\hardeja01      | PG   | 27   | HOU  | 81   | 81   | 2947 | 674  | 1533 | 0.44  | 262  | 756  | 0.347 | 412  | 777  | 0.53  | 0.525 | 746  | 881  | 0.847 | 95   | 564  | 659  | 907  | 121  | 38   | 464  | 215  | 2356 | 29.0864 | 28.7805 | 15.1097\n",
       "293  | JaVale McGee\\mcgeeja01      | C    | 29   | GSW  | 77   | 10   | 739  | 208  | 319  | 0.652 | 0    | 3    | 0     | 208  | 316  | 0.658 | 0.652 | 56   | 111  | 0.505 | 100  | 144  | 244  | 17   | 19   | 67   | 40   | 109  | 472  | 6.12987 | 22.9932 | 14.9916\n",
       "220  | LeBron James\\jamesle01      | SF   | 32   | CLE  | 74   | 74   | 2794 | 736  | 1344 | 0.548 | 124  | 342  | 0.363 | 612  | 1002 | 0.611 | 0.594 | 358  | 531  | 0.674 | 97   | 542  | 639  | 646  | 92   | 44   | 303  | 134  | 1954 | 26.4054 | 25.1768 | 14.955\n",
       "261  | Kawhi Leonard\\leonaka01     | SF   | 25   | SAS  | 74   | 74   | 2474 | 636  | 1312 | 0.485 | 147  | 387  | 0.38  | 489  | 925  | 0.529 | 0.541 | 469  | 533  | 0.88  | 80   | 350  | 430  | 260  | 133  | 55   | 154  | 122  | 1888 | 25.5135 | 27.4729 | 14.8628\n",
       "124  | Joel Embiid\\embiijo01       | C    | 22   | PHI  | 31   | 31   | 786  | 200  | 429  | 0.466 | 36   | 98   | 0.367 | 164  | 331  | 0.495 | 0.508 | 191  | 244  | 0.783 | 61   | 182  | 243  | 66   | 27   | 76   | 117  | 112  | 627  | 20.2258 | 28.7176 | 14.5885\n",
       "467  | Lou Williams\\willilo02      | SG   | 30   | LAL  | 58   | 1    | 1403 | 326  | 734  | 0.444 | 122  | 317  | 0.385 | 204  | 417  | 0.489 | 0.527 | 304  | 344  | 0.884 | 14   | 118  | 132  | 183  | 65   | 11   | 120  | 67   | 1078 | 18.5862 | 27.6607 | 14.5772\n",
       "... (428 rows omitted)"
      ]
     },
     "execution_count": 35,
     "metadata": {},
     "output_type": "execute_result"
    }
   ],
   "source": [
    "player_stats.sort('PP36FG', descending=True)"
   ]
  },
  {
   "cell_type": "code",
   "execution_count": 39,
   "metadata": {
    "collapsed": true
   },
   "outputs": [],
   "source": [
    "# https://www.basketball-reference.com/about/bpm.html"
   ]
  },
  {
   "cell_type": "code",
   "execution_count": null,
   "metadata": {
    "collapsed": true
   },
   "outputs": [],
   "source": []
  }
 ],
 "metadata": {
  "kernelspec": {
   "display_name": "Python 3",
   "language": "python",
   "name": "python3"
  },
  "language_info": {
   "codemirror_mode": {
    "name": "ipython",
    "version": 3
   },
   "file_extension": ".py",
   "mimetype": "text/x-python",
   "name": "python",
   "nbconvert_exporter": "python",
   "pygments_lexer": "ipython3",
   "version": "3.6.1"
  }
 },
 "nbformat": 4,
 "nbformat_minor": 2
}
