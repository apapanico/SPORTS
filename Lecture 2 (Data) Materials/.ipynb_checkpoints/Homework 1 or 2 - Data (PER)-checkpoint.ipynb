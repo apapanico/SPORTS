{
 "cells": [
  {
   "cell_type": "markdown",
   "metadata": {},
   "source": [
    "# [Sports Connector] Homework 1 or 2\n",
    "\n",
    "\n",
    "---\n",
    "<img src=\"http://www.mercurynews.com/wp-content/uploads/2017/02/sjm-stancalbkc-0218-01.jpg?w=620\" style=\"width: 300px; height: 450px;\" />\n",
    "\n",
    "### Professor XXX\n",
    "\n",
    "A brief description of the notebook and how it fits into the overall module and domain.\n",
    "\n",
    "This notebook focuses on calculating Player Efficiency Rating given Raw NBA Player Data. This is a relatively easy, albeit long, calculation so this notebook is focused on manipulating the data in order to calculate this metric for the 2016-17 NBA season. \n",
    "\n",
    "*Estimated Time: X minutes*\n",
    "\n",
    "---\n",
    "\n",
    "### Topics Covered\n",
    "- Tables\n",
    "- Expressions/Arrays\n",
    "- Grouping\n",
    "- Data Cleaning\n",
    "\n",
    "### Table of Contents\n",
    "\n",
    "0 - [The Data](#section data)<br>\n",
    "\n",
    "1 - [Section 1](#section 1)<br>\n",
    "\n",
    "2 - [Section 2](#section 2)<br>\n",
    "\n",
    "3 - [Section 3](#section 3)<br>\n",
    "\n",
    "&nbsp;&nbsp;&nbsp;&nbsp;&nbsp;&nbsp; 1 - [Subsection 1](#subsection 1)\n",
    "\n",
    "\n",
    "\n",
    "**Dependencies:**"
   ]
  },
  {
   "cell_type": "code",
   "execution_count": 1,
   "metadata": {
    "collapsed": true
   },
   "outputs": [],
   "source": [
    "#Some Import Mumbo-Jumbo\n",
    "from datascience import *\n",
    "import numpy as np\n",
    "import pandas as pd\n",
    "%matplotlib inline\n",
    "import matplotlib.pyplot as plt\n",
    "import seaborn as sns"
   ]
  },
  {
   "cell_type": "markdown",
   "metadata": {},
   "source": [
    "Ask students questions to get them thinking about the data themselves. Make sure it is clear that this text is a question they have to answer and give them a clear place to answer the question."
   ]
  },
  {
   "cell_type": "markdown",
   "metadata": {},
   "source": [
    "---\n",
    "\n",
    "## The Data\n",
    "\n",
    "<b>Example</b>: In this notebook, you'll be working the total stats of all players from the 2016-17 NBA season. The metrics contain each player's unique totals for statistics like Points, Assists, Rebounds, Blocks and Steals. The data itself cn be found on Basketball Reference, a popular website for basketball datasets. You'll see likely see us use data from here a couple of times in this course. You can find our dataset and more information available  <a href = https://www.basketball-reference.com/leagues/NBA_2017> here. </a>.\n",
    "\n",
    "---\n",
    "\n",
    "## Section 1: Understanding the Task  <a id='section 1'></a>"
   ]
  },
  {
   "cell_type": "markdown",
   "metadata": {},
   "source": [
    "John Hollinger was an NBA columnist for ESPN.com for eight years and is currently the Vice President of Basketball Operations for the Memphis Grizzlies. While at ESPN, he coined many advanced metrics in order to quantify player and team performance, such as Player Efficiency Rating (PER), Offensive Efficiency, Defensive Efficiency and Pace Factor.\n",
    "\n",
    "Today, we're going to look at Player Efficiency Rating. PER is a rating of a player’s per-minute statistical performance that Hollinger developed to make player comparisons easier, and has become a widely used standard over the past decade. Hollinger has described PER as the sum of <a href http://www.espn.com/nba/columns/story?columnist=hollinger_john&id=2850240> \"all a player's positive accomplishments, subtracts the negative accomplishments, and returns a per-minute rating of a player's performance.\"</a>\n",
    "\n",
    "As PER attempts to be an all-encompassing number that looks at positive accomplishments, such as like field goals, free throws, 3-pointers, assists, rebounds, blocks and steals, and negative results, such as missed shots, turnovers and fouls. \n",
    "\n",
    "The formula adds positive stats and subtracts negative ones through a statistical point value system. The rating for each player is then adjusted to a per-minute basis so that no player is negatively impcted by lack of playing time. It is also adjusted for pace of play. In the end, PER serves as one number that attempts to create an overall player score.\n"
   ]
  },
  {
   "cell_type": "markdown",
   "metadata": {},
   "source": [
    "---\n",
    "\n",
    "<b>Question 1:</b> Since PER attempts to be an all-encompassing number, it attempts to create an overall score. Choose your favorite sport, other than basketball. What do you think should go into an overall score rating for players in that sport? \n",
    "\n",
    "<b>Answer:</b>\n",
    "\n",
    "---\n"
   ]
  },
  {
   "cell_type": "markdown",
   "metadata": {},
   "source": [
    "$$\\ PER = \\left ( uPER \\times \\frac{lgPace}{tmPace} \\right ) \\times \\frac{15}{lguPER} $$\n",
    "\n",
    "Where:\n",
    "* ''uPER'' stands for unadjusted PER\n",
    "* ''tm'', the prefix, indicating of team rather than of player;\n",
    "* ''lg'', the prefix, indicating of league rather than of player;\n",
    "* ''Pace'' is related to the style of play of a team. We'll also get there later.\n",
    "\n",
    "$$uPER = \\frac{1}{min} \\times \\left ( 3P - \\frac{PF \\times lgFT}{lgPF} + \\left [ \\frac{FT}{2} \\times \\left ( 2 - \\frac{tmAST}{3 \\times tmFG} \\right ) \\right ] + \\left [ FG \\times \\left ( 2 - \\frac{factor \\times tmAST}{tmFG} \\right ) \\right ] + \\frac{2 \\times AST}{3} + VOP \\times \\left [ DRBP \\times \\left ( 2 \\times ORB + BLK - 0.2464 \\times \\left [ FTA - FT \\right ] - \\left [ FGA - FG \\right ] - TRB \\right ) + \\frac{0.44 \\times lgFTA \\times PF}{lgPF} - \\left ( TO + ORB \\right ) + STL + TRB - 0.1936 \\left (FTA - FT \\right ) \\right ] \\right )$$"
   ]
  },
  {
   "cell_type": "markdown",
   "metadata": {},
   "source": [
    "---\n",
    "\n",
    "<b>Question 2:</b> Does anything interesting stand out to you initially about that formula?\n",
    "    \n",
    "<b>Answer:</b>\n",
    "\n",
    "---\n"
   ]
  },
  {
   "cell_type": "markdown",
   "metadata": {},
   "source": [
    "Ok! Now, let's look at the data we have available. \n",
    "\n",
    "Here are the columns in the table below. It's pretty standard if you follow basketball.\n",
    "* Rk -- Rank\n",
    "* Pos -- Position\n",
    "* Age -- Age of Player at the start of February 1st of that season.\n",
    "* Tm -- Team\n",
    "* G -- Games\n",
    "* GS -- Games Started\n",
    "* MP -- Minutes Played\n",
    "* FG -- Field Goals\n",
    "* FGA -- Field Goal Attempts\n",
    "* FG% -- Field Goal Percentage\n",
    "* 3P -- 3-Point Field Goals\n",
    "* 3PA -- 3-Point Field Goal Attempts\n",
    "* 3P% -- 3-Point Field Goal Percentage\n",
    "* 2P -- 2-Point Field Goals\n",
    "* 2PA -- 2-point Field Goal Attempts\n",
    "* 2P% -- 2-Point Field Goal Percentage\n",
    "* eFG% -- Effective Field Goal Percentage (<a href https://www.sportingcharts.com/dictionary/nba/effective-field-goal-percentage-efg.aspx> More Info </a> )\n",
    "* FT -- Free Throws\n",
    "* FTA -- Free Throw Attempts\n",
    "* FT% -- Free Throw Percentage\n",
    "* ORB -- Offensive Rebounds\n",
    "* DRB -- Defensive Rebounds\n",
    "* TRB -- Total Rebounds\n",
    "* AST -- Assists\n",
    "* STL -- Steals\n",
    "* BLK -- Blocks\n",
    "* TOV -- Turnovers\n",
    "* PF -- Personal Fouls\n",
    "* PTS -- Points\n",
    "\n",
    "\n",
    "You'll notice that our data has some players appearing more than once. That is because that player was traded or moved teams in the middle of the season. \n",
    "\n",
    "*For example:* Quincy Acy played 38 games total (TOT). Of those, 32 games were played for the Brooklyn Nets (BRK) and 6 were played for the Dallas Mavericks (DAL)"
   ]
  },
  {
   "cell_type": "code",
   "execution_count": 4,
   "metadata": {
    "collapsed": false
   },
   "outputs": [
    {
     "data": {
      "text/html": [
       "<table border=\"1\" class=\"dataframe\">\n",
       "    <thead>\n",
       "        <tr>\n",
       "            <th>Rk</th> <th>Player</th> <th>Pos</th> <th>Age</th> <th>Tm</th> <th>G</th> <th>GS</th> <th>MP</th> <th>FG</th> <th>FGA</th> <th>FG%</th> <th>3P</th> <th>3PA</th> <th>3P%</th> <th>2P</th> <th>2PA</th> <th>2P%</th> <th>eFG%</th> <th>FT</th> <th>FTA</th> <th>FT%</th> <th>ORB</th> <th>DRB</th> <th>TRB</th> <th>AST</th> <th>STL</th> <th>BLK</th> <th>TOV</th> <th>PF</th> <th>PTS</th>\n",
       "        </tr>\n",
       "    </thead>\n",
       "    <tbody>\n",
       "        <tr>\n",
       "            <td>1   </td> <td>Alex Abrines</td> <td>SG  </td> <td>23  </td> <td>OKC </td> <td>68  </td> <td>6   </td> <td>1055</td> <td>134 </td> <td>341 </td> <td>0.393</td> <td>94  </td> <td>247 </td> <td>0.381</td> <td>40  </td> <td>94  </td> <td>0.426</td> <td>0.531</td> <td>44  </td> <td>49  </td> <td>0.898</td> <td>18  </td> <td>68  </td> <td>86  </td> <td>40  </td> <td>37  </td> <td>8   </td> <td>33  </td> <td>114 </td> <td>406 </td>\n",
       "        </tr>\n",
       "    </tbody>\n",
       "        <tr>\n",
       "            <td>2   </td> <td>Quincy Acy  </td> <td>PF  </td> <td>26  </td> <td>TOT </td> <td>38  </td> <td>1   </td> <td>558 </td> <td>70  </td> <td>170 </td> <td>0.412</td> <td>37  </td> <td>90  </td> <td>0.411</td> <td>33  </td> <td>80  </td> <td>0.413</td> <td>0.521</td> <td>45  </td> <td>60  </td> <td>0.75 </td> <td>20  </td> <td>95  </td> <td>115 </td> <td>18  </td> <td>14  </td> <td>15  </td> <td>21  </td> <td>67  </td> <td>222 </td>\n",
       "        </tr>\n",
       "    </tbody>\n",
       "        <tr>\n",
       "            <td>2   </td> <td>Quincy Acy  </td> <td>PF  </td> <td>26  </td> <td>DAL </td> <td>6   </td> <td>0   </td> <td>48  </td> <td>5   </td> <td>17  </td> <td>0.294</td> <td>1   </td> <td>7   </td> <td>0.143</td> <td>4   </td> <td>10  </td> <td>0.4  </td> <td>0.324</td> <td>2   </td> <td>3   </td> <td>0.667</td> <td>2   </td> <td>6   </td> <td>8   </td> <td>0   </td> <td>0   </td> <td>0   </td> <td>2   </td> <td>9   </td> <td>13  </td>\n",
       "        </tr>\n",
       "    </tbody>\n",
       "        <tr>\n",
       "            <td>2   </td> <td>Quincy Acy  </td> <td>PF  </td> <td>26  </td> <td>BRK </td> <td>32  </td> <td>1   </td> <td>510 </td> <td>65  </td> <td>153 </td> <td>0.425</td> <td>36  </td> <td>83  </td> <td>0.434</td> <td>29  </td> <td>70  </td> <td>0.414</td> <td>0.542</td> <td>43  </td> <td>57  </td> <td>0.754</td> <td>18  </td> <td>89  </td> <td>107 </td> <td>18  </td> <td>14  </td> <td>15  </td> <td>19  </td> <td>58  </td> <td>209 </td>\n",
       "        </tr>\n",
       "    </tbody>\n",
       "        <tr>\n",
       "            <td>3   </td> <td>Steven Adams</td> <td>C   </td> <td>23  </td> <td>OKC </td> <td>80  </td> <td>80  </td> <td>2389</td> <td>374 </td> <td>655 </td> <td>0.571</td> <td>0   </td> <td>1   </td> <td>0    </td> <td>374 </td> <td>654 </td> <td>0.572</td> <td>0.571</td> <td>157 </td> <td>257 </td> <td>0.611</td> <td>281 </td> <td>332 </td> <td>613 </td> <td>86  </td> <td>89  </td> <td>78  </td> <td>146 </td> <td>195 </td> <td>905 </td>\n",
       "        </tr>\n",
       "    </tbody>\n",
       "</table>"
      ],
      "text/plain": [
       "Rk   | Player       | Pos  | Age  | Tm   | G    | GS   | MP   | FG   | FGA  | FG%   | 3P   | 3PA  | 3P%   | 2P   | 2PA  | 2P%   | eFG%  | FT   | FTA  | FT%   | ORB  | DRB  | TRB  | AST  | STL  | BLK  | TOV  | PF   | PTS\n",
       "1    | Alex Abrines | SG   | 23   | OKC  | 68   | 6    | 1055 | 134  | 341  | 0.393 | 94   | 247  | 0.381 | 40   | 94   | 0.426 | 0.531 | 44   | 49   | 0.898 | 18   | 68   | 86   | 40   | 37   | 8    | 33   | 114  | 406\n",
       "2    | Quincy Acy   | PF   | 26   | TOT  | 38   | 1    | 558  | 70   | 170  | 0.412 | 37   | 90   | 0.411 | 33   | 80   | 0.413 | 0.521 | 45   | 60   | 0.75  | 20   | 95   | 115  | 18   | 14   | 15   | 21   | 67   | 222\n",
       "2    | Quincy Acy   | PF   | 26   | DAL  | 6    | 0    | 48   | 5    | 17   | 0.294 | 1    | 7    | 0.143 | 4    | 10   | 0.4   | 0.324 | 2    | 3    | 0.667 | 2    | 6    | 8    | 0    | 0    | 0    | 2    | 9    | 13\n",
       "2    | Quincy Acy   | PF   | 26   | BRK  | 32   | 1    | 510  | 65   | 153  | 0.425 | 36   | 83   | 0.434 | 29   | 70   | 0.414 | 0.542 | 43   | 57   | 0.754 | 18   | 89   | 107  | 18   | 14   | 15   | 19   | 58   | 209\n",
       "3    | Steven Adams | C    | 23   | OKC  | 80   | 80   | 2389 | 374  | 655  | 0.571 | 0    | 1    | 0     | 374  | 654  | 0.572 | 0.571 | 157  | 257  | 0.611 | 281  | 332  | 613  | 86   | 89   | 78   | 146  | 195  | 905"
      ]
     },
     "execution_count": 4,
     "metadata": {},
     "output_type": "execute_result"
    }
   ],
   "source": [
    "# CODE\n",
    "player_stats = Table().read_table('NBAPlayerStats2017c.csv')\n",
    "player_stats.take(np.arange(5))"
   ]
  },
  {
   "cell_type": "markdown",
   "metadata": {},
   "source": [
    "Now for some coding:\n",
    "\n",
    "---\n",
    "<b>Question 3:</b> How many minutes were played in the 2016-17 season? **Hint: Don't forget about duplicates**\n",
    "\n",
    "<b>Answer:</b>\n",
    "\n",
    "---"
   ]
  },
  {
   "cell_type": "code",
   "execution_count": 7,
   "metadata": {
    "collapsed": false
   },
   "outputs": [
    {
     "data": {
      "text/plain": [
       "594404"
      ]
     },
     "execution_count": 7,
     "metadata": {},
     "output_type": "execute_result"
    }
   ],
   "source": [
    "#CODE Answer\n",
    "sum(player_stats.where('Tm', are.not_equal_to('TOT')).column('MP'))"
   ]
  },
  {
   "cell_type": "markdown",
   "metadata": {},
   "source": [
    "Let's remove those pesky duplicates.\n",
    "\n",
    "---\n",
    "<b>Question 3.5:</b> Remove all instances of Team Name 'TOT' from player_stats.\n",
    "\n",
    "<b>Answer:</b>\n",
    "\n",
    "---"
   ]
  },
  {
   "cell_type": "code",
   "execution_count": 51,
   "metadata": {
    "collapsed": false
   },
   "outputs": [],
   "source": [
    "#Code Answer\n",
    "player_stats = player_stats.where('Tm', are.not_equal_to('TOT'))"
   ]
  },
  {
   "cell_type": "markdown",
   "metadata": {},
   "source": [
    "\n",
    "\n",
    "---\n",
    "<b>Question 4:</b> Sort the table by a few stats that you think might be relevant. Show one sorted example in the block below. Based on your sorting, who do you think will have the highest PER in the data and why?\n",
    "\n",
    "<b>Answer:</b>\n",
    "\n",
    "---"
   ]
  },
  {
   "cell_type": "code",
   "execution_count": 9,
   "metadata": {
    "collapsed": false
   },
   "outputs": [
    {
     "data": {
      "text/html": [
       "<table border=\"1\" class=\"dataframe\">\n",
       "    <thead>\n",
       "        <tr>\n",
       "            <th>Rk</th> <th>Player</th> <th>Pos</th> <th>Age</th> <th>Tm</th> <th>G</th> <th>GS</th> <th>MP</th> <th>FG</th> <th>FGA</th> <th>FG%</th> <th>3P</th> <th>3PA</th> <th>3P%</th> <th>2P</th> <th>2PA</th> <th>2P%</th> <th>eFG%</th> <th>FT</th> <th>FTA</th> <th>FT%</th> <th>ORB</th> <th>DRB</th> <th>TRB</th> <th>AST</th> <th>STL</th> <th>BLK</th> <th>TOV</th> <th>PF</th> <th>PTS</th>\n",
       "        </tr>\n",
       "    </thead>\n",
       "    <tbody>\n",
       "        <tr>\n",
       "            <td>458 </td> <td>Russell Westbrook </td> <td>PG  </td> <td>28  </td> <td>OKC </td> <td>81  </td> <td>81  </td> <td>2802</td> <td>824 </td> <td>1941</td> <td>0.425</td> <td>200 </td> <td>583 </td> <td>0.343</td> <td>624 </td> <td>1358</td> <td>0.459</td> <td>0.476</td> <td>710 </td> <td>840 </td> <td>0.845</td> <td>137 </td> <td>727 </td> <td>864 </td> <td>840 </td> <td>132 </td> <td>31  </td> <td>438 </td> <td>190 </td> <td>2558</td>\n",
       "        </tr>\n",
       "    </tbody>\n",
       "        <tr>\n",
       "            <td>172 </td> <td>James Harden      </td> <td>PG  </td> <td>27  </td> <td>HOU </td> <td>81  </td> <td>81  </td> <td>2947</td> <td>674 </td> <td>1533</td> <td>0.44 </td> <td>262 </td> <td>756 </td> <td>0.347</td> <td>412 </td> <td>777 </td> <td>0.53 </td> <td>0.525</td> <td>746 </td> <td>881 </td> <td>0.847</td> <td>95  </td> <td>564 </td> <td>659 </td> <td>907 </td> <td>121 </td> <td>38  </td> <td>464 </td> <td>215 </td> <td>2356</td>\n",
       "        </tr>\n",
       "    </tbody>\n",
       "        <tr>\n",
       "            <td>424 </td> <td>Isaiah Thomas     </td> <td>PG  </td> <td>27  </td> <td>BOS </td> <td>76  </td> <td>76  </td> <td>2569</td> <td>682 </td> <td>1473</td> <td>0.463</td> <td>245 </td> <td>646 </td> <td>0.379</td> <td>437 </td> <td>827 </td> <td>0.528</td> <td>0.546</td> <td>590 </td> <td>649 </td> <td>0.909</td> <td>43  </td> <td>162 </td> <td>205 </td> <td>448 </td> <td>70  </td> <td>13  </td> <td>210 </td> <td>167 </td> <td>2199</td>\n",
       "        </tr>\n",
       "    </tbody>\n",
       "        <tr>\n",
       "            <td>100 </td> <td>Anthony Davis     </td> <td>C   </td> <td>23  </td> <td>NOP </td> <td>75  </td> <td>75  </td> <td>2708</td> <td>770 </td> <td>1526</td> <td>0.505</td> <td>40  </td> <td>134 </td> <td>0.299</td> <td>730 </td> <td>1392</td> <td>0.524</td> <td>0.518</td> <td>519 </td> <td>647 </td> <td>0.802</td> <td>172 </td> <td>712 </td> <td>884 </td> <td>157 </td> <td>94  </td> <td>167 </td> <td>181 </td> <td>168 </td> <td>2099</td>\n",
       "        </tr>\n",
       "    </tbody>\n",
       "        <tr>\n",
       "            <td>433 </td> <td>Karl-Anthony Towns</td> <td>C   </td> <td>21  </td> <td>MIN </td> <td>82  </td> <td>82  </td> <td>3030</td> <td>802 </td> <td>1480</td> <td>0.542</td> <td>101 </td> <td>275 </td> <td>0.367</td> <td>701 </td> <td>1205</td> <td>0.582</td> <td>0.576</td> <td>356 </td> <td>428 </td> <td>0.832</td> <td>296 </td> <td>711 </td> <td>1007</td> <td>220 </td> <td>56  </td> <td>103 </td> <td>212 </td> <td>241 </td> <td>2061</td>\n",
       "        </tr>\n",
       "    </tbody>\n",
       "</table>"
      ],
      "text/plain": [
       "Rk   | Player             | Pos  | Age  | Tm   | G    | GS   | MP   | FG   | FGA  | FG%   | 3P   | 3PA  | 3P%   | 2P   | 2PA  | 2P%   | eFG%  | FT   | FTA  | FT%   | ORB  | DRB  | TRB  | AST  | STL  | BLK  | TOV  | PF   | PTS\n",
       "458  | Russell Westbrook  | PG   | 28   | OKC  | 81   | 81   | 2802 | 824  | 1941 | 0.425 | 200  | 583  | 0.343 | 624  | 1358 | 0.459 | 0.476 | 710  | 840  | 0.845 | 137  | 727  | 864  | 840  | 132  | 31   | 438  | 190  | 2558\n",
       "172  | James Harden       | PG   | 27   | HOU  | 81   | 81   | 2947 | 674  | 1533 | 0.44  | 262  | 756  | 0.347 | 412  | 777  | 0.53  | 0.525 | 746  | 881  | 0.847 | 95   | 564  | 659  | 907  | 121  | 38   | 464  | 215  | 2356\n",
       "424  | Isaiah Thomas      | PG   | 27   | BOS  | 76   | 76   | 2569 | 682  | 1473 | 0.463 | 245  | 646  | 0.379 | 437  | 827  | 0.528 | 0.546 | 590  | 649  | 0.909 | 43   | 162  | 205  | 448  | 70   | 13   | 210  | 167  | 2199\n",
       "100  | Anthony Davis      | C    | 23   | NOP  | 75   | 75   | 2708 | 770  | 1526 | 0.505 | 40   | 134  | 0.299 | 730  | 1392 | 0.524 | 0.518 | 519  | 647  | 0.802 | 172  | 712  | 884  | 157  | 94   | 167  | 181  | 168  | 2099\n",
       "433  | Karl-Anthony Towns | C    | 21   | MIN  | 82   | 82   | 3030 | 802  | 1480 | 0.542 | 101  | 275  | 0.367 | 701  | 1205 | 0.582 | 0.576 | 356  | 428  | 0.832 | 296  | 711  | 1007 | 220  | 56   | 103  | 212  | 241  | 2061"
      ]
     },
     "execution_count": 9,
     "metadata": {},
     "output_type": "execute_result"
    }
   ],
   "source": [
    "#Code Answer\n",
    "player_stats.where('Tm', are.not_equal_to('TOT')).sort('PTS', descending=True).take(np.arange(5))"
   ]
  },
  {
   "cell_type": "markdown",
   "metadata": {},
   "source": [
    "## Section 2: Calculating uPER. <a id='section 2'></a>"
   ]
  },
  {
   "cell_type": "markdown",
   "metadata": {},
   "source": [
    "This is uPER. It's the unadjusted form of PER. \n",
    "\n",
    "$$uPER = \\frac{1}{min} \\times \\left ( 3P - \\frac{PF \\times lgFT}{lgPF} + \\left [ \\frac{FT}{2} \\times \\left ( 2 - \\frac{tmAST}{3 \\times tmFG} \\right ) \\right ] + \\left [ FG \\times \\left ( 2 - \\frac{factor \\times tmAST}{tmFG} \\right ) \\right ] + \\frac{2 \\times AST}{3} + VOP \\times \\left [ DRBP \\times \\left ( 2 \\times ORB + BLK - 0.2464 \\times \\left [ FTA - FT \\right ] - \\left [ FGA - FG \\right ] - TRB \\right ) + \\frac{0.44 \\times lgFTA \\times PF}{lgPF} - \\left ( TO + ORB \\right ) + STL + TRB - 0.1936 \\left (FTA - FT \\right ) \\right ] \\right )$$\n",
    "\n",
    "It's a massive formula. So let's break it down into pieces and calculate it for one player. "
   ]
  },
  {
   "cell_type": "code",
   "execution_count": 13,
   "metadata": {
    "collapsed": false
   },
   "outputs": [
    {
     "name": "stdout",
     "output_type": "stream",
     "text": [
      "Sean Kilpatrick\n"
     ]
    }
   ],
   "source": [
    "# CODE\n",
    "\n",
    "\"\"\"I'm randomly picking a player.\"\"\"\n",
    "\n",
    "import random\n",
    "names = player_stats.where('Tm', are.not_equal_to('TOT')).column('Player')\n",
    "print(random.choice(names))"
   ]
  },
  {
   "cell_type": "markdown",
   "metadata": {},
   "source": [
    "My randomly selected player was Sean Kilpatrick, of the Brooklyn Nets. Let's look at his statline."
   ]
  },
  {
   "cell_type": "code",
   "execution_count": 15,
   "metadata": {
    "collapsed": false
   },
   "outputs": [
    {
     "data": {
      "text/html": [
       "<table border=\"1\" class=\"dataframe\">\n",
       "    <thead>\n",
       "        <tr>\n",
       "            <th>Rk</th> <th>Player</th> <th>Pos</th> <th>Age</th> <th>Tm</th> <th>G</th> <th>GS</th> <th>MP</th> <th>FG</th> <th>FGA</th> <th>FG%</th> <th>3P</th> <th>3PA</th> <th>3P%</th> <th>2P</th> <th>2PA</th> <th>2P%</th> <th>eFG%</th> <th>FT</th> <th>FTA</th> <th>FT%</th> <th>ORB</th> <th>DRB</th> <th>TRB</th> <th>AST</th> <th>STL</th> <th>BLK</th> <th>TOV</th> <th>PF</th> <th>PTS</th>\n",
       "        </tr>\n",
       "    </thead>\n",
       "    <tbody>\n",
       "        <tr>\n",
       "            <td>246 </td> <td>Sean Kilpatrick</td> <td>SG  </td> <td>27  </td> <td>BRK </td> <td>70  </td> <td>24  </td> <td>1754</td> <td>305 </td> <td>735 </td> <td>0.415</td> <td>105 </td> <td>308 </td> <td>0.341</td> <td>200 </td> <td>427 </td> <td>0.468</td> <td>0.486</td> <td>204 </td> <td>242 </td> <td>0.843</td> <td>22  </td> <td>258 </td> <td>280 </td> <td>157 </td> <td>45  </td> <td>6   </td> <td>135 </td> <td>118 </td> <td>919 </td>\n",
       "        </tr>\n",
       "    </tbody>\n",
       "</table>"
      ],
      "text/plain": [
       "Rk   | Player          | Pos  | Age  | Tm   | G    | GS   | MP   | FG   | FGA  | FG%   | 3P   | 3PA  | 3P%   | 2P   | 2PA  | 2P%   | eFG%  | FT   | FTA  | FT%   | ORB  | DRB  | TRB  | AST  | STL  | BLK  | TOV  | PF   | PTS\n",
       "246  | Sean Kilpatrick | SG   | 27   | BRK  | 70   | 24   | 1754 | 305  | 735  | 0.415 | 105  | 308  | 0.341 | 200  | 427  | 0.468 | 0.486 | 204  | 242  | 0.843 | 22   | 258  | 280  | 157  | 45   | 6    | 135  | 118  | 919"
      ]
     },
     "execution_count": 15,
     "metadata": {},
     "output_type": "execute_result"
    }
   ],
   "source": [
    "kilpatrick = player_stats.where('Player', are.equal_to('Sean Kilpatrick'))\n",
    "kilpatrick"
   ]
  },
  {
   "cell_type": "markdown",
   "metadata": {},
   "source": [
    "Let's start with an easy part of the formula:\n",
    "\n",
    "$$ \\frac{2 \\times AST}{3} $$\n",
    "\n",
    "---\n",
    "<b>Question 5:</b> Write a function called **assists** that takes in a number of assists and returns 2/3 of that number. Then test it on Sean Kilpatrick (or your player)\n",
    "\n",
    "<b>Answer:</b>\n",
    "\n",
    "---"
   ]
  },
  {
   "cell_type": "code",
   "execution_count": 36,
   "metadata": {
    "collapsed": false
   },
   "outputs": [
    {
     "data": {
      "text/plain": [
       "104.66666666666666"
      ]
     },
     "execution_count": 36,
     "metadata": {},
     "output_type": "execute_result"
    }
   ],
   "source": [
    "#Code Answer\n",
    "def assists(number_of_assists):\n",
    "    return ((2/3)*number_of_assists)\n",
    "\n",
    "kilpatrick_asts = kilpatrick.column('AST')[0]\n",
    "\n",
    "assists(kilpatrick_asts)"
   ]
  },
  {
   "cell_type": "markdown",
   "metadata": {},
   "source": [
    "Great job! That wasn't too bad, right? Now let's calculate a slightly harder piece.\n",
    "\n",
    "$ (2 \\times ORB + BLK - 0.2464 \\times \\left [ FTA - FT \\right ] - \\left [ FGA - FG \\right ] - TRB) $\n",
    "\n",
    "<b>Question 6:</b> Write a function called **times_DRBP** that takes a player's name as a string, and uses *player_stats* to return the value for the above formula. Then test it on Sean Kilpatrick (or your player)\n",
    "\n",
    "<b>Answer:</b>"
   ]
  },
  {
   "cell_type": "code",
   "execution_count": 43,
   "metadata": {
    "collapsed": false
   },
   "outputs": [
    {
     "data": {
      "text/plain": [
       "-669.36320000000001"
      ]
     },
     "execution_count": 43,
     "metadata": {},
     "output_type": "execute_result"
    }
   ],
   "source": [
    "def times_DRBP(name):\n",
    "    player = player_stats.where('Player', are.equal_to(name))\n",
    "    orb = player.column('ORB')[0]\n",
    "    blk = player.column('BLK')[0]\n",
    "    fta = player.column('FTA')[0] \n",
    "    ft = player.column('FT')[0]\n",
    "    fga = player.column('FGA')[0]\n",
    "    fg = player.column('FG')[0]\n",
    "    trb = player.column('TRB')[0]\n",
    "    return (2*orb+blk-0.2464*(fta-ft)-(fga-fg)-trb)\n",
    "\n",
    "times_DRBP('Sean Kilpatrick')"
   ]
  },
  {
   "cell_type": "markdown",
   "metadata": {},
   "source": [
    "Now you may be wondering why we called that last function *times_DRBP.* Well, it is because we're going to multiply it by our DRBP. \n",
    "\n",
    "DRBP, stands for Defensive Rebound Percentage, and is simply calculated by taking all the rebounds in the league and removing the rebounds that occured while on offense. Mathematically,\n",
    "\n",
    "$$ DRBP = \\frac {League Total Rebounds - League Offensive Rebounds}{League Total Rebounds} $$\n",
    "\n",
    "*Note: Yes, You can just use the DRB column.*\n",
    "\n",
    "---\n",
    "\n",
    "<b>Question 7:</b> Calculate the league's defensive rebound percentage. Set it equal to **drbp**.  *Don't forget to remove duplicates!*\n",
    "\n",
    "<b>Answer:</b>\n",
    "\n",
    "---"
   ]
  },
  {
   "cell_type": "code",
   "execution_count": 49,
   "metadata": {
    "collapsed": false
   },
   "outputs": [
    {
     "data": {
      "text/plain": [
       "0.76704407451002377"
      ]
     },
     "execution_count": 49,
     "metadata": {},
     "output_type": "execute_result"
    }
   ],
   "source": [
    "lg_trb = sum(player_stats.where('Tm', are.not_equal_to('TOT')).column('TRB'))\n",
    "lg_orb = sum(player_stats.where('Tm', are.not_equal_to('TOT')).column('ORB'))\n",
    "drbp = (lg_trb-lg_orb)/lg_trb\n",
    "drbp\n"
   ]
  },
  {
   "cell_type": "markdown",
   "metadata": {},
   "source": [
    "Now we're getting closer to the full calculation. Look at this formula. You've already calculated most of it. \n",
    "\n",
    "$$\\left [ DRBP \\times \\left ( 2 \\times ORB + BLK - 0.2464 \\times \\left [ FTA - FT \\right ] - \\left [ FGA - FG \\right ] - TRB \\right ) + \\frac{0.44 \\times lgFTA \\times PF}{lgPF} - \\left ( TOV + ORB \\right ) + STL + TRB - 0.1936 \\left (FTA - FT \\right ) \\right ] )$$\n",
    "\n",
    "---\n",
    "\n",
    "<b>Question 8:</b> Using Questions 6 & 7, build a function called *second_half,* that calculates the second half of the PER formula for a given player. \n",
    "\n",
    "<b>Answer:</b>\n",
    "\n",
    "---"
   ]
  },
  {
   "cell_type": "code",
   "execution_count": 52,
   "metadata": {
    "collapsed": false
   },
   "outputs": [
    {
     "data": {
      "text/plain": [
       "-292.48324704158483"
      ]
     },
     "execution_count": 52,
     "metadata": {},
     "output_type": "execute_result"
    }
   ],
   "source": [
    "def second_half(name):\n",
    "    player = player_stats.where('Player', are.equal_to(name))\n",
    "    \n",
    "    constant = drbp * times_DRBP(name)\n",
    "    \n",
    "    lg_fta = sum(player_stats.column('FTA'))\n",
    "    lg_pf = sum(player_stats.column('PF'))\n",
    "    pf = player.column('PF')[0]\n",
    "    fraction = (0.44*lg_fta*pf)/lg_pf\n",
    "    \n",
    "    tov = player.column('TOV')[0]\n",
    "    orb = player.column('ORB')[0]\n",
    "    stl = player.column('STL')[0]\n",
    "    trb = player.column('TRB')[0]\n",
    "    fta = player.column('FTA')[0] \n",
    "    ft = player.column('FT')[0]\n",
    "    \n",
    "    result = constant + fraction - (tov + orb) + stl + trb - (.1936*(fta-ft))\n",
    "    return (result)\n",
    "\n",
    "second_half('Sean Kilpatrick')"
   ]
  },
  {
   "cell_type": "markdown",
   "metadata": {},
   "source": [
    "Our function is starting to look more manageable!\n",
    "\n",
    "$$uPER = \\frac{1}{min} \\times  ( 3P - \\frac{PF \\times lgFT}{lgPF} + \\left [ \\frac{FT}{2} \\times \\left ( 2 - \\frac{tmAST}{3 \\times tmFG} \\right ) \\right ] + \\left [ FG \\times \\left ( 2 - \\frac{factor \\times tmAST}{tmFG} \\right ) \\right ] + \\frac{2 \\times AST}{3} + VOP \\times SecondHalf$$\n",
    "\n",
    "Now, let's calculate VOP, before we take the big push towards calculating uPER. \n",
    "\n",
    "VOP, or value of possession, is what each possesion is worth in a given season. We can calculate VOP by:\n",
    "\n",
    "$$ VOP = \\frac{lgPTS}{lgFGA - lgORB + lgTOV + 0.44 \\times lgFTA} $$\n",
    "\n",
    "---\n",
    "\n",
    "<b>Question 9:</b> Compute Value Of Possession for the League in 2016-17. Save your value as *\"vop.\"* \n",
    "\n",
    "<b>Answer:</b>\n",
    "\n",
    "---"
   ]
  },
  {
   "cell_type": "code",
   "execution_count": 53,
   "metadata": {
    "collapsed": false
   },
   "outputs": [
    {
     "data": {
      "text/plain": [
       "1.0685413540268014"
      ]
     },
     "execution_count": 53,
     "metadata": {},
     "output_type": "execute_result"
    }
   ],
   "source": [
    "#Code Answer\n",
    "lgPTS = sum(player_stats.column('PTS'))\n",
    "lgFGA = sum(player_stats.column('FGA'))\n",
    "lgORB = sum(player_stats.column('ORB'))\n",
    "lgTOV = sum(player_stats.column('TOV'))\n",
    "lgFTA = sum(player_stats.column('FTA'))\n",
    "\n",
    "vop = lgPTS/(lgFGA-lgORB+lgTOV+(.44*lgFTA))\n",
    "vop"
   ]
  },
  {
   "cell_type": "markdown",
   "metadata": {},
   "source": [
    "Ready? Now for the Big Kahuna. Calculate uPER. \n",
    "\n",
    "There are two new things that you'll have to know.\n",
    "\n",
    "* 1) You have to know is that for tmAST and tmFG, you're looking at the team's assists for 2016-17, rather than the player's or the league's.\n",
    "\n",
    "* 2) You also need to calculate the factor that you'll need for the next part.\n",
    "\n",
    "$$ factor = \\frac{2}{3} - \\left [ \\left ( 0.5 \\times \\frac{lgAST}{lgFG} \\right ) \\div \\left ( 2 \\times \\frac{lgFG}{lgFT} \\right ) \\right ] $$\n",
    "\n",
    "* Formula for uPER:\n",
    "\n",
    "$$uPER = \\frac{1}{min} \\times  ( 3P - \\frac{PF \\times lgFT}{lgPF} + \\left [ \\frac{FT}{2} \\times \\left ( 2 - \\frac{tmAST}{3 \\times tmFG} \\right ) \\right ] + \\left [ FG \\times \\left ( 2 - \\frac{factor \\times tmAST}{tmFG} \\right ) \\right ] + \\frac{2 \\times AST}{3} + VOP \\times SecondHalf)$$\n",
    "\n",
    "---\n",
    "\n",
    "<b>Question 11:</b> Using All of the questions from Section 2, compute the unadjusted Player Efficiency Rating. Write your answer as a generalized function called *uPER* that takes in a player's name and outputs their uPER. Run your function for Sean Kilpatrick. \n",
    "\n",
    "<b>Answer:</b>\n",
    "\n",
    "---\n"
   ]
  },
  {
   "cell_type": "code",
   "execution_count": 59,
   "metadata": {
    "collapsed": false
   },
   "outputs": [
    {
     "data": {
      "text/plain": [
       "0.2750427505907358"
      ]
     },
     "execution_count": 59,
     "metadata": {},
     "output_type": "execute_result"
    }
   ],
   "source": [
    "# Code Answer\n",
    "\n",
    "def uPER(name):\n",
    "    player = player_stats.where('Player', are.equal_to(name))\n",
    "    \n",
    "    secondhalf = second_half(name)\n",
    "    v0p = vop\n",
    "    adjAST = assists(player.column('AST')[0])\n",
    "    \n",
    "    invMin = 1/(player.column('MP')[0])\n",
    "    \n",
    "    tP = player.column('3P')[0]\n",
    "    \n",
    "    lgFT = sum(player_stats.column('FT'))\n",
    "    lgPF = sum(player_stats.column('PF'))\n",
    "    PF = player.column('PF')[0]\n",
    "    PF_FT = (lgFT*PF)/lgPF\n",
    "    \n",
    "    FT_2 = (player.column('FT')[0])/2 \n",
    "    \n",
    "    team = player_stats.where('Tm', are.equal_to(player.column('Tm')[0]))\n",
    "    tmAST = sum(team.column('AST'))\n",
    "    tmFG = (sum(team.column('FG')))\n",
    "    \n",
    "    FT_AST_FG = (FT_2*(2-(tmAST/(3*tmFG))))\n",
    "    \n",
    "    lgAST = sum(player_stats.column('AST'))\n",
    "    lgFG = sum(player_stats.column('FG'))\n",
    "    \n",
    "    FG = player.column('FG')[0]\n",
    "    factor = (2 / 3) - (0.5 * (lgAST / lgFG)) / (2 * (lgFG / lgFT))\n",
    "    \n",
    "    FG_factor = FG * (2 - ((factor*tmAST)/(tmFG)))\n",
    "    \n",
    "    result = invMin * (tP - (PF_FT) + (FT_AST_FG) + (FG_factor) + adjAST + v0p * secondhalf)\n",
    "    \n",
    "    return (result)\n",
    "\n",
    "uPER('Sean Kilpatrick')"
   ]
  },
  {
   "cell_type": "markdown",
   "metadata": {},
   "source": [
    "## Section 3; Onward to PER. <a id='section 3'></a>"
   ]
  },
  {
   "cell_type": "markdown",
   "metadata": {},
   "source": [
    "Now that we've done the hard part. Let's finish up our calculation and look at the fruits of our labor.\n",
    "\n",
    "$$\\ PER = \\left ( uPER \\times \\frac{lgPace}{tmPace} \\right ) \\times \\frac{15}{lguPER} $$\n",
    "\n",
    "---\n",
    "\n",
    "<b>Question 11:</b> Now that we have a formula for uPER, add a column to *player_stats* called uPER, with the uPER of every player.\n",
    "\n",
    "<b>Answer:</b>\n",
    "\n",
    "---\n"
   ]
  },
  {
   "cell_type": "code",
   "execution_count": 63,
   "metadata": {
    "collapsed": false
   },
   "outputs": [
    {
     "data": {
      "text/html": [
       "<table border=\"1\" class=\"dataframe\">\n",
       "    <thead>\n",
       "        <tr>\n",
       "            <th>Rk</th> <th>Player</th> <th>Pos</th> <th>Age</th> <th>Tm</th> <th>G</th> <th>GS</th> <th>MP</th> <th>FG</th> <th>FGA</th> <th>FG%</th> <th>3P</th> <th>3PA</th> <th>3P%</th> <th>2P</th> <th>2PA</th> <th>2P%</th> <th>eFG%</th> <th>FT</th> <th>FTA</th> <th>FT%</th> <th>ORB</th> <th>DRB</th> <th>TRB</th> <th>AST</th> <th>STL</th> <th>BLK</th> <th>TOV</th> <th>PF</th> <th>PTS</th> <th>uPER</th>\n",
       "        </tr>\n",
       "    </thead>\n",
       "    <tbody>\n",
       "        <tr>\n",
       "            <td>12  </td> <td>Alan Anderson  </td> <td>SF  </td> <td>34  </td> <td>LAC </td> <td>30  </td> <td>0   </td> <td>308 </td> <td>30  </td> <td>80  </td> <td>0.375</td> <td>14  </td> <td>44  </td> <td>0.318</td> <td>16  </td> <td>36  </td> <td>0.444</td> <td>0.463</td> <td>12  </td> <td>16  </td> <td>0.75 </td> <td>3   </td> <td>21  </td> <td>24  </td> <td>11  </td> <td>3   </td> <td>0   </td> <td>7   </td> <td>35  </td> <td>86  </td> <td>0.0988842</td>\n",
       "        </tr>\n",
       "    </tbody>\n",
       "        <tr>\n",
       "            <td>13  </td> <td>Justin Anderson</td> <td>SF  </td> <td>23  </td> <td>DAL </td> <td>51  </td> <td>2   </td> <td>710 </td> <td>111 </td> <td>277 </td> <td>0.401</td> <td>37  </td> <td>122 </td> <td>0.303</td> <td>74  </td> <td>155 </td> <td>0.477</td> <td>0.468</td> <td>70  </td> <td>88  </td> <td>0.795</td> <td>39  </td> <td>110 </td> <td>149 </td> <td>32  </td> <td>28  </td> <td>16  </td> <td>40  </td> <td>64  </td> <td>329 </td> <td>0.280476 </td>\n",
       "        </tr>\n",
       "    </tbody>\n",
       "        <tr>\n",
       "            <td>13  </td> <td>Justin Anderson</td> <td>SF  </td> <td>23  </td> <td>PHI </td> <td>24  </td> <td>8   </td> <td>518 </td> <td>75  </td> <td>162 </td> <td>0.463</td> <td>21  </td> <td>72  </td> <td>0.292</td> <td>54  </td> <td>90  </td> <td>0.6  </td> <td>0.528</td> <td>32  </td> <td>41  </td> <td>0.78 </td> <td>30  </td> <td>66  </td> <td>96  </td> <td>34  </td> <td>13  </td> <td>7   </td> <td>26  </td> <td>45  </td> <td>203 </td> <td>0.280476 </td>\n",
       "        </tr>\n",
       "    </tbody>\n",
       "</table>"
      ],
      "text/plain": [
       "Rk   | Player          | Pos  | Age  | Tm   | G    | GS   | MP   | FG   | FGA  | FG%   | 3P   | 3PA  | 3P%   | 2P   | 2PA  | 2P%   | eFG%  | FT   | FTA  | FT%   | ORB  | DRB  | TRB  | AST  | STL  | BLK  | TOV  | PF   | PTS  | uPER\n",
       "12   | Alan Anderson   | SF   | 34   | LAC  | 30   | 0    | 308  | 30   | 80   | 0.375 | 14   | 44   | 0.318 | 16   | 36   | 0.444 | 0.463 | 12   | 16   | 0.75  | 3    | 21   | 24   | 11   | 3    | 0    | 7    | 35   | 86   | 0.0988842\n",
       "13   | Justin Anderson | SF   | 23   | DAL  | 51   | 2    | 710  | 111  | 277  | 0.401 | 37   | 122  | 0.303 | 74   | 155  | 0.477 | 0.468 | 70   | 88   | 0.795 | 39   | 110  | 149  | 32   | 28   | 16   | 40   | 64   | 329  | 0.280476\n",
       "13   | Justin Anderson | SF   | 23   | PHI  | 24   | 8    | 518  | 75   | 162  | 0.463 | 21   | 72   | 0.292 | 54   | 90   | 0.6   | 0.528 | 32   | 41   | 0.78  | 30   | 66   | 96   | 34   | 13   | 7    | 26   | 45   | 203  | 0.280476"
      ]
     },
     "execution_count": 63,
     "metadata": {},
     "output_type": "execute_result"
    }
   ],
   "source": [
    "# CODE\n",
    "players = player_stats.column('Player')\n",
    "\n",
    "array = make_array()\n",
    "for each in players:\n",
    "    array = np.append(array, uPER(each))\n",
    "    \n",
    "player_stats = player_stats.with_column('uPER', array)\n",
    "player_stats.take(np.arange(12,15))"
   ]
  },
  {
   "cell_type": "markdown",
   "metadata": {},
   "source": [
    "Our last tedious step before we can calculate PER is find the <a href https://www.basketball-reference.com/about/glossary.html#pace> Pace, which is derived by a slightly annoying formula. </a>\n",
    "\n",
    "The Pace Factor formula is: $$48 * \\frac{Tm Poss + Opp Poss}{2 * Tm MP / 5}.$$ \n",
    "\n",
    "The Team + Opposition Possessions is estimated as: $$0.5 * ((Tm FGA + 0.4 * Tm FTA - 1.07 * \\frac{Tm ORB}{Tm ORB + Opp DRB} * (Tm FGA - Tm FG) + Tm TOV) + (Opp FGA + 0.4 * Opp FTA - 1.07 * \\frac{Opp ORB}{Opp ORB + Tm DRB} * (Opp FGA - Opp FG) + Opp TOV))$$\n",
    "\n",
    "\n",
    "---\n",
    "\n",
    "<b>Question 13:</b> Calculate the Pace Factor for each team. $$ \\frac{lgPace}{tmPace} $$ \n",
    "\n",
    "Note: League Pace is the sum of all Pace. Add a column to *player_stats.*\n",
    "\n",
    "<b>Answer:</b>\n",
    "\n",
    "---\n",
    "\n"
   ]
  },
  {
   "cell_type": "code",
   "execution_count": 73,
   "metadata": {
    "collapsed": false
   },
   "outputs": [
    {
     "data": {
      "text/html": [
       "<table border=\"1\" class=\"dataframe\">\n",
       "    <thead>\n",
       "        <tr>\n",
       "            <th>Tm</th> <th>Rk</th> <th>Player</th> <th>Pos</th> <th>Age</th> <th>G</th> <th>GS</th> <th>MP</th> <th>FG</th> <th>FGA</th> <th>FG%</th> <th>3P</th> <th>3PA</th> <th>3P%</th> <th>2P</th> <th>2PA</th> <th>2P%</th> <th>eFG%</th> <th>FT</th> <th>FTA</th> <th>FT%</th> <th>ORB</th> <th>DRB</th> <th>TRB</th> <th>AST</th> <th>STL</th> <th>BLK</th> <th>TOV</th> <th>PF</th> <th>PTS</th> <th>uPER</th> <th>Pace</th> <th>Pace_2</th> <th>Pace Factor</th>\n",
       "        </tr>\n",
       "    </thead>\n",
       "    <tbody>\n",
       "        <tr>\n",
       "            <td>ATL </td> <td>35  </td> <td>Kent Bazemore  </td> <td>SF  </td> <td>27  </td> <td>73  </td> <td>64  </td> <td>1963</td> <td>295 </td> <td>721 </td> <td>0.409</td> <td>92  </td> <td>266 </td> <td>0.346</td> <td>203 </td> <td>455 </td> <td>0.446</td> <td>0.473</td> <td>119 </td> <td>168 </td> <td>0.708</td> <td>45  </td> <td>186 </td> <td>231 </td> <td>177 </td> <td>91  </td> <td>52  </td> <td>125 </td> <td>165 </td> <td>801 </td> <td>0.233943</td> <td>97.4</td> <td>97.4  </td> <td>0.989733   </td>\n",
       "        </tr>\n",
       "    </tbody>\n",
       "        <tr>\n",
       "            <td>ATL </td> <td>40  </td> <td>DeAndre' Bembry</td> <td>SF  </td> <td>22  </td> <td>38  </td> <td>1   </td> <td>371 </td> <td>47  </td> <td>98  </td> <td>0.48 </td> <td>1   </td> <td>18  </td> <td>0.056</td> <td>46  </td> <td>80  </td> <td>0.575</td> <td>0.485</td> <td>6   </td> <td>16  </td> <td>0.375</td> <td>14  </td> <td>45  </td> <td>59  </td> <td>28  </td> <td>8   </td> <td>5   </td> <td>16  </td> <td>21  </td> <td>101 </td> <td>0.179274</td> <td>97.4</td> <td>97.4  </td> <td>0.989733   </td>\n",
       "        </tr>\n",
       "    </tbody>\n",
       "        <tr>\n",
       "            <td>ATL </td> <td>68  </td> <td>Jose Calderon  </td> <td>PG  </td> <td>35  </td> <td>17  </td> <td>2   </td> <td>247 </td> <td>23  </td> <td>57  </td> <td>0.404</td> <td>8   </td> <td>30  </td> <td>0.267</td> <td>15  </td> <td>27  </td> <td>0.556</td> <td>0.474</td> <td>7   </td> <td>8   </td> <td>0.875</td> <td>7   </td> <td>25  </td> <td>32  </td> <td>37  </td> <td>4   </td> <td>0   </td> <td>15  </td> <td>14  </td> <td>61  </td> <td>0.186176</td> <td>97.4</td> <td>97.4  </td> <td>0.989733   </td>\n",
       "        </tr>\n",
       "    </tbody>\n",
       "        <tr>\n",
       "            <td>ATL </td> <td>105 </td> <td>Malcolm Delaney</td> <td>PG  </td> <td>27  </td> <td>73  </td> <td>2   </td> <td>1248</td> <td>145 </td> <td>388 </td> <td>0.374</td> <td>26  </td> <td>110 </td> <td>0.236</td> <td>119 </td> <td>278 </td> <td>0.428</td> <td>0.407</td> <td>75  </td> <td>93  </td> <td>0.806</td> <td>10  </td> <td>113 </td> <td>123 </td> <td>193 </td> <td>39  </td> <td>1   </td> <td>95  </td> <td>112 </td> <td>391 </td> <td>0.151772</td> <td>97.4</td> <td>97.4  </td> <td>0.989733   </td>\n",
       "        </tr>\n",
       "    </tbody>\n",
       "        <tr>\n",
       "            <td>ATL </td> <td>117 </td> <td>Mike Dunleavy  </td> <td>SF  </td> <td>36  </td> <td>30  </td> <td>0   </td> <td>475 </td> <td>57  </td> <td>130 </td> <td>0.438</td> <td>33  </td> <td>77  </td> <td>0.429</td> <td>24  </td> <td>53  </td> <td>0.453</td> <td>0.565</td> <td>22  </td> <td>26  </td> <td>0.846</td> <td>13  </td> <td>55  </td> <td>68  </td> <td>30  </td> <td>9   </td> <td>5   </td> <td>14  </td> <td>35  </td> <td>169 </td> <td>0.152657</td> <td>97.4</td> <td>97.4  </td> <td>0.989733   </td>\n",
       "        </tr>\n",
       "    </tbody>\n",
       "        <tr>\n",
       "            <td>ATL </td> <td>171 </td> <td>Tim Hardaway   </td> <td>SG  </td> <td>24  </td> <td>79  </td> <td>30  </td> <td>2154</td> <td>415 </td> <td>912 </td> <td>0.455</td> <td>149 </td> <td>417 </td> <td>0.357</td> <td>266 </td> <td>495 </td> <td>0.537</td> <td>0.537</td> <td>164 </td> <td>214 </td> <td>0.766</td> <td>35  </td> <td>189 </td> <td>224 </td> <td>182 </td> <td>55  </td> <td>15  </td> <td>106 </td> <td>103 </td> <td>1143</td> <td>0.307509</td> <td>97.4</td> <td>97.4  </td> <td>0.989733   </td>\n",
       "        </tr>\n",
       "    </tbody>\n",
       "        <tr>\n",
       "            <td>ATL </td> <td>205 </td> <td>Dwight Howard  </td> <td>C   </td> <td>31  </td> <td>74  </td> <td>74  </td> <td>2199</td> <td>388 </td> <td>613 </td> <td>0.633</td> <td>0   </td> <td>2   </td> <td>0    </td> <td>388 </td> <td>611 </td> <td>0.635</td> <td>0.633</td> <td>226 </td> <td>424 </td> <td>0.533</td> <td>296 </td> <td>644 </td> <td>940 </td> <td>104 </td> <td>64  </td> <td>92  </td> <td>170 </td> <td>203 </td> <td>1002</td> <td>0.423799</td> <td>97.4</td> <td>97.4  </td> <td>0.989733   </td>\n",
       "        </tr>\n",
       "    </tbody>\n",
       "        <tr>\n",
       "            <td>ATL </td> <td>208 </td> <td>Kris Humphries </td> <td>PF  </td> <td>31  </td> <td>56  </td> <td>4   </td> <td>689 </td> <td>87  </td> <td>214 </td> <td>0.407</td> <td>19  </td> <td>54  </td> <td>0.352</td> <td>68  </td> <td>160 </td> <td>0.425</td> <td>0.451</td> <td>64  </td> <td>82  </td> <td>0.78 </td> <td>60  </td> <td>146 </td> <td>206 </td> <td>29  </td> <td>15  </td> <td>21  </td> <td>28  </td> <td>69  </td> <td>257 </td> <td>0.276498</td> <td>97.4</td> <td>97.4  </td> <td>0.989733   </td>\n",
       "        </tr>\n",
       "    </tbody>\n",
       "        <tr>\n",
       "            <td>ATL </td> <td>212 </td> <td>Ersan Ilyasova </td> <td>PF  </td> <td>29  </td> <td>26  </td> <td>12  </td> <td>633 </td> <td>93  </td> <td>226 </td> <td>0.412</td> <td>32  </td> <td>92  </td> <td>0.348</td> <td>61  </td> <td>134 </td> <td>0.455</td> <td>0.482</td> <td>52  </td> <td>65  </td> <td>0.8  </td> <td>42  </td> <td>109 </td> <td>151 </td> <td>43  </td> <td>22  </td> <td>8   </td> <td>34  </td> <td>73  </td> <td>270 </td> <td>0.13997 </td> <td>97.4</td> <td>97.4  </td> <td>0.989733   </td>\n",
       "        </tr>\n",
       "    </tbody>\n",
       "        <tr>\n",
       "            <td>ATL </td> <td>244 </td> <td>Ryan Kelly     </td> <td>PF  </td> <td>25  </td> <td>16  </td> <td>0   </td> <td>110 </td> <td>8   </td> <td>28  </td> <td>0.286</td> <td>4   </td> <td>10  </td> <td>0.4  </td> <td>4   </td> <td>18  </td> <td>0.222</td> <td>0.357</td> <td>5   </td> <td>6   </td> <td>0.833</td> <td>1   </td> <td>17  </td> <td>18  </td> <td>8   </td> <td>4   </td> <td>5   </td> <td>4   </td> <td>5   </td> <td>25  </td> <td>0.158466</td> <td>97.4</td> <td>97.4  </td> <td>0.989733   </td>\n",
       "        </tr>\n",
       "    </tbody>\n",
       "</table>\n",
       "<p>... (511 rows omitted)</p"
      ],
      "text/plain": [
       "Tm   | Rk   | Player          | Pos  | Age  | G    | GS   | MP   | FG   | FGA  | FG%   | 3P   | 3PA  | 3P%   | 2P   | 2PA  | 2P%   | eFG%  | FT   | FTA  | FT%   | ORB  | DRB  | TRB  | AST  | STL  | BLK  | TOV  | PF   | PTS  | uPER     | Pace | Pace_2 | Pace Factor\n",
       "ATL  | 35   | Kent Bazemore   | SF   | 27   | 73   | 64   | 1963 | 295  | 721  | 0.409 | 92   | 266  | 0.346 | 203  | 455  | 0.446 | 0.473 | 119  | 168  | 0.708 | 45   | 186  | 231  | 177  | 91   | 52   | 125  | 165  | 801  | 0.233943 | 97.4 | 97.4   | 0.989733\n",
       "ATL  | 40   | DeAndre' Bembry | SF   | 22   | 38   | 1    | 371  | 47   | 98   | 0.48  | 1    | 18   | 0.056 | 46   | 80   | 0.575 | 0.485 | 6    | 16   | 0.375 | 14   | 45   | 59   | 28   | 8    | 5    | 16   | 21   | 101  | 0.179274 | 97.4 | 97.4   | 0.989733\n",
       "ATL  | 68   | Jose Calderon   | PG   | 35   | 17   | 2    | 247  | 23   | 57   | 0.404 | 8    | 30   | 0.267 | 15   | 27   | 0.556 | 0.474 | 7    | 8    | 0.875 | 7    | 25   | 32   | 37   | 4    | 0    | 15   | 14   | 61   | 0.186176 | 97.4 | 97.4   | 0.989733\n",
       "ATL  | 105  | Malcolm Delaney | PG   | 27   | 73   | 2    | 1248 | 145  | 388  | 0.374 | 26   | 110  | 0.236 | 119  | 278  | 0.428 | 0.407 | 75   | 93   | 0.806 | 10   | 113  | 123  | 193  | 39   | 1    | 95   | 112  | 391  | 0.151772 | 97.4 | 97.4   | 0.989733\n",
       "ATL  | 117  | Mike Dunleavy   | SF   | 36   | 30   | 0    | 475  | 57   | 130  | 0.438 | 33   | 77   | 0.429 | 24   | 53   | 0.453 | 0.565 | 22   | 26   | 0.846 | 13   | 55   | 68   | 30   | 9    | 5    | 14   | 35   | 169  | 0.152657 | 97.4 | 97.4   | 0.989733\n",
       "ATL  | 171  | Tim Hardaway    | SG   | 24   | 79   | 30   | 2154 | 415  | 912  | 0.455 | 149  | 417  | 0.357 | 266  | 495  | 0.537 | 0.537 | 164  | 214  | 0.766 | 35   | 189  | 224  | 182  | 55   | 15   | 106  | 103  | 1143 | 0.307509 | 97.4 | 97.4   | 0.989733\n",
       "ATL  | 205  | Dwight Howard   | C    | 31   | 74   | 74   | 2199 | 388  | 613  | 0.633 | 0    | 2    | 0     | 388  | 611  | 0.635 | 0.633 | 226  | 424  | 0.533 | 296  | 644  | 940  | 104  | 64   | 92   | 170  | 203  | 1002 | 0.423799 | 97.4 | 97.4   | 0.989733\n",
       "ATL  | 208  | Kris Humphries  | PF   | 31   | 56   | 4    | 689  | 87   | 214  | 0.407 | 19   | 54   | 0.352 | 68   | 160  | 0.425 | 0.451 | 64   | 82   | 0.78  | 60   | 146  | 206  | 29   | 15   | 21   | 28   | 69   | 257  | 0.276498 | 97.4 | 97.4   | 0.989733\n",
       "ATL  | 212  | Ersan Ilyasova  | PF   | 29   | 26   | 12   | 633  | 93   | 226  | 0.412 | 32   | 92   | 0.348 | 61   | 134  | 0.455 | 0.482 | 52   | 65   | 0.8   | 42   | 109  | 151  | 43   | 22   | 8    | 34   | 73   | 270  | 0.13997  | 97.4 | 97.4   | 0.989733\n",
       "ATL  | 244  | Ryan Kelly      | PF   | 25   | 16   | 0    | 110  | 8    | 28   | 0.286 | 4    | 10   | 0.4   | 4    | 18   | 0.222 | 0.357 | 5    | 6    | 0.833 | 1    | 17   | 18   | 8    | 4    | 5    | 4    | 5    | 25   | 0.158466 | 97.4 | 97.4   | 0.989733\n",
       "... (511 rows omitted)"
      ]
     },
     "execution_count": 73,
     "metadata": {},
     "output_type": "execute_result"
    }
   ],
   "source": [
    "pace = Table().read_table('Pace.csv')\n",
    "player_stats = player_stats.join('Tm', pace, 'Team')\n",
    "player_stats = player_stats.with_column('Pace Factor', 96.4/player_stats.column('Pace'))\n",
    "player_stats"
   ]
  },
  {
   "cell_type": "markdown",
   "metadata": {},
   "source": [
    "$$\\ PER = \\left ( uPER \\times \\frac{lgPace}{tmPace} \\right ) \\times \\frac{15}{lguPER} $$"
   ]
  },
  {
   "cell_type": "code",
   "execution_count": 75,
   "metadata": {
    "collapsed": false,
    "scrolled": true
   },
   "outputs": [
    {
     "data": {
      "text/html": [
       "<table border=\"1\" class=\"dataframe\">\n",
       "    <thead>\n",
       "        <tr>\n",
       "            <th>Tm</th> <th>Rk</th> <th>Player</th> <th>Pos</th> <th>Age</th> <th>G</th> <th>GS</th> <th>MP</th> <th>FG</th> <th>FGA</th> <th>FG%</th> <th>3P</th> <th>3PA</th> <th>3P%</th> <th>2P</th> <th>2PA</th> <th>2P%</th> <th>eFG%</th> <th>FT</th> <th>FTA</th> <th>FT%</th> <th>ORB</th> <th>DRB</th> <th>TRB</th> <th>AST</th> <th>STL</th> <th>BLK</th> <th>TOV</th> <th>PF</th> <th>PTS</th> <th>uPER</th> <th>Pace</th> <th>Pace_2</th> <th>Pace Factor</th> <th>PER</th>\n",
       "        </tr>\n",
       "    </thead>\n",
       "    <tbody>\n",
       "        <tr>\n",
       "            <td>ATL </td> <td>35  </td> <td>Kent Bazemore  </td> <td>SF  </td> <td>27  </td> <td>73  </td> <td>64  </td> <td>1963</td> <td>295 </td> <td>721 </td> <td>0.409</td> <td>92  </td> <td>266 </td> <td>0.346</td> <td>203 </td> <td>455 </td> <td>0.446</td> <td>0.473</td> <td>119 </td> <td>168 </td> <td>0.708</td> <td>45  </td> <td>186 </td> <td>231 </td> <td>177 </td> <td>91  </td> <td>52  </td> <td>125 </td> <td>165 </td> <td>801 </td> <td>0.233943</td> <td>97.4</td> <td>97.4  </td> <td>0.989733   </td> <td>13.5972</td>\n",
       "        </tr>\n",
       "    </tbody>\n",
       "        <tr>\n",
       "            <td>ATL </td> <td>40  </td> <td>DeAndre' Bembry</td> <td>SF  </td> <td>22  </td> <td>38  </td> <td>1   </td> <td>371 </td> <td>47  </td> <td>98  </td> <td>0.48 </td> <td>1   </td> <td>18  </td> <td>0.056</td> <td>46  </td> <td>80  </td> <td>0.575</td> <td>0.485</td> <td>6   </td> <td>16  </td> <td>0.375</td> <td>14  </td> <td>45  </td> <td>59  </td> <td>28  </td> <td>8   </td> <td>5   </td> <td>16  </td> <td>21  </td> <td>101 </td> <td>0.179274</td> <td>97.4</td> <td>97.4  </td> <td>0.989733   </td> <td>10.4198</td>\n",
       "        </tr>\n",
       "    </tbody>\n",
       "        <tr>\n",
       "            <td>ATL </td> <td>68  </td> <td>Jose Calderon  </td> <td>PG  </td> <td>35  </td> <td>17  </td> <td>2   </td> <td>247 </td> <td>23  </td> <td>57  </td> <td>0.404</td> <td>8   </td> <td>30  </td> <td>0.267</td> <td>15  </td> <td>27  </td> <td>0.556</td> <td>0.474</td> <td>7   </td> <td>8   </td> <td>0.875</td> <td>7   </td> <td>25  </td> <td>32  </td> <td>37  </td> <td>4   </td> <td>0   </td> <td>15  </td> <td>14  </td> <td>61  </td> <td>0.186176</td> <td>97.4</td> <td>97.4  </td> <td>0.989733   </td> <td>10.8209</td>\n",
       "        </tr>\n",
       "    </tbody>\n",
       "        <tr>\n",
       "            <td>ATL </td> <td>105 </td> <td>Malcolm Delaney</td> <td>PG  </td> <td>27  </td> <td>73  </td> <td>2   </td> <td>1248</td> <td>145 </td> <td>388 </td> <td>0.374</td> <td>26  </td> <td>110 </td> <td>0.236</td> <td>119 </td> <td>278 </td> <td>0.428</td> <td>0.407</td> <td>75  </td> <td>93  </td> <td>0.806</td> <td>10  </td> <td>113 </td> <td>123 </td> <td>193 </td> <td>39  </td> <td>1   </td> <td>95  </td> <td>112 </td> <td>391 </td> <td>0.151772</td> <td>97.4</td> <td>97.4  </td> <td>0.989733   </td> <td>8.82129</td>\n",
       "        </tr>\n",
       "    </tbody>\n",
       "        <tr>\n",
       "            <td>ATL </td> <td>117 </td> <td>Mike Dunleavy  </td> <td>SF  </td> <td>36  </td> <td>30  </td> <td>0   </td> <td>475 </td> <td>57  </td> <td>130 </td> <td>0.438</td> <td>33  </td> <td>77  </td> <td>0.429</td> <td>24  </td> <td>53  </td> <td>0.453</td> <td>0.565</td> <td>22  </td> <td>26  </td> <td>0.846</td> <td>13  </td> <td>55  </td> <td>68  </td> <td>30  </td> <td>9   </td> <td>5   </td> <td>14  </td> <td>35  </td> <td>169 </td> <td>0.152657</td> <td>97.4</td> <td>97.4  </td> <td>0.989733   </td> <td>8.87274</td>\n",
       "        </tr>\n",
       "    </tbody>\n",
       "        <tr>\n",
       "            <td>ATL </td> <td>171 </td> <td>Tim Hardaway   </td> <td>SG  </td> <td>24  </td> <td>79  </td> <td>30  </td> <td>2154</td> <td>415 </td> <td>912 </td> <td>0.455</td> <td>149 </td> <td>417 </td> <td>0.357</td> <td>266 </td> <td>495 </td> <td>0.537</td> <td>0.537</td> <td>164 </td> <td>214 </td> <td>0.766</td> <td>35  </td> <td>189 </td> <td>224 </td> <td>182 </td> <td>55  </td> <td>15  </td> <td>106 </td> <td>103 </td> <td>1143</td> <td>0.307509</td> <td>97.4</td> <td>97.4  </td> <td>0.989733   </td> <td>17.873 </td>\n",
       "        </tr>\n",
       "    </tbody>\n",
       "        <tr>\n",
       "            <td>ATL </td> <td>205 </td> <td>Dwight Howard  </td> <td>C   </td> <td>31  </td> <td>74  </td> <td>74  </td> <td>2199</td> <td>388 </td> <td>613 </td> <td>0.633</td> <td>0   </td> <td>2   </td> <td>0    </td> <td>388 </td> <td>611 </td> <td>0.635</td> <td>0.633</td> <td>226 </td> <td>424 </td> <td>0.533</td> <td>296 </td> <td>644 </td> <td>940 </td> <td>104 </td> <td>64  </td> <td>92  </td> <td>170 </td> <td>203 </td> <td>1002</td> <td>0.423799</td> <td>97.4</td> <td>97.4  </td> <td>0.989733   </td> <td>24.632 </td>\n",
       "        </tr>\n",
       "    </tbody>\n",
       "        <tr>\n",
       "            <td>ATL </td> <td>208 </td> <td>Kris Humphries </td> <td>PF  </td> <td>31  </td> <td>56  </td> <td>4   </td> <td>689 </td> <td>87  </td> <td>214 </td> <td>0.407</td> <td>19  </td> <td>54  </td> <td>0.352</td> <td>68  </td> <td>160 </td> <td>0.425</td> <td>0.451</td> <td>64  </td> <td>82  </td> <td>0.78 </td> <td>60  </td> <td>146 </td> <td>206 </td> <td>29  </td> <td>15  </td> <td>21  </td> <td>28  </td> <td>69  </td> <td>257 </td> <td>0.276498</td> <td>97.4</td> <td>97.4  </td> <td>0.989733   </td> <td>16.0706</td>\n",
       "        </tr>\n",
       "    </tbody>\n",
       "        <tr>\n",
       "            <td>ATL </td> <td>212 </td> <td>Ersan Ilyasova </td> <td>PF  </td> <td>29  </td> <td>26  </td> <td>12  </td> <td>633 </td> <td>93  </td> <td>226 </td> <td>0.412</td> <td>32  </td> <td>92  </td> <td>0.348</td> <td>61  </td> <td>134 </td> <td>0.455</td> <td>0.482</td> <td>52  </td> <td>65  </td> <td>0.8  </td> <td>42  </td> <td>109 </td> <td>151 </td> <td>43  </td> <td>22  </td> <td>8   </td> <td>34  </td> <td>73  </td> <td>270 </td> <td>0.13997 </td> <td>97.4</td> <td>97.4  </td> <td>0.989733   </td> <td>8.13533</td>\n",
       "        </tr>\n",
       "    </tbody>\n",
       "        <tr>\n",
       "            <td>ATL </td> <td>244 </td> <td>Ryan Kelly     </td> <td>PF  </td> <td>25  </td> <td>16  </td> <td>0   </td> <td>110 </td> <td>8   </td> <td>28  </td> <td>0.286</td> <td>4   </td> <td>10  </td> <td>0.4  </td> <td>4   </td> <td>18  </td> <td>0.222</td> <td>0.357</td> <td>5   </td> <td>6   </td> <td>0.833</td> <td>1   </td> <td>17  </td> <td>18  </td> <td>8   </td> <td>4   </td> <td>5   </td> <td>4   </td> <td>5   </td> <td>25  </td> <td>0.158466</td> <td>97.4</td> <td>97.4  </td> <td>0.989733   </td> <td>9.21036</td>\n",
       "        </tr>\n",
       "    </tbody>\n",
       "</table>\n",
       "<p>... (511 rows omitted)</p"
      ],
      "text/plain": [
       "Tm   | Rk   | Player          | Pos  | Age  | G    | GS   | MP   | FG   | FGA  | FG%   | 3P   | 3PA  | 3P%   | 2P   | 2PA  | 2P%   | eFG%  | FT   | FTA  | FT%   | ORB  | DRB  | TRB  | AST  | STL  | BLK  | TOV  | PF   | PTS  | uPER     | Pace | Pace_2 | Pace Factor | PER\n",
       "ATL  | 35   | Kent Bazemore   | SF   | 27   | 73   | 64   | 1963 | 295  | 721  | 0.409 | 92   | 266  | 0.346 | 203  | 455  | 0.446 | 0.473 | 119  | 168  | 0.708 | 45   | 186  | 231  | 177  | 91   | 52   | 125  | 165  | 801  | 0.233943 | 97.4 | 97.4   | 0.989733    | 13.5972\n",
       "ATL  | 40   | DeAndre' Bembry | SF   | 22   | 38   | 1    | 371  | 47   | 98   | 0.48  | 1    | 18   | 0.056 | 46   | 80   | 0.575 | 0.485 | 6    | 16   | 0.375 | 14   | 45   | 59   | 28   | 8    | 5    | 16   | 21   | 101  | 0.179274 | 97.4 | 97.4   | 0.989733    | 10.4198\n",
       "ATL  | 68   | Jose Calderon   | PG   | 35   | 17   | 2    | 247  | 23   | 57   | 0.404 | 8    | 30   | 0.267 | 15   | 27   | 0.556 | 0.474 | 7    | 8    | 0.875 | 7    | 25   | 32   | 37   | 4    | 0    | 15   | 14   | 61   | 0.186176 | 97.4 | 97.4   | 0.989733    | 10.8209\n",
       "ATL  | 105  | Malcolm Delaney | PG   | 27   | 73   | 2    | 1248 | 145  | 388  | 0.374 | 26   | 110  | 0.236 | 119  | 278  | 0.428 | 0.407 | 75   | 93   | 0.806 | 10   | 113  | 123  | 193  | 39   | 1    | 95   | 112  | 391  | 0.151772 | 97.4 | 97.4   | 0.989733    | 8.82129\n",
       "ATL  | 117  | Mike Dunleavy   | SF   | 36   | 30   | 0    | 475  | 57   | 130  | 0.438 | 33   | 77   | 0.429 | 24   | 53   | 0.453 | 0.565 | 22   | 26   | 0.846 | 13   | 55   | 68   | 30   | 9    | 5    | 14   | 35   | 169  | 0.152657 | 97.4 | 97.4   | 0.989733    | 8.87274\n",
       "ATL  | 171  | Tim Hardaway    | SG   | 24   | 79   | 30   | 2154 | 415  | 912  | 0.455 | 149  | 417  | 0.357 | 266  | 495  | 0.537 | 0.537 | 164  | 214  | 0.766 | 35   | 189  | 224  | 182  | 55   | 15   | 106  | 103  | 1143 | 0.307509 | 97.4 | 97.4   | 0.989733    | 17.873\n",
       "ATL  | 205  | Dwight Howard   | C    | 31   | 74   | 74   | 2199 | 388  | 613  | 0.633 | 0    | 2    | 0     | 388  | 611  | 0.635 | 0.633 | 226  | 424  | 0.533 | 296  | 644  | 940  | 104  | 64   | 92   | 170  | 203  | 1002 | 0.423799 | 97.4 | 97.4   | 0.989733    | 24.632\n",
       "ATL  | 208  | Kris Humphries  | PF   | 31   | 56   | 4    | 689  | 87   | 214  | 0.407 | 19   | 54   | 0.352 | 68   | 160  | 0.425 | 0.451 | 64   | 82   | 0.78  | 60   | 146  | 206  | 29   | 15   | 21   | 28   | 69   | 257  | 0.276498 | 97.4 | 97.4   | 0.989733    | 16.0706\n",
       "ATL  | 212  | Ersan Ilyasova  | PF   | 29   | 26   | 12   | 633  | 93   | 226  | 0.412 | 32   | 92   | 0.348 | 61   | 134  | 0.455 | 0.482 | 52   | 65   | 0.8   | 42   | 109  | 151  | 43   | 22   | 8    | 34   | 73   | 270  | 0.13997  | 97.4 | 97.4   | 0.989733    | 8.13533\n",
       "ATL  | 244  | Ryan Kelly      | PF   | 25   | 16   | 0    | 110  | 8    | 28   | 0.286 | 4    | 10   | 0.4   | 4    | 18   | 0.222 | 0.357 | 5    | 6    | 0.833 | 1    | 17   | 18   | 8    | 4    | 5    | 4    | 5    | 25   | 0.158466 | 97.4 | 97.4   | 0.989733    | 9.21036\n",
       "... (511 rows omitted)"
      ]
     },
     "execution_count": 75,
     "metadata": {},
     "output_type": "execute_result"
    }
   ],
   "source": [
    "# CODE\n",
    "player_stats = player_stats.with_column('PER',\\\n",
    "    (player_stats.column('uPER')*\\\n",
    "    player_stats.column('Pace Factor'))*\\\n",
    "    (15/(sum(player_stats.column('uPER'))\\\n",
    "        /player_stats.num_rows)))\n",
    "player_stats"
   ]
  },
  {
   "cell_type": "markdown",
   "metadata": {},
   "source": [
    "The lgPER refers to average I think. Figre out that.\n",
    "\n",
    "Have people look at PER for each person. Examination of top 5 or something."
   ]
  },
  {
   "cell_type": "markdown",
   "metadata": {},
   "source": [
    "---\n",
    "\n",
    "## Bibliography"
   ]
  },
  {
   "cell_type": "markdown",
   "metadata": {},
   "source": [
    "https://www.basketball-reference.com/about/per.html"
   ]
  },
  {
   "cell_type": "markdown",
   "metadata": {},
   "source": [
    "---\n",
    "\n",
    "#### Notes for Notebook Style:\n",
    "\n",
    "- Follow [PEP 8](https://www.python.org/dev/peps/pep-0008/) style guide for Python\n",
    "- No two cells of successive code or Markdown\n",
    "- Run all cells with no errors\n",
    "- Clear all cell output before pushing\n",
    "- Create a binder for the repo on [mybinder.org](http://mybinder.org) and paste the badge to the top of the README markdown file\n",
    "\n",
    "\n",
    "#### Notes for Code Style:\n",
    "- Each line or section of code should be accompanied with a comment\n",
    "- Comments and code lines should not be too long\n",
    "- Naming variables: use descriptive names (titanic vs. data), use underscores, not camel case\n",
    "\n",
    "#### Notes for Visualizations\n",
    "- Graphs should be displayed with titles and label axes\n",
    "\n",
    "#### Example of good code and graphs"
   ]
  },
  {
   "cell_type": "markdown",
   "metadata": {},
   "source": [
    "First, we will learn about basic plotting with pandas and seaborn."
   ]
  },
  {
   "cell_type": "code",
   "execution_count": 6,
   "metadata": {
    "collapsed": false
   },
   "outputs": [
    {
     "data": {
      "image/png": "[encoded data removed]",
      "text/plain": [
       "<matplotlib.figure.Figure at 0x2e8af6407f0>"
      ]
     },
     "metadata": {},
     "output_type": "display_data"
    }
   ],
   "source": [
    "# Import pandas, a data science library, and matplotlib for plotting\n",
    "import pandas as pd\n",
    "import matplotlib.pyplot as plt\n",
    "\n",
    "# Create a DataFrame, or a container of data, with numbers 1 - 3\n",
    "numbers = pd.DataFrame([1, 2, 3])\n",
    "\n",
    "# Plots the numbers DataFrame\n",
    "plt.plot(numbers)\n",
    "plt.title(\"Number Line\") \n",
    "plt.xlabel(\"x-axis\")\n",
    "plt.ylabel(\"y-axis\")\n",
    "plt.show()"
   ]
  },
  {
   "cell_type": "markdown",
   "metadata": {},
   "source": [
    "---\n",
    "Notebook developed by: X, X, X\n",
    "\n",
    "Data Science Modules: http://data.berkeley.edu/education/modules\n"
   ]
  }
 ],
 "metadata": {
  "anaconda-cloud": {},
  "kernelspec": {
   "display_name": "Python 3",
   "language": "python",
   "name": "python3"
  },
  "language_info": {
   "codemirror_mode": {
    "name": "ipython",
    "version": 3
   },
   "file_extension": ".py",
   "mimetype": "text/x-python",
   "name": "python",
   "nbconvert_exporter": "python",
   "pygments_lexer": "ipython3",
   "version": "3.5.2"
  }
 },
 "nbformat": 4,
 "nbformat_minor": 1
}
