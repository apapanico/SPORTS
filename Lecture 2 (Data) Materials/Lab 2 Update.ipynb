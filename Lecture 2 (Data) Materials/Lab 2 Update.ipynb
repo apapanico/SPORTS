{
 "cells": [
  {
   "cell_type": "markdown",
   "metadata": {},
   "source": [
    "# Lab-Homework 2: Playing With Data\n",
    "\n",
    "Clearly label your examples and try to provide your name for every question."
   ]
  },
  {
   "cell_type": "code",
   "execution_count": 1,
   "metadata": {
    "collapsed": true
   },
   "outputs": [],
   "source": [
    "#Some Import Mumbo-Jumbo\n",
    "from datascience import *\n",
    "import numpy as np\n",
    "import pandas as pd\n",
    "%matplotlib inline\n",
    "import matplotlib.pyplot as plt\n",
    "import seaborn as sns"
   ]
  },
  {
   "cell_type": "code",
   "execution_count": 2,
   "metadata": {},
   "outputs": [
    {
     "data": {
      "text/html": [
       "<table border=\"1\" class=\"dataframe\">\n",
       "    <thead>\n",
       "        <tr>\n",
       "            <th>Rk</th> <th>Player</th> <th>Pos</th> <th>Age</th> <th>Tm</th> <th>G</th> <th>GS</th> <th>MP</th> <th>FG</th> <th>FGA</th> <th>FG%</th> <th>3P</th> <th>3PA</th> <th>3P%</th> <th>2P</th> <th>2PA</th> <th>2P%</th> <th>eFG%</th> <th>FT</th> <th>FTA</th> <th>FT%</th> <th>ORB</th> <th>DRB</th> <th>TRB</th> <th>AST</th> <th>STL</th> <th>BLK</th> <th>TOV</th> <th>PF</th> <th>PTS</th>\n",
       "        </tr>\n",
       "    </thead>\n",
       "    <tbody>\n",
       "        <tr>\n",
       "            <td>1   </td> <td>Alex Abrines\\abrinal01     </td> <td>SG  </td> <td>23  </td> <td>OKC </td> <td>68  </td> <td>6   </td> <td>1055</td> <td>134 </td> <td>341 </td> <td>0.393</td> <td>94  </td> <td>247 </td> <td>0.381</td> <td>40  </td> <td>94  </td> <td>0.426</td> <td>0.531</td> <td>44  </td> <td>49  </td> <td>0.898</td> <td>18  </td> <td>68  </td> <td>86  </td> <td>40  </td> <td>37  </td> <td>8   </td> <td>33  </td> <td>114 </td> <td>406 </td>\n",
       "        </tr>\n",
       "    </tbody>\n",
       "        <tr>\n",
       "            <td>2   </td> <td>Quincy Acy\\acyqu01         </td> <td>PF  </td> <td>26  </td> <td>TOT </td> <td>38  </td> <td>1   </td> <td>558 </td> <td>70  </td> <td>170 </td> <td>0.412</td> <td>37  </td> <td>90  </td> <td>0.411</td> <td>33  </td> <td>80  </td> <td>0.413</td> <td>0.521</td> <td>45  </td> <td>60  </td> <td>0.75 </td> <td>20  </td> <td>95  </td> <td>115 </td> <td>18  </td> <td>14  </td> <td>15  </td> <td>21  </td> <td>67  </td> <td>222 </td>\n",
       "        </tr>\n",
       "    </tbody>\n",
       "        <tr>\n",
       "            <td>2   </td> <td>Quincy Acy\\acyqu01         </td> <td>PF  </td> <td>26  </td> <td>DAL </td> <td>6   </td> <td>0   </td> <td>48  </td> <td>5   </td> <td>17  </td> <td>0.294</td> <td>1   </td> <td>7   </td> <td>0.143</td> <td>4   </td> <td>10  </td> <td>0.4  </td> <td>0.324</td> <td>2   </td> <td>3   </td> <td>0.667</td> <td>2   </td> <td>6   </td> <td>8   </td> <td>0   </td> <td>0   </td> <td>0   </td> <td>2   </td> <td>9   </td> <td>13  </td>\n",
       "        </tr>\n",
       "    </tbody>\n",
       "        <tr>\n",
       "            <td>2   </td> <td>Quincy Acy\\acyqu01         </td> <td>PF  </td> <td>26  </td> <td>BRK </td> <td>32  </td> <td>1   </td> <td>510 </td> <td>65  </td> <td>153 </td> <td>0.425</td> <td>36  </td> <td>83  </td> <td>0.434</td> <td>29  </td> <td>70  </td> <td>0.414</td> <td>0.542</td> <td>43  </td> <td>57  </td> <td>0.754</td> <td>18  </td> <td>89  </td> <td>107 </td> <td>18  </td> <td>14  </td> <td>15  </td> <td>19  </td> <td>58  </td> <td>209 </td>\n",
       "        </tr>\n",
       "    </tbody>\n",
       "        <tr>\n",
       "            <td>3   </td> <td>Steven Adams\\adamsst01     </td> <td>C   </td> <td>23  </td> <td>OKC </td> <td>80  </td> <td>80  </td> <td>2389</td> <td>374 </td> <td>655 </td> <td>0.571</td> <td>0   </td> <td>1   </td> <td>0    </td> <td>374 </td> <td>654 </td> <td>0.572</td> <td>0.571</td> <td>157 </td> <td>257 </td> <td>0.611</td> <td>281 </td> <td>332 </td> <td>613 </td> <td>86  </td> <td>89  </td> <td>78  </td> <td>146 </td> <td>195 </td> <td>905 </td>\n",
       "        </tr>\n",
       "    </tbody>\n",
       "        <tr>\n",
       "            <td>4   </td> <td>Arron Afflalo\\afflaar01    </td> <td>SG  </td> <td>31  </td> <td>SAC </td> <td>61  </td> <td>45  </td> <td>1580</td> <td>185 </td> <td>420 </td> <td>0.44 </td> <td>62  </td> <td>151 </td> <td>0.411</td> <td>123 </td> <td>269 </td> <td>0.457</td> <td>0.514</td> <td>83  </td> <td>93  </td> <td>0.892</td> <td>9   </td> <td>116 </td> <td>125 </td> <td>78  </td> <td>21  </td> <td>6   </td> <td>42  </td> <td>104 </td> <td>515 </td>\n",
       "        </tr>\n",
       "    </tbody>\n",
       "        <tr>\n",
       "            <td>5   </td> <td>Alexis Ajinca\\ajincal01    </td> <td>C   </td> <td>28  </td> <td>NOP </td> <td>39  </td> <td>15  </td> <td>584 </td> <td>89  </td> <td>178 </td> <td>0.5  </td> <td>0   </td> <td>4   </td> <td>0    </td> <td>89  </td> <td>174 </td> <td>0.511</td> <td>0.5  </td> <td>29  </td> <td>40  </td> <td>0.725</td> <td>46  </td> <td>131 </td> <td>177 </td> <td>12  </td> <td>20  </td> <td>22  </td> <td>31  </td> <td>77  </td> <td>207 </td>\n",
       "        </tr>\n",
       "    </tbody>\n",
       "        <tr>\n",
       "            <td>6   </td> <td>Cole Aldrich\\aldrico01     </td> <td>C   </td> <td>28  </td> <td>MIN </td> <td>62  </td> <td>0   </td> <td>531 </td> <td>45  </td> <td>86  </td> <td>0.523</td> <td>0   </td> <td>0   </td> <td>nan  </td> <td>45  </td> <td>86  </td> <td>0.523</td> <td>0.523</td> <td>15  </td> <td>22  </td> <td>0.682</td> <td>51  </td> <td>107 </td> <td>158 </td> <td>25  </td> <td>25  </td> <td>23  </td> <td>17  </td> <td>85  </td> <td>105 </td>\n",
       "        </tr>\n",
       "    </tbody>\n",
       "        <tr>\n",
       "            <td>7   </td> <td>LaMarcus Aldridge\\aldrila01</td> <td>PF  </td> <td>31  </td> <td>SAS </td> <td>72  </td> <td>72  </td> <td>2335</td> <td>500 </td> <td>1049</td> <td>0.477</td> <td>23  </td> <td>56  </td> <td>0.411</td> <td>477 </td> <td>993 </td> <td>0.48 </td> <td>0.488</td> <td>220 </td> <td>271 </td> <td>0.812</td> <td>172 </td> <td>351 </td> <td>523 </td> <td>139 </td> <td>46  </td> <td>88  </td> <td>98  </td> <td>158 </td> <td>1243</td>\n",
       "        </tr>\n",
       "    </tbody>\n",
       "        <tr>\n",
       "            <td>8   </td> <td>Lavoy Allen\\allenla01      </td> <td>PF  </td> <td>27  </td> <td>IND </td> <td>61  </td> <td>5   </td> <td>871 </td> <td>77  </td> <td>168 </td> <td>0.458</td> <td>0   </td> <td>1   </td> <td>0    </td> <td>77  </td> <td>167 </td> <td>0.461</td> <td>0.458</td> <td>23  </td> <td>33  </td> <td>0.697</td> <td>105 </td> <td>114 </td> <td>219 </td> <td>57  </td> <td>18  </td> <td>24  </td> <td>29  </td> <td>78  </td> <td>177 </td>\n",
       "        </tr>\n",
       "    </tbody>\n",
       "</table>\n",
       "<p>... (585 rows omitted)</p"
      ],
      "text/plain": [
       "Rk   | Player                      | Pos  | Age  | Tm   | G    | GS   | MP   | FG   | FGA  | FG%   | 3P   | 3PA  | 3P%   | 2P   | 2PA  | 2P%   | eFG%  | FT   | FTA  | FT%   | ORB  | DRB  | TRB  | AST  | STL  | BLK  | TOV  | PF   | PTS\n",
       "1    | Alex Abrines\\abrinal01      | SG   | 23   | OKC  | 68   | 6    | 1055 | 134  | 341  | 0.393 | 94   | 247  | 0.381 | 40   | 94   | 0.426 | 0.531 | 44   | 49   | 0.898 | 18   | 68   | 86   | 40   | 37   | 8    | 33   | 114  | 406\n",
       "2    | Quincy Acy\\acyqu01          | PF   | 26   | TOT  | 38   | 1    | 558  | 70   | 170  | 0.412 | 37   | 90   | 0.411 | 33   | 80   | 0.413 | 0.521 | 45   | 60   | 0.75  | 20   | 95   | 115  | 18   | 14   | 15   | 21   | 67   | 222\n",
       "2    | Quincy Acy\\acyqu01          | PF   | 26   | DAL  | 6    | 0    | 48   | 5    | 17   | 0.294 | 1    | 7    | 0.143 | 4    | 10   | 0.4   | 0.324 | 2    | 3    | 0.667 | 2    | 6    | 8    | 0    | 0    | 0    | 2    | 9    | 13\n",
       "2    | Quincy Acy\\acyqu01          | PF   | 26   | BRK  | 32   | 1    | 510  | 65   | 153  | 0.425 | 36   | 83   | 0.434 | 29   | 70   | 0.414 | 0.542 | 43   | 57   | 0.754 | 18   | 89   | 107  | 18   | 14   | 15   | 19   | 58   | 209\n",
       "3    | Steven Adams\\adamsst01      | C    | 23   | OKC  | 80   | 80   | 2389 | 374  | 655  | 0.571 | 0    | 1    | 0     | 374  | 654  | 0.572 | 0.571 | 157  | 257  | 0.611 | 281  | 332  | 613  | 86   | 89   | 78   | 146  | 195  | 905\n",
       "4    | Arron Afflalo\\afflaar01     | SG   | 31   | SAC  | 61   | 45   | 1580 | 185  | 420  | 0.44  | 62   | 151  | 0.411 | 123  | 269  | 0.457 | 0.514 | 83   | 93   | 0.892 | 9    | 116  | 125  | 78   | 21   | 6    | 42   | 104  | 515\n",
       "5    | Alexis Ajinca\\ajincal01     | C    | 28   | NOP  | 39   | 15   | 584  | 89   | 178  | 0.5   | 0    | 4    | 0     | 89   | 174  | 0.511 | 0.5   | 29   | 40   | 0.725 | 46   | 131  | 177  | 12   | 20   | 22   | 31   | 77   | 207\n",
       "6    | Cole Aldrich\\aldrico01      | C    | 28   | MIN  | 62   | 0    | 531  | 45   | 86   | 0.523 | 0    | 0    | nan   | 45   | 86   | 0.523 | 0.523 | 15   | 22   | 0.682 | 51   | 107  | 158  | 25   | 25   | 23   | 17   | 85   | 105\n",
       "7    | LaMarcus Aldridge\\aldrila01 | PF   | 31   | SAS  | 72   | 72   | 2335 | 500  | 1049 | 0.477 | 23   | 56   | 0.411 | 477  | 993  | 0.48  | 0.488 | 220  | 271  | 0.812 | 172  | 351  | 523  | 139  | 46   | 88   | 98   | 158  | 1243\n",
       "8    | Lavoy Allen\\allenla01       | PF   | 27   | IND  | 61   | 5    | 871  | 77   | 168  | 0.458 | 0    | 1    | 0     | 77   | 167  | 0.461 | 0.458 | 23   | 33   | 0.697 | 105  | 114  | 219  | 57   | 18   | 24   | 29   | 78   | 177\n",
       "... (585 rows omitted)"
      ]
     },
     "execution_count": 2,
     "metadata": {},
     "output_type": "execute_result"
    }
   ],
   "source": [
    "player_stats = Table().read_table('NBAPlayerStats2017.csv')\n",
    "player_stats"
   ]
  },
  {
   "cell_type": "code",
   "execution_count": null,
   "metadata": {
    "collapsed": true
   },
   "outputs": [],
   "source": []
  },
  {
   "cell_type": "markdown",
   "metadata": {},
   "source": [
    "# Model Example Formatting (By Derek, Q1)\n",
    "\n",
    "**Intro to Problem:** You've previously learned about 'where' statements in Data Science, where you eliminate certain values based on what you are looking for. \n",
    "\n",
    "**Question:** Write a line of code from *player_stats* that finds the Center with the best FT%, **without using the FT% column**."
   ]
  },
  {
   "cell_type": "code",
   "execution_count": 3,
   "metadata": {},
   "outputs": [
    {
     "name": "stderr",
     "output_type": "stream",
     "text": [
      "/srv/app/venv/lib/python3.6/site-packages/ipykernel_launcher.py:5: RuntimeWarning: invalid value encountered in true_divide\n",
      "  \"\"\"\n"
     ]
    },
    {
     "data": {
      "text/plain": [
       "'DeMarcus Cousins\\\\couside01'"
      ]
     },
     "execution_count": 3,
     "metadata": {},
     "output_type": "execute_result"
    }
   ],
   "source": [
    "#By Derek, Q1\n",
    "\n",
    "#What Center Has Best FT%\n",
    "centers = player_stats.where('Pos', are.equal_to('C'))\n",
    "centers = centers.with_column('FTP', (centers.column('FT')/centers.column('FTA')))\n",
    "FT_center = centers.sort('FTA', descending=True).take(0).column('Player')[0]\n",
    "FT_center"
   ]
  },
  {
   "cell_type": "markdown",
   "metadata": {},
   "source": [
    "# Quick Examples"
   ]
  },
  {
   "cell_type": "code",
   "execution_count": 4,
   "metadata": {},
   "outputs": [
    {
     "data": {
      "text/html": [
       "<table border=\"1\" class=\"dataframe\">\n",
       "    <thead>\n",
       "        <tr>\n",
       "            <th>Rk</th> <th>Player</th> <th>Pos</th> <th>Age</th> <th>Tm</th> <th>G</th> <th>GS</th> <th>MP</th> <th>FG</th> <th>FGA</th> <th>FG%</th> <th>3P</th> <th>3PA</th> <th>3P%</th> <th>2P</th> <th>2PA</th> <th>2P%</th> <th>eFG%</th> <th>FT</th> <th>FTA</th> <th>FT%</th> <th>ORB</th> <th>DRB</th> <th>TRB</th> <th>AST</th> <th>STL</th> <th>BLK</th> <th>TOV</th> <th>PF</th> <th>PTS</th>\n",
       "        </tr>\n",
       "    </thead>\n",
       "    <tbody>\n",
       "        <tr>\n",
       "            <td>462 </td> <td>Andrew Wiggins\\wiggian01    </td> <td>SF  </td> <td>21  </td> <td>MIN </td> <td>82  </td> <td>82  </td> <td>3048</td> <td>709 </td> <td>1570</td> <td>0.452</td> <td>103 </td> <td>289 </td> <td>0.356</td> <td>606 </td> <td>1281</td> <td>0.473</td> <td>0.484</td> <td>412 </td> <td>542 </td> <td>0.76 </td> <td>102 </td> <td>226 </td> <td>328 </td> <td>189 </td> <td>82  </td> <td>30  </td> <td>187 </td> <td>183 </td> <td>1933</td>\n",
       "        </tr>\n",
       "    </tbody>\n",
       "        <tr>\n",
       "            <td>433 </td> <td>Karl-Anthony Towns\\townska01</td> <td>C   </td> <td>21  </td> <td>MIN </td> <td>82  </td> <td>82  </td> <td>3030</td> <td>802 </td> <td>1480</td> <td>0.542</td> <td>101 </td> <td>275 </td> <td>0.367</td> <td>701 </td> <td>1205</td> <td>0.582</td> <td>0.576</td> <td>356 </td> <td>428 </td> <td>0.832</td> <td>296 </td> <td>711 </td> <td>1007</td> <td>220 </td> <td>56  </td> <td>103 </td> <td>212 </td> <td>241 </td> <td>2061</td>\n",
       "        </tr>\n",
       "    </tbody>\n",
       "        <tr>\n",
       "            <td>172 </td> <td>James Harden\\hardeja01      </td> <td>PG  </td> <td>27  </td> <td>HOU </td> <td>81  </td> <td>81  </td> <td>2947</td> <td>674 </td> <td>1533</td> <td>0.44 </td> <td>262 </td> <td>756 </td> <td>0.347</td> <td>412 </td> <td>777 </td> <td>0.53 </td> <td>0.525</td> <td>746 </td> <td>881 </td> <td>0.847</td> <td>95  </td> <td>564 </td> <td>659 </td> <td>907 </td> <td>121 </td> <td>38  </td> <td>464 </td> <td>215 </td> <td>2356</td>\n",
       "        </tr>\n",
       "    </tbody>\n",
       "</table>"
      ],
      "text/plain": [
       "Rk   | Player                       | Pos  | Age  | Tm   | G    | GS   | MP   | FG   | FGA  | FG%   | 3P   | 3PA  | 3P%   | 2P   | 2PA  | 2P%   | eFG%  | FT   | FTA  | FT%   | ORB  | DRB  | TRB  | AST  | STL  | BLK  | TOV  | PF   | PTS\n",
       "462  | Andrew Wiggins\\wiggian01     | SF   | 21   | MIN  | 82   | 82   | 3048 | 709  | 1570 | 0.452 | 103  | 289  | 0.356 | 606  | 1281 | 0.473 | 0.484 | 412  | 542  | 0.76  | 102  | 226  | 328  | 189  | 82   | 30   | 187  | 183  | 1933\n",
       "433  | Karl-Anthony Towns\\townska01 | C    | 21   | MIN  | 82   | 82   | 3030 | 802  | 1480 | 0.542 | 101  | 275  | 0.367 | 701  | 1205 | 0.582 | 0.576 | 356  | 428  | 0.832 | 296  | 711  | 1007 | 220  | 56   | 103  | 212  | 241  | 2061\n",
       "172  | James Harden\\hardeja01       | PG   | 27   | HOU  | 81   | 81   | 2947 | 674  | 1533 | 0.44  | 262  | 756  | 0.347 | 412  | 777  | 0.53  | 0.525 | 746  | 881  | 0.847 | 95   | 564  | 659  | 907  | 121  | 38   | 464  | 215  | 2356"
      ]
     },
     "execution_count": 4,
     "metadata": {},
     "output_type": "execute_result"
    }
   ],
   "source": [
    "player_stats.sort('MP', descending=True).take(np.arange(3))"
   ]
  },
  {
   "cell_type": "code",
   "execution_count": 5,
   "metadata": {},
   "outputs": [
    {
     "data": {
      "text/html": [
       "<table border=\"1\" class=\"dataframe\">\n",
       "    <thead>\n",
       "        <tr>\n",
       "            <th>Player</th> <th>Pos</th> <th>Age</th> <th>MP</th> <th>PTS</th>\n",
       "        </tr>\n",
       "    </thead>\n",
       "    <tbody>\n",
       "        <tr>\n",
       "            <td>Andrew Wiggins\\wiggian01       </td> <td>SF  </td> <td>21  </td> <td>3048</td> <td>1933</td>\n",
       "        </tr>\n",
       "    </tbody>\n",
       "        <tr>\n",
       "            <td>Karl-Anthony Towns\\townska01   </td> <td>C   </td> <td>21  </td> <td>3030</td> <td>2061</td>\n",
       "        </tr>\n",
       "    </tbody>\n",
       "        <tr>\n",
       "            <td>James Harden\\hardeja01         </td> <td>PG  </td> <td>27  </td> <td>2947</td> <td>2356</td>\n",
       "        </tr>\n",
       "    </tbody>\n",
       "        <tr>\n",
       "            <td>Giannis Antetokounmpo\\antetgi01</td> <td>SF  </td> <td>22  </td> <td>2845</td> <td>1832</td>\n",
       "        </tr>\n",
       "    </tbody>\n",
       "        <tr>\n",
       "            <td>John Wall\\walljo01             </td> <td>PG  </td> <td>26  </td> <td>2836</td> <td>1805</td>\n",
       "        </tr>\n",
       "    </tbody>\n",
       "        <tr>\n",
       "            <td>Jimmy Butler\\butleji01         </td> <td>SF  </td> <td>27  </td> <td>2809</td> <td>1816</td>\n",
       "        </tr>\n",
       "    </tbody>\n",
       "        <tr>\n",
       "            <td>Harrison Barnes\\barneha02      </td> <td>PF  </td> <td>24  </td> <td>2803</td> <td>1518</td>\n",
       "        </tr>\n",
       "    </tbody>\n",
       "        <tr>\n",
       "            <td>Russell Westbrook\\westbru01    </td> <td>PG  </td> <td>28  </td> <td>2802</td> <td>2558</td>\n",
       "        </tr>\n",
       "    </tbody>\n",
       "        <tr>\n",
       "            <td>C.J. McCollum\\mccolcj01        </td> <td>SG  </td> <td>25  </td> <td>2796</td> <td>1837</td>\n",
       "        </tr>\n",
       "    </tbody>\n",
       "        <tr>\n",
       "            <td>LeBron James\\jamesle01         </td> <td>SF  </td> <td>32  </td> <td>2794</td> <td>1954</td>\n",
       "        </tr>\n",
       "    </tbody>\n",
       "</table>\n",
       "<p>... (140 rows omitted)</p"
      ],
      "text/plain": [
       "Player                          | Pos  | Age  | MP   | PTS\n",
       "Andrew Wiggins\\wiggian01        | SF   | 21   | 3048 | 1933\n",
       "Karl-Anthony Towns\\townska01    | C    | 21   | 3030 | 2061\n",
       "James Harden\\hardeja01          | PG   | 27   | 2947 | 2356\n",
       "Giannis Antetokounmpo\\antetgi01 | SF   | 22   | 2845 | 1832\n",
       "John Wall\\walljo01              | PG   | 26   | 2836 | 1805\n",
       "Jimmy Butler\\butleji01          | SF   | 27   | 2809 | 1816\n",
       "Harrison Barnes\\barneha02       | PF   | 24   | 2803 | 1518\n",
       "Russell Westbrook\\westbru01     | PG   | 28   | 2802 | 2558\n",
       "C.J. McCollum\\mccolcj01         | SG   | 25   | 2796 | 1837\n",
       "LeBron James\\jamesle01          | SF   | 32   | 2794 | 1954\n",
       "... (140 rows omitted)"
      ]
     },
     "execution_count": 5,
     "metadata": {},
     "output_type": "execute_result"
    }
   ],
   "source": [
    "player_stats.sort('MP', descending=True).select('Player', 'Pos', 'Age', 'MP', 'PTS').take(np.arange(150))"
   ]
  },
  {
   "cell_type": "code",
   "execution_count": 6,
   "metadata": {},
   "outputs": [
    {
     "data": {
      "image/png": "[encoded data removed]",
      "text/plain": [
       "<matplotlib.figure.Figure at 0x7f0295c73048>"
      ]
     },
     "metadata": {},
     "output_type": "display_data"
    }
   ],
   "source": [
    "new_stats = player_stats.group('Age', sum).select('Age', 'MP sum', 'PTS sum')\n",
    "new_stats = new_stats.with_column('Points Per Minute', new_stats.column('PTS sum')/new_stats.column('MP sum'))\n",
    "new_stats.barh('Age', 'Points Per Minute')"
   ]
  },
  {
   "cell_type": "code",
   "execution_count": 7,
   "metadata": {},
   "outputs": [
    {
     "data": {
      "text/plain": [
       "<bound method Table.where of Rk   | Player                      | Pos  | Age  | Tm   | G    | GS   | MP   | FG   | FGA  | FG%   | 3P   | 3PA  | 3P%   | 2P   | 2PA  | 2P%   | eFG%  | FT   | FTA  | FT%   | ORB  | DRB  | TRB  | AST  | STL  | BLK  | TOV  | PF   | PTS\n",
       "1    | Alex Abrines\\abrinal01      | SG   | 23   | OKC  | 68   | 6    | 1055 | 134  | 341  | 0.393 | 94   | 247  | 0.381 | 40   | 94   | 0.426 | 0.531 | 44   | 49   | 0.898 | 18   | 68   | 86   | 40   | 37   | 8    | 33   | 114  | 406\n",
       "2    | Quincy Acy\\acyqu01          | PF   | 26   | TOT  | 38   | 1    | 558  | 70   | 170  | 0.412 | 37   | 90   | 0.411 | 33   | 80   | 0.413 | 0.521 | 45   | 60   | 0.75  | 20   | 95   | 115  | 18   | 14   | 15   | 21   | 67   | 222\n",
       "2    | Quincy Acy\\acyqu01          | PF   | 26   | DAL  | 6    | 0    | 48   | 5    | 17   | 0.294 | 1    | 7    | 0.143 | 4    | 10   | 0.4   | 0.324 | 2    | 3    | 0.667 | 2    | 6    | 8    | 0    | 0    | 0    | 2    | 9    | 13\n",
       "2    | Quincy Acy\\acyqu01          | PF   | 26   | BRK  | 32   | 1    | 510  | 65   | 153  | 0.425 | 36   | 83   | 0.434 | 29   | 70   | 0.414 | 0.542 | 43   | 57   | 0.754 | 18   | 89   | 107  | 18   | 14   | 15   | 19   | 58   | 209\n",
       "3    | Steven Adams\\adamsst01      | C    | 23   | OKC  | 80   | 80   | 2389 | 374  | 655  | 0.571 | 0    | 1    | 0     | 374  | 654  | 0.572 | 0.571 | 157  | 257  | 0.611 | 281  | 332  | 613  | 86   | 89   | 78   | 146  | 195  | 905\n",
       "4    | Arron Afflalo\\afflaar01     | SG   | 31   | SAC  | 61   | 45   | 1580 | 185  | 420  | 0.44  | 62   | 151  | 0.411 | 123  | 269  | 0.457 | 0.514 | 83   | 93   | 0.892 | 9    | 116  | 125  | 78   | 21   | 6    | 42   | 104  | 515\n",
       "5    | Alexis Ajinca\\ajincal01     | C    | 28   | NOP  | 39   | 15   | 584  | 89   | 178  | 0.5   | 0    | 4    | 0     | 89   | 174  | 0.511 | 0.5   | 29   | 40   | 0.725 | 46   | 131  | 177  | 12   | 20   | 22   | 31   | 77   | 207\n",
       "6    | Cole Aldrich\\aldrico01      | C    | 28   | MIN  | 62   | 0    | 531  | 45   | 86   | 0.523 | 0    | 0    | nan   | 45   | 86   | 0.523 | 0.523 | 15   | 22   | 0.682 | 51   | 107  | 158  | 25   | 25   | 23   | 17   | 85   | 105\n",
       "7    | LaMarcus Aldridge\\aldrila01 | PF   | 31   | SAS  | 72   | 72   | 2335 | 500  | 1049 | 0.477 | 23   | 56   | 0.411 | 477  | 993  | 0.48  | 0.488 | 220  | 271  | 0.812 | 172  | 351  | 523  | 139  | 46   | 88   | 98   | 158  | 1243\n",
       "8    | Lavoy Allen\\allenla01       | PF   | 27   | IND  | 61   | 5    | 871  | 77   | 168  | 0.458 | 0    | 1    | 0     | 77   | 167  | 0.461 | 0.458 | 23   | 33   | 0.697 | 105  | 114  | 219  | 57   | 18   | 24   | 29   | 78   | 177\n",
       "... (585 rows omitted)>"
      ]
     },
     "execution_count": 7,
     "metadata": {},
     "output_type": "execute_result"
    }
   ],
   "source": [
    "#What Center Has Best FT%\n",
    "player_stats.where"
   ]
  },
  {
   "cell_type": "markdown",
   "metadata": {},
   "source": [
    "# Q1, Jeevan\n",
    "\n",
    "**Intro to Problem:** You've previously learned about 'sort' statements in Data Science, where you can order the table based on some criteria. Right now the table is ordered alphabetically, which doesn't really help us.\n",
    "\n",
    "**Question:** Write a code to order the table by PTS in descending order."
   ]
  },
  {
   "cell_type": "code",
   "execution_count": 8,
   "metadata": {},
   "outputs": [
    {
     "data": {
      "text/html": [
       "<table border=\"1\" class=\"dataframe\">\n",
       "    <thead>\n",
       "        <tr>\n",
       "            <th>Rk</th> <th>Player</th> <th>Pos</th> <th>Age</th> <th>Tm</th> <th>G</th> <th>GS</th> <th>MP</th> <th>FG</th> <th>FGA</th> <th>FG%</th> <th>3P</th> <th>3PA</th> <th>3P%</th> <th>2P</th> <th>2PA</th> <th>2P%</th> <th>eFG%</th> <th>FT</th> <th>FTA</th> <th>FT%</th> <th>ORB</th> <th>DRB</th> <th>TRB</th> <th>AST</th> <th>STL</th> <th>BLK</th> <th>TOV</th> <th>PF</th> <th>PTS</th>\n",
       "        </tr>\n",
       "    </thead>\n",
       "    <tbody>\n",
       "        <tr>\n",
       "            <td>458 </td> <td>Russell Westbrook\\westbru01 </td> <td>PG  </td> <td>28  </td> <td>OKC </td> <td>81  </td> <td>81  </td> <td>2802</td> <td>824 </td> <td>1941</td> <td>0.425</td> <td>200 </td> <td>583 </td> <td>0.343</td> <td>624 </td> <td>1358</td> <td>0.459</td> <td>0.476</td> <td>710 </td> <td>840 </td> <td>0.845</td> <td>137 </td> <td>727 </td> <td>864 </td> <td>840 </td> <td>132 </td> <td>31  </td> <td>438 </td> <td>190 </td> <td>2558</td>\n",
       "        </tr>\n",
       "    </tbody>\n",
       "        <tr>\n",
       "            <td>172 </td> <td>James Harden\\hardeja01      </td> <td>PG  </td> <td>27  </td> <td>HOU </td> <td>81  </td> <td>81  </td> <td>2947</td> <td>674 </td> <td>1533</td> <td>0.44 </td> <td>262 </td> <td>756 </td> <td>0.347</td> <td>412 </td> <td>777 </td> <td>0.53 </td> <td>0.525</td> <td>746 </td> <td>881 </td> <td>0.847</td> <td>95  </td> <td>564 </td> <td>659 </td> <td>907 </td> <td>121 </td> <td>38  </td> <td>464 </td> <td>215 </td> <td>2356</td>\n",
       "        </tr>\n",
       "    </tbody>\n",
       "        <tr>\n",
       "            <td>424 </td> <td>Isaiah Thomas\\thomais02     </td> <td>PG  </td> <td>27  </td> <td>BOS </td> <td>76  </td> <td>76  </td> <td>2569</td> <td>682 </td> <td>1473</td> <td>0.463</td> <td>245 </td> <td>646 </td> <td>0.379</td> <td>437 </td> <td>827 </td> <td>0.528</td> <td>0.546</td> <td>590 </td> <td>649 </td> <td>0.909</td> <td>43  </td> <td>162 </td> <td>205 </td> <td>448 </td> <td>70  </td> <td>13  </td> <td>210 </td> <td>167 </td> <td>2199</td>\n",
       "        </tr>\n",
       "    </tbody>\n",
       "        <tr>\n",
       "            <td>100 </td> <td>Anthony Davis\\davisan02     </td> <td>C   </td> <td>23  </td> <td>NOP </td> <td>75  </td> <td>75  </td> <td>2708</td> <td>770 </td> <td>1526</td> <td>0.505</td> <td>40  </td> <td>134 </td> <td>0.299</td> <td>730 </td> <td>1392</td> <td>0.524</td> <td>0.518</td> <td>519 </td> <td>647 </td> <td>0.802</td> <td>172 </td> <td>712 </td> <td>884 </td> <td>157 </td> <td>94  </td> <td>167 </td> <td>181 </td> <td>168 </td> <td>2099</td>\n",
       "        </tr>\n",
       "    </tbody>\n",
       "        <tr>\n",
       "            <td>433 </td> <td>Karl-Anthony Towns\\townska01</td> <td>C   </td> <td>21  </td> <td>MIN </td> <td>82  </td> <td>82  </td> <td>3030</td> <td>802 </td> <td>1480</td> <td>0.542</td> <td>101 </td> <td>275 </td> <td>0.367</td> <td>701 </td> <td>1205</td> <td>0.582</td> <td>0.576</td> <td>356 </td> <td>428 </td> <td>0.832</td> <td>296 </td> <td>711 </td> <td>1007</td> <td>220 </td> <td>56  </td> <td>103 </td> <td>212 </td> <td>241 </td> <td>2061</td>\n",
       "        </tr>\n",
       "    </tbody>\n",
       "        <tr>\n",
       "            <td>266 </td> <td>Damian Lillard\\lillada01    </td> <td>PG  </td> <td>26  </td> <td>POR </td> <td>75  </td> <td>75  </td> <td>2694</td> <td>661 </td> <td>1488</td> <td>0.444</td> <td>214 </td> <td>579 </td> <td>0.37 </td> <td>447 </td> <td>909 </td> <td>0.492</td> <td>0.516</td> <td>488 </td> <td>545 </td> <td>0.895</td> <td>46  </td> <td>322 </td> <td>368 </td> <td>440 </td> <td>68  </td> <td>20  </td> <td>197 </td> <td>152 </td> <td>2024</td>\n",
       "        </tr>\n",
       "    </tbody>\n",
       "        <tr>\n",
       "            <td>108 </td> <td>DeMar DeRozan\\derozde01     </td> <td>SG  </td> <td>27  </td> <td>TOR </td> <td>74  </td> <td>74  </td> <td>2620</td> <td>721 </td> <td>1545</td> <td>0.467</td> <td>33  </td> <td>124 </td> <td>0.266</td> <td>688 </td> <td>1421</td> <td>0.484</td> <td>0.477</td> <td>545 </td> <td>647 </td> <td>0.842</td> <td>70  </td> <td>316 </td> <td>386 </td> <td>290 </td> <td>78  </td> <td>13  </td> <td>180 </td> <td>134 </td> <td>2020</td>\n",
       "        </tr>\n",
       "    </tbody>\n",
       "        <tr>\n",
       "            <td>98  </td> <td>Stephen Curry\\curryst01     </td> <td>PG  </td> <td>28  </td> <td>GSW </td> <td>79  </td> <td>79  </td> <td>2638</td> <td>675 </td> <td>1443</td> <td>0.468</td> <td>324 </td> <td>789 </td> <td>0.411</td> <td>351 </td> <td>654 </td> <td>0.537</td> <td>0.58 </td> <td>325 </td> <td>362 </td> <td>0.898</td> <td>61  </td> <td>292 </td> <td>353 </td> <td>524 </td> <td>142 </td> <td>17  </td> <td>239 </td> <td>183 </td> <td>1999</td>\n",
       "        </tr>\n",
       "    </tbody>\n",
       "        <tr>\n",
       "            <td>220 </td> <td>LeBron James\\jamesle01      </td> <td>SF  </td> <td>32  </td> <td>CLE </td> <td>74  </td> <td>74  </td> <td>2794</td> <td>736 </td> <td>1344</td> <td>0.548</td> <td>124 </td> <td>342 </td> <td>0.363</td> <td>612 </td> <td>1002</td> <td>0.611</td> <td>0.594</td> <td>358 </td> <td>531 </td> <td>0.674</td> <td>97  </td> <td>542 </td> <td>639 </td> <td>646 </td> <td>92  </td> <td>44  </td> <td>303 </td> <td>134 </td> <td>1954</td>\n",
       "        </tr>\n",
       "    </tbody>\n",
       "        <tr>\n",
       "            <td>90  </td> <td>DeMarcus Cousins\\couside01  </td> <td>C   </td> <td>26  </td> <td>TOT </td> <td>72  </td> <td>72  </td> <td>2465</td> <td>647 </td> <td>1432</td> <td>0.452</td> <td>131 </td> <td>363 </td> <td>0.361</td> <td>516 </td> <td>1069</td> <td>0.483</td> <td>0.498</td> <td>517 </td> <td>670 </td> <td>0.772</td> <td>152 </td> <td>642 </td> <td>794 </td> <td>332 </td> <td>100 </td> <td>93  </td> <td>269 </td> <td>278 </td> <td>1942</td>\n",
       "        </tr>\n",
       "    </tbody>\n",
       "</table>\n",
       "<p>... (585 rows omitted)</p"
      ],
      "text/plain": [
       "Rk   | Player                       | Pos  | Age  | Tm   | G    | GS   | MP   | FG   | FGA  | FG%   | 3P   | 3PA  | 3P%   | 2P   | 2PA  | 2P%   | eFG%  | FT   | FTA  | FT%   | ORB  | DRB  | TRB  | AST  | STL  | BLK  | TOV  | PF   | PTS\n",
       "458  | Russell Westbrook\\westbru01  | PG   | 28   | OKC  | 81   | 81   | 2802 | 824  | 1941 | 0.425 | 200  | 583  | 0.343 | 624  | 1358 | 0.459 | 0.476 | 710  | 840  | 0.845 | 137  | 727  | 864  | 840  | 132  | 31   | 438  | 190  | 2558\n",
       "172  | James Harden\\hardeja01       | PG   | 27   | HOU  | 81   | 81   | 2947 | 674  | 1533 | 0.44  | 262  | 756  | 0.347 | 412  | 777  | 0.53  | 0.525 | 746  | 881  | 0.847 | 95   | 564  | 659  | 907  | 121  | 38   | 464  | 215  | 2356\n",
       "424  | Isaiah Thomas\\thomais02      | PG   | 27   | BOS  | 76   | 76   | 2569 | 682  | 1473 | 0.463 | 245  | 646  | 0.379 | 437  | 827  | 0.528 | 0.546 | 590  | 649  | 0.909 | 43   | 162  | 205  | 448  | 70   | 13   | 210  | 167  | 2199\n",
       "100  | Anthony Davis\\davisan02      | C    | 23   | NOP  | 75   | 75   | 2708 | 770  | 1526 | 0.505 | 40   | 134  | 0.299 | 730  | 1392 | 0.524 | 0.518 | 519  | 647  | 0.802 | 172  | 712  | 884  | 157  | 94   | 167  | 181  | 168  | 2099\n",
       "433  | Karl-Anthony Towns\\townska01 | C    | 21   | MIN  | 82   | 82   | 3030 | 802  | 1480 | 0.542 | 101  | 275  | 0.367 | 701  | 1205 | 0.582 | 0.576 | 356  | 428  | 0.832 | 296  | 711  | 1007 | 220  | 56   | 103  | 212  | 241  | 2061\n",
       "266  | Damian Lillard\\lillada01     | PG   | 26   | POR  | 75   | 75   | 2694 | 661  | 1488 | 0.444 | 214  | 579  | 0.37  | 447  | 909  | 0.492 | 0.516 | 488  | 545  | 0.895 | 46   | 322  | 368  | 440  | 68   | 20   | 197  | 152  | 2024\n",
       "108  | DeMar DeRozan\\derozde01      | SG   | 27   | TOR  | 74   | 74   | 2620 | 721  | 1545 | 0.467 | 33   | 124  | 0.266 | 688  | 1421 | 0.484 | 0.477 | 545  | 647  | 0.842 | 70   | 316  | 386  | 290  | 78   | 13   | 180  | 134  | 2020\n",
       "98   | Stephen Curry\\curryst01      | PG   | 28   | GSW  | 79   | 79   | 2638 | 675  | 1443 | 0.468 | 324  | 789  | 0.411 | 351  | 654  | 0.537 | 0.58  | 325  | 362  | 0.898 | 61   | 292  | 353  | 524  | 142  | 17   | 239  | 183  | 1999\n",
       "220  | LeBron James\\jamesle01       | SF   | 32   | CLE  | 74   | 74   | 2794 | 736  | 1344 | 0.548 | 124  | 342  | 0.363 | 612  | 1002 | 0.611 | 0.594 | 358  | 531  | 0.674 | 97   | 542  | 639  | 646  | 92   | 44   | 303  | 134  | 1954\n",
       "90   | DeMarcus Cousins\\couside01   | C    | 26   | TOT  | 72   | 72   | 2465 | 647  | 1432 | 0.452 | 131  | 363  | 0.361 | 516  | 1069 | 0.483 | 0.498 | 517  | 670  | 0.772 | 152  | 642  | 794  | 332  | 100  | 93   | 269  | 278  | 1942\n",
       "... (585 rows omitted)"
      ]
     },
     "execution_count": 8,
     "metadata": {},
     "output_type": "execute_result"
    }
   ],
   "source": [
    "player_stats.sort(\"PTS\", descending = True)"
   ]
  },
  {
   "cell_type": "markdown",
   "metadata": {},
   "source": [
    "# Q2, Jeevan\n",
    "\n",
    "**Intro to Problem:** You've previously learned about 'where' statements in Data Science, where you eliminate certain values based on what you are looking for. Now you'll combine that with a 'sort' statement.\n",
    "\n",
    "**Question:** Write a code to find out which players with 100 or more 3PA have the highest 3P%."
   ]
  },
  {
   "cell_type": "code",
   "execution_count": 9,
   "metadata": {},
   "outputs": [
    {
     "data": {
      "text/html": [
       "<table border=\"1\" class=\"dataframe\">\n",
       "    <thead>\n",
       "        <tr>\n",
       "            <th>Rk</th> <th>Player</th> <th>Pos</th> <th>Age</th> <th>Tm</th> <th>G</th> <th>GS</th> <th>MP</th> <th>FG</th> <th>FGA</th> <th>FG%</th> <th>3P</th> <th>3PA</th> <th>3P%</th> <th>2P</th> <th>2PA</th> <th>2P%</th> <th>eFG%</th> <th>FT</th> <th>FTA</th> <th>FT%</th> <th>ORB</th> <th>DRB</th> <th>TRB</th> <th>AST</th> <th>STL</th> <th>BLK</th> <th>TOV</th> <th>PF</th> <th>PTS</th>\n",
       "        </tr>\n",
       "    </thead>\n",
       "    <tbody>\n",
       "        <tr>\n",
       "            <td>146 </td> <td>Pau Gasol\\gasolpa01      </td> <td>C   </td> <td>36  </td> <td>SAS </td> <td>64  </td> <td>39  </td> <td>1627</td> <td>303 </td> <td>604 </td> <td>0.502</td> <td>56  </td> <td>104 </td> <td>0.538</td> <td>247 </td> <td>500 </td> <td>0.494</td> <td>0.548</td> <td>130 </td> <td>184 </td> <td>0.707</td> <td>107 </td> <td>394 </td> <td>501 </td> <td>150 </td> <td>24  </td> <td>70  </td> <td>81  </td> <td>110 </td> <td>792 </td>\n",
       "        </tr>\n",
       "    </tbody>\n",
       "        <tr>\n",
       "            <td>248 </td> <td>Kyle Korver\\korveky01    </td> <td>SG  </td> <td>35  </td> <td>CLE </td> <td>35  </td> <td>1   </td> <td>859 </td> <td>131 </td> <td>269 </td> <td>0.487</td> <td>97  </td> <td>200 </td> <td>0.485</td> <td>34  </td> <td>69  </td> <td>0.493</td> <td>0.667</td> <td>14  </td> <td>15  </td> <td>0.933</td> <td>7   </td> <td>90  </td> <td>97  </td> <td>35  </td> <td>11  </td> <td>8   </td> <td>29  </td> <td>60  </td> <td>373 </td>\n",
       "        </tr>\n",
       "    </tbody>\n",
       "        <tr>\n",
       "            <td>20  </td> <td>Darrell Arthur\\arthuda01 </td> <td>PF  </td> <td>28  </td> <td>DEN </td> <td>41  </td> <td>7   </td> <td>639 </td> <td>95  </td> <td>215 </td> <td>0.442</td> <td>53  </td> <td>117 </td> <td>0.453</td> <td>42  </td> <td>98  </td> <td>0.429</td> <td>0.565</td> <td>19  </td> <td>22  </td> <td>0.864</td> <td>25  </td> <td>87  </td> <td>112 </td> <td>42  </td> <td>19  </td> <td>21  </td> <td>36  </td> <td>76  </td> <td>262 </td>\n",
       "        </tr>\n",
       "    </tbody>\n",
       "        <tr>\n",
       "            <td>248 </td> <td>Kyle Korver\\korveky01    </td> <td>SG  </td> <td>35  </td> <td>TOT </td> <td>67  </td> <td>22  </td> <td>1753</td> <td>239 </td> <td>515 </td> <td>0.464</td> <td>162 </td> <td>359 </td> <td>0.451</td> <td>77  </td> <td>156 </td> <td>0.494</td> <td>0.621</td> <td>38  </td> <td>42  </td> <td>0.905</td> <td>7   </td> <td>179 </td> <td>186 </td> <td>110 </td> <td>34  </td> <td>21  </td> <td>69  </td> <td>107 </td> <td>678 </td>\n",
       "        </tr>\n",
       "    </tbody>\n",
       "        <tr>\n",
       "            <td>92  </td> <td>Allen Crabbe\\crabbal01   </td> <td>SG  </td> <td>24  </td> <td>POR </td> <td>79  </td> <td>7   </td> <td>2254</td> <td>303 </td> <td>647 </td> <td>0.468</td> <td>134 </td> <td>302 </td> <td>0.444</td> <td>169 </td> <td>345 </td> <td>0.49 </td> <td>0.572</td> <td>105 </td> <td>124 </td> <td>0.847</td> <td>19  </td> <td>207 </td> <td>226 </td> <td>94  </td> <td>54  </td> <td>20  </td> <td>62  </td> <td>171 </td> <td>845 </td>\n",
       "        </tr>\n",
       "    </tbody>\n",
       "        <tr>\n",
       "            <td>213 </td> <td>Joe Ingles\\inglejo01     </td> <td>SF  </td> <td>29  </td> <td>UTA </td> <td>82  </td> <td>26  </td> <td>1972</td> <td>204 </td> <td>451 </td> <td>0.452</td> <td>123 </td> <td>279 </td> <td>0.441</td> <td>81  </td> <td>172 </td> <td>0.471</td> <td>0.589</td> <td>50  </td> <td>68  </td> <td>0.735</td> <td>23  </td> <td>238 </td> <td>261 </td> <td>225 </td> <td>96  </td> <td>8   </td> <td>107 </td> <td>163 </td> <td>581 </td>\n",
       "        </tr>\n",
       "    </tbody>\n",
       "        <tr>\n",
       "            <td>361 </td> <td>Otto Porter\\porteot01    </td> <td>SF  </td> <td>23  </td> <td>WAS </td> <td>80  </td> <td>80  </td> <td>2605</td> <td>414 </td> <td>803 </td> <td>0.516</td> <td>148 </td> <td>341 </td> <td>0.434</td> <td>266 </td> <td>462 </td> <td>0.576</td> <td>0.608</td> <td>99  </td> <td>119 </td> <td>0.832</td> <td>118 </td> <td>396 </td> <td>514 </td> <td>121 </td> <td>116 </td> <td>42  </td> <td>44  </td> <td>193 </td> <td>1075</td>\n",
       "        </tr>\n",
       "    </tbody>\n",
       "        <tr>\n",
       "            <td>301 </td> <td>Khris Middleton\\middlkh01</td> <td>SF  </td> <td>25  </td> <td>MIL </td> <td>29  </td> <td>23  </td> <td>889 </td> <td>150 </td> <td>333 </td> <td>0.45 </td> <td>45  </td> <td>104 </td> <td>0.433</td> <td>105 </td> <td>229 </td> <td>0.459</td> <td>0.518</td> <td>81  </td> <td>92  </td> <td>0.88 </td> <td>11  </td> <td>112 </td> <td>123 </td> <td>99  </td> <td>41  </td> <td>7   </td> <td>65  </td> <td>79  </td> <td>426 </td>\n",
       "        </tr>\n",
       "    </tbody>\n",
       "        <tr>\n",
       "            <td>372 </td> <td>J.J. Redick\\redicjj01    </td> <td>SG  </td> <td>32  </td> <td>LAC </td> <td>78  </td> <td>78  </td> <td>2198</td> <td>396 </td> <td>890 </td> <td>0.445</td> <td>201 </td> <td>468 </td> <td>0.429</td> <td>195 </td> <td>422 </td> <td>0.462</td> <td>0.558</td> <td>180 </td> <td>202 </td> <td>0.891</td> <td>11  </td> <td>160 </td> <td>171 </td> <td>110 </td> <td>54  </td> <td>13  </td> <td>98  </td> <td>125 </td> <td>1173</td>\n",
       "        </tr>\n",
       "    </tbody>\n",
       "        <tr>\n",
       "            <td>192 </td> <td>Buddy Hield\\hieldbu01    </td> <td>SG  </td> <td>23  </td> <td>SAC </td> <td>25  </td> <td>18  </td> <td>727 </td> <td>142 </td> <td>296 </td> <td>0.48 </td> <td>59  </td> <td>138 </td> <td>0.428</td> <td>83  </td> <td>158 </td> <td>0.525</td> <td>0.579</td> <td>35  </td> <td>43  </td> <td>0.814</td> <td>16  </td> <td>87  </td> <td>103 </td> <td>44  </td> <td>20  </td> <td>2   </td> <td>53  </td> <td>34  </td> <td>378 </td>\n",
       "        </tr>\n",
       "    </tbody>\n",
       "</table>"
      ],
      "text/plain": [
       "Rk   | Player                    | Pos  | Age  | Tm   | G    | GS   | MP   | FG   | FGA  | FG%   | 3P   | 3PA  | 3P%   | 2P   | 2PA  | 2P%   | eFG%  | FT   | FTA  | FT%   | ORB  | DRB  | TRB  | AST  | STL  | BLK  | TOV  | PF   | PTS\n",
       "146  | Pau Gasol\\gasolpa01       | C    | 36   | SAS  | 64   | 39   | 1627 | 303  | 604  | 0.502 | 56   | 104  | 0.538 | 247  | 500  | 0.494 | 0.548 | 130  | 184  | 0.707 | 107  | 394  | 501  | 150  | 24   | 70   | 81   | 110  | 792\n",
       "248  | Kyle Korver\\korveky01     | SG   | 35   | CLE  | 35   | 1    | 859  | 131  | 269  | 0.487 | 97   | 200  | 0.485 | 34   | 69   | 0.493 | 0.667 | 14   | 15   | 0.933 | 7    | 90   | 97   | 35   | 11   | 8    | 29   | 60   | 373\n",
       "20   | Darrell Arthur\\arthuda01  | PF   | 28   | DEN  | 41   | 7    | 639  | 95   | 215  | 0.442 | 53   | 117  | 0.453 | 42   | 98   | 0.429 | 0.565 | 19   | 22   | 0.864 | 25   | 87   | 112  | 42   | 19   | 21   | 36   | 76   | 262\n",
       "248  | Kyle Korver\\korveky01     | SG   | 35   | TOT  | 67   | 22   | 1753 | 239  | 515  | 0.464 | 162  | 359  | 0.451 | 77   | 156  | 0.494 | 0.621 | 38   | 42   | 0.905 | 7    | 179  | 186  | 110  | 34   | 21   | 69   | 107  | 678\n",
       "92   | Allen Crabbe\\crabbal01    | SG   | 24   | POR  | 79   | 7    | 2254 | 303  | 647  | 0.468 | 134  | 302  | 0.444 | 169  | 345  | 0.49  | 0.572 | 105  | 124  | 0.847 | 19   | 207  | 226  | 94   | 54   | 20   | 62   | 171  | 845\n",
       "213  | Joe Ingles\\inglejo01      | SF   | 29   | UTA  | 82   | 26   | 1972 | 204  | 451  | 0.452 | 123  | 279  | 0.441 | 81   | 172  | 0.471 | 0.589 | 50   | 68   | 0.735 | 23   | 238  | 261  | 225  | 96   | 8    | 107  | 163  | 581\n",
       "361  | Otto Porter\\porteot01     | SF   | 23   | WAS  | 80   | 80   | 2605 | 414  | 803  | 0.516 | 148  | 341  | 0.434 | 266  | 462  | 0.576 | 0.608 | 99   | 119  | 0.832 | 118  | 396  | 514  | 121  | 116  | 42   | 44   | 193  | 1075\n",
       "301  | Khris Middleton\\middlkh01 | SF   | 25   | MIL  | 29   | 23   | 889  | 150  | 333  | 0.45  | 45   | 104  | 0.433 | 105  | 229  | 0.459 | 0.518 | 81   | 92   | 0.88  | 11   | 112  | 123  | 99   | 41   | 7    | 65   | 79   | 426\n",
       "372  | J.J. Redick\\redicjj01     | SG   | 32   | LAC  | 78   | 78   | 2198 | 396  | 890  | 0.445 | 201  | 468  | 0.429 | 195  | 422  | 0.462 | 0.558 | 180  | 202  | 0.891 | 11   | 160  | 171  | 110  | 54   | 13   | 98   | 125  | 1173\n",
       "192  | Buddy Hield\\hieldbu01     | SG   | 23   | SAC  | 25   | 18   | 727  | 142  | 296  | 0.48  | 59   | 138  | 0.428 | 83   | 158  | 0.525 | 0.579 | 35   | 43   | 0.814 | 16   | 87   | 103  | 44   | 20   | 2    | 53   | 34   | 378"
      ]
     },
     "execution_count": 9,
     "metadata": {},
     "output_type": "execute_result"
    }
   ],
   "source": [
    "player_stats.where('3PA', are.above(100)).sort('3P%', descending=True).take(np.arange(10))"
   ]
  },
  {
   "cell_type": "markdown",
   "metadata": {},
   "source": [
    "# Q3, Jeevan\n",
    "\n",
    "**Intro to Problem:** In basketball, FG% is a simple ratio of how many shots you make to how many shots you attempt. However it doesn't account for 3-point shots being a higher risk higher reward shot than 2-point shots. For example, having a FG% of 50 on 100 2-point attempts means you score 100 points. Having a FG% of 50 on 100 3-point attemps means you score 150 points. eFG% accounts for this. \n",
    "\n",
    "**Question:** Find which player with more than 250 field goal attempts (FGA) has the highest eFG% WITHOUT using the eFG% column.\n",
    "\n",
    "Hint: eFG% = (2PA + 0.5 * 3PA) / FGA * 100%"
   ]
  },
  {
   "cell_type": "code",
   "execution_count": 10,
   "metadata": {},
   "outputs": [
    {
     "data": {
      "text/plain": [
       "'Hassan Whiteside\\\\whiteha01'"
      ]
     },
     "execution_count": 10,
     "metadata": {},
     "output_type": "execute_result"
    }
   ],
   "source": [
    "tmp = player_stats.where('FGA', are.above(250))\n",
    "tmp = tmp.with_column('MYeFG%', (tmp.column('2PA') + 0.5 * tmp.column('3PA')) / tmp.column('FGA'))\n",
    "player = tmp.sort('MYeFG%', descending=True).take(0).column('Player')[0]\n",
    "player"
   ]
  },
  {
   "cell_type": "markdown",
   "metadata": {},
   "source": [
    "# Q4, Jeevan\n",
    "\n",
    "**Question:** Which team scores the most points per game, and how many points do they score per game? You can assume each teams plays exactly 82 games."
   ]
  },
  {
   "cell_type": "code",
   "execution_count": 11,
   "metadata": {},
   "outputs": [
    {
     "data": {
      "text/html": [
       "<table border=\"1\" class=\"dataframe\">\n",
       "    <thead>\n",
       "        <tr>\n",
       "            <th>Tm</th> <th>PTS sum</th>\n",
       "        </tr>\n",
       "    </thead>\n",
       "    <tbody>\n",
       "        <tr>\n",
       "            <td>TOT </td> <td>22713  </td>\n",
       "        </tr>\n",
       "    </tbody>\n",
       "</table>"
      ],
      "text/plain": [
       "Tm   | PTS sum\n",
       "TOT  | 22713"
      ]
     },
     "execution_count": 11,
     "metadata": {},
     "output_type": "execute_result"
    }
   ],
   "source": [
    "teams = player_stats.group('Tm', sum).select('Tm', 'PTS sum')\n",
    "teams = teams.sort('PTS sum', descending=True).take(0)\n",
    "teams"
   ]
  },
  {
   "cell_type": "markdown",
   "metadata": {},
   "source": [
    "# Q5, Jeevan\n",
    "\n",
    "**Question:** Which player has the biggest difference between FG% and eFG% with more than 250 attempts and eFG% >= FG%? What does this mean?"
   ]
  },
  {
   "cell_type": "code",
   "execution_count": 12,
   "metadata": {},
   "outputs": [
    {
     "data": {
      "text/html": [
       "<table border=\"1\" class=\"dataframe\">\n",
       "    <thead>\n",
       "        <tr>\n",
       "            <th>Rk</th> <th>Player</th> <th>Pos</th> <th>Age</th> <th>Tm</th> <th>G</th> <th>GS</th> <th>MP</th> <th>FG</th> <th>FGA</th> <th>FG%</th> <th>3P</th> <th>3PA</th> <th>3P%</th> <th>2P</th> <th>2PA</th> <th>2P%</th> <th>eFG%</th> <th>FT</th> <th>FTA</th> <th>FT%</th> <th>ORB</th> <th>DRB</th> <th>TRB</th> <th>AST</th> <th>STL</th> <th>BLK</th> <th>TOV</th> <th>PF</th> <th>PTS</th> <th>diff</th>\n",
       "        </tr>\n",
       "    </thead>\n",
       "    <tbody>\n",
       "        <tr>\n",
       "            <td>248 </td> <td>Kyle Korver\\korveky01    </td> <td>SG  </td> <td>35  </td> <td>CLE </td> <td>35  </td> <td>1   </td> <td>859 </td> <td>131 </td> <td>269 </td> <td>0.487</td> <td>97  </td> <td>200 </td> <td>0.485</td> <td>34  </td> <td>69  </td> <td>0.493</td> <td>0.667</td> <td>14  </td> <td>15  </td> <td>0.933</td> <td>7   </td> <td>90  </td> <td>97  </td> <td>35  </td> <td>11  </td> <td>8   </td> <td>29  </td> <td>60  </td> <td>373 </td> <td>0.18 </td>\n",
       "        </tr>\n",
       "    </tbody>\n",
       "        <tr>\n",
       "            <td>248 </td> <td>Kyle Korver\\korveky01    </td> <td>SG  </td> <td>35  </td> <td>TOT </td> <td>67  </td> <td>22  </td> <td>1753</td> <td>239 </td> <td>515 </td> <td>0.464</td> <td>162 </td> <td>359 </td> <td>0.451</td> <td>77  </td> <td>156 </td> <td>0.494</td> <td>0.621</td> <td>38  </td> <td>42  </td> <td>0.905</td> <td>7   </td> <td>179 </td> <td>186 </td> <td>110 </td> <td>34  </td> <td>21  </td> <td>69  </td> <td>107 </td> <td>678 </td> <td>0.157</td>\n",
       "        </tr>\n",
       "    </tbody>\n",
       "        <tr>\n",
       "            <td>23  </td> <td>Luke Babbitt\\babbilu01   </td> <td>SF  </td> <td>27  </td> <td>MIA </td> <td>68  </td> <td>55  </td> <td>1065</td> <td>113 </td> <td>281 </td> <td>0.402</td> <td>87  </td> <td>210 </td> <td>0.414</td> <td>26  </td> <td>71  </td> <td>0.366</td> <td>0.557</td> <td>11  </td> <td>15  </td> <td>0.733</td> <td>12  </td> <td>129 </td> <td>141 </td> <td>36  </td> <td>20  </td> <td>11  </td> <td>25  </td> <td>118 </td> <td>324 </td> <td>0.155</td>\n",
       "        </tr>\n",
       "    </tbody>\n",
       "        <tr>\n",
       "            <td>99  </td> <td>Troy Daniels\\danietr01   </td> <td>SG  </td> <td>25  </td> <td>MEM </td> <td>67  </td> <td>3   </td> <td>1183</td> <td>185 </td> <td>495 </td> <td>0.374</td> <td>138 </td> <td>355 </td> <td>0.389</td> <td>47  </td> <td>140 </td> <td>0.336</td> <td>0.513</td> <td>43  </td> <td>54  </td> <td>0.796</td> <td>22  </td> <td>78  </td> <td>100 </td> <td>46  </td> <td>20  </td> <td>4   </td> <td>45  </td> <td>90  </td> <td>551 </td> <td>0.139</td>\n",
       "        </tr>\n",
       "    </tbody>\n",
       "        <tr>\n",
       "            <td>1   </td> <td>Alex Abrines\\abrinal01   </td> <td>SG  </td> <td>23  </td> <td>OKC </td> <td>68  </td> <td>6   </td> <td>1055</td> <td>134 </td> <td>341 </td> <td>0.393</td> <td>94  </td> <td>247 </td> <td>0.381</td> <td>40  </td> <td>94  </td> <td>0.426</td> <td>0.531</td> <td>44  </td> <td>49  </td> <td>0.898</td> <td>18  </td> <td>68  </td> <td>86  </td> <td>40  </td> <td>37  </td> <td>8   </td> <td>33  </td> <td>114 </td> <td>406 </td> <td>0.138</td>\n",
       "        </tr>\n",
       "    </tbody>\n",
       "        <tr>\n",
       "            <td>213 </td> <td>Joe Ingles\\inglejo01     </td> <td>SF  </td> <td>29  </td> <td>UTA </td> <td>82  </td> <td>26  </td> <td>1972</td> <td>204 </td> <td>451 </td> <td>0.452</td> <td>123 </td> <td>279 </td> <td>0.441</td> <td>81  </td> <td>172 </td> <td>0.471</td> <td>0.589</td> <td>50  </td> <td>68  </td> <td>0.735</td> <td>23  </td> <td>238 </td> <td>261 </td> <td>225 </td> <td>96  </td> <td>8   </td> <td>107 </td> <td>163 </td> <td>581 </td> <td>0.137</td>\n",
       "        </tr>\n",
       "    </tbody>\n",
       "        <tr>\n",
       "            <td>122 </td> <td>Wayne Ellington\\ellinwa01</td> <td>SG  </td> <td>29  </td> <td>MIA </td> <td>62  </td> <td>13  </td> <td>1500</td> <td>231 </td> <td>555 </td> <td>0.416</td> <td>149 </td> <td>394 </td> <td>0.378</td> <td>82  </td> <td>161 </td> <td>0.509</td> <td>0.55 </td> <td>37  </td> <td>43  </td> <td>0.86 </td> <td>18  </td> <td>114 </td> <td>132 </td> <td>70  </td> <td>35  </td> <td>4   </td> <td>30  </td> <td>70  </td> <td>648 </td> <td>0.134</td>\n",
       "        </tr>\n",
       "    </tbody>\n",
       "        <tr>\n",
       "            <td>480 </td> <td>Nick Young\\youngni01     </td> <td>SG  </td> <td>31  </td> <td>LAL </td> <td>60  </td> <td>60  </td> <td>1556</td> <td>272 </td> <td>633 </td> <td>0.43 </td> <td>170 </td> <td>421 </td> <td>0.404</td> <td>102 </td> <td>212 </td> <td>0.481</td> <td>0.564</td> <td>77  </td> <td>90  </td> <td>0.856</td> <td>25  </td> <td>113 </td> <td>138 </td> <td>58  </td> <td>37  </td> <td>14  </td> <td>36  </td> <td>137 </td> <td>791 </td> <td>0.134</td>\n",
       "        </tr>\n",
       "    </tbody>\n",
       "        <tr>\n",
       "            <td>409 </td> <td>Tony Snell\\snellto01     </td> <td>SG  </td> <td>25  </td> <td>MIL </td> <td>80  </td> <td>80  </td> <td>2336</td> <td>246 </td> <td>541 </td> <td>0.455</td> <td>144 </td> <td>355 </td> <td>0.406</td> <td>102 </td> <td>186 </td> <td>0.548</td> <td>0.588</td> <td>47  </td> <td>58  </td> <td>0.81 </td> <td>22  </td> <td>226 </td> <td>248 </td> <td>96  </td> <td>55  </td> <td>14  </td> <td>55  </td> <td>125 </td> <td>683 </td> <td>0.133</td>\n",
       "        </tr>\n",
       "    </tbody>\n",
       "        <tr>\n",
       "            <td>407 </td> <td>J.R. Smith\\smithjr01     </td> <td>SG  </td> <td>31  </td> <td>CLE </td> <td>41  </td> <td>35  </td> <td>1187</td> <td>123 </td> <td>356 </td> <td>0.346</td> <td>95  </td> <td>271 </td> <td>0.351</td> <td>28  </td> <td>85  </td> <td>0.329</td> <td>0.479</td> <td>10  </td> <td>15  </td> <td>0.667</td> <td>17  </td> <td>96  </td> <td>113 </td> <td>62  </td> <td>40  </td> <td>11  </td> <td>26  </td> <td>77  </td> <td>351 </td> <td>0.133</td>\n",
       "        </tr>\n",
       "    </tbody>\n",
       "</table>\n",
       "<p>... (311 rows omitted)</p"
      ],
      "text/plain": [
       "Rk   | Player                    | Pos  | Age  | Tm   | G    | GS   | MP   | FG   | FGA  | FG%   | 3P   | 3PA  | 3P%   | 2P   | 2PA  | 2P%   | eFG%  | FT   | FTA  | FT%   | ORB  | DRB  | TRB  | AST  | STL  | BLK  | TOV  | PF   | PTS  | diff\n",
       "248  | Kyle Korver\\korveky01     | SG   | 35   | CLE  | 35   | 1    | 859  | 131  | 269  | 0.487 | 97   | 200  | 0.485 | 34   | 69   | 0.493 | 0.667 | 14   | 15   | 0.933 | 7    | 90   | 97   | 35   | 11   | 8    | 29   | 60   | 373  | 0.18\n",
       "248  | Kyle Korver\\korveky01     | SG   | 35   | TOT  | 67   | 22   | 1753 | 239  | 515  | 0.464 | 162  | 359  | 0.451 | 77   | 156  | 0.494 | 0.621 | 38   | 42   | 0.905 | 7    | 179  | 186  | 110  | 34   | 21   | 69   | 107  | 678  | 0.157\n",
       "23   | Luke Babbitt\\babbilu01    | SF   | 27   | MIA  | 68   | 55   | 1065 | 113  | 281  | 0.402 | 87   | 210  | 0.414 | 26   | 71   | 0.366 | 0.557 | 11   | 15   | 0.733 | 12   | 129  | 141  | 36   | 20   | 11   | 25   | 118  | 324  | 0.155\n",
       "99   | Troy Daniels\\danietr01    | SG   | 25   | MEM  | 67   | 3    | 1183 | 185  | 495  | 0.374 | 138  | 355  | 0.389 | 47   | 140  | 0.336 | 0.513 | 43   | 54   | 0.796 | 22   | 78   | 100  | 46   | 20   | 4    | 45   | 90   | 551  | 0.139\n",
       "1    | Alex Abrines\\abrinal01    | SG   | 23   | OKC  | 68   | 6    | 1055 | 134  | 341  | 0.393 | 94   | 247  | 0.381 | 40   | 94   | 0.426 | 0.531 | 44   | 49   | 0.898 | 18   | 68   | 86   | 40   | 37   | 8    | 33   | 114  | 406  | 0.138\n",
       "213  | Joe Ingles\\inglejo01      | SF   | 29   | UTA  | 82   | 26   | 1972 | 204  | 451  | 0.452 | 123  | 279  | 0.441 | 81   | 172  | 0.471 | 0.589 | 50   | 68   | 0.735 | 23   | 238  | 261  | 225  | 96   | 8    | 107  | 163  | 581  | 0.137\n",
       "122  | Wayne Ellington\\ellinwa01 | SG   | 29   | MIA  | 62   | 13   | 1500 | 231  | 555  | 0.416 | 149  | 394  | 0.378 | 82   | 161  | 0.509 | 0.55  | 37   | 43   | 0.86  | 18   | 114  | 132  | 70   | 35   | 4    | 30   | 70   | 648  | 0.134\n",
       "480  | Nick Young\\youngni01      | SG   | 31   | LAL  | 60   | 60   | 1556 | 272  | 633  | 0.43  | 170  | 421  | 0.404 | 102  | 212  | 0.481 | 0.564 | 77   | 90   | 0.856 | 25   | 113  | 138  | 58   | 37   | 14   | 36   | 137  | 791  | 0.134\n",
       "409  | Tony Snell\\snellto01      | SG   | 25   | MIL  | 80   | 80   | 2336 | 246  | 541  | 0.455 | 144  | 355  | 0.406 | 102  | 186  | 0.548 | 0.588 | 47   | 58   | 0.81  | 22   | 226  | 248  | 96   | 55   | 14   | 55   | 125  | 683  | 0.133\n",
       "407  | J.R. Smith\\smithjr01      | SG   | 31   | CLE  | 41   | 35   | 1187 | 123  | 356  | 0.346 | 95   | 271  | 0.351 | 28   | 85   | 0.329 | 0.479 | 10   | 15   | 0.667 | 17   | 96   | 113  | 62   | 40   | 11   | 26   | 77   | 351  | 0.133\n",
       "... (311 rows omitted)"
      ]
     },
     "execution_count": 12,
     "metadata": {},
     "output_type": "execute_result"
    }
   ],
   "source": [
    "player_stats.with_column('diff', (player_stats.column('eFG%') - player_stats.column('FG%'))).sort('diff', descending = True).where('FGA', are.above(250))"
   ]
  },
  {
   "cell_type": "code",
   "execution_count": 14,
   "metadata": {
    "collapsed": true
   },
   "outputs": [],
   "source": [
    "# If a player switches teams mid-season he's in the table once per team."
   ]
  },
  {
   "cell_type": "markdown",
   "metadata": {},
   "source": [
    "# Q1, Alec\n",
    "\n",
    "**Question:** Which center made the most three pointers?"
   ]
  },
  {
   "cell_type": "code",
   "execution_count": 38,
   "metadata": {},
   "outputs": [
    {
     "data": {
      "text/plain": [
       "'Channing Frye\\\\fryech01'"
      ]
     },
     "execution_count": 38,
     "metadata": {},
     "output_type": "execute_result"
    }
   ],
   "source": [
    "centers = player_stats.where('Pos', are.equal_to('C'))\n",
    "centers.sort('3P', descending=True).column(1).item(0)"
   ]
  },
  {
   "cell_type": "markdown",
   "metadata": {},
   "source": [
    "# Q2, Alec\n",
    "\n",
    "**Question:** What is the average number of games played for each player"
   ]
  },
  {
   "cell_type": "code",
   "execution_count": 101,
   "metadata": {},
   "outputs": [
    {
     "data": {
      "text/plain": [
       "48.431932773109246"
      ]
     },
     "execution_count": 101,
     "metadata": {},
     "output_type": "execute_result"
    }
   ],
   "source": [
    "player_stats.column('G').sum()/player_stats.num_rows"
   ]
  },
  {
   "cell_type": "markdown",
   "metadata": {},
   "source": [
    "# Q3, Alec\n",
    "\n",
    "**Question:** Kyle Korver played for three different teams this season. For which team did he have the highest number of points per game?"
   ]
  },
  {
   "cell_type": "code",
   "execution_count": 46,
   "metadata": {},
   "outputs": [
    {
     "data": {
      "text/plain": [
       "'CLE'"
      ]
     },
     "execution_count": 46,
     "metadata": {},
     "output_type": "execute_result"
    }
   ],
   "source": [
    "Kyle = player_stats.where('Player', are.containing('Kyle Korver')).select(1,5,29,4)\n",
    "Kyle.with_column('PPG', Kyle.column(2)/Kyle.column(1)).sort(\"PPG\",descending=True).column(3).item(0)"
   ]
  },
  {
   "cell_type": "markdown",
   "metadata": {},
   "source": [
    "# Q4, Alec\n",
    "\n",
    "**Question:** Which team had the most points scored by players above the age of 30?"
   ]
  },
  {
   "cell_type": "code",
   "execution_count": 74,
   "metadata": {},
   "outputs": [
    {
     "data": {
      "text/plain": [
       "'LAC'"
      ]
     },
     "execution_count": 74,
     "metadata": {},
     "output_type": "execute_result"
    }
   ],
   "source": [
    "Old = player_stats.where('Age', are.above(30)).select(29,4)\n",
    "Teams = Old.group('Tm',sum)\n",
    "Teams.sort(1,descending=True).column(0).item(0)"
   ]
  },
  {
   "cell_type": "markdown",
   "metadata": {},
   "source": [
    "# Q5, Alec\n",
    "\n",
    "**Question:** Plot and compare the histograms of assists for point gaurds and all other players"
   ]
  },
  {
   "cell_type": "code",
   "execution_count": 95,
   "metadata": {},
   "outputs": [
    {
     "data": {
      "image/png": "[encoded data removed]",
      "text/plain": [
       "<matplotlib.figure.Figure at 0x7f028e4a7f60>"
      ]
     },
     "metadata": {},
     "output_type": "display_data"
    },
    {
     "data": {
      "image/png": "[encoded data removed]",
      "text/plain": [
       "<matplotlib.figure.Figure at 0x7f0295d49358>"
      ]
     },
     "metadata": {},
     "output_type": "display_data"
    }
   ],
   "source": [
    "histo = player_stats.where('Pos',are.not_equal_to('PG')).group('AST')\n",
    "histo.hist(0)\n",
    "point = player_stats.where('Pos',are.equal_to('PG')).group('AST')\n",
    "point.hist(0)"
   ]
  },
  {
   "cell_type": "code",
   "execution_count": null,
   "metadata": {
    "collapsed": true
   },
   "outputs": [],
   "source": []
  }
 ],
 "metadata": {
  "kernelspec": {
   "display_name": "Python 3",
   "language": "python",
   "name": "python3"
  },
  "language_info": {
   "codemirror_mode": {
    "name": "ipython",
    "version": 3
   },
   "file_extension": ".py",
   "mimetype": "text/x-python",
   "name": "python",
   "nbconvert_exporter": "python",
   "pygments_lexer": "ipython3",
   "version": "3.6.1"
  }
 },
 "nbformat": 4,
 "nbformat_minor": 2
}
