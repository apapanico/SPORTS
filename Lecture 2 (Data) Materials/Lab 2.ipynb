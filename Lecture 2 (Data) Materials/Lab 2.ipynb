{
 "cells": [
  {
   "cell_type": "markdown",
   "metadata": {},
   "source": [
    "# Lab-Homework 2: Playing With Data\n",
    "\n",
    "Clearly label your examples and try to provide your name for every question."
   ]
  },
  {
   "cell_type": "code",
   "execution_count": 23,
   "metadata": {
    "collapsed": true
   },
   "outputs": [],
   "source": [
    "#Some Import Mumbo-Jumbo\n",
    "from datascience import *\n",
    "import numpy as np\n",
    "import pandas as pd\n",
    "%matplotlib inline\n",
    "import matplotlib.pyplot as plt\n",
    "import seaborn as sns"
   ]
  },
  {
   "cell_type": "code",
   "execution_count": 24,
   "metadata": {
    "collapsed": false
   },
   "outputs": [
    {
     "data": {
      "text/html": [
       "<table border=\"1\" class=\"dataframe\">\n",
       "    <thead>\n",
       "        <tr>\n",
       "            <th>Rk</th> <th>Player</th> <th>Pos</th> <th>Age</th> <th>Tm</th> <th>G</th> <th>GS</th> <th>MP</th> <th>FG</th> <th>FGA</th> <th>FG%</th> <th>3P</th> <th>3PA</th> <th>3P%</th> <th>2P</th> <th>2PA</th> <th>2P%</th> <th>eFG%</th> <th>FT</th> <th>FTA</th> <th>FT%</th> <th>ORB</th> <th>DRB</th> <th>TRB</th> <th>AST</th> <th>STL</th> <th>BLK</th> <th>TOV</th> <th>PF</th> <th>PTS</th>\n",
       "        </tr>\n",
       "    </thead>\n",
       "    <tbody>\n",
       "        <tr>\n",
       "            <td>1   </td> <td>Alex Abrines\\abrinal01     </td> <td>SG  </td> <td>23  </td> <td>OKC </td> <td>68  </td> <td>6   </td> <td>1055</td> <td>134 </td> <td>341 </td> <td>0.393</td> <td>94  </td> <td>247 </td> <td>0.381</td> <td>40  </td> <td>94  </td> <td>0.426</td> <td>0.531</td> <td>44  </td> <td>49  </td> <td>0.898</td> <td>18  </td> <td>68  </td> <td>86  </td> <td>40  </td> <td>37  </td> <td>8   </td> <td>33  </td> <td>114 </td> <td>406 </td>\n",
       "        </tr>\n",
       "    </tbody>\n",
       "        <tr>\n",
       "            <td>2   </td> <td>Quincy Acy\\acyqu01         </td> <td>PF  </td> <td>26  </td> <td>TOT </td> <td>38  </td> <td>1   </td> <td>558 </td> <td>70  </td> <td>170 </td> <td>0.412</td> <td>37  </td> <td>90  </td> <td>0.411</td> <td>33  </td> <td>80  </td> <td>0.413</td> <td>0.521</td> <td>45  </td> <td>60  </td> <td>0.75 </td> <td>20  </td> <td>95  </td> <td>115 </td> <td>18  </td> <td>14  </td> <td>15  </td> <td>21  </td> <td>67  </td> <td>222 </td>\n",
       "        </tr>\n",
       "    </tbody>\n",
       "        <tr>\n",
       "            <td>2   </td> <td>Quincy Acy\\acyqu01         </td> <td>PF  </td> <td>26  </td> <td>DAL </td> <td>6   </td> <td>0   </td> <td>48  </td> <td>5   </td> <td>17  </td> <td>0.294</td> <td>1   </td> <td>7   </td> <td>0.143</td> <td>4   </td> <td>10  </td> <td>0.4  </td> <td>0.324</td> <td>2   </td> <td>3   </td> <td>0.667</td> <td>2   </td> <td>6   </td> <td>8   </td> <td>0   </td> <td>0   </td> <td>0   </td> <td>2   </td> <td>9   </td> <td>13  </td>\n",
       "        </tr>\n",
       "    </tbody>\n",
       "        <tr>\n",
       "            <td>2   </td> <td>Quincy Acy\\acyqu01         </td> <td>PF  </td> <td>26  </td> <td>BRK </td> <td>32  </td> <td>1   </td> <td>510 </td> <td>65  </td> <td>153 </td> <td>0.425</td> <td>36  </td> <td>83  </td> <td>0.434</td> <td>29  </td> <td>70  </td> <td>0.414</td> <td>0.542</td> <td>43  </td> <td>57  </td> <td>0.754</td> <td>18  </td> <td>89  </td> <td>107 </td> <td>18  </td> <td>14  </td> <td>15  </td> <td>19  </td> <td>58  </td> <td>209 </td>\n",
       "        </tr>\n",
       "    </tbody>\n",
       "        <tr>\n",
       "            <td>3   </td> <td>Steven Adams\\adamsst01     </td> <td>C   </td> <td>23  </td> <td>OKC </td> <td>80  </td> <td>80  </td> <td>2389</td> <td>374 </td> <td>655 </td> <td>0.571</td> <td>0   </td> <td>1   </td> <td>0    </td> <td>374 </td> <td>654 </td> <td>0.572</td> <td>0.571</td> <td>157 </td> <td>257 </td> <td>0.611</td> <td>281 </td> <td>332 </td> <td>613 </td> <td>86  </td> <td>89  </td> <td>78  </td> <td>146 </td> <td>195 </td> <td>905 </td>\n",
       "        </tr>\n",
       "    </tbody>\n",
       "        <tr>\n",
       "            <td>4   </td> <td>Arron Afflalo\\afflaar01    </td> <td>SG  </td> <td>31  </td> <td>SAC </td> <td>61  </td> <td>45  </td> <td>1580</td> <td>185 </td> <td>420 </td> <td>0.44 </td> <td>62  </td> <td>151 </td> <td>0.411</td> <td>123 </td> <td>269 </td> <td>0.457</td> <td>0.514</td> <td>83  </td> <td>93  </td> <td>0.892</td> <td>9   </td> <td>116 </td> <td>125 </td> <td>78  </td> <td>21  </td> <td>6   </td> <td>42  </td> <td>104 </td> <td>515 </td>\n",
       "        </tr>\n",
       "    </tbody>\n",
       "        <tr>\n",
       "            <td>5   </td> <td>Alexis Ajinca\\ajincal01    </td> <td>C   </td> <td>28  </td> <td>NOP </td> <td>39  </td> <td>15  </td> <td>584 </td> <td>89  </td> <td>178 </td> <td>0.5  </td> <td>0   </td> <td>4   </td> <td>0    </td> <td>89  </td> <td>174 </td> <td>0.511</td> <td>0.5  </td> <td>29  </td> <td>40  </td> <td>0.725</td> <td>46  </td> <td>131 </td> <td>177 </td> <td>12  </td> <td>20  </td> <td>22  </td> <td>31  </td> <td>77  </td> <td>207 </td>\n",
       "        </tr>\n",
       "    </tbody>\n",
       "        <tr>\n",
       "            <td>6   </td> <td>Cole Aldrich\\aldrico01     </td> <td>C   </td> <td>28  </td> <td>MIN </td> <td>62  </td> <td>0   </td> <td>531 </td> <td>45  </td> <td>86  </td> <td>0.523</td> <td>0   </td> <td>0   </td> <td>nan  </td> <td>45  </td> <td>86  </td> <td>0.523</td> <td>0.523</td> <td>15  </td> <td>22  </td> <td>0.682</td> <td>51  </td> <td>107 </td> <td>158 </td> <td>25  </td> <td>25  </td> <td>23  </td> <td>17  </td> <td>85  </td> <td>105 </td>\n",
       "        </tr>\n",
       "    </tbody>\n",
       "        <tr>\n",
       "            <td>7   </td> <td>LaMarcus Aldridge\\aldrila01</td> <td>PF  </td> <td>31  </td> <td>SAS </td> <td>72  </td> <td>72  </td> <td>2335</td> <td>500 </td> <td>1049</td> <td>0.477</td> <td>23  </td> <td>56  </td> <td>0.411</td> <td>477 </td> <td>993 </td> <td>0.48 </td> <td>0.488</td> <td>220 </td> <td>271 </td> <td>0.812</td> <td>172 </td> <td>351 </td> <td>523 </td> <td>139 </td> <td>46  </td> <td>88  </td> <td>98  </td> <td>158 </td> <td>1243</td>\n",
       "        </tr>\n",
       "    </tbody>\n",
       "        <tr>\n",
       "            <td>8   </td> <td>Lavoy Allen\\allenla01      </td> <td>PF  </td> <td>27  </td> <td>IND </td> <td>61  </td> <td>5   </td> <td>871 </td> <td>77  </td> <td>168 </td> <td>0.458</td> <td>0   </td> <td>1   </td> <td>0    </td> <td>77  </td> <td>167 </td> <td>0.461</td> <td>0.458</td> <td>23  </td> <td>33  </td> <td>0.697</td> <td>105 </td> <td>114 </td> <td>219 </td> <td>57  </td> <td>18  </td> <td>24  </td> <td>29  </td> <td>78  </td> <td>177 </td>\n",
       "        </tr>\n",
       "    </tbody>\n",
       "</table>\n",
       "<p>... (585 rows omitted)</p"
      ],
      "text/plain": [
       "Rk   | Player                      | Pos  | Age  | Tm   | G    | GS   | MP   | FG   | FGA  | FG%   | 3P   | 3PA  | 3P%   | 2P   | 2PA  | 2P%   | eFG%  | FT   | FTA  | FT%   | ORB  | DRB  | TRB  | AST  | STL  | BLK  | TOV  | PF   | PTS\n",
       "1    | Alex Abrines\\abrinal01      | SG   | 23   | OKC  | 68   | 6    | 1055 | 134  | 341  | 0.393 | 94   | 247  | 0.381 | 40   | 94   | 0.426 | 0.531 | 44   | 49   | 0.898 | 18   | 68   | 86   | 40   | 37   | 8    | 33   | 114  | 406\n",
       "2    | Quincy Acy\\acyqu01          | PF   | 26   | TOT  | 38   | 1    | 558  | 70   | 170  | 0.412 | 37   | 90   | 0.411 | 33   | 80   | 0.413 | 0.521 | 45   | 60   | 0.75  | 20   | 95   | 115  | 18   | 14   | 15   | 21   | 67   | 222\n",
       "2    | Quincy Acy\\acyqu01          | PF   | 26   | DAL  | 6    | 0    | 48   | 5    | 17   | 0.294 | 1    | 7    | 0.143 | 4    | 10   | 0.4   | 0.324 | 2    | 3    | 0.667 | 2    | 6    | 8    | 0    | 0    | 0    | 2    | 9    | 13\n",
       "2    | Quincy Acy\\acyqu01          | PF   | 26   | BRK  | 32   | 1    | 510  | 65   | 153  | 0.425 | 36   | 83   | 0.434 | 29   | 70   | 0.414 | 0.542 | 43   | 57   | 0.754 | 18   | 89   | 107  | 18   | 14   | 15   | 19   | 58   | 209\n",
       "3    | Steven Adams\\adamsst01      | C    | 23   | OKC  | 80   | 80   | 2389 | 374  | 655  | 0.571 | 0    | 1    | 0     | 374  | 654  | 0.572 | 0.571 | 157  | 257  | 0.611 | 281  | 332  | 613  | 86   | 89   | 78   | 146  | 195  | 905\n",
       "4    | Arron Afflalo\\afflaar01     | SG   | 31   | SAC  | 61   | 45   | 1580 | 185  | 420  | 0.44  | 62   | 151  | 0.411 | 123  | 269  | 0.457 | 0.514 | 83   | 93   | 0.892 | 9    | 116  | 125  | 78   | 21   | 6    | 42   | 104  | 515\n",
       "5    | Alexis Ajinca\\ajincal01     | C    | 28   | NOP  | 39   | 15   | 584  | 89   | 178  | 0.5   | 0    | 4    | 0     | 89   | 174  | 0.511 | 0.5   | 29   | 40   | 0.725 | 46   | 131  | 177  | 12   | 20   | 22   | 31   | 77   | 207\n",
       "6    | Cole Aldrich\\aldrico01      | C    | 28   | MIN  | 62   | 0    | 531  | 45   | 86   | 0.523 | 0    | 0    | nan   | 45   | 86   | 0.523 | 0.523 | 15   | 22   | 0.682 | 51   | 107  | 158  | 25   | 25   | 23   | 17   | 85   | 105\n",
       "7    | LaMarcus Aldridge\\aldrila01 | PF   | 31   | SAS  | 72   | 72   | 2335 | 500  | 1049 | 0.477 | 23   | 56   | 0.411 | 477  | 993  | 0.48  | 0.488 | 220  | 271  | 0.812 | 172  | 351  | 523  | 139  | 46   | 88   | 98   | 158  | 1243\n",
       "8    | Lavoy Allen\\allenla01       | PF   | 27   | IND  | 61   | 5    | 871  | 77   | 168  | 0.458 | 0    | 1    | 0     | 77   | 167  | 0.461 | 0.458 | 23   | 33   | 0.697 | 105  | 114  | 219  | 57   | 18   | 24   | 29   | 78   | 177\n",
       "... (585 rows omitted)"
      ]
     },
     "execution_count": 24,
     "metadata": {},
     "output_type": "execute_result"
    }
   ],
   "source": [
    "player_stats = Table().read_table('NBAPlayerStats2017.csv')\n",
    "player_stats"
   ]
  },
  {
   "cell_type": "code",
   "execution_count": null,
   "metadata": {
    "collapsed": true
   },
   "outputs": [],
   "source": []
  },
  {
   "cell_type": "markdown",
   "metadata": {},
   "source": [
    "# Model Example Formatting (By Derek, Q1)\n",
    "\n",
    "**Intro to Problem:** You've previously learned about 'where' statements in Data Science, where you eliminate certain values based on what you are looking for. \n",
    "\n",
    "**Question:** Write a line of code from *player_stats* that finds the Center with the best FT%, **without using the FT% column**."
   ]
  },
  {
   "cell_type": "code",
   "execution_count": 25,
   "metadata": {
    "collapsed": false
   },
   "outputs": [
    {
     "name": "stderr",
     "output_type": "stream",
     "text": [
      "C:\\Users\\Derek\\Anaconda2\\envs\\ds100\\lib\\site-packages\\ipykernel\\__main__.py:5: RuntimeWarning: invalid value encountered in true_divide\n"
     ]
    },
    {
     "data": {
      "text/plain": [
       "'DeMarcus Cousins\\\\couside01'"
      ]
     },
     "execution_count": 25,
     "metadata": {},
     "output_type": "execute_result"
    }
   ],
   "source": [
    "#By Derek, Q1\n",
    "\n",
    "#What Center Has Best FT%\n",
    "centers = player_stats.where('Pos', are.equal_to('C'))\n",
    "centers = centers.with_column('FTP', (centers.column('FT')/centers.column('FTA')))\n",
    "FT_center = centers.sort('FTA', descending=True).take(0).column('Player')[0]\n",
    "FT_center"
   ]
  },
  {
   "cell_type": "markdown",
   "metadata": {},
   "source": [
    "# Quick Examples"
   ]
  },
  {
   "cell_type": "code",
   "execution_count": 6,
   "metadata": {
    "collapsed": false
   },
   "outputs": [
    {
     "data": {
      "text/html": [
       "<table border=\"1\" class=\"dataframe\">\n",
       "    <thead>\n",
       "        <tr>\n",
       "            <th>Rk</th> <th>Player</th> <th>Pos</th> <th>Age</th> <th>Tm</th> <th>G</th> <th>GS</th> <th>MP</th> <th>FG</th> <th>FGA</th> <th>FG%</th> <th>3P</th> <th>3PA</th> <th>3P%</th> <th>2P</th> <th>2PA</th> <th>2P%</th> <th>eFG%</th> <th>FT</th> <th>FTA</th> <th>FT%</th> <th>ORB</th> <th>DRB</th> <th>TRB</th> <th>AST</th> <th>STL</th> <th>BLK</th> <th>TOV</th> <th>PF</th> <th>PTS</th>\n",
       "        </tr>\n",
       "    </thead>\n",
       "    <tbody>\n",
       "        <tr>\n",
       "            <td>462 </td> <td>Andrew Wiggins\\wiggian01    </td> <td>SF  </td> <td>21  </td> <td>MIN </td> <td>82  </td> <td>82  </td> <td>3048</td> <td>709 </td> <td>1570</td> <td>0.452</td> <td>103 </td> <td>289 </td> <td>0.356</td> <td>606 </td> <td>1281</td> <td>0.473</td> <td>0.484</td> <td>412 </td> <td>542 </td> <td>0.76 </td> <td>102 </td> <td>226 </td> <td>328 </td> <td>189 </td> <td>82  </td> <td>30  </td> <td>187 </td> <td>183 </td> <td>1933</td>\n",
       "        </tr>\n",
       "    </tbody>\n",
       "        <tr>\n",
       "            <td>433 </td> <td>Karl-Anthony Towns\\townska01</td> <td>C   </td> <td>21  </td> <td>MIN </td> <td>82  </td> <td>82  </td> <td>3030</td> <td>802 </td> <td>1480</td> <td>0.542</td> <td>101 </td> <td>275 </td> <td>0.367</td> <td>701 </td> <td>1205</td> <td>0.582</td> <td>0.576</td> <td>356 </td> <td>428 </td> <td>0.832</td> <td>296 </td> <td>711 </td> <td>1007</td> <td>220 </td> <td>56  </td> <td>103 </td> <td>212 </td> <td>241 </td> <td>2061</td>\n",
       "        </tr>\n",
       "    </tbody>\n",
       "        <tr>\n",
       "            <td>172 </td> <td>James Harden\\hardeja01      </td> <td>PG  </td> <td>27  </td> <td>HOU </td> <td>81  </td> <td>81  </td> <td>2947</td> <td>674 </td> <td>1533</td> <td>0.44 </td> <td>262 </td> <td>756 </td> <td>0.347</td> <td>412 </td> <td>777 </td> <td>0.53 </td> <td>0.525</td> <td>746 </td> <td>881 </td> <td>0.847</td> <td>95  </td> <td>564 </td> <td>659 </td> <td>907 </td> <td>121 </td> <td>38  </td> <td>464 </td> <td>215 </td> <td>2356</td>\n",
       "        </tr>\n",
       "    </tbody>\n",
       "</table>"
      ],
      "text/plain": [
       "Rk   | Player                       | Pos  | Age  | Tm   | G    | GS   | MP   | FG   | FGA  | FG%   | 3P   | 3PA  | 3P%   | 2P   | 2PA  | 2P%   | eFG%  | FT   | FTA  | FT%   | ORB  | DRB  | TRB  | AST  | STL  | BLK  | TOV  | PF   | PTS\n",
       "462  | Andrew Wiggins\\wiggian01     | SF   | 21   | MIN  | 82   | 82   | 3048 | 709  | 1570 | 0.452 | 103  | 289  | 0.356 | 606  | 1281 | 0.473 | 0.484 | 412  | 542  | 0.76  | 102  | 226  | 328  | 189  | 82   | 30   | 187  | 183  | 1933\n",
       "433  | Karl-Anthony Towns\\townska01 | C    | 21   | MIN  | 82   | 82   | 3030 | 802  | 1480 | 0.542 | 101  | 275  | 0.367 | 701  | 1205 | 0.582 | 0.576 | 356  | 428  | 0.832 | 296  | 711  | 1007 | 220  | 56   | 103  | 212  | 241  | 2061\n",
       "172  | James Harden\\hardeja01       | PG   | 27   | HOU  | 81   | 81   | 2947 | 674  | 1533 | 0.44  | 262  | 756  | 0.347 | 412  | 777  | 0.53  | 0.525 | 746  | 881  | 0.847 | 95   | 564  | 659  | 907  | 121  | 38   | 464  | 215  | 2356"
      ]
     },
     "execution_count": 6,
     "metadata": {},
     "output_type": "execute_result"
    }
   ],
   "source": [
    "player_stats.sort('MP', descending=True).take(np.arange(3))"
   ]
  },
  {
   "cell_type": "code",
   "execution_count": 8,
   "metadata": {
    "collapsed": false
   },
   "outputs": [
    {
     "data": {
      "text/html": [
       "<table border=\"1\" class=\"dataframe\">\n",
       "    <thead>\n",
       "        <tr>\n",
       "            <th>Player</th> <th>Pos</th> <th>Age</th> <th>MP</th> <th>PTS</th>\n",
       "        </tr>\n",
       "    </thead>\n",
       "    <tbody>\n",
       "        <tr>\n",
       "            <td>Andrew Wiggins\\wiggian01       </td> <td>SF  </td> <td>21  </td> <td>3048</td> <td>1933</td>\n",
       "        </tr>\n",
       "    </tbody>\n",
       "        <tr>\n",
       "            <td>Karl-Anthony Towns\\townska01   </td> <td>C   </td> <td>21  </td> <td>3030</td> <td>2061</td>\n",
       "        </tr>\n",
       "    </tbody>\n",
       "        <tr>\n",
       "            <td>James Harden\\hardeja01         </td> <td>PG  </td> <td>27  </td> <td>2947</td> <td>2356</td>\n",
       "        </tr>\n",
       "    </tbody>\n",
       "        <tr>\n",
       "            <td>Giannis Antetokounmpo\\antetgi01</td> <td>SF  </td> <td>22  </td> <td>2845</td> <td>1832</td>\n",
       "        </tr>\n",
       "    </tbody>\n",
       "        <tr>\n",
       "            <td>John Wall\\walljo01             </td> <td>PG  </td> <td>26  </td> <td>2836</td> <td>1805</td>\n",
       "        </tr>\n",
       "    </tbody>\n",
       "        <tr>\n",
       "            <td>Jimmy Butler\\butleji01         </td> <td>SF  </td> <td>27  </td> <td>2809</td> <td>1816</td>\n",
       "        </tr>\n",
       "    </tbody>\n",
       "        <tr>\n",
       "            <td>Harrison Barnes\\barneha02      </td> <td>PF  </td> <td>24  </td> <td>2803</td> <td>1518</td>\n",
       "        </tr>\n",
       "    </tbody>\n",
       "        <tr>\n",
       "            <td>Russell Westbrook\\westbru01    </td> <td>PG  </td> <td>28  </td> <td>2802</td> <td>2558</td>\n",
       "        </tr>\n",
       "    </tbody>\n",
       "        <tr>\n",
       "            <td>C.J. McCollum\\mccolcj01        </td> <td>SG  </td> <td>25  </td> <td>2796</td> <td>1837</td>\n",
       "        </tr>\n",
       "    </tbody>\n",
       "        <tr>\n",
       "            <td>LeBron James\\jamesle01         </td> <td>SF  </td> <td>32  </td> <td>2794</td> <td>1954</td>\n",
       "        </tr>\n",
       "    </tbody>\n",
       "</table>\n",
       "<p>... (140 rows omitted)</p"
      ],
      "text/plain": [
       "Player                          | Pos  | Age  | MP   | PTS\n",
       "Andrew Wiggins\\wiggian01        | SF   | 21   | 3048 | 1933\n",
       "Karl-Anthony Towns\\townska01    | C    | 21   | 3030 | 2061\n",
       "James Harden\\hardeja01          | PG   | 27   | 2947 | 2356\n",
       "Giannis Antetokounmpo\\antetgi01 | SF   | 22   | 2845 | 1832\n",
       "John Wall\\walljo01              | PG   | 26   | 2836 | 1805\n",
       "Jimmy Butler\\butleji01          | SF   | 27   | 2809 | 1816\n",
       "Harrison Barnes\\barneha02       | PF   | 24   | 2803 | 1518\n",
       "Russell Westbrook\\westbru01     | PG   | 28   | 2802 | 2558\n",
       "C.J. McCollum\\mccolcj01         | SG   | 25   | 2796 | 1837\n",
       "LeBron James\\jamesle01          | SF   | 32   | 2794 | 1954\n",
       "... (140 rows omitted)"
      ]
     },
     "execution_count": 8,
     "metadata": {},
     "output_type": "execute_result"
    }
   ],
   "source": [
    "player_stats.sort('MP', descending=True).select('Player', 'Pos', 'Age', 'MP', 'PTS').take(np.arange(150))"
   ]
  },
  {
   "cell_type": "code",
   "execution_count": 17,
   "metadata": {
    "collapsed": false
   },
   "outputs": [
    {
     "data": {
      "image/png": "[encoded data removed]",
      "text/plain": [
       "<matplotlib.figure.Figure at 0x2559300c1d0>"
      ]
     },
     "metadata": {},
     "output_type": "display_data"
    }
   ],
   "source": [
    "new_stats = player_stats.group('Age', sum).select('Age', 'MP sum', 'PTS sum')\n",
    "new_stats = new_stats.with_column('Points Per Minute', new_stats.column('PTS sum')/new_stats.column('MP sum'))\n",
    "new_stats.barh('Age', 'Points Per Minute')"
   ]
  },
  {
   "cell_type": "code",
   "execution_count": null,
   "metadata": {
    "collapsed": true
   },
   "outputs": [],
   "source": [
    "#What Center Has Best FT%\n",
    "player_stats.where"
   ]
  }
 ],
 "metadata": {
  "kernelspec": {
   "display_name": "Python 3",
   "language": "python",
   "name": "python3"
  },
  "language_info": {
   "codemirror_mode": {
    "name": "ipython",
    "version": 3
   },
   "file_extension": ".py",
   "mimetype": "text/x-python",
   "name": "python",
   "nbconvert_exporter": "python",
   "pygments_lexer": "ipython3",
   "version": "3.5.2"
  }
 },
 "nbformat": 4,
 "nbformat_minor": 2
}
