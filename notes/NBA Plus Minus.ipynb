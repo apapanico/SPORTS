{
 "cells": [
  {
   "cell_type": "code",
   "execution_count": 1,
   "metadata": {},
   "outputs": [],
   "source": [
    "import json  # a built-in Python module for dealing with JSON data\n",
    "import gzip  # a built-in Python module for dealing with gzipped files\n",
    "from pprint import pprint\n",
    "\n",
    "import pandas as pd\n",
    "import numpy as np\n",
    "from sklearn.feature_extraction import DictVectorizer\n",
    "from sklearn import linear_model\n",
    "import scipy\n"
   ]
  },
  {
   "cell_type": "code",
   "execution_count": 2,
   "metadata": {},
   "outputs": [],
   "source": [
    "data = []  # create an empty array to hold all the stints\n",
    "# open the file and read the data!\n",
    "f = '../data/nba_pxp/matchups-2015-final.json.gz'\n",
    "with gzip.open(f) as fp:\n",
    "    for j in fp:\n",
    "        data.append(json.loads(j))"
   ]
  },
  {
   "cell_type": "code",
   "execution_count": 3,
   "metadata": {},
   "outputs": [
    {
     "name": "stdout",
     "output_type": "stream",
     "text": [
      "{'Lakers': {'entered': ['Robert Sacre'],\n",
      "            'exited': ['Jordan Hill'],\n",
      "            'on': ['Ronnie Price',\n",
      "                   'Wayne Ellington',\n",
      "                   'Wesley Johnson',\n",
      "                   'Carlos Boozer',\n",
      "                   'Robert Sacre'],\n",
      "            'stats': {'dreb': 1,\n",
      "                      'drebx': 0,\n",
      "                      'fg2m': 1,\n",
      "                      'fg3m': 3,\n",
      "                      'fgm': 4,\n",
      "                      'fgx': 0,\n",
      "                      'foul': 0,\n",
      "                      'fta': 0,\n",
      "                      'ftm': 0,\n",
      "                      'non_steal_tov': 0,\n",
      "                      'oreb': 0,\n",
      "                      'orebx': 0,\n",
      "                      'poss': 4,\n",
      "                      'pts': 11,\n",
      "                      'team_tov': 0,\n",
      "                      'time': 0,\n",
      "                      'tov': 0}},\n",
      " 'Warriors': {'entered': ['Andre Iguodala'],\n",
      "              'exited': ['Marreese Speights'],\n",
      "              'on': ['Stephen Curry',\n",
      "                     'Klay Thompson',\n",
      "                     'Andre Iguodala',\n",
      "                     'Draymond Green',\n",
      "                     'Harrison Barnes'],\n",
      "              'stats': {'dreb': 0,\n",
      "                        'drebx': 0,\n",
      "                        'fg2m': 0,\n",
      "                        'fg3m': 1,\n",
      "                        'fgm': 1,\n",
      "                        'fgx': 1,\n",
      "                        'foul': 0,\n",
      "                        'fta': 1,\n",
      "                        'ftm': 1,\n",
      "                        'non_steal_tov': 1,\n",
      "                        'oreb': 0,\n",
      "                        'orebx': 1,\n",
      "                        'poss': 4,\n",
      "                        'pts': 4,\n",
      "                        'team_tov': 0,\n",
      "                        'time': 0,\n",
      "                        'tov': 1}},\n",
      " '_id': {'$oid': '54f39eae5bca6d3c1e003448'},\n",
      " 'as': 70,\n",
      " 'away': 'Warriors',\n",
      " 'date': '2014-12-23',\n",
      " 'end': '2:40',\n",
      " 'espn_id': '400578718',\n",
      " 'home': 'Lakers',\n",
      " 'hs': 91,\n",
      " 'mid': 3,\n",
      " 'plays': [{'id': {'$oid': '54f35cf95bca6d2a0302fa6b'}},\n",
      "           {'id': {'$oid': '54f35cf95bca6d2a0302fa6c'}},\n",
      "           {'id': {'$oid': '54f35cf95bca6d2a0302fa6d'}},\n",
      "           {'id': {'$oid': '54f35cf95bca6d2a0302fa6e'}},\n",
      "           {'id': {'$oid': '54f35cf95bca6d2a0302fa6f'}},\n",
      "           {'id': {'$oid': '54f35cf95bca6d2a0302fa70'}},\n",
      "           {'id': {'$oid': '54f35cf95bca6d2a0302fa71'}},\n",
      "           {'id': {'$oid': '54f35cf95bca6d2a0302fa72'}},\n",
      "           {'id': {'$oid': '54f35cf95bca6d2a0302fa73'}},\n",
      "           {'id': {'$oid': '54f35cf95bca6d2a0302fa74'}},\n",
      "           {'id': {'$oid': '54f35cf95bca6d2a0302fa75'}},\n",
      "           {'id': {'$oid': '54f35cf95bca6d2a0302fa76'}}],\n",
      " 'q': 3,\n",
      " 'season': '2015',\n",
      " 'start': '4:50',\n",
      " 'time': 130,\n",
      " 'url': 'http://scores.nbcsports.msnbc.com/nba/pbp.asp?gamecode=2014122313'}\n"
     ]
    }
   ],
   "source": [
    "d = data[0]\n",
    "pprint(d)"
   ]
  },
  {
   "cell_type": "code",
   "execution_count": 4,
   "metadata": {},
   "outputs": [],
   "source": [
    "rows = []\n",
    "for d in data:\n",
    "    row = {}\n",
    "    for side in ['home', 'away']:\n",
    "        team = d[side]\n",
    "        row[side + '_poss'] = poss = d[team]['stats']['poss']\n",
    "        row[side + '_unit'] = unit = {name: 1 for name in d[team]['on']}\n",
    "        row[side + '_pts'] = pts = d[team]['stats']['pts']\n",
    "        row[side + '_ortg'] = rtg = 100 * pts / poss if poss > 0 else np.nan\n",
    "    rows.append(row)\n",
    "    \n",
    "df = pd.DataFrame(rows)\n",
    "df['netposs'] = netposs = df['home_poss'] + df['away_poss']\n",
    "df['home_netpts'] = netpts = df['home_pts'] - df['away_pts']\n",
    "df['home_netrtg'] = 100 * netpts / netposs"
   ]
  },
  {
   "cell_type": "code",
   "execution_count": 5,
   "metadata": {},
   "outputs": [
    {
     "data": {
      "text/html": [
       "<div>\n",
       "<style scoped>\n",
       "    .dataframe tbody tr th:only-of-type {\n",
       "        vertical-align: middle;\n",
       "    }\n",
       "\n",
       "    .dataframe tbody tr th {\n",
       "        vertical-align: top;\n",
       "    }\n",
       "\n",
       "    .dataframe thead th {\n",
       "        text-align: right;\n",
       "    }\n",
       "</style>\n",
       "<table border=\"1\" class=\"dataframe\">\n",
       "  <thead>\n",
       "    <tr style=\"text-align: right;\">\n",
       "      <th></th>\n",
       "      <th>away_ortg</th>\n",
       "      <th>away_poss</th>\n",
       "      <th>away_pts</th>\n",
       "      <th>away_unit</th>\n",
       "      <th>home_ortg</th>\n",
       "      <th>home_poss</th>\n",
       "      <th>home_pts</th>\n",
       "      <th>home_unit</th>\n",
       "      <th>netposs</th>\n",
       "      <th>home_netpts</th>\n",
       "      <th>home_netrtg</th>\n",
       "    </tr>\n",
       "  </thead>\n",
       "  <tbody>\n",
       "    <tr>\n",
       "      <th>0</th>\n",
       "      <td>100.0</td>\n",
       "      <td>4</td>\n",
       "      <td>4</td>\n",
       "      <td>{'Stephen Curry': 1, 'Klay Thompson': 1, 'Andr...</td>\n",
       "      <td>275.0</td>\n",
       "      <td>4</td>\n",
       "      <td>11</td>\n",
       "      <td>{'Ronnie Price': 1, 'Wayne Ellington': 1, 'Wes...</td>\n",
       "      <td>8</td>\n",
       "      <td>7</td>\n",
       "      <td>87.5</td>\n",
       "    </tr>\n",
       "    <tr>\n",
       "      <th>1</th>\n",
       "      <td>NaN</td>\n",
       "      <td>0</td>\n",
       "      <td>0</td>\n",
       "      <td>{'Ray McCallum': 1, 'Ben McLemore': 1, 'Nik St...</td>\n",
       "      <td>0.0</td>\n",
       "      <td>1</td>\n",
       "      <td>0</td>\n",
       "      <td>{'Jarrett Jack': 1, 'Alan Anderson': 1, 'Joe J...</td>\n",
       "      <td>1</td>\n",
       "      <td>0</td>\n",
       "      <td>0.0</td>\n",
       "    </tr>\n",
       "    <tr>\n",
       "      <th>2</th>\n",
       "      <td>170.0</td>\n",
       "      <td>10</td>\n",
       "      <td>17</td>\n",
       "      <td>{'Stephen Curry': 1, 'Klay Thompson': 1, 'Harr...</td>\n",
       "      <td>90.0</td>\n",
       "      <td>10</td>\n",
       "      <td>9</td>\n",
       "      <td>{'Ronnie Price': 1, 'Wayne Ellington': 1, 'Wes...</td>\n",
       "      <td>20</td>\n",
       "      <td>-8</td>\n",
       "      <td>-40.0</td>\n",
       "    </tr>\n",
       "    <tr>\n",
       "      <th>3</th>\n",
       "      <td>0.0</td>\n",
       "      <td>2</td>\n",
       "      <td>0</td>\n",
       "      <td>{'Stephen Curry': 1, 'Klay Thompson': 1, 'Harr...</td>\n",
       "      <td>200.0</td>\n",
       "      <td>3</td>\n",
       "      <td>6</td>\n",
       "      <td>{'Ronnie Price': 1, 'Wayne Ellington': 1, 'Wes...</td>\n",
       "      <td>5</td>\n",
       "      <td>6</td>\n",
       "      <td>120.0</td>\n",
       "    </tr>\n",
       "    <tr>\n",
       "      <th>4</th>\n",
       "      <td>100.0</td>\n",
       "      <td>1</td>\n",
       "      <td>1</td>\n",
       "      <td>{'Stephen Curry': 1, 'Klay Thompson': 1, 'Harr...</td>\n",
       "      <td>NaN</td>\n",
       "      <td>0</td>\n",
       "      <td>2</td>\n",
       "      <td>{'Ronnie Price': 1, 'Wayne Ellington': 1, 'Wes...</td>\n",
       "      <td>1</td>\n",
       "      <td>1</td>\n",
       "      <td>100.0</td>\n",
       "    </tr>\n",
       "  </tbody>\n",
       "</table>\n",
       "</div>"
      ],
      "text/plain": [
       "   away_ortg  away_poss  away_pts  \\\n",
       "0      100.0          4         4   \n",
       "1        NaN          0         0   \n",
       "2      170.0         10        17   \n",
       "3        0.0          2         0   \n",
       "4      100.0          1         1   \n",
       "\n",
       "                                           away_unit  home_ortg  home_poss  \\\n",
       "0  {'Stephen Curry': 1, 'Klay Thompson': 1, 'Andr...      275.0          4   \n",
       "1  {'Ray McCallum': 1, 'Ben McLemore': 1, 'Nik St...        0.0          1   \n",
       "2  {'Stephen Curry': 1, 'Klay Thompson': 1, 'Harr...       90.0         10   \n",
       "3  {'Stephen Curry': 1, 'Klay Thompson': 1, 'Harr...      200.0          3   \n",
       "4  {'Stephen Curry': 1, 'Klay Thompson': 1, 'Harr...        NaN          0   \n",
       "\n",
       "   home_pts                                          home_unit  netposs  \\\n",
       "0        11  {'Ronnie Price': 1, 'Wayne Ellington': 1, 'Wes...        8   \n",
       "1         0  {'Jarrett Jack': 1, 'Alan Anderson': 1, 'Joe J...        1   \n",
       "2         9  {'Ronnie Price': 1, 'Wayne Ellington': 1, 'Wes...       20   \n",
       "3         6  {'Ronnie Price': 1, 'Wayne Ellington': 1, 'Wes...        5   \n",
       "4         2  {'Ronnie Price': 1, 'Wayne Ellington': 1, 'Wes...        1   \n",
       "\n",
       "   home_netpts  home_netrtg  \n",
       "0            7         87.5  \n",
       "1            0          0.0  \n",
       "2           -8        -40.0  \n",
       "3            6        120.0  \n",
       "4            1        100.0  "
      ]
     },
     "execution_count": 5,
     "metadata": {},
     "output_type": "execute_result"
    }
   ],
   "source": [
    "df.head()"
   ]
  },
  {
   "cell_type": "code",
   "execution_count": 6,
   "metadata": {},
   "outputs": [],
   "source": [
    "off_vectorizer = DictVectorizer(sparse=False)\n",
    "def_vectorizer = DictVectorizer(sparse=False)\n",
    "\n",
    "home_mask = df['home_poss'] > 0\n",
    "away_mask = df['away_poss'] > 0\n",
    "\n",
    "X_off = off_vectorizer.fit_transform(\n",
    "    list(df['home_unit'].loc[home_mask]) + list(df['away_unit'].loc[away_mask]))\n",
    "X_def = def_vectorizer.fit_transform(\n",
    "    list(df['away_unit'].loc[home_mask]) + list(df['home_unit'].loc[away_mask]))\n",
    "\n",
    "X_hc_off = np.vstack([np.ones((np.sum(home_mask), 1)), np.zeros((np.sum(away_mask), 1))])\n",
    "X_hc_def = np.vstack([np.zeros((np.sum(home_mask), 1)), np.ones((np.sum(away_mask), 1))])"
   ]
  },
  {
   "cell_type": "code",
   "execution_count": 7,
   "metadata": {},
   "outputs": [],
   "source": [
    "X = np.hstack([X_hc_off, X_off, -X_hc_def, -X_def])\n",
    "y = np.hstack([df['home_ortg'].loc[home_mask], df['away_ortg'].loc[away_mask]])\n",
    "w = np.hstack([df['home_poss'].loc[home_mask], df['away_poss'].loc[away_mask]]).astype(np.float)"
   ]
  },
  {
   "cell_type": "code",
   "execution_count": 14,
   "metadata": {},
   "outputs": [
    {
     "data": {
      "text/plain": [
       "RidgeCV(alphas=array([  1.00000e-02,   1.00000e-01,   1.00000e+00,   1.00000e+01,\n",
       "         1.00000e+02,   5.00000e+02,   7.50000e+02,   1.00000e+03,\n",
       "         1.50000e+03,   2.00000e+03,   5.00000e+03]),\n",
       "    cv=5, fit_intercept=True, gcv_mode=None, normalize=False, scoring=None,\n",
       "    store_cv_values=False)"
      ]
     },
     "execution_count": 14,
     "metadata": {},
     "output_type": "execute_result"
    }
   ],
   "source": [
    "clf = linear_model.RidgeCV(\n",
    "    alphas=np.array([0.01, 0.1, 1.0, 10., 100., 500., 750., 1000., 1500., 2000., 5000.]), \n",
    "    cv=5,\n",
    "    fit_intercept=True\n",
    ")\n",
    "clf.fit(X, y, sample_weight=w)"
   ]
  },
  {
   "cell_type": "code",
   "execution_count": 15,
   "metadata": {},
   "outputs": [
    {
     "name": "stdout",
     "output_type": "stream",
     "text": [
      "1500.0\n"
     ]
    }
   ],
   "source": [
    "print(clf.alpha_)"
   ]
  },
  {
   "cell_type": "code",
   "execution_count": 16,
   "metadata": {},
   "outputs": [
    {
     "name": "stdout",
     "output_type": "stream",
     "text": [
      "1.20752828193 1.20752828193\n"
     ]
    }
   ],
   "source": [
    "print(clf.coef_[0], clf.coef_[X_off.shape[1] + 1])"
   ]
  },
  {
   "cell_type": "code",
   "execution_count": 29,
   "metadata": {},
   "outputs": [
    {
     "name": "stdout",
     "output_type": "stream",
     "text": [
      "#  0: James Harden         7.96 orapm\n",
      "#  1: Stephen Curry        6.20 orapm\n",
      "#  2: Kyle Korver          6.07 orapm\n",
      "#  3: LeBron James         5.44 orapm\n",
      "#  4: Russell Westbrook    5.26 orapm\n",
      "#  5: Chris Paul           5.21 orapm\n",
      "#  6: Carmelo Anthony      5.03 orapm\n",
      "#  7: LaMarcus Aldridge    4.60 orapm\n",
      "#  8: Kelly Olynyk         4.49 orapm\n",
      "#  9: Ty Lawson            4.47 orapm\n",
      "# 10: Tyreke Evans         4.31 orapm\n",
      "# 11: George Hill          4.29 orapm\n",
      "# 12: Luol Deng            4.28 orapm\n",
      "# 13: Anthony Davis        4.26 orapm\n",
      "# 14: Dirk Nowitzki        4.25 orapm\n",
      "# 15: Lou Williams         4.18 orapm\n",
      "# 16: Danny Green          4.13 orapm\n",
      "# 17: Kyrie Irving         4.00 orapm\n",
      "# 18: DeAndre Jordan       3.88 orapm\n",
      "# 19: Klay Thompson        3.78 orapm\n"
     ]
    }
   ],
   "source": [
    "orapm = clf.coef_[1:X_off.shape[1] + 1]\n",
    "off_idx = np.argsort(orapm)[::-1]\n",
    "\n",
    "K = 20\n",
    "for k in range(K):\n",
    "    name = off_vectorizer.feature_names_[off_idx[k]]\n",
    "    print(\"# {:>2}: {:<20} {:4.2f} orapm\".format(k, name, orapm[off_idx[k]]))"
   ]
  },
  {
   "cell_type": "code",
   "execution_count": 31,
   "metadata": {},
   "outputs": [
    {
     "name": "stdout",
     "output_type": "stream",
     "text": [
      "#  0: Draymond Green 5.43 drapm\n",
      "#  1: DeMarcus Cousins 4.69 drapm\n",
      "#  2: Tony Allen 4.59 drapm\n",
      "#  3: Nick Calathes 4.53 drapm\n",
      "#  4: Darrell Arthur 4.43 drapm\n",
      "#  5: Khris Middleton 4.37 drapm\n",
      "#  6: Thabo Sefolosha 4.20 drapm\n",
      "#  7: Kawhi Leonard 4.19 drapm\n",
      "#  8: Michael Kidd-Gilchrist 4.12 drapm\n",
      "#  9: Markieff Morris 4.07 drapm\n",
      "# 10: C.J. Miles 3.66 drapm\n",
      "# 11: Jusuf Nurkic 3.65 drapm\n",
      "# 12: Zach Randolph 3.60 drapm\n",
      "# 13: Tim Duncan 3.52 drapm\n",
      "# 14: Alan Anderson 3.51 drapm\n",
      "# 15: Wesley Matthews 3.51 drapm\n",
      "# 16: Anthony Davis 3.42 drapm\n",
      "# 17: Dwight Howard 3.27 drapm\n",
      "# 18: Cory Jefferson 3.23 drapm\n",
      "# 19: Kosta Koufos 3.19 drapm\n"
     ]
    }
   ],
   "source": [
    "drapm = clf.coef_[X_off.shape[1] + 2:]\n",
    "def_idx = np.argsort(drapm)[::-1]\n",
    "\n",
    "K = 20\n",
    "for k in range(K):\n",
    "    name = def_vectorizer.feature_names_[def_idx[k]]\n",
    "    print(\"# {:>2}: {} {:4.2f} drapm\".format(k, name, drapm[def_idx[k]]))"
   ]
  },
  {
   "cell_type": "code",
   "execution_count": null,
   "metadata": {},
   "outputs": [],
   "source": []
  }
 ],
 "metadata": {
  "kernelspec": {
   "display_name": "Python 3",
   "language": "python",
   "name": "python3"
  },
  "language_info": {
   "codemirror_mode": {
    "name": "ipython",
    "version": 3
   },
   "file_extension": ".py",
   "mimetype": "text/x-python",
   "name": "python",
   "nbconvert_exporter": "python",
   "pygments_lexer": "ipython3",
   "version": "3.6.1"
  }
 },
 "nbformat": 4,
 "nbformat_minor": 2
}
