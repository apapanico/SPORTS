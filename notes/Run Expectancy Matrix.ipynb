{
 "cells": [
  {
   "cell_type": "code",
   "execution_count": 1,
   "metadata": {},
   "outputs": [],
   "source": [
    "import pandas as pd"
   ]
  },
  {
   "cell_type": "markdown",
   "metadata": {},
   "source": [
    "# Load Events Data from Retrosheet\n",
    "\n",
    "Raw retrosheet data contains event logs, representing raw information about the events in a baseball game.  In compiling the dataset into a useable form, the software Chadwick (found here:http://chadwick.sourceforge.net/doc/index.html) was used to convert the raw logs into CSV.  Luckily for us, Chadwick computes some pretty important quantities that we can pull really easily into a table.\n",
    "\n",
    "For computing the Run Expectancy Matrix, we only need a few columns.  The relevant columns are:\n",
    "+ OUTS_CT - number of outs\n",
    "+ START_BASES_CD - a code representing the state of the runners, eg. runner on 2nd\n",
    "+ EVENT_RUNS_CT - number of runs scored on this event\n",
    "+ FATE_RUNS_CT - number of runs scored AFTER this event"
   ]
  },
  {
   "cell_type": "code",
   "execution_count": 2,
   "metadata": {},
   "outputs": [],
   "source": [
    "base_runner_codes = {\n",
    "    0: \"OOO\", # No one on\n",
    "    1: \"XOO\", # runner on 1st\n",
    "    2: \"OXO\", # runner on 2nd\n",
    "    3: \"XXO\", # runners on 1st & 2nd\n",
    "    4: \"OOX\", # runner on 3d\n",
    "    5: \"XOX\", # runners on 1st & 3rd\n",
    "    6: \"OXX\", # runners on 2nd & 3rd\n",
    "    7: \"XXX\"  # bases loaded\n",
    "}"
   ]
  },
  {
   "cell_type": "code",
   "execution_count": 3,
   "metadata": {},
   "outputs": [],
   "source": [
    "cols = ['OUTS_CT', 'START_BASES_CD', 'EVENT_RUNS_CT', 'FATE_RUNS_CT']\n",
    "events = pd.read_csv('../data/mlb_pxp/csv/events-2016.csv.gz', usecols=cols)\n",
    "events['START_BASES_CD'].replace(base_runner_codes, inplace=True)"
   ]
  },
  {
   "cell_type": "markdown",
   "metadata": {},
   "source": [
    "# Compute Runs in Remainder of Inning (ROI)\n",
    "\n",
    "The Run Expectancy for an Out-Baserunner state (say, 1 out, runners on 1st and 2nd) is computed as the average number of runs scored during and following the plate appearances in that state.  To compute the ROI, we just need to add up FATE_RUNS_CT and EVENT_RUNS_CT."
   ]
  },
  {
   "cell_type": "code",
   "execution_count": 4,
   "metadata": {},
   "outputs": [],
   "source": [
    "events['RUNS_ROI_CT'] = events['FATE_RUNS_CT'] + events['EVENT_RUNS_CT']"
   ]
  },
  {
   "cell_type": "markdown",
   "metadata": {},
   "source": [
    "# Run Expectancy Matrix\n",
    "\n",
    "Finally, we need to group by the out count and the state of the runners and take the average."
   ]
  },
  {
   "cell_type": "code",
   "execution_count": 5,
   "metadata": {},
   "outputs": [
    {
     "data": {
      "text/html": [
       "<div>\n",
       "<style scoped>\n",
       "    .dataframe tbody tr th:only-of-type {\n",
       "        vertical-align: middle;\n",
       "    }\n",
       "\n",
       "    .dataframe tbody tr th {\n",
       "        vertical-align: top;\n",
       "    }\n",
       "\n",
       "    .dataframe thead th {\n",
       "        text-align: right;\n",
       "    }\n",
       "</style>\n",
       "<table border=\"1\" class=\"dataframe\">\n",
       "  <thead>\n",
       "    <tr style=\"text-align: right;\">\n",
       "      <th>OUTS_CT</th>\n",
       "      <th>0</th>\n",
       "      <th>1</th>\n",
       "      <th>2</th>\n",
       "    </tr>\n",
       "    <tr>\n",
       "      <th>START_BASES_CD</th>\n",
       "      <th></th>\n",
       "      <th></th>\n",
       "      <th></th>\n",
       "    </tr>\n",
       "  </thead>\n",
       "  <tbody>\n",
       "    <tr>\n",
       "      <th>OOO</th>\n",
       "      <td>0.502513</td>\n",
       "      <td>0.270856</td>\n",
       "      <td>0.107196</td>\n",
       "    </tr>\n",
       "    <tr>\n",
       "      <th>OOX</th>\n",
       "      <td>1.343629</td>\n",
       "      <td>0.939116</td>\n",
       "      <td>0.374473</td>\n",
       "    </tr>\n",
       "    <tr>\n",
       "      <th>OXO</th>\n",
       "      <td>1.135514</td>\n",
       "      <td>0.677241</td>\n",
       "      <td>0.316581</td>\n",
       "    </tr>\n",
       "    <tr>\n",
       "      <th>OXX</th>\n",
       "      <td>1.931343</td>\n",
       "      <td>1.367451</td>\n",
       "      <td>0.554517</td>\n",
       "    </tr>\n",
       "    <tr>\n",
       "      <th>XOO</th>\n",
       "      <td>0.864710</td>\n",
       "      <td>0.517304</td>\n",
       "      <td>0.222876</td>\n",
       "    </tr>\n",
       "    <tr>\n",
       "      <th>XOX</th>\n",
       "      <td>1.719588</td>\n",
       "      <td>1.198185</td>\n",
       "      <td>0.482832</td>\n",
       "    </tr>\n",
       "    <tr>\n",
       "      <th>XXO</th>\n",
       "      <td>1.449766</td>\n",
       "      <td>0.926776</td>\n",
       "      <td>0.418962</td>\n",
       "    </tr>\n",
       "    <tr>\n",
       "      <th>XXX</th>\n",
       "      <td>2.103841</td>\n",
       "      <td>1.541667</td>\n",
       "      <td>0.705135</td>\n",
       "    </tr>\n",
       "  </tbody>\n",
       "</table>\n",
       "</div>"
      ],
      "text/plain": [
       "OUTS_CT                0         1         2\n",
       "START_BASES_CD                              \n",
       "OOO             0.502513  0.270856  0.107196\n",
       "OOX             1.343629  0.939116  0.374473\n",
       "OXO             1.135514  0.677241  0.316581\n",
       "OXX             1.931343  1.367451  0.554517\n",
       "XOO             0.864710  0.517304  0.222876\n",
       "XOX             1.719588  1.198185  0.482832\n",
       "XXO             1.449766  0.926776  0.418962\n",
       "XXX             2.103841  1.541667  0.705135"
      ]
     },
     "execution_count": 5,
     "metadata": {},
     "output_type": "execute_result"
    }
   ],
   "source": [
    "events.groupby(['OUTS_CT', 'START_BASES_CD'])['RUNS_ROI_CT'].\\\n",
    "    mean().\\\n",
    "    unstack(level=0)"
   ]
  }
 ],
 "metadata": {
  "kernelspec": {
   "display_name": "Python 3",
   "language": "python",
   "name": "python3"
  },
  "language_info": {
   "codemirror_mode": {
    "name": "ipython",
    "version": 3
   },
   "file_extension": ".py",
   "mimetype": "text/x-python",
   "name": "python",
   "nbconvert_exporter": "python",
   "pygments_lexer": "ipython3",
   "version": "3.6.1"
  }
 },
 "nbformat": 4,
 "nbformat_minor": 2
}
